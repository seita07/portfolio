{
 "cells": [
  {
   "cell_type": "code",
   "execution_count": 455,
   "metadata": {
    "scrolled": true
   },
   "outputs": [],
   "source": [
    "#データ解析用ライブラリ\n",
    "import pandas as pd\n",
    "import numpy as np\n",
    "from sklearn.preprocessing import LabelEncoder\n",
    "\n",
    "train = pd.read_csv('train.csv')\n",
    "test = pd.read_csv('test.csv')"
   ]
  },
  {
   "cell_type": "code",
   "execution_count": 456,
   "metadata": {},
   "outputs": [],
   "source": [
    "train = train.rename(columns={'賃料':'target', '契約期間':'Contract', '間取り':'Room', \n",
    "                              '築年数':'Passed', '駐車場':'Parking', '室内設備':'Facility', \n",
    "                              '放送・通信':'Internet', '周辺環境':'Building', '建物構造':'Material', \n",
    "                              '面積':'Area', 'キッチン':'Kitchen', '所在地':'Place',\n",
    "                              'バス・トイレ':'Bath', '所在階':'Floor', 'アクセス':'Access', \n",
    "                              '方角':'Angle'})\n",
    "\n",
    "\n",
    "test = test.rename(columns={'契約期間':'Contract', '間取り':'Room', '築年数':'Passed', \n",
    "                            '駐車場':'Parking', '室内設備':'Facility', '放送・通信':'Internet', \n",
    "                            '周辺環境':'Building', '建物構造':'Material', '面積':'Area', \n",
    "                            'キッチン':'Kitchen', '所在地':'Place', 'バス・トイレ':'Bath', \n",
    "                            '所在階':'Floor', 'アクセス':'Access', '方角':'Angle'})"
   ]
  },
  {
   "cell_type": "code",
   "execution_count": 457,
   "metadata": {},
   "outputs": [],
   "source": [
    "data = pd.concat([train, test], sort=False)"
   ]
  },
  {
   "cell_type": "code",
   "execution_count": 458,
   "metadata": {},
   "outputs": [
    {
     "name": "stderr",
     "output_type": "stream",
     "text": [
      "<ipython-input-458-ee601fea61af>:2: SettingWithCopyWarning: \n",
      "A value is trying to be set on a copy of a slice from a DataFrame\n",
      "\n",
      "See the caveats in the documentation: https://pandas.pydata.org/pandas-docs/stable/user_guide/indexing.html#returning-a-view-versus-a-copy\n",
      "  data['Floor'][(data['id']==40675)] = \"1\"\n",
      "<ipython-input-458-ee601fea61af>:3: SettingWithCopyWarning: \n",
      "A value is trying to be set on a copy of a slice from a DataFrame\n",
      "\n",
      "See the caveats in the documentation: https://pandas.pydata.org/pandas-docs/stable/user_guide/indexing.html#returning-a-view-versus-a-copy\n",
      "  data['target'][(data['id']==5776)] = 120350\n",
      "<ipython-input-458-ee601fea61af>:4: SettingWithCopyWarning: \n",
      "A value is trying to be set on a copy of a slice from a DataFrame\n",
      "\n",
      "See the caveats in the documentation: https://pandas.pydata.org/pandas-docs/stable/user_guide/indexing.html#returning-a-view-versus-a-copy\n",
      "  data['Passed'][(data['id']==20428)] = '19年7ヶ月'\n"
     ]
    }
   ],
   "source": [
    "#入力ミスの修正\n",
    "data['Floor'][(data['id']==40675)] = \"1\"\n",
    "data['target'][(data['id']==5776)] = 120350\n",
    "data['Passed'][(data['id']==20428)] = '19年7ヶ月'\n",
    "data['Bath'] = data['Bath'].fillna(\"0\")\n",
    "data['Kitchen'] = data['Kitchen'].fillna(\"0\")\n",
    "data['Internet'] = data['Internet'].fillna(\"0\")\n",
    "data['Facility'] = data['Internet'].fillna(\"0\")"
   ]
  },
  {
   "cell_type": "code",
   "execution_count": 459,
   "metadata": {
    "scrolled": true
   },
   "outputs": [],
   "source": [
    "def get_ward(x):\n",
    "    x = x[x.find('都')+1:x.find('区')]\n",
    "    return x\n",
    "data['ward'] = data['Place'].apply(get_ward)"
   ]
  },
  {
   "cell_type": "code",
   "execution_count": 461,
   "metadata": {},
   "outputs": [],
   "source": [
    "def land_price(x):\n",
    "    if x  == '北':\n",
    "        x = 70\n",
    "    elif x  == '中央':\n",
    "        x = 552\n",
    "    elif x  == '渋谷':\n",
    "        x = 403\n",
    "    elif x  == '杉並':\n",
    "        x = 71\n",
    "    elif x  == '葛飾':\n",
    "        x = 37\n",
    "    elif x  == '荒川':\n",
    "        x = 68\n",
    "    elif x  == '練馬':\n",
    "        x = 45\n",
    "    elif x  == '目黒':\n",
    "        x = 118\n",
    "    elif x  == '文京':\n",
    "        x = 131\n",
    "    elif x  == '板橋':\n",
    "        x = 55\n",
    "    elif x  == '大田':\n",
    "        x = 57\n",
    "    elif x  == '江戸川':\n",
    "        x = 44\n",
    "    elif x  == '港':\n",
    "        x = 436\n",
    "    elif x  == '墨田':\n",
    "        x = 60\n",
    "    elif x  == '新宿':\n",
    "        x = 368\n",
    "    elif x  == '中野':\n",
    "        x = 91\n",
    "    elif x  == '豊島':\n",
    "        x = 173\n",
    "    elif x  == '台東':\n",
    "        x = 153\n",
    "    elif x  == '足立':\n",
    "        x = 42\n",
    "    elif x  == '世田谷':\n",
    "        x = 72\n",
    "    elif x  == '江東':\n",
    "        x = 63\n",
    "    elif x  == '品川':\n",
    "        x = 99\n",
    "    elif x  == '千代田':\n",
    "        x = 505\n",
    "    else:\n",
    "        x=0\n",
    "    return x\n",
    "data['land_price']= data['ward'].apply(land_price)"
   ]
  },
  {
   "cell_type": "code",
   "execution_count": 462,
   "metadata": {},
   "outputs": [],
   "source": [
    "def population(x):\n",
    "    if x  == '北':\n",
    "        x = 348274\n",
    "    elif x  == '中央':\n",
    "        x = 157484\n",
    "    elif x  == '渋谷':\n",
    "        x = 229994\n",
    "    elif x  == '杉並':\n",
    "        x = 575691\n",
    "    elif x  == '葛飾':\n",
    "        x = 450815\n",
    "    elif x  == '荒川':\n",
    "        x = 216098\n",
    "    elif x  == '練馬':\n",
    "        x = 731360\n",
    "    elif x  == '目黒':\n",
    "        x = 283153\n",
    "    elif x  == '文京':\n",
    "        x = 227224\n",
    "    elif x  == '板橋':\n",
    "        x = 573966\n",
    "    elif x  == '大田':\n",
    "        x = 728437\n",
    "    elif x  == '江戸川':\n",
    "        x = 690614\n",
    "    elif x  == '港':\n",
    "        x = 253940\n",
    "    elif x  == '墨田':\n",
    "        x = 264515\n",
    "    elif x  == '新宿':\n",
    "        x = 343494\n",
    "    elif x  == '中野':\n",
    "        x = 335813\n",
    "    elif x  == '豊島':\n",
    "        x = 297946\n",
    "    elif x  == '台東':\n",
    "        x = 203219\n",
    "    elif x  == '足立':\n",
    "        x = 677536\n",
    "    elif x  == '世田谷':\n",
    "        x = 921708\n",
    "    elif x  == '江東':\n",
    "        x = 510692\n",
    "    elif x  == '品川':\n",
    "        x = 398732\n",
    "    elif x  == '千代田':\n",
    "        x = 61420\n",
    "    else:\n",
    "        x=0\n",
    "    return x\n",
    "data['population']= data['ward'].apply(population)"
   ]
  },
  {
   "cell_type": "code",
   "execution_count": 463,
   "metadata": {},
   "outputs": [],
   "source": [
    "def commuter(x):\n",
    "    if x  == '北':\n",
    "        x = 72718\n",
    "    elif x  == '中央':\n",
    "        x = 514546\n",
    "    elif x  == '渋谷':\n",
    "        x = 325616\n",
    "    elif x  == '杉並':\n",
    "        x = 71908\n",
    "    elif x  == '葛飾':\n",
    "        x = 48946\n",
    "    elif x  == '荒川':\n",
    "        x = 43122\n",
    "    elif x  == '練馬':\n",
    "        x = 65751\n",
    "    elif x  == '目黒':\n",
    "        x = 84653\n",
    "    elif x  == '文京':\n",
    "        x = 148811\n",
    "    elif x  == '板橋':\n",
    "        x = 84329\n",
    "    elif x  == '大田':\n",
    "        x = 161467\n",
    "    elif x  == '江戸川':\n",
    "        x = 64107\n",
    "    elif x  == '港':\n",
    "        x = 691943\n",
    "    elif x  == '墨田':\n",
    "        x = 94871\n",
    "    elif x  == '新宿':\n",
    "        x = 428326\n",
    "    elif x  == '中野':\n",
    "        x = 60058\n",
    "    elif x  == '豊島':\n",
    "        x = 166530\n",
    "    elif x  == '台東':\n",
    "        x = 153088\n",
    "    elif x  == '足立':\n",
    "        x = 80448\n",
    "    elif x  == '世田谷':\n",
    "        x = 121423\n",
    "    elif x  == '江東':\n",
    "        x = 225038\n",
    "    elif x  == '品川':\n",
    "        x = 249220\n",
    "    elif x  == '千代田':\n",
    "        x = 709786\n",
    "    else:\n",
    "        x=0\n",
    "    return x\n",
    "data['commuter']= data['ward'].apply(commuter)"
   ]
  },
  {
   "cell_type": "code",
   "execution_count": 464,
   "metadata": {},
   "outputs": [],
   "source": [
    "def shop(x):\n",
    "    if x  == '北':\n",
    "        x = 1809\n",
    "    elif x  == '中央':\n",
    "        x = 5342\n",
    "    elif x  == '渋谷':\n",
    "        x = 3834\n",
    "    elif x  == '杉並':\n",
    "        x = 2916\n",
    "    elif x  == '葛飾':\n",
    "        x = 2077\n",
    "    elif x  == '荒川':\n",
    "        x = 1074\n",
    "    elif x  == '練馬':\n",
    "        x = 2164\n",
    "    elif x  == '目黒':\n",
    "        x = 1717\n",
    "    elif x  == '文京':\n",
    "        x = 1505\n",
    "    elif x  == '板橋':\n",
    "        x = 2276\n",
    "    elif x  == '大田':\n",
    "        x = 3586\n",
    "    elif x  == '江戸川':\n",
    "        x = 2254\n",
    "    elif x  == '港':\n",
    "        x = 5780\n",
    "    elif x  == '墨田':\n",
    "        x = 1928\n",
    "    elif x  == '新宿':\n",
    "        x = 5688\n",
    "    elif x  == '中野':\n",
    "        x = 1776\n",
    "    elif x  == '豊島':\n",
    "        x = 2843\n",
    "    elif x  == '台東':\n",
    "        x = 3203\n",
    "    elif x  == '足立':\n",
    "        x = 2700\n",
    "    elif x  == '世田谷':\n",
    "        x = 3703\n",
    "    elif x  == '江東':\n",
    "        x = 2119\n",
    "    elif x  == '品川':\n",
    "        x = 2920\n",
    "    elif x  == '千代田':\n",
    "        x = 3928\n",
    "    else:\n",
    "        x=0\n",
    "    return x\n",
    "data['shop']= data['ward'].apply(shop)"
   ]
  },
  {
   "cell_type": "code",
   "execution_count": 465,
   "metadata": {},
   "outputs": [],
   "source": [
    "# 各区の賃貸料に対する統計量をtrainデータをもとに作成しtest,trainデータに結合\n",
    "train_static = data[:len(train)] \n",
    "\n",
    "#各区の賃貸料の平均値\n",
    "ward_target_df = train_static[['target','ward']]\n",
    "mean_df = ward_target_df.groupby('ward').mean()\n",
    "mean_df['target'] = mean_df['target']\n",
    "\n",
    "#標準偏差\n",
    "std_df = ward_target_df.groupby('ward').std()\n",
    "std_df['target'] = std_df['target']\n",
    "\n",
    "\n",
    "#最小値\n",
    "min_df = ward_target_df.groupby('ward').min()\n",
    "min_df['target'] = min_df['target']\n",
    "\n",
    "#最大値\n",
    "max_df = ward_target_df.groupby('ward').max()\n",
    "max_df['target'] = max_df['target']\n",
    "\n",
    "#中央値\n",
    "median_df = ward_target_df.groupby('ward').median()\n",
    "median_df['target'] = median_df['target']"
   ]
  },
  {
   "cell_type": "code",
   "execution_count": 466,
   "metadata": {},
   "outputs": [],
   "source": [
    "def ward_target_mean(x):\n",
    "    if x  == '北':\n",
    "        x = mean_df.loc['北','target']\n",
    "    elif x  == '中央':\n",
    "        x = mean_df.loc['中央','target']\n",
    "    elif x  == '渋谷':\n",
    "        x = mean_df.loc['渋谷','target']\n",
    "    elif x  == '杉並':\n",
    "        x = mean_df.loc['杉並','target']\n",
    "    elif x  == '葛飾':\n",
    "        x = mean_df.loc['葛飾','target']\n",
    "    elif x  == '荒川':\n",
    "        x = mean_df.loc['荒川','target']\n",
    "    elif x  == '練馬':\n",
    "        x = mean_df.loc['練馬','target']\n",
    "    elif x  == '目黒':\n",
    "        x = mean_df.loc['目黒','target']\n",
    "    elif x  == '文京':\n",
    "        x = mean_df.loc['文京','target']\n",
    "    elif x  == '板橋':\n",
    "        x = mean_df.loc['板橋','target']\n",
    "    elif x  == '大田':\n",
    "        x = mean_df.loc['大田','target']\n",
    "    elif x  == '江戸川':\n",
    "        x = mean_df.loc['江戸川','target']\n",
    "    elif x  == '港':\n",
    "        x = mean_df.loc['港','target']\n",
    "    elif x  == '墨田':\n",
    "        x = mean_df.loc['墨田','target']\n",
    "    elif x  == '新宿':\n",
    "        x = mean_df.loc['新宿','target']\n",
    "    elif x  == '中野':\n",
    "        x = mean_df.loc['中野','target']\n",
    "    elif x  == '豊島':\n",
    "        x = mean_df.loc['豊島','target']\n",
    "    elif x  == '台東':\n",
    "        x = mean_df.loc['台東','target']\n",
    "    elif x  == '足立':\n",
    "        x = mean_df.loc['足立','target']\n",
    "    elif x  == '世田谷':\n",
    "        x = mean_df.loc['世田谷','target']\n",
    "    elif x  == '江東':\n",
    "        x = mean_df.loc['江東','target']\n",
    "    elif x  == '品川':\n",
    "        x = mean_df.loc['品川','target']\n",
    "    elif x  == '千代田':\n",
    "        x = mean_df.loc['千代田','target']\n",
    "    else:\n",
    "        x=0\n",
    "    return x\n",
    "data['ward_mean']= data['ward'].apply(ward_target_mean)"
   ]
  },
  {
   "cell_type": "code",
   "execution_count": 467,
   "metadata": {},
   "outputs": [],
   "source": [
    "def ward_target_std(x):\n",
    "    if x  == '北':\n",
    "        x = std_df.loc['北','target']\n",
    "    elif x  == '中央':\n",
    "        x = std_df.loc['中央','target']\n",
    "    elif x  == '渋谷':\n",
    "        x = std_df.loc['渋谷','target']\n",
    "    elif x  == '杉並':\n",
    "        x = std_df.loc['杉並','target']\n",
    "    elif x  == '葛飾':\n",
    "        x = std_df.loc['葛飾','target']\n",
    "    elif x  == '荒川':\n",
    "        x = std_df.loc['荒川','target']\n",
    "    elif x  == '練馬':\n",
    "        x = std_df.loc['練馬','target']\n",
    "    elif x  == '目黒':\n",
    "        x = std_df.loc['目黒','target']\n",
    "    elif x  == '文京':\n",
    "        x = std_df.loc['文京','target']\n",
    "    elif x  == '板橋':\n",
    "        x = std_df.loc['板橋','target']\n",
    "    elif x  == '大田':\n",
    "        x = std_df.loc['大田','target']\n",
    "    elif x  == '江戸川':\n",
    "        x = std_df.loc['江戸川','target']\n",
    "    elif x  == '港':\n",
    "        x = std_df.loc['港','target']\n",
    "    elif x  == '墨田':\n",
    "        x = std_df.loc['墨田','target']\n",
    "    elif x  == '新宿':\n",
    "        x = std_df.loc['新宿','target']\n",
    "    elif x  == '中野':\n",
    "        x = std_df.loc['中野','target']\n",
    "    elif x  == '豊島':\n",
    "        x = std_df.loc['豊島','target']\n",
    "    elif x  == '台東':\n",
    "        x = std_df.loc['台東','target']\n",
    "    elif x  == '足立':\n",
    "        x = std_df.loc['足立','target']\n",
    "    elif x  == '世田谷':\n",
    "        x = std_df.loc['世田谷','target']\n",
    "    elif x  == '江東':\n",
    "        x = std_df.loc['江東','target']\n",
    "    elif x  == '品川':\n",
    "        x = std_df.loc['品川','target']\n",
    "    elif x  == '千代田':\n",
    "        x = std_df.loc['千代田','target']\n",
    "    else:\n",
    "        x=0\n",
    "    return x\n",
    "data['ward_std']= data['ward'].apply(ward_target_std)"
   ]
  },
  {
   "cell_type": "code",
   "execution_count": 468,
   "metadata": {},
   "outputs": [],
   "source": [
    "def ward_target_min(x):\n",
    "    if x  == '北':\n",
    "        x = min_df.loc['北','target']\n",
    "    elif x  == '中央':\n",
    "        x = min_df.loc['中央','target']\n",
    "    elif x  == '渋谷':\n",
    "        x = min_df.loc['渋谷','target']\n",
    "    elif x  == '杉並':\n",
    "        x = min_df.loc['杉並','target']\n",
    "    elif x  == '葛飾':\n",
    "        x = min_df.loc['葛飾','target']\n",
    "    elif x  == '荒川':\n",
    "        x = min_df.loc['荒川','target']\n",
    "    elif x  == '練馬':\n",
    "        x = min_df.loc['練馬','target']\n",
    "    elif x  == '目黒':\n",
    "        x = min_df.loc['目黒','target']\n",
    "    elif x  == '文京':\n",
    "        x = min_df.loc['文京','target']\n",
    "    elif x  == '板橋':\n",
    "        x = min_df.loc['板橋','target']\n",
    "    elif x  == '大田':\n",
    "        x = min_df.loc['大田','target']\n",
    "    elif x  == '江戸川':\n",
    "        x = min_df.loc['江戸川','target']\n",
    "    elif x  == '港':\n",
    "        x = min_df.loc['港','target']\n",
    "    elif x  == '墨田':\n",
    "        x = min_df.loc['墨田','target']\n",
    "    elif x  == '新宿':\n",
    "        x = min_df.loc['新宿','target']\n",
    "    elif x  == '中野':\n",
    "        x = min_df.loc['中野','target']\n",
    "    elif x  == '豊島':\n",
    "        x = min_df.loc['豊島','target']\n",
    "    elif x  == '台東':\n",
    "        x = min_df.loc['台東','target']\n",
    "    elif x  == '足立':\n",
    "        x = min_df.loc['足立','target']\n",
    "    elif x  == '世田谷':\n",
    "        x = min_df.loc['世田谷','target']\n",
    "    elif x  == '江東':\n",
    "        x = min_df.loc['江東','target']\n",
    "    elif x  == '品川':\n",
    "        x = min_df.loc['品川','target']\n",
    "    elif x  == '千代田':\n",
    "        x = min_df.loc['千代田','target']\n",
    "    else:\n",
    "        x=0\n",
    "    return x\n",
    "data['ward_min']= data['ward'].apply(ward_target_min)"
   ]
  },
  {
   "cell_type": "code",
   "execution_count": 469,
   "metadata": {},
   "outputs": [],
   "source": [
    "def ward_target_max(x):\n",
    "    if x  == '北':\n",
    "        x = max_df.loc['北','target']\n",
    "    elif x  == '中央':\n",
    "        x = max_df.loc['中央','target']\n",
    "    elif x  == '渋谷':\n",
    "        x = max_df.loc['渋谷','target']\n",
    "    elif x  == '杉並':\n",
    "        x = max_df.loc['杉並','target']\n",
    "    elif x  == '葛飾':\n",
    "        x = max_df.loc['葛飾','target']\n",
    "    elif x  == '荒川':\n",
    "        x = max_df.loc['荒川','target']\n",
    "    elif x  == '練馬':\n",
    "        x = max_df.loc['練馬','target']\n",
    "    elif x  == '目黒':\n",
    "        x = max_df.loc['目黒','target']\n",
    "    elif x  == '文京':\n",
    "        x = max_df.loc['文京','target']\n",
    "    elif x  == '板橋':\n",
    "        x = max_df.loc['板橋','target']\n",
    "    elif x  == '大田':\n",
    "        x = max_df.loc['大田','target']\n",
    "    elif x  == '江戸川':\n",
    "        x = max_df.loc['江戸川','target']\n",
    "    elif x  == '港':\n",
    "        x = max_df.loc['港','target']\n",
    "    elif x  == '墨田':\n",
    "        x = max_df.loc['墨田','target']\n",
    "    elif x  == '新宿':\n",
    "        x = max_df.loc['新宿','target']\n",
    "    elif x  == '中野':\n",
    "        x = max_df.loc['中野','target']\n",
    "    elif x  == '豊島':\n",
    "        x = max_df.loc['豊島','target']\n",
    "    elif x  == '台東':\n",
    "        x = max_df.loc['台東','target']\n",
    "    elif x  == '足立':\n",
    "        x = max_df.loc['足立','target']\n",
    "    elif x  == '世田谷':\n",
    "        x = max_df.loc['世田谷','target']\n",
    "    elif x  == '江東':\n",
    "        x = max_df.loc['江東','target']\n",
    "    elif x  == '品川':\n",
    "        x = max_df.loc['品川','target']\n",
    "    elif x  == '千代田':\n",
    "        x = max_df.loc['千代田','target']\n",
    "    else:\n",
    "        x=0\n",
    "    return x\n",
    "data['ward_max']= data['ward'].apply(ward_target_max)"
   ]
  },
  {
   "cell_type": "code",
   "execution_count": 470,
   "metadata": {},
   "outputs": [],
   "source": [
    "def ward_target_median(x):\n",
    "    if x  == '北':\n",
    "        x = median_df.loc['北','target']\n",
    "    elif x  == '中央':\n",
    "        x = median_df.loc['中央','target']\n",
    "    elif x  == '渋谷':\n",
    "        x = median_df.loc['渋谷','target']\n",
    "    elif x  == '杉並':\n",
    "        x = median_df.loc['杉並','target']\n",
    "    elif x  == '葛飾':\n",
    "        x = median_df.loc['葛飾','target']\n",
    "    elif x  == '荒川':\n",
    "        x = median_df.loc['荒川','target']\n",
    "    elif x  == '練馬':\n",
    "        x = median_df.loc['練馬','target']\n",
    "    elif x  == '目黒':\n",
    "        x = median_df.loc['目黒','target']\n",
    "    elif x  == '文京':\n",
    "        x = median_df.loc['文京','target']\n",
    "    elif x  == '板橋':\n",
    "        x = median_df.loc['板橋','target']\n",
    "    elif x  == '大田':\n",
    "        x = median_df.loc['大田','target']\n",
    "    elif x  == '江戸川':\n",
    "        x = median_df.loc['江戸川','target']\n",
    "    elif x  == '港':\n",
    "        x = median_df.loc['港','target']\n",
    "    elif x  == '墨田':\n",
    "        x = median_df.loc['墨田','target']\n",
    "    elif x  == '新宿':\n",
    "        x = median_df.loc['新宿','target']\n",
    "    elif x  == '中野':\n",
    "        x = median_df.loc['中野','target']\n",
    "    elif x  == '豊島':\n",
    "        x = median_df.loc['豊島','target']\n",
    "    elif x  == '台東':\n",
    "        x = median_df.loc['台東','target']\n",
    "    elif x  == '足立':\n",
    "        x = median_df.loc['足立','target']\n",
    "    elif x  == '世田谷':\n",
    "        x = median_df.loc['世田谷','target']\n",
    "    elif x  == '江東':\n",
    "        x = median_df.loc['江東','target']\n",
    "    elif x  == '品川':\n",
    "        x = median_df.loc['品川','target']\n",
    "    elif x  == '千代田':\n",
    "        x = median_df.loc['千代田','target']\n",
    "    else:\n",
    "        x=0\n",
    "    return x\n",
    "data['ward_median']= data['ward'].apply(ward_target_median)"
   ]
  },
  {
   "cell_type": "code",
   "execution_count": 471,
   "metadata": {},
   "outputs": [],
   "source": [
    "le = LabelEncoder()\n",
    "data['ward'] = le.fit_transform(data['ward'])"
   ]
  },
  {
   "cell_type": "code",
   "execution_count": 472,
   "metadata": {
    "scrolled": true
   },
   "outputs": [],
   "source": [
    "station_name01 = ['新宿','渋谷','池袋'] #1日平均乗客数70万以上の駅\n",
    "station_name02 = ['東京','品川','新橋','秋葉原','北千住','綾瀬','高田馬場'] #1日平均乗客数20万以上の駅\n",
    "station_name03 = ['上野','大手町','大崎','有楽町','立川','浜松町','田町','中野','恵比寿',\n",
    "                  '蒲田','吉祥寺','目黒','神保町','五反田','代々木上原','中野','恵比寿',\n",
    "                  '町田','銀座','大門','日暮里','豊洲','国分寺','三田','泉岳寺','表参道'] #1日平均乗客数10万以上の駅　\n",
    "def get_station(station):\n",
    "    station = station.split('\\t')\n",
    "    station = station[1]\n",
    "    station = station[:-1]\n",
    "    if station in station_name01:\n",
    "        station = 1\n",
    "    elif station in station_name02:\n",
    "        station = 2\n",
    "    elif station in station_name03:\n",
    "        station = 3\n",
    "    else:\n",
    "        station = 4\n",
    "        \n",
    "    return station\n",
    "\n",
    "data['station'] = data['Access'].apply(get_station)"
   ]
  },
  {
   "cell_type": "code",
   "execution_count": 473,
   "metadata": {},
   "outputs": [],
   "source": [
    "import re\n",
    "def get_min_time(x):\n",
    "    time_list = re.findall(r'徒歩(\\d+)分',str(x))\n",
    "\n",
    "    time_list = map(int, time_list)\n",
    " \n",
    "    min_value = min(time_list)\n",
    "    \n",
    "    return min_value\n",
    "\n",
    "data['Access'] = data['Access'].apply(get_min_time)"
   ]
  },
  {
   "cell_type": "code",
   "execution_count": 474,
   "metadata": {
    "scrolled": true
   },
   "outputs": [],
   "source": [
    "list_near_build = []\n",
    "for i in data['Building']:\n",
    "    if isinstance(i, float):\n",
    "        list_near_build.append(0)\n",
    "    elif ('\\t' in i):\n",
    "        build_list = re.findall(r'(\\d+)m',str(i))\n",
    "        build_list = map(int, build_list)\n",
    "        near_meter = min(build_list)\n",
    "        list_near_build.append(1)\n",
    "    else:\n",
    "        build_list = re.findall(r'(\\d+)m',str(i))\n",
    "        build_list = map(int, build_list)\n",
    "        near_meter = min(build_list)\n",
    "        list_near_build.append(near_meter)\n",
    "data['Building'] = list_near_build"
   ]
  },
  {
   "cell_type": "code",
   "execution_count": 475,
   "metadata": {},
   "outputs": [],
   "source": [
    "def get_area(x):\n",
    "    x = x[:-2]\n",
    "    x = float(x)\n",
    "    return int(x)\n",
    "\n",
    "data['Area'] = data['Area'].apply(get_area)"
   ]
  },
  {
   "cell_type": "code",
   "execution_count": 476,
   "metadata": {},
   "outputs": [],
   "source": [
    "def get_angle(x):\n",
    "    if x =='南':\n",
    "        x=1\n",
    "    elif x=='東':\n",
    "        x=2\n",
    "    elif x=='西':\n",
    "        x=3\n",
    "    elif x=='北':\n",
    "        x=4\n",
    "    elif x=='南東':\n",
    "        x=5\n",
    "    elif x=='南西':\n",
    "        x=6\n",
    "    elif x=='北西':\n",
    "        x=7\n",
    "    else:\n",
    "        x=8\n",
    "    return x\n",
    "data['Angle'] = data['Angle'].apply(get_angle)"
   ]
  },
  {
   "cell_type": "code",
   "execution_count": 477,
   "metadata": {},
   "outputs": [],
   "source": [
    "#LDK,DK,LK,R,Kの前についている数値を取得する関数\n",
    "def room_size(x):\n",
    "    x.split('LDK')\n",
    "    x.split('DK')\n",
    "    x.split('LK')\n",
    "    x.split('R')\n",
    "    x.split('K')\n",
    "    \n",
    "    return int(x[0])\n",
    "\n",
    "def get_room_num(room):\n",
    "    s_num=0\n",
    "    total_room_num=0\n",
    "    if ('S(納戸)' in room):\n",
    "        s_num+=1\n",
    "        if ('LDK' in room):\n",
    "            total_room_num = room_size(room)\n",
    "            total_room_num = total_room_num + 1 + s_num\n",
    "        else:\n",
    "            total_room_num = room_size(room) + s_num\n",
    "    else:\n",
    "        if ('LDK' in room):\n",
    "            total_room_num = room_size(room)\n",
    "            total_room_num +=1\n",
    "        else:\n",
    "            total_room_num = room_size(room)\n",
    "    return total_room_num\n",
    "data['Room'] = data['Room'].apply(get_room_num)"
   ]
  },
  {
   "cell_type": "code",
   "execution_count": 479,
   "metadata": {},
   "outputs": [],
   "source": [
    "def get_age(x):\n",
    "    if x == '新築':\n",
    "        return 0\n",
    "    else:\n",
    "        return int(x.split('年')[0])\n",
    "        \n",
    "data['Passed'] = data['Passed'].apply(get_age)"
   ]
  },
  {
   "cell_type": "code",
   "execution_count": 480,
   "metadata": {},
   "outputs": [],
   "source": [
    "# 所在階\n",
    "floors = []\n",
    "total_floors = []\n",
    "heigth_rate = []\n",
    "for i in data['Floor']:\n",
    "    if ('／' in i):\n",
    "        i = i.split('／')\n",
    "        floor = i[0]\n",
    "        total_floor = i[1]\n",
    "        #所在階の取得\n",
    "        if ('地下' in floor):\n",
    "            underground = floor\n",
    "            underground = underground.strip('地下')\n",
    "            underground = underground.strip('階')\n",
    "            floors.append(int(underground))\n",
    "        else:\n",
    "            if len(floor)==0:\n",
    "                floor = 0\n",
    "                floors.append(int(floor))\n",
    "            else:\n",
    "                floor = floor.strip('階') \n",
    "                floors.append(int(floor))\n",
    "        #階数の取得 \n",
    "        if ('地下' in total_floor):\n",
    "            total_floor = total_floor.split('階建')\n",
    "            total_floor = total_floor[0]\n",
    "            total_floors.append(int(total_floor))\n",
    "        else:\n",
    "            total_floor = total_floor.strip('階建')\n",
    "            total_floors.append(int(total_floor))\n",
    "            \n",
    "    else:\n",
    "        floor = i[0]\n",
    "        floors.append(int(floor))\n",
    "        \n",
    "        total_floor = 1\n",
    "        total_floors.append(int(total_floor))\n",
    "        \n",
    "# 高さ率の取得    \n",
    "floors_array = np.array(floors)\n",
    "total_floors_array = np.array(total_floors)\n",
    "heigth_rate = floors_array/total_floors_array\n",
    "\n",
    "data['Floor'] = floors\n",
    "data['total_floor'] = total_floors\n",
    "data['height_rate'] = heigth_rate"
   ]
  },
  {
   "cell_type": "code",
   "execution_count": 481,
   "metadata": {},
   "outputs": [],
   "source": [
    "#一部屋あたりの面積の取得\n",
    "data['area_mean'] = data['Area']/data['Room']\n",
    "data['area_mean'] = data['area_mean'].astype('int64')"
   ]
  },
  {
   "cell_type": "code",
   "execution_count": 482,
   "metadata": {},
   "outputs": [],
   "source": [
    "#バス関連のコンテンツの特徴量①\n",
    "bath = []\n",
    "bath_yes_no = []\n",
    "dryer = []\n",
    "dressing_room = []\n",
    "reheating = []\n",
    "shower = []\n",
    "wash_basin = []\n",
    "toilet_seat = []\n",
    "def get_bath_contents(x):\n",
    "    \n",
    "    if ('バス・トイレ別' in x):\n",
    "        bath.append(1)\n",
    "    else:\n",
    "        bath.append(0)\n",
    "    \n",
    "    if ('バスなし' in i):\n",
    "        bath_yes_no.append(1)\n",
    "    else:\n",
    "        bath_yes_no.append(0)\n",
    "        \n",
    "    if ('浴室乾燥機' in x):\n",
    "        dryer.append(1)\n",
    "    else:\n",
    "        dryer.append(0)\n",
    "    \n",
    "    if ('脱衣所' in x):\n",
    "        dressing_room.append(1)\n",
    "    else:\n",
    "        dressing_room.append(0)\n",
    "        \n",
    "    if ('追焚機能' in x):\n",
    "        reheating.append(1)\n",
    "    else:\n",
    "        reheating.append(0)\n",
    "        \n",
    "    if ('シャワー' in x):\n",
    "        shower.append(1)\n",
    "    else:\n",
    "        shower.append(0)\n",
    "    \n",
    "    if ('洗面台独立' in x):\n",
    "        wash_basin.append(1)\n",
    "    else:\n",
    "        wash_basin.append(0)\n",
    "        \n",
    "    if ('温水洗浄便座' in x):\n",
    "        toilet_seat.append(1)\n",
    "    else:\n",
    "        toilet_seat.append(0)\n",
    "data['Bath'].apply(get_bath_contents)\n",
    "\n",
    "\n",
    "data['バス・トイレ別'] = bath\n",
    "data['バスなし'] = bath_yes_no\n",
    "data['浴室乾燥機'] = dryer\n",
    "data['脱衣所'] = dressing_room\n",
    "data['追焚機能'] = reheating\n",
    "data['シャワー'] = shower\n",
    "data['洗面台独立'] = wash_basin\n",
    "data['温水洗浄便座'] = toilet_seat"
   ]
  },
  {
   "cell_type": "code",
   "execution_count": 483,
   "metadata": {},
   "outputs": [],
   "source": [
    "#バス関連のコンテンツの特徴量②\n",
    "bath_contents_list= []\n",
    "for i in data['Bath']:\n",
    "    i = i.replace('\\t','')\n",
    "    i = i.split('／')\n",
    "    \n",
    "    bath_contents = 0\n",
    "    \n",
    "    if ('バスなし' in i) & ('トイレなし' in i):\n",
    "        bath_contents = len(i) - 2\n",
    "    elif ('バスなし' in i) | ('トイレなし' in i):\n",
    "        bath_contents = len(i) - 1\n",
    "    else:\n",
    "        bath_contents = len(i)\n",
    "    bath_contents_list.append(bath_contents)\n",
    "data['Bath'] = bath_contents_list"
   ]
  },
  {
   "cell_type": "code",
   "execution_count": 484,
   "metadata": {},
   "outputs": [],
   "source": [
    "#キッチン関連のコンテンツの特徴量\n",
    "def kitchen_type(x):\n",
    "    if ('システムキッチン' in x):\n",
    "        x=1\n",
    "    elif ('カウンターキッチン' in x):\n",
    "        x=2\n",
    "    elif ('独立キッチン' in x):\n",
    "        x=3\n",
    "    elif x == 0:\n",
    "        x=4\n",
    "    else:\n",
    "        x=5\n",
    "    return x\n",
    "data['Kitchen_type'] = data['Kitchen'].apply(kitchen_type)"
   ]
  },
  {
   "cell_type": "code",
   "execution_count": 485,
   "metadata": {},
   "outputs": [],
   "source": [
    "#キッチン関連のコンテンツの特徴量\n",
    "kitchen = []\n",
    "for i in data['Kitchen']:\n",
    "    i = i.replace('\\t','')\n",
    "    i = i.split('／')\n",
    "    kitchen_contents = 0\n",
    "    kitchen_contents = len(i)\n",
    "    kitchen.append(kitchen_contents)\n",
    "data['Kitchen'] = kitchen"
   ]
  },
  {
   "cell_type": "code",
   "execution_count": 486,
   "metadata": {},
   "outputs": [],
   "source": [
    "#インターネット関連のコンテンツの特徴量\n",
    "internet = []\n",
    "for i in data['Internet']:\n",
    "    i = i.replace('\\t','')\n",
    "    i = i.split('／')\n",
    "    internet_contents = 0\n",
    "    internet_contents = len(i)\n",
    "    internet.append(internet_contents)\n",
    "data['Internet'] = internet"
   ]
  },
  {
   "cell_type": "code",
   "execution_count": 487,
   "metadata": {},
   "outputs": [],
   "source": [
    "# #設備関連のコンテンツの特徴量\n",
    "# facility = []\n",
    "# for i in data['Facility']:\n",
    "#     i = i.replace('\\t','')\n",
    "#     i = i.split('／')\n",
    "#     facility_contents = 0\n",
    "#     facility_contents = len(i)\n",
    "#     facility.append(facility_contents)\n",
    "# data['Facility'] = facility"
   ]
  },
  {
   "cell_type": "code",
   "execution_count": 488,
   "metadata": {},
   "outputs": [],
   "source": [
    "data['Material'] = le.fit_transform(data['Material'])"
   ]
  },
  {
   "cell_type": "code",
   "execution_count": 489,
   "metadata": {},
   "outputs": [],
   "source": [
    "delete_columns = ['id','Contract','Parking','Place','Facility']\n",
    "data.drop(delete_columns, axis=1, inplace=True)"
   ]
  },
  {
   "cell_type": "code",
   "execution_count": 490,
   "metadata": {},
   "outputs": [
    {
     "data": {
      "text/html": [
       "<div>\n",
       "<style scoped>\n",
       "    .dataframe tbody tr th:only-of-type {\n",
       "        vertical-align: middle;\n",
       "    }\n",
       "\n",
       "    .dataframe tbody tr th {\n",
       "        vertical-align: top;\n",
       "    }\n",
       "\n",
       "    .dataframe thead th {\n",
       "        text-align: right;\n",
       "    }\n",
       "</style>\n",
       "<table border=\"1\" class=\"dataframe\">\n",
       "  <thead>\n",
       "    <tr style=\"text-align: right;\">\n",
       "      <th></th>\n",
       "      <th>target</th>\n",
       "      <th>Access</th>\n",
       "      <th>Room</th>\n",
       "      <th>Passed</th>\n",
       "      <th>Angle</th>\n",
       "      <th>Area</th>\n",
       "      <th>Floor</th>\n",
       "      <th>Bath</th>\n",
       "      <th>Kitchen</th>\n",
       "      <th>Internet</th>\n",
       "      <th>...</th>\n",
       "      <th>area_mean</th>\n",
       "      <th>バス・トイレ別</th>\n",
       "      <th>バスなし</th>\n",
       "      <th>浴室乾燥機</th>\n",
       "      <th>脱衣所</th>\n",
       "      <th>追焚機能</th>\n",
       "      <th>シャワー</th>\n",
       "      <th>洗面台独立</th>\n",
       "      <th>温水洗浄便座</th>\n",
       "      <th>Kitchen_type</th>\n",
       "    </tr>\n",
       "  </thead>\n",
       "  <tbody>\n",
       "    <tr>\n",
       "      <th>0</th>\n",
       "      <td>75000.0</td>\n",
       "      <td>4</td>\n",
       "      <td>1</td>\n",
       "      <td>9</td>\n",
       "      <td>5</td>\n",
       "      <td>20</td>\n",
       "      <td>1</td>\n",
       "      <td>6</td>\n",
       "      <td>4</td>\n",
       "      <td>4</td>\n",
       "      <td>...</td>\n",
       "      <td>20</td>\n",
       "      <td>1</td>\n",
       "      <td>0</td>\n",
       "      <td>1</td>\n",
       "      <td>0</td>\n",
       "      <td>0</td>\n",
       "      <td>1</td>\n",
       "      <td>0</td>\n",
       "      <td>1</td>\n",
       "      <td>1</td>\n",
       "    </tr>\n",
       "    <tr>\n",
       "      <th>1</th>\n",
       "      <td>76000.0</td>\n",
       "      <td>5</td>\n",
       "      <td>1</td>\n",
       "      <td>44</td>\n",
       "      <td>8</td>\n",
       "      <td>16</td>\n",
       "      <td>5</td>\n",
       "      <td>3</td>\n",
       "      <td>3</td>\n",
       "      <td>1</td>\n",
       "      <td>...</td>\n",
       "      <td>16</td>\n",
       "      <td>0</td>\n",
       "      <td>0</td>\n",
       "      <td>0</td>\n",
       "      <td>0</td>\n",
       "      <td>0</td>\n",
       "      <td>1</td>\n",
       "      <td>0</td>\n",
       "      <td>1</td>\n",
       "      <td>1</td>\n",
       "    </tr>\n",
       "    <tr>\n",
       "      <th>2</th>\n",
       "      <td>110000.0</td>\n",
       "      <td>6</td>\n",
       "      <td>1</td>\n",
       "      <td>8</td>\n",
       "      <td>1</td>\n",
       "      <td>22</td>\n",
       "      <td>12</td>\n",
       "      <td>8</td>\n",
       "      <td>4</td>\n",
       "      <td>4</td>\n",
       "      <td>...</td>\n",
       "      <td>22</td>\n",
       "      <td>1</td>\n",
       "      <td>0</td>\n",
       "      <td>1</td>\n",
       "      <td>1</td>\n",
       "      <td>0</td>\n",
       "      <td>1</td>\n",
       "      <td>1</td>\n",
       "      <td>1</td>\n",
       "      <td>1</td>\n",
       "    </tr>\n",
       "    <tr>\n",
       "      <th>3</th>\n",
       "      <td>150000.0</td>\n",
       "      <td>3</td>\n",
       "      <td>3</td>\n",
       "      <td>29</td>\n",
       "      <td>1</td>\n",
       "      <td>60</td>\n",
       "      <td>3</td>\n",
       "      <td>6</td>\n",
       "      <td>2</td>\n",
       "      <td>2</td>\n",
       "      <td>...</td>\n",
       "      <td>20</td>\n",
       "      <td>1</td>\n",
       "      <td>0</td>\n",
       "      <td>0</td>\n",
       "      <td>0</td>\n",
       "      <td>0</td>\n",
       "      <td>1</td>\n",
       "      <td>1</td>\n",
       "      <td>1</td>\n",
       "      <td>5</td>\n",
       "    </tr>\n",
       "    <tr>\n",
       "      <th>4</th>\n",
       "      <td>74000.0</td>\n",
       "      <td>5</td>\n",
       "      <td>2</td>\n",
       "      <td>31</td>\n",
       "      <td>1</td>\n",
       "      <td>39</td>\n",
       "      <td>1</td>\n",
       "      <td>5</td>\n",
       "      <td>2</td>\n",
       "      <td>1</td>\n",
       "      <td>...</td>\n",
       "      <td>19</td>\n",
       "      <td>1</td>\n",
       "      <td>0</td>\n",
       "      <td>0</td>\n",
       "      <td>0</td>\n",
       "      <td>1</td>\n",
       "      <td>1</td>\n",
       "      <td>0</td>\n",
       "      <td>0</td>\n",
       "      <td>3</td>\n",
       "    </tr>\n",
       "    <tr>\n",
       "      <th>...</th>\n",
       "      <td>...</td>\n",
       "      <td>...</td>\n",
       "      <td>...</td>\n",
       "      <td>...</td>\n",
       "      <td>...</td>\n",
       "      <td>...</td>\n",
       "      <td>...</td>\n",
       "      <td>...</td>\n",
       "      <td>...</td>\n",
       "      <td>...</td>\n",
       "      <td>...</td>\n",
       "      <td>...</td>\n",
       "      <td>...</td>\n",
       "      <td>...</td>\n",
       "      <td>...</td>\n",
       "      <td>...</td>\n",
       "      <td>...</td>\n",
       "      <td>...</td>\n",
       "      <td>...</td>\n",
       "      <td>...</td>\n",
       "      <td>...</td>\n",
       "    </tr>\n",
       "    <tr>\n",
       "      <th>31257</th>\n",
       "      <td>NaN</td>\n",
       "      <td>3</td>\n",
       "      <td>1</td>\n",
       "      <td>0</td>\n",
       "      <td>2</td>\n",
       "      <td>25</td>\n",
       "      <td>6</td>\n",
       "      <td>8</td>\n",
       "      <td>4</td>\n",
       "      <td>6</td>\n",
       "      <td>...</td>\n",
       "      <td>25</td>\n",
       "      <td>1</td>\n",
       "      <td>0</td>\n",
       "      <td>1</td>\n",
       "      <td>1</td>\n",
       "      <td>0</td>\n",
       "      <td>1</td>\n",
       "      <td>1</td>\n",
       "      <td>1</td>\n",
       "      <td>1</td>\n",
       "    </tr>\n",
       "    <tr>\n",
       "      <th>31258</th>\n",
       "      <td>NaN</td>\n",
       "      <td>2</td>\n",
       "      <td>1</td>\n",
       "      <td>15</td>\n",
       "      <td>1</td>\n",
       "      <td>22</td>\n",
       "      <td>8</td>\n",
       "      <td>4</td>\n",
       "      <td>4</td>\n",
       "      <td>6</td>\n",
       "      <td>...</td>\n",
       "      <td>22</td>\n",
       "      <td>0</td>\n",
       "      <td>0</td>\n",
       "      <td>1</td>\n",
       "      <td>0</td>\n",
       "      <td>0</td>\n",
       "      <td>1</td>\n",
       "      <td>0</td>\n",
       "      <td>0</td>\n",
       "      <td>1</td>\n",
       "    </tr>\n",
       "    <tr>\n",
       "      <th>31259</th>\n",
       "      <td>NaN</td>\n",
       "      <td>10</td>\n",
       "      <td>2</td>\n",
       "      <td>1</td>\n",
       "      <td>5</td>\n",
       "      <td>45</td>\n",
       "      <td>10</td>\n",
       "      <td>4</td>\n",
       "      <td>3</td>\n",
       "      <td>3</td>\n",
       "      <td>...</td>\n",
       "      <td>22</td>\n",
       "      <td>1</td>\n",
       "      <td>0</td>\n",
       "      <td>0</td>\n",
       "      <td>0</td>\n",
       "      <td>1</td>\n",
       "      <td>1</td>\n",
       "      <td>0</td>\n",
       "      <td>1</td>\n",
       "      <td>5</td>\n",
       "    </tr>\n",
       "    <tr>\n",
       "      <th>31260</th>\n",
       "      <td>NaN</td>\n",
       "      <td>3</td>\n",
       "      <td>1</td>\n",
       "      <td>15</td>\n",
       "      <td>4</td>\n",
       "      <td>55</td>\n",
       "      <td>14</td>\n",
       "      <td>9</td>\n",
       "      <td>4</td>\n",
       "      <td>6</td>\n",
       "      <td>...</td>\n",
       "      <td>55</td>\n",
       "      <td>1</td>\n",
       "      <td>0</td>\n",
       "      <td>1</td>\n",
       "      <td>1</td>\n",
       "      <td>1</td>\n",
       "      <td>1</td>\n",
       "      <td>1</td>\n",
       "      <td>1</td>\n",
       "      <td>1</td>\n",
       "    </tr>\n",
       "    <tr>\n",
       "      <th>31261</th>\n",
       "      <td>NaN</td>\n",
       "      <td>8</td>\n",
       "      <td>1</td>\n",
       "      <td>16</td>\n",
       "      <td>1</td>\n",
       "      <td>21</td>\n",
       "      <td>5</td>\n",
       "      <td>6</td>\n",
       "      <td>3</td>\n",
       "      <td>5</td>\n",
       "      <td>...</td>\n",
       "      <td>21</td>\n",
       "      <td>1</td>\n",
       "      <td>0</td>\n",
       "      <td>1</td>\n",
       "      <td>0</td>\n",
       "      <td>0</td>\n",
       "      <td>1</td>\n",
       "      <td>0</td>\n",
       "      <td>1</td>\n",
       "      <td>1</td>\n",
       "    </tr>\n",
       "  </tbody>\n",
       "</table>\n",
       "<p>62732 rows × 35 columns</p>\n",
       "</div>"
      ],
      "text/plain": [
       "         target  Access  Room  Passed  Angle  Area  Floor  Bath  Kitchen  \\\n",
       "0       75000.0       4     1       9      5    20      1     6        4   \n",
       "1       76000.0       5     1      44      8    16      5     3        3   \n",
       "2      110000.0       6     1       8      1    22     12     8        4   \n",
       "3      150000.0       3     3      29      1    60      3     6        2   \n",
       "4       74000.0       5     2      31      1    39      1     5        2   \n",
       "...         ...     ...   ...     ...    ...   ...    ...   ...      ...   \n",
       "31257       NaN       3     1       0      2    25      6     8        4   \n",
       "31258       NaN       2     1      15      1    22      8     4        4   \n",
       "31259       NaN      10     2       1      5    45     10     4        3   \n",
       "31260       NaN       3     1      15      4    55     14     9        4   \n",
       "31261       NaN       8     1      16      1    21      5     6        3   \n",
       "\n",
       "       Internet  ...  area_mean  バス・トイレ別  バスなし  浴室乾燥機  脱衣所  追焚機能  シャワー  洗面台独立  \\\n",
       "0             4  ...         20        1     0      1    0     0     1      0   \n",
       "1             1  ...         16        0     0      0    0     0     1      0   \n",
       "2             4  ...         22        1     0      1    1     0     1      1   \n",
       "3             2  ...         20        1     0      0    0     0     1      1   \n",
       "4             1  ...         19        1     0      0    0     1     1      0   \n",
       "...         ...  ...        ...      ...   ...    ...  ...   ...   ...    ...   \n",
       "31257         6  ...         25        1     0      1    1     0     1      1   \n",
       "31258         6  ...         22        0     0      1    0     0     1      0   \n",
       "31259         3  ...         22        1     0      0    0     1     1      0   \n",
       "31260         6  ...         55        1     0      1    1     1     1      1   \n",
       "31261         5  ...         21        1     0      1    0     0     1      0   \n",
       "\n",
       "       温水洗浄便座  Kitchen_type  \n",
       "0           1             1  \n",
       "1           1             1  \n",
       "2           1             1  \n",
       "3           1             5  \n",
       "4           0             3  \n",
       "...       ...           ...  \n",
       "31257       1             1  \n",
       "31258       0             1  \n",
       "31259       1             5  \n",
       "31260       1             1  \n",
       "31261       1             1  \n",
       "\n",
       "[62732 rows x 35 columns]"
      ]
     },
     "execution_count": 490,
     "metadata": {},
     "output_type": "execute_result"
    }
   ],
   "source": [
    "data"
   ]
  },
  {
   "cell_type": "markdown",
   "metadata": {},
   "source": [
    "# モデルの作成"
   ]
  },
  {
   "cell_type": "code",
   "execution_count": 491,
   "metadata": {},
   "outputs": [],
   "source": [
    "train = data[:len(train)]\n",
    "test = data[len(train):]\n",
    "y_train = train['target']\n",
    "X_train = train.drop('target', axis=1)\n",
    "X_test = test.drop('target', axis=1)"
   ]
  },
  {
   "cell_type": "markdown",
   "metadata": {},
   "source": [
    "# LightGBM"
   ]
  },
  {
   "cell_type": "code",
   "execution_count": 35,
   "metadata": {
    "scrolled": true
   },
   "outputs": [
    {
     "name": "stderr",
     "output_type": "stream",
     "text": [
      "\u001b[32m[I 2021-02-21 10:50:23,564]\u001b[0m A new study created in memory with name: no-name-7288034f-182a-4e80-81c1-1346be52b60f\u001b[0m\n",
      "feature_fraction, val_score: inf:   0%|          | 0/7 [00:00<?, ?it/s]"
     ]
    },
    {
     "name": "stdout",
     "output_type": "stream",
     "text": [
      "[LightGBM] [Warning] Auto-choosing row-wise multi-threading, the overhead of testing was 0.000606 seconds.\n",
      "You can set `force_row_wise=true` to remove the overhead.\n",
      "And if memory is not enough, you can set `force_col_wise=true`.\n",
      "[LightGBM] [Info] Total Bins 1086\n",
      "[LightGBM] [Info] Number of data points in the train set: 25176, number of used features: 25\n",
      "[LightGBM] [Info] Start training from score 118516.069987\n",
      "Training until validation scores don't improve for 100 rounds\n",
      "[100]\tvalid_0's rmse: 15417.3\tvalid_1's rmse: 22896\n",
      "[200]\tvalid_0's rmse: 13432.3\tvalid_1's rmse: 22117.1\n",
      "[300]\tvalid_0's rmse: 12161.3\tvalid_1's rmse: 21735.9\n",
      "[400]\tvalid_0's rmse: 11229.1\tvalid_1's rmse: 21475.1\n",
      "[500]\tvalid_0's rmse: 10332.8\tvalid_1's rmse: 21206.1\n",
      "[600]\tvalid_0's rmse: 9630\tvalid_1's rmse: 20984.7\n",
      "[700]\tvalid_0's rmse: 9025.67\tvalid_1's rmse: 20822.2\n",
      "[800]\tvalid_0's rmse: 8546.18\tvalid_1's rmse: 20748.5\n",
      "[900]\tvalid_0's rmse: 8093.64\tvalid_1's rmse: 20687.6\n"
     ]
    },
    {
     "name": "stderr",
     "output_type": "stream",
     "text": [
      "feature_fraction, val_score: 20573.536830:  14%|#4        | 1/7 [00:01<00:09,  1.56s/it]\u001b[32m[I 2021-02-21 10:50:25,151]\u001b[0m Trial 0 finished with value: 20573.536829997065 and parameters: {'feature_fraction': 0.8}. Best is trial 0 with value: 20573.536829997065.\u001b[0m\n",
      "feature_fraction, val_score: 20573.536830:  14%|#4        | 1/7 [00:01<00:09,  1.56s/it]"
     ]
    },
    {
     "name": "stdout",
     "output_type": "stream",
     "text": [
      "[1000]\tvalid_0's rmse: 7659.44\tvalid_1's rmse: 20573.5\n",
      "Did not meet early stopping. Best iteration is:\n",
      "[1000]\tvalid_0's rmse: 7659.44\tvalid_1's rmse: 20573.5\n",
      "[LightGBM] [Warning] Auto-choosing row-wise multi-threading, the overhead of testing was 0.000307 seconds.\n",
      "You can set `force_row_wise=true` to remove the overhead.\n",
      "And if memory is not enough, you can set `force_col_wise=true`.\n",
      "[LightGBM] [Info] Total Bins 1086\n",
      "[LightGBM] [Info] Number of data points in the train set: 25176, number of used features: 25\n",
      "[LightGBM] [Info] Start training from score 118516.069987\n",
      "Training until validation scores don't improve for 100 rounds\n",
      "[100]\tvalid_0's rmse: 15602.7\tvalid_1's rmse: 22924.9\n",
      "[200]\tvalid_0's rmse: 13521.6\tvalid_1's rmse: 21841.2\n",
      "[300]\tvalid_0's rmse: 12296.3\tvalid_1's rmse: 21389.9\n",
      "[400]\tvalid_0's rmse: 11386.2\tvalid_1's rmse: 21187.3\n",
      "[500]\tvalid_0's rmse: 10515.2\tvalid_1's rmse: 20815.8\n",
      "[600]\tvalid_0's rmse: 9825.92\tvalid_1's rmse: 20619.7\n",
      "[700]\tvalid_0's rmse: 9215.02\tvalid_1's rmse: 20432.2\n",
      "[800]\tvalid_0's rmse: 8674.17\tvalid_1's rmse: 20307.4\n"
     ]
    },
    {
     "name": "stderr",
     "output_type": "stream",
     "text": [
      "feature_fraction, val_score: 20206.062717:  29%|##8       | 2/7 [00:03<00:07,  1.58s/it]\u001b[32m[I 2021-02-21 10:50:26,745]\u001b[0m Trial 1 finished with value: 20206.06271717073 and parameters: {'feature_fraction': 0.7}. Best is trial 1 with value: 20206.06271717073.\u001b[0m\n",
      "feature_fraction, val_score: 20206.062717:  29%|##8       | 2/7 [00:03<00:07,  1.58s/it]"
     ]
    },
    {
     "name": "stdout",
     "output_type": "stream",
     "text": [
      "[900]\tvalid_0's rmse: 8190.76\tvalid_1's rmse: 20235\n",
      "[1000]\tvalid_0's rmse: 7783.67\tvalid_1's rmse: 20206.1\n",
      "Did not meet early stopping. Best iteration is:\n",
      "[1000]\tvalid_0's rmse: 7783.67\tvalid_1's rmse: 20206.1\n",
      "[LightGBM] [Warning] Auto-choosing row-wise multi-threading, the overhead of testing was 0.000328 seconds.\n",
      "You can set `force_row_wise=true` to remove the overhead.\n",
      "And if memory is not enough, you can set `force_col_wise=true`.\n",
      "[LightGBM] [Info] Total Bins 1086\n",
      "[LightGBM] [Info] Number of data points in the train set: 25176, number of used features: 25\n",
      "[LightGBM] [Info] Start training from score 118516.069987\n",
      "Training until validation scores don't improve for 100 rounds\n",
      "[100]\tvalid_0's rmse: 15431.7\tvalid_1's rmse: 22899.6\n",
      "[200]\tvalid_0's rmse: 13547.6\tvalid_1's rmse: 22179.2\n",
      "[300]\tvalid_0's rmse: 12249.9\tvalid_1's rmse: 21874.1\n",
      "[400]\tvalid_0's rmse: 11174.4\tvalid_1's rmse: 21460.6\n",
      "[500]\tvalid_0's rmse: 10343.2\tvalid_1's rmse: 21247.6\n",
      "[600]\tvalid_0's rmse: 9600.07\tvalid_1's rmse: 20983.4\n",
      "[700]\tvalid_0's rmse: 9024.49\tvalid_1's rmse: 20955.7\n",
      "[800]\tvalid_0's rmse: 8480.84\tvalid_1's rmse: 20875.6\n",
      "[900]\tvalid_0's rmse: 7988.31\tvalid_1's rmse: 20790\n"
     ]
    },
    {
     "name": "stderr",
     "output_type": "stream",
     "text": [
      "feature_fraction, val_score: 20206.062717:  43%|####2     | 3/7 [00:04<00:06,  1.54s/it]\u001b[32m[I 2021-02-21 10:50:28,237]\u001b[0m Trial 2 finished with value: 20758.369495378804 and parameters: {'feature_fraction': 0.8999999999999999}. Best is trial 1 with value: 20206.06271717073.\u001b[0m\n",
      "feature_fraction, val_score: 20206.062717:  43%|####2     | 3/7 [00:04<00:06,  1.54s/it]"
     ]
    },
    {
     "name": "stdout",
     "output_type": "stream",
     "text": [
      "[1000]\tvalid_0's rmse: 7571.55\tvalid_1's rmse: 20758.4\n",
      "Did not meet early stopping. Best iteration is:\n",
      "[1000]\tvalid_0's rmse: 7571.55\tvalid_1's rmse: 20758.4\n",
      "[LightGBM] [Warning] Auto-choosing col-wise multi-threading, the overhead of testing was 0.002872 seconds.\n",
      "You can set `force_col_wise=true` to remove the overhead.\n",
      "[LightGBM] [Info] Total Bins 1086\n",
      "[LightGBM] [Info] Number of data points in the train set: 25176, number of used features: 25\n",
      "[LightGBM] [Info] Start training from score 118516.069987\n",
      "Training until validation scores don't improve for 100 rounds\n",
      "[100]\tvalid_0's rmse: 15862.3\tvalid_1's rmse: 23511.1\n",
      "[200]\tvalid_0's rmse: 13630\tvalid_1's rmse: 22489\n",
      "[300]\tvalid_0's rmse: 12318\tvalid_1's rmse: 21977.4\n",
      "[400]\tvalid_0's rmse: 11251.2\tvalid_1's rmse: 21664.4\n",
      "[500]\tvalid_0's rmse: 10445.3\tvalid_1's rmse: 21450.7\n",
      "[600]\tvalid_0's rmse: 9818.68\tvalid_1's rmse: 21240.4\n",
      "[700]\tvalid_0's rmse: 9209.91\tvalid_1's rmse: 21074.2\n",
      "[800]\tvalid_0's rmse: 8707.81\tvalid_1's rmse: 20960.8\n"
     ]
    },
    {
     "name": "stderr",
     "output_type": "stream",
     "text": [
      "feature_fraction, val_score: 20206.062717:  57%|#####7    | 4/7 [00:06<00:04,  1.51s/it]\u001b[32m[I 2021-02-21 10:50:29,700]\u001b[0m Trial 3 finished with value: 20756.469566924545 and parameters: {'feature_fraction': 0.6}. Best is trial 1 with value: 20206.06271717073.\u001b[0m\n",
      "feature_fraction, val_score: 20206.062717:  57%|#####7    | 4/7 [00:06<00:04,  1.51s/it]"
     ]
    },
    {
     "name": "stdout",
     "output_type": "stream",
     "text": [
      "[900]\tvalid_0's rmse: 8268.51\tvalid_1's rmse: 20823.7\n",
      "[1000]\tvalid_0's rmse: 7866\tvalid_1's rmse: 20756.5\n",
      "Did not meet early stopping. Best iteration is:\n",
      "[1000]\tvalid_0's rmse: 7866\tvalid_1's rmse: 20756.5\n",
      "[LightGBM] [Warning] Auto-choosing row-wise multi-threading, the overhead of testing was 0.000252 seconds.\n",
      "You can set `force_row_wise=true` to remove the overhead.\n",
      "And if memory is not enough, you can set `force_col_wise=true`.\n",
      "[LightGBM] [Info] Total Bins 1086\n",
      "[LightGBM] [Info] Number of data points in the train set: 25176, number of used features: 25\n",
      "[LightGBM] [Info] Start training from score 118516.069987\n",
      "Training until validation scores don't improve for 100 rounds\n",
      "[100]\tvalid_0's rmse: 16344.6\tvalid_1's rmse: 23355.2\n",
      "[200]\tvalid_0's rmse: 13740\tvalid_1's rmse: 22124.2\n",
      "[300]\tvalid_0's rmse: 12403.5\tvalid_1's rmse: 21719.8\n",
      "[400]\tvalid_0's rmse: 11446.6\tvalid_1's rmse: 21499.3\n",
      "[500]\tvalid_0's rmse: 10663.7\tvalid_1's rmse: 21370.5\n",
      "[600]\tvalid_0's rmse: 9998.93\tvalid_1's rmse: 21247.9\n",
      "[700]\tvalid_0's rmse: 9421.38\tvalid_1's rmse: 21104.7\n",
      "[800]\tvalid_0's rmse: 8935.91\tvalid_1's rmse: 20987.8\n",
      "[900]\tvalid_0's rmse: 8453.55\tvalid_1's rmse: 20866.8\n"
     ]
    },
    {
     "name": "stderr",
     "output_type": "stream",
     "text": [
      "feature_fraction, val_score: 20206.062717:  71%|#######1  | 5/7 [00:07<00:03,  1.61s/it]\u001b[32m[I 2021-02-21 10:50:31,480]\u001b[0m Trial 4 finished with value: 20754.212026676447 and parameters: {'feature_fraction': 0.5}. Best is trial 1 with value: 20206.06271717073.\u001b[0m\n",
      "feature_fraction, val_score: 20206.062717:  71%|#######1  | 5/7 [00:07<00:03,  1.61s/it]"
     ]
    },
    {
     "name": "stdout",
     "output_type": "stream",
     "text": [
      "[1000]\tvalid_0's rmse: 8050.58\tvalid_1's rmse: 20754.2\n",
      "Did not meet early stopping. Best iteration is:\n",
      "[1000]\tvalid_0's rmse: 8050.58\tvalid_1's rmse: 20754.2\n",
      "[LightGBM] [Warning] Auto-choosing row-wise multi-threading, the overhead of testing was 0.000260 seconds.\n",
      "You can set `force_row_wise=true` to remove the overhead.\n",
      "And if memory is not enough, you can set `force_col_wise=true`.\n",
      "[LightGBM] [Info] Total Bins 1086\n",
      "[LightGBM] [Info] Number of data points in the train set: 25176, number of used features: 25\n",
      "[LightGBM] [Info] Start training from score 118516.069987\n",
      "Training until validation scores don't improve for 100 rounds\n",
      "[100]\tvalid_0's rmse: 16806.1\tvalid_1's rmse: 23951.7\n",
      "[200]\tvalid_0's rmse: 13926.8\tvalid_1's rmse: 22217.3\n",
      "[300]\tvalid_0's rmse: 12567.2\tvalid_1's rmse: 21828.5\n",
      "[400]\tvalid_0's rmse: 11565.7\tvalid_1's rmse: 21486.6\n",
      "[500]\tvalid_0's rmse: 10813.7\tvalid_1's rmse: 21287\n",
      "[600]\tvalid_0's rmse: 10161\tvalid_1's rmse: 21105.7\n",
      "[700]\tvalid_0's rmse: 9596.61\tvalid_1's rmse: 20966.4\n",
      "[800]\tvalid_0's rmse: 9114.85\tvalid_1's rmse: 20868.5\n",
      "[900]\tvalid_0's rmse: 8653.47\tvalid_1's rmse: 20747.2\n",
      "[1000]\tvalid_0's rmse: 8260.25\tvalid_1's rmse: 20680\n",
      "Did not meet early stopping. Best iteration is:\n",
      "[1000]\tvalid_0's rmse: 8260.25\tvalid_1's rmse: 20680\n"
     ]
    },
    {
     "name": "stderr",
     "output_type": "stream",
     "text": [
      "feature_fraction, val_score: 20206.062717:  86%|########5 | 6/7 [00:09<00:01,  1.67s/it]\u001b[32m[I 2021-02-21 10:50:33,268]\u001b[0m Trial 5 finished with value: 20680.008103376636 and parameters: {'feature_fraction': 0.4}. Best is trial 1 with value: 20206.06271717073.\u001b[0m\n",
      "feature_fraction, val_score: 20206.062717:  86%|########5 | 6/7 [00:09<00:01,  1.67s/it]"
     ]
    },
    {
     "name": "stdout",
     "output_type": "stream",
     "text": [
      "[LightGBM] [Warning] Auto-choosing row-wise multi-threading, the overhead of testing was 0.000600 seconds.\n",
      "You can set `force_row_wise=true` to remove the overhead.\n",
      "And if memory is not enough, you can set `force_col_wise=true`.\n",
      "[LightGBM] [Info] Total Bins 1086\n",
      "[LightGBM] [Info] Number of data points in the train set: 25176, number of used features: 25\n",
      "[LightGBM] [Info] Start training from score 118516.069987\n",
      "Training until validation scores don't improve for 100 rounds\n",
      "[100]\tvalid_0's rmse: 15624.5\tvalid_1's rmse: 23086.8\n",
      "[200]\tvalid_0's rmse: 13629.1\tvalid_1's rmse: 22543.1\n",
      "[300]\tvalid_0's rmse: 12219.4\tvalid_1's rmse: 22056.1\n",
      "[400]\tvalid_0's rmse: 11241.5\tvalid_1's rmse: 21814\n",
      "[500]\tvalid_0's rmse: 10530.9\tvalid_1's rmse: 21618.6\n",
      "[600]\tvalid_0's rmse: 9826.94\tvalid_1's rmse: 21462.1\n",
      "[700]\tvalid_0's rmse: 9188.32\tvalid_1's rmse: 21339.3\n",
      "[800]\tvalid_0's rmse: 8709.61\tvalid_1's rmse: 21257.6\n"
     ]
    },
    {
     "name": "stderr",
     "output_type": "stream",
     "text": [
      "feature_fraction, val_score: 20206.062717: 100%|##########| 7/7 [00:11<00:00,  1.66s/it]\u001b[32m[I 2021-02-21 10:50:34,922]\u001b[0m Trial 6 finished with value: 21255.509358476316 and parameters: {'feature_fraction': 1.0}. Best is trial 1 with value: 20206.06271717073.\u001b[0m\n",
      "feature_fraction, val_score: 20206.062717: 100%|##########| 7/7 [00:11<00:00,  1.62s/it]\n",
      "num_leaves, val_score: 20206.062717:   0%|          | 0/20 [00:00<?, ?it/s]"
     ]
    },
    {
     "name": "stdout",
     "output_type": "stream",
     "text": [
      "Early stopping, best iteration is:\n",
      "[795]\tvalid_0's rmse: 8730.6\tvalid_1's rmse: 21255.5\n",
      "[LightGBM] [Warning] Auto-choosing col-wise multi-threading, the overhead of testing was 0.003135 seconds.\n",
      "You can set `force_col_wise=true` to remove the overhead.\n",
      "[LightGBM] [Info] Total Bins 1086\n",
      "[LightGBM] [Info] Number of data points in the train set: 25176, number of used features: 25\n",
      "[LightGBM] [Info] Start training from score 118516.069987\n",
      "Training until validation scores don't improve for 100 rounds\n",
      "[100]\tvalid_0's rmse: 14694.8\tvalid_1's rmse: 22609\n",
      "[200]\tvalid_0's rmse: 12531.3\tvalid_1's rmse: 21759.9\n",
      "[300]\tvalid_0's rmse: 11193.3\tvalid_1's rmse: 21420.7\n",
      "[400]\tvalid_0's rmse: 10119.5\tvalid_1's rmse: 21036.1\n",
      "[500]\tvalid_0's rmse: 9157.58\tvalid_1's rmse: 20782.9\n",
      "[600]\tvalid_0's rmse: 8418.27\tvalid_1's rmse: 20603.2\n",
      "[700]\tvalid_0's rmse: 7789.95\tvalid_1's rmse: 20520.6\n",
      "[800]\tvalid_0's rmse: 7286.1\tvalid_1's rmse: 20444.8\n",
      "[900]\tvalid_0's rmse: 6853.4\tvalid_1's rmse: 20390.9\n"
     ]
    },
    {
     "name": "stderr",
     "output_type": "stream",
     "text": [
      "num_leaves, val_score: 20206.062717:   5%|5         | 1/20 [00:02<00:39,  2.09s/it]\u001b[32m[I 2021-02-21 10:50:37,019]\u001b[0m Trial 7 finished with value: 20382.34962669004 and parameters: {'num_leaves': 46}. Best is trial 7 with value: 20382.34962669004.\u001b[0m\n",
      "num_leaves, val_score: 20206.062717:   5%|5         | 1/20 [00:02<00:39,  2.09s/it]"
     ]
    },
    {
     "name": "stdout",
     "output_type": "stream",
     "text": [
      "[1000]\tvalid_0's rmse: 6434.97\tvalid_1's rmse: 20382.3\n",
      "Did not meet early stopping. Best iteration is:\n",
      "[1000]\tvalid_0's rmse: 6434.97\tvalid_1's rmse: 20382.3\n",
      "[LightGBM] [Warning] Auto-choosing col-wise multi-threading, the overhead of testing was 0.002939 seconds.\n",
      "You can set `force_col_wise=true` to remove the overhead.\n",
      "[LightGBM] [Info] Total Bins 1086\n",
      "[LightGBM] [Info] Number of data points in the train set: 25176, number of used features: 25\n",
      "[LightGBM] [Info] Start training from score 118516.069987\n",
      "Training until validation scores don't improve for 100 rounds\n",
      "[100]\tvalid_0's rmse: 11787.3\tvalid_1's rmse: 22564.6\n",
      "[200]\tvalid_0's rmse: 9116.14\tvalid_1's rmse: 21911\n",
      "[300]\tvalid_0's rmse: 7486.53\tvalid_1's rmse: 21575.8\n",
      "[400]\tvalid_0's rmse: 6222.93\tvalid_1's rmse: 21430.4\n",
      "[500]\tvalid_0's rmse: 5210.6\tvalid_1's rmse: 21206.9\n",
      "[600]\tvalid_0's rmse: 4358.33\tvalid_1's rmse: 21085.4\n",
      "[700]\tvalid_0's rmse: 3700.79\tvalid_1's rmse: 21004.3\n",
      "[800]\tvalid_0's rmse: 3186.43\tvalid_1's rmse: 20971.8\n",
      "[900]\tvalid_0's rmse: 2746.08\tvalid_1's rmse: 20941.3\n",
      "[1000]\tvalid_0's rmse: 2381.62\tvalid_1's rmse: 20918.1\n",
      "Did not meet early stopping. Best iteration is:\n",
      "[1000]\tvalid_0's rmse: 2381.62\tvalid_1's rmse: 20918.1\n"
     ]
    },
    {
     "name": "stderr",
     "output_type": "stream",
     "text": [
      "num_leaves, val_score: 20206.062717:  10%|#         | 2/20 [00:06<01:03,  3.51s/it]\u001b[32m[I 2021-02-21 10:50:41,522]\u001b[0m Trial 8 finished with value: 20918.10026382883 and parameters: {'num_leaves': 154}. Best is trial 7 with value: 20382.34962669004.\u001b[0m\n",
      "num_leaves, val_score: 20206.062717:  10%|#         | 2/20 [00:06<01:03,  3.51s/it]"
     ]
    },
    {
     "name": "stdout",
     "output_type": "stream",
     "text": [
      "[LightGBM] [Warning] Auto-choosing col-wise multi-threading, the overhead of testing was 0.002654 seconds.\n",
      "You can set `force_col_wise=true` to remove the overhead.\n",
      "[LightGBM] [Info] Total Bins 1086\n",
      "[LightGBM] [Info] Number of data points in the train set: 25176, number of used features: 25\n",
      "[LightGBM] [Info] Start training from score 118516.069987\n",
      "Training until validation scores don't improve for 100 rounds\n",
      "[100]\tvalid_0's rmse: 12758.6\tvalid_1's rmse: 23048\n",
      "[200]\tvalid_0's rmse: 10054.9\tvalid_1's rmse: 22249.3\n",
      "[300]\tvalid_0's rmse: 8460.85\tvalid_1's rmse: 21913.7\n",
      "[400]\tvalid_0's rmse: 7170.34\tvalid_1's rmse: 21520.7\n",
      "[500]\tvalid_0's rmse: 6183.41\tvalid_1's rmse: 21412.7\n",
      "[600]\tvalid_0's rmse: 5356.34\tvalid_1's rmse: 21274.5\n",
      "[700]\tvalid_0's rmse: 4746.61\tvalid_1's rmse: 21164.4\n",
      "[800]\tvalid_0's rmse: 4202.59\tvalid_1's rmse: 21154.8\n",
      "[900]\tvalid_0's rmse: 3698.42\tvalid_1's rmse: 21067.5\n",
      "[1000]\tvalid_0's rmse: 3279.43\tvalid_1's rmse: 21045.4\n",
      "Did not meet early stopping. Best iteration is:\n",
      "[1000]\tvalid_0's rmse: 3279.43\tvalid_1's rmse: 21045.4\n"
     ]
    },
    {
     "name": "stderr",
     "output_type": "stream",
     "text": [
      "num_leaves, val_score: 20206.062717:  15%|#5        | 3/20 [00:10<01:02,  3.68s/it]\u001b[32m[I 2021-02-21 10:50:45,416]\u001b[0m Trial 9 finished with value: 21045.350556888407 and parameters: {'num_leaves': 113}. Best is trial 7 with value: 20382.34962669004.\u001b[0m\n",
      "num_leaves, val_score: 20206.062717:  15%|#5        | 3/20 [00:10<01:02,  3.68s/it]"
     ]
    },
    {
     "name": "stdout",
     "output_type": "stream",
     "text": [
      "[LightGBM] [Warning] Auto-choosing row-wise multi-threading, the overhead of testing was 0.000329 seconds.\n",
      "You can set `force_row_wise=true` to remove the overhead.\n",
      "And if memory is not enough, you can set `force_col_wise=true`.\n",
      "[LightGBM] [Info] Total Bins 1086\n",
      "[LightGBM] [Info] Number of data points in the train set: 25176, number of used features: 25\n",
      "[LightGBM] [Info] Start training from score 118516.069987\n",
      "Training until validation scores don't improve for 100 rounds\n",
      "[100]\tvalid_0's rmse: 10909.5\tvalid_1's rmse: 22448.2\n",
      "[200]\tvalid_0's rmse: 8014.51\tvalid_1's rmse: 21887.8\n",
      "[300]\tvalid_0's rmse: 6395.48\tvalid_1's rmse: 21627.6\n",
      "[400]\tvalid_0's rmse: 4983.81\tvalid_1's rmse: 21331.5\n",
      "[500]\tvalid_0's rmse: 3976.94\tvalid_1's rmse: 21260.9\n",
      "[600]\tvalid_0's rmse: 3273.36\tvalid_1's rmse: 21123.6\n",
      "[700]\tvalid_0's rmse: 2651.46\tvalid_1's rmse: 21045.2\n",
      "[800]\tvalid_0's rmse: 2187.81\tvalid_1's rmse: 21006.2\n",
      "[900]\tvalid_0's rmse: 1798.88\tvalid_1's rmse: 20953.1\n",
      "[1000]\tvalid_0's rmse: 1491.02\tvalid_1's rmse: 20951.3\n",
      "Did not meet early stopping. Best iteration is:\n",
      "[1000]\tvalid_0's rmse: 1491.02\tvalid_1's rmse: 20951.3\n"
     ]
    },
    {
     "name": "stderr",
     "output_type": "stream",
     "text": [
      "num_leaves, val_score: 20206.062717:  20%|##        | 4/20 [00:17<01:18,  4.93s/it]\u001b[32m[I 2021-02-21 10:50:52,253]\u001b[0m Trial 10 finished with value: 20951.254447665233 and parameters: {'num_leaves': 238}. Best is trial 7 with value: 20382.34962669004.\u001b[0m\n",
      "num_leaves, val_score: 20206.062717:  20%|##        | 4/20 [00:17<01:18,  4.93s/it]"
     ]
    },
    {
     "name": "stdout",
     "output_type": "stream",
     "text": [
      "[LightGBM] [Warning] Auto-choosing row-wise multi-threading, the overhead of testing was 0.000358 seconds.\n",
      "You can set `force_row_wise=true` to remove the overhead.\n",
      "And if memory is not enough, you can set `force_col_wise=true`.\n",
      "[LightGBM] [Info] Total Bins 1086\n",
      "[LightGBM] [Info] Number of data points in the train set: 25176, number of used features: 25\n",
      "[LightGBM] [Info] Start training from score 118516.069987\n",
      "Training until validation scores don't improve for 100 rounds\n",
      "[100]\tvalid_0's rmse: 24463\tvalid_1's rmse: 28851.6\n",
      "[200]\tvalid_0's rmse: 22967.3\tvalid_1's rmse: 27484.3\n",
      "[300]\tvalid_0's rmse: 22208.7\tvalid_1's rmse: 26901.4\n",
      "[400]\tvalid_0's rmse: 21594.2\tvalid_1's rmse: 26313.7\n",
      "[500]\tvalid_0's rmse: 20969.9\tvalid_1's rmse: 25592.4\n",
      "[600]\tvalid_0's rmse: 20520.5\tvalid_1's rmse: 25187.8\n",
      "[700]\tvalid_0's rmse: 20152.2\tvalid_1's rmse: 24788.4\n",
      "[800]\tvalid_0's rmse: 19889\tvalid_1's rmse: 24397\n"
     ]
    },
    {
     "name": "stderr",
     "output_type": "stream",
     "text": [
      "num_leaves, val_score: 20206.062717:  25%|##5       | 5/20 [00:17<00:50,  3.37s/it]\u001b[32m[I 2021-02-21 10:50:52,854]\u001b[0m Trial 11 finished with value: 23885.427932681756 and parameters: {'num_leaves': 3}. Best is trial 7 with value: 20382.34962669004.\u001b[0m\n",
      "num_leaves, val_score: 20206.062717:  25%|##5       | 5/20 [00:17<00:50,  3.37s/it]"
     ]
    },
    {
     "name": "stdout",
     "output_type": "stream",
     "text": [
      "[900]\tvalid_0's rmse: 19648.7\tvalid_1's rmse: 24165.2\n",
      "[1000]\tvalid_0's rmse: 19362.4\tvalid_1's rmse: 23885.4\n",
      "Did not meet early stopping. Best iteration is:\n",
      "[1000]\tvalid_0's rmse: 19362.4\tvalid_1's rmse: 23885.4\n",
      "[LightGBM] [Warning] Auto-choosing row-wise multi-threading, the overhead of testing was 0.000351 seconds.\n",
      "You can set `force_row_wise=true` to remove the overhead.\n",
      "And if memory is not enough, you can set `force_col_wise=true`.\n",
      "[LightGBM] [Info] Total Bins 1086\n",
      "[LightGBM] [Info] Number of data points in the train set: 25176, number of used features: 25\n",
      "[LightGBM] [Info] Start training from score 118516.069987\n",
      "Training until validation scores don't improve for 100 rounds\n",
      "[100]\tvalid_0's rmse: 20271.7\tvalid_1's rmse: 24447.3\n",
      "[200]\tvalid_0's rmse: 18355.4\tvalid_1's rmse: 23370.4\n",
      "[300]\tvalid_0's rmse: 17250.8\tvalid_1's rmse: 22920.9\n",
      "[400]\tvalid_0's rmse: 16313\tvalid_1's rmse: 22602.4\n",
      "[500]\tvalid_0's rmse: 15573.7\tvalid_1's rmse: 22425.7\n",
      "[600]\tvalid_0's rmse: 14953.8\tvalid_1's rmse: 22111\n",
      "[700]\tvalid_0's rmse: 14473\tvalid_1's rmse: 21983\n"
     ]
    },
    {
     "name": "stderr",
     "output_type": "stream",
     "text": [
      "num_leaves, val_score: 20206.062717:  30%|###       | 6/20 [00:18<00:35,  2.51s/it]\u001b[32m[I 2021-02-21 10:50:53,701]\u001b[0m Trial 12 finished with value: 21441.26724687264 and parameters: {'num_leaves': 7}. Best is trial 7 with value: 20382.34962669004.\u001b[0m\n",
      "num_leaves, val_score: 20206.062717:  30%|###       | 6/20 [00:18<00:35,  2.51s/it]"
     ]
    },
    {
     "name": "stdout",
     "output_type": "stream",
     "text": [
      "[800]\tvalid_0's rmse: 14029.1\tvalid_1's rmse: 21693\n",
      "[900]\tvalid_0's rmse: 13690\tvalid_1's rmse: 21613.8\n",
      "[1000]\tvalid_0's rmse: 13322.3\tvalid_1's rmse: 21441.3\n",
      "Did not meet early stopping. Best iteration is:\n",
      "[1000]\tvalid_0's rmse: 13322.3\tvalid_1's rmse: 21441.3\n",
      "[LightGBM] [Warning] Auto-choosing row-wise multi-threading, the overhead of testing was 0.000380 seconds.\n",
      "You can set `force_row_wise=true` to remove the overhead.\n",
      "And if memory is not enough, you can set `force_col_wise=true`.\n",
      "[LightGBM] [Info] Total Bins 1086\n",
      "[LightGBM] [Info] Number of data points in the train set: 25176, number of used features: 25\n",
      "[LightGBM] [Info] Start training from score 118516.069987\n",
      "Training until validation scores don't improve for 100 rounds\n",
      "[100]\tvalid_0's rmse: 13358.4\tvalid_1's rmse: 22459.9\n",
      "[200]\tvalid_0's rmse: 10850.1\tvalid_1's rmse: 21631.7\n",
      "[300]\tvalid_0's rmse: 9253.18\tvalid_1's rmse: 21193.9\n",
      "[400]\tvalid_0's rmse: 7933.8\tvalid_1's rmse: 20824.9\n",
      "[500]\tvalid_0's rmse: 6923.01\tvalid_1's rmse: 20690.5\n",
      "[600]\tvalid_0's rmse: 6202.37\tvalid_1's rmse: 20558.7\n",
      "[700]\tvalid_0's rmse: 5602.84\tvalid_1's rmse: 20477.1\n",
      "[800]\tvalid_0's rmse: 5093.37\tvalid_1's rmse: 20470.1\n",
      "[900]\tvalid_0's rmse: 4618.15\tvalid_1's rmse: 20425.9\n",
      "[1000]\tvalid_0's rmse: 4213.12\tvalid_1's rmse: 20374.3\n",
      "Did not meet early stopping. Best iteration is:\n",
      "[1000]\tvalid_0's rmse: 4213.12\tvalid_1's rmse: 20374.3\n"
     ]
    },
    {
     "name": "stderr",
     "output_type": "stream",
     "text": [
      "num_leaves, val_score: 20206.062717:  35%|###5      | 7/20 [00:21<00:35,  2.71s/it]\u001b[32m[I 2021-02-21 10:50:56,827]\u001b[0m Trial 13 finished with value: 20374.28646984353 and parameters: {'num_leaves': 82}. Best is trial 13 with value: 20374.28646984353.\u001b[0m\n",
      "num_leaves, val_score: 20206.062717:  35%|###5      | 7/20 [00:21<00:35,  2.71s/it]"
     ]
    },
    {
     "name": "stdout",
     "output_type": "stream",
     "text": [
      "[LightGBM] [Warning] Auto-choosing row-wise multi-threading, the overhead of testing was 0.000379 seconds.\n",
      "You can set `force_row_wise=true` to remove the overhead.\n",
      "And if memory is not enough, you can set `force_col_wise=true`.\n",
      "[LightGBM] [Info] Total Bins 1086\n",
      "[LightGBM] [Info] Number of data points in the train set: 25176, number of used features: 25\n",
      "[LightGBM] [Info] Start training from score 118516.069987\n",
      "Training until validation scores don't improve for 100 rounds\n",
      "[100]\tvalid_0's rmse: 12984.6\tvalid_1's rmse: 22871\n",
      "[200]\tvalid_0's rmse: 10499\tvalid_1's rmse: 22064\n",
      "[300]\tvalid_0's rmse: 8920.84\tvalid_1's rmse: 21663.3\n",
      "[400]\tvalid_0's rmse: 7665.58\tvalid_1's rmse: 21514.7\n",
      "[500]\tvalid_0's rmse: 6723.35\tvalid_1's rmse: 21309.8\n",
      "[600]\tvalid_0's rmse: 5967.88\tvalid_1's rmse: 21189.3\n",
      "[700]\tvalid_0's rmse: 5296.73\tvalid_1's rmse: 21072.8\n",
      "[800]\tvalid_0's rmse: 4728.93\tvalid_1's rmse: 20993.4\n",
      "[900]\tvalid_0's rmse: 4264.62\tvalid_1's rmse: 20987.2\n",
      "[1000]\tvalid_0's rmse: 3875.82\tvalid_1's rmse: 20959.5\n",
      "Did not meet early stopping. Best iteration is:\n",
      "[1000]\tvalid_0's rmse: 3875.82\tvalid_1's rmse: 20959.5\n"
     ]
    },
    {
     "name": "stderr",
     "output_type": "stream",
     "text": [
      "num_leaves, val_score: 20206.062717:  40%|####      | 8/20 [00:25<00:34,  2.90s/it]\u001b[32m[I 2021-02-21 10:51:00,123]\u001b[0m Trial 14 finished with value: 20959.4976781463 and parameters: {'num_leaves': 94}. Best is trial 13 with value: 20374.28646984353.\u001b[0m\n",
      "num_leaves, val_score: 20206.062717:  40%|####      | 8/20 [00:25<00:34,  2.90s/it]"
     ]
    },
    {
     "name": "stdout",
     "output_type": "stream",
     "text": [
      "[LightGBM] [Warning] Auto-choosing row-wise multi-threading, the overhead of testing was 0.000340 seconds.\n",
      "You can set `force_row_wise=true` to remove the overhead.\n",
      "And if memory is not enough, you can set `force_col_wise=true`.\n",
      "[LightGBM] [Info] Total Bins 1086\n",
      "[LightGBM] [Info] Number of data points in the train set: 25176, number of used features: 25\n",
      "[LightGBM] [Info] Start training from score 118516.069987\n",
      "Training until validation scores don't improve for 100 rounds\n",
      "[100]\tvalid_0's rmse: 11463.6\tvalid_1's rmse: 22373.9\n",
      "[200]\tvalid_0's rmse: 8711.72\tvalid_1's rmse: 21643.3\n",
      "[300]\tvalid_0's rmse: 7096.66\tvalid_1's rmse: 21278\n",
      "[400]\tvalid_0's rmse: 5798.22\tvalid_1's rmse: 21047\n",
      "[500]\tvalid_0's rmse: 4673.88\tvalid_1's rmse: 20834.4\n",
      "[600]\tvalid_0's rmse: 3922.27\tvalid_1's rmse: 20773.4\n",
      "[700]\tvalid_0's rmse: 3300.25\tvalid_1's rmse: 20704.3\n",
      "[800]\tvalid_0's rmse: 2811.01\tvalid_1's rmse: 20676.6\n",
      "[900]\tvalid_0's rmse: 2384.08\tvalid_1's rmse: 20624.1\n",
      "[1000]\tvalid_0's rmse: 2058.12\tvalid_1's rmse: 20618.1\n",
      "Did not meet early stopping. Best iteration is:\n",
      "[1000]\tvalid_0's rmse: 2058.12\tvalid_1's rmse: 20618.1\n"
     ]
    },
    {
     "name": "stderr",
     "output_type": "stream",
     "text": [
      "num_leaves, val_score: 20206.062717:  45%|####5     | 9/20 [00:30<00:40,  3.68s/it]\u001b[32m[I 2021-02-21 10:51:05,529]\u001b[0m Trial 15 finished with value: 20618.14841585482 and parameters: {'num_leaves': 180}. Best is trial 13 with value: 20374.28646984353.\u001b[0m\n",
      "num_leaves, val_score: 20206.062717:  45%|####5     | 9/20 [00:30<00:40,  3.68s/it]"
     ]
    },
    {
     "name": "stdout",
     "output_type": "stream",
     "text": [
      "[LightGBM] [Warning] Auto-choosing row-wise multi-threading, the overhead of testing was 0.000339 seconds.\n",
      "You can set `force_row_wise=true` to remove the overhead.\n",
      "And if memory is not enough, you can set `force_col_wise=true`.\n",
      "[LightGBM] [Info] Total Bins 1086\n",
      "[LightGBM] [Info] Number of data points in the train set: 25176, number of used features: 25\n",
      "[LightGBM] [Info] Start training from score 118516.069987\n",
      "Training until validation scores don't improve for 100 rounds\n",
      "[100]\tvalid_0's rmse: 14007\tvalid_1's rmse: 22799.1\n",
      "[200]\tvalid_0's rmse: 11546.5\tvalid_1's rmse: 21921.5\n",
      "[300]\tvalid_0's rmse: 10052.4\tvalid_1's rmse: 21478.9\n",
      "[400]\tvalid_0's rmse: 8891.32\tvalid_1's rmse: 21286.4\n",
      "[500]\tvalid_0's rmse: 7932.61\tvalid_1's rmse: 21102.3\n",
      "[600]\tvalid_0's rmse: 7221\tvalid_1's rmse: 21049.5\n",
      "[700]\tvalid_0's rmse: 6580.5\tvalid_1's rmse: 20979.5\n",
      "[800]\tvalid_0's rmse: 6037.15\tvalid_1's rmse: 20913.8\n",
      "Early stopping, best iteration is:\n",
      "[763]\tvalid_0's rmse: 6235.93\tvalid_1's rmse: 20905.6\n"
     ]
    },
    {
     "name": "stderr",
     "output_type": "stream",
     "text": [
      "num_leaves, val_score: 20206.062717:  50%|#####     | 10/20 [00:32<00:32,  3.25s/it]\u001b[32m[I 2021-02-21 10:51:07,818]\u001b[0m Trial 16 finished with value: 20905.61468657271 and parameters: {'num_leaves': 64}. Best is trial 13 with value: 20374.28646984353.\u001b[0m\n",
      "num_leaves, val_score: 20206.062717:  50%|#####     | 10/20 [00:32<00:32,  3.25s/it]"
     ]
    },
    {
     "name": "stdout",
     "output_type": "stream",
     "text": [
      "[LightGBM] [Warning] Auto-choosing row-wise multi-threading, the overhead of testing was 0.000378 seconds.\n",
      "You can set `force_row_wise=true` to remove the overhead.\n",
      "And if memory is not enough, you can set `force_col_wise=true`.\n",
      "[LightGBM] [Info] Total Bins 1086\n",
      "[LightGBM] [Info] Number of data points in the train set: 25176, number of used features: 25\n",
      "[LightGBM] [Info] Start training from score 118516.069987\n",
      "Training until validation scores don't improve for 100 rounds\n",
      "[100]\tvalid_0's rmse: 11279.6\tvalid_1's rmse: 22452.3\n",
      "[200]\tvalid_0's rmse: 8392.98\tvalid_1's rmse: 21721.3\n",
      "[300]\tvalid_0's rmse: 6715.07\tvalid_1's rmse: 21409.2\n",
      "[400]\tvalid_0's rmse: 5494.22\tvalid_1's rmse: 21243.7\n",
      "[500]\tvalid_0's rmse: 4416.7\tvalid_1's rmse: 21096.8\n",
      "[600]\tvalid_0's rmse: 3524.28\tvalid_1's rmse: 20873.5\n",
      "[700]\tvalid_0's rmse: 2911.81\tvalid_1's rmse: 20802.7\n",
      "[800]\tvalid_0's rmse: 2450.9\tvalid_1's rmse: 20773.5\n",
      "[900]\tvalid_0's rmse: 2074.8\tvalid_1's rmse: 20750.2\n",
      "[1000]\tvalid_0's rmse: 1757.2\tvalid_1's rmse: 20736.5\n",
      "Did not meet early stopping. Best iteration is:\n",
      "[1000]\tvalid_0's rmse: 1757.2\tvalid_1's rmse: 20736.5\n"
     ]
    },
    {
     "name": "stderr",
     "output_type": "stream",
     "text": [
      "num_leaves, val_score: 20206.062717:  55%|#####5    | 11/20 [00:38<00:36,  4.08s/it]\u001b[32m[I 2021-02-21 10:51:13,765]\u001b[0m Trial 17 finished with value: 20736.465287226365 and parameters: {'num_leaves': 205}. Best is trial 13 with value: 20374.28646984353.\u001b[0m\n",
      "num_leaves, val_score: 20206.062717:  55%|#####5    | 11/20 [00:38<00:36,  4.08s/it]"
     ]
    },
    {
     "name": "stdout",
     "output_type": "stream",
     "text": [
      "[LightGBM] [Warning] Auto-choosing row-wise multi-threading, the overhead of testing was 0.000377 seconds.\n",
      "You can set `force_row_wise=true` to remove the overhead.\n",
      "And if memory is not enough, you can set `force_col_wise=true`.\n",
      "[LightGBM] [Info] Total Bins 1086\n",
      "[LightGBM] [Info] Number of data points in the train set: 25176, number of used features: 25\n",
      "[LightGBM] [Info] Start training from score 118516.069987\n",
      "Training until validation scores don't improve for 100 rounds\n",
      "[100]\tvalid_0's rmse: 14104.6\tvalid_1's rmse: 22693.7\n",
      "[200]\tvalid_0's rmse: 11807.1\tvalid_1's rmse: 21931.8\n",
      "[300]\tvalid_0's rmse: 10371.2\tvalid_1's rmse: 21594.6\n",
      "[400]\tvalid_0's rmse: 9244.18\tvalid_1's rmse: 21416\n",
      "[500]\tvalid_0's rmse: 8311.86\tvalid_1's rmse: 21169\n",
      "[600]\tvalid_0's rmse: 7567.75\tvalid_1's rmse: 21072.3\n",
      "[700]\tvalid_0's rmse: 6963.81\tvalid_1's rmse: 21018.3\n",
      "[800]\tvalid_0's rmse: 6444.66\tvalid_1's rmse: 20944.1\n",
      "[900]\tvalid_0's rmse: 5973.72\tvalid_1's rmse: 20906.9\n"
     ]
    },
    {
     "name": "stderr",
     "output_type": "stream",
     "text": [
      "num_leaves, val_score: 20206.062717:  60%|######    | 12/20 [00:41<00:28,  3.61s/it]\u001b[32m[I 2021-02-21 10:51:16,292]\u001b[0m Trial 18 finished with value: 20852.759099983607 and parameters: {'num_leaves': 57}. Best is trial 13 with value: 20374.28646984353.\u001b[0m\n",
      "num_leaves, val_score: 20206.062717:  60%|######    | 12/20 [00:41<00:28,  3.61s/it]"
     ]
    },
    {
     "name": "stdout",
     "output_type": "stream",
     "text": [
      "[1000]\tvalid_0's rmse: 5555.29\tvalid_1's rmse: 20852.8\n",
      "Did not meet early stopping. Best iteration is:\n",
      "[1000]\tvalid_0's rmse: 5555.29\tvalid_1's rmse: 20852.8\n",
      "[LightGBM] [Warning] Auto-choosing row-wise multi-threading, the overhead of testing was 0.000362 seconds.\n",
      "You can set `force_row_wise=true` to remove the overhead.\n",
      "And if memory is not enough, you can set `force_col_wise=true`.\n",
      "[LightGBM] [Info] Total Bins 1086\n",
      "[LightGBM] [Info] Number of data points in the train set: 25176, number of used features: 25\n",
      "[LightGBM] [Info] Start training from score 118516.069987\n",
      "Training until validation scores don't improve for 100 rounds\n",
      "[100]\tvalid_0's rmse: 12073.1\tvalid_1's rmse: 22528.4\n",
      "[200]\tvalid_0's rmse: 9405.63\tvalid_1's rmse: 21706.5\n",
      "[300]\tvalid_0's rmse: 7811.83\tvalid_1's rmse: 21414.7\n",
      "[400]\tvalid_0's rmse: 6490.65\tvalid_1's rmse: 21136.5\n",
      "[500]\tvalid_0's rmse: 5457.09\tvalid_1's rmse: 20980\n",
      "[600]\tvalid_0's rmse: 4672.93\tvalid_1's rmse: 20897.4\n",
      "[700]\tvalid_0's rmse: 4005.36\tvalid_1's rmse: 20810.1\n",
      "[800]\tvalid_0's rmse: 3461.12\tvalid_1's rmse: 20723.4\n",
      "[900]\tvalid_0's rmse: 3009.17\tvalid_1's rmse: 20713.9\n",
      "[1000]\tvalid_0's rmse: 2657.67\tvalid_1's rmse: 20704.3\n",
      "Did not meet early stopping. Best iteration is:\n",
      "[1000]\tvalid_0's rmse: 2657.67\tvalid_1's rmse: 20704.3\n"
     ]
    },
    {
     "name": "stderr",
     "output_type": "stream",
     "text": [
      "num_leaves, val_score: 20206.062717:  65%|######5   | 13/20 [00:45<00:26,  3.84s/it]\u001b[32m[I 2021-02-21 10:51:20,668]\u001b[0m Trial 19 finished with value: 20704.295811123207 and parameters: {'num_leaves': 140}. Best is trial 13 with value: 20374.28646984353.\u001b[0m\n",
      "num_leaves, val_score: 20206.062717:  65%|######5   | 13/20 [00:45<00:26,  3.84s/it]"
     ]
    },
    {
     "name": "stdout",
     "output_type": "stream",
     "text": [
      "[LightGBM] [Warning] Auto-choosing row-wise multi-threading, the overhead of testing was 0.000636 seconds.\n",
      "You can set `force_row_wise=true` to remove the overhead.\n",
      "And if memory is not enough, you can set `force_col_wise=true`.\n",
      "[LightGBM] [Info] Total Bins 1086\n",
      "[LightGBM] [Info] Number of data points in the train set: 25176, number of used features: 25\n",
      "[LightGBM] [Info] Start training from score 118516.069987\n",
      "Training until validation scores don't improve for 100 rounds\n",
      "[100]\tvalid_0's rmse: 12996\tvalid_1's rmse: 22410\n",
      "[200]\tvalid_0's rmse: 10519.6\tvalid_1's rmse: 21751.1\n",
      "[300]\tvalid_0's rmse: 9002.08\tvalid_1's rmse: 21450\n",
      "[400]\tvalid_0's rmse: 7802.41\tvalid_1's rmse: 21239.7\n",
      "[500]\tvalid_0's rmse: 6776.8\tvalid_1's rmse: 20984.5\n",
      "[600]\tvalid_0's rmse: 6006.86\tvalid_1's rmse: 20884.6\n",
      "[700]\tvalid_0's rmse: 5358.94\tvalid_1's rmse: 20778\n",
      "[800]\tvalid_0's rmse: 4842.15\tvalid_1's rmse: 20725.7\n",
      "[900]\tvalid_0's rmse: 4395.83\tvalid_1's rmse: 20662.3\n",
      "[1000]\tvalid_0's rmse: 4005.25\tvalid_1's rmse: 20625.6\n",
      "Did not meet early stopping. Best iteration is:\n",
      "[1000]\tvalid_0's rmse: 4005.25\tvalid_1's rmse: 20625.6\n"
     ]
    },
    {
     "name": "stderr",
     "output_type": "stream",
     "text": [
      "num_leaves, val_score: 20206.062717:  70%|#######   | 14/20 [00:49<00:22,  3.68s/it]\u001b[32m[I 2021-02-21 10:51:23,992]\u001b[0m Trial 20 finished with value: 20625.61240293829 and parameters: {'num_leaves': 91}. Best is trial 13 with value: 20374.28646984353.\u001b[0m\n",
      "num_leaves, val_score: 20206.062717:  70%|#######   | 14/20 [00:49<00:22,  3.68s/it]"
     ]
    },
    {
     "name": "stdout",
     "output_type": "stream",
     "text": [
      "[LightGBM] [Warning] Auto-choosing row-wise multi-threading, the overhead of testing was 0.000368 seconds.\n",
      "You can set `force_row_wise=true` to remove the overhead.\n",
      "And if memory is not enough, you can set `force_col_wise=true`.\n",
      "[LightGBM] [Info] Total Bins 1086\n",
      "[LightGBM] [Info] Number of data points in the train set: 25176, number of used features: 25\n",
      "[LightGBM] [Info] Start training from score 118516.069987\n",
      "Training until validation scores don't improve for 100 rounds\n",
      "[100]\tvalid_0's rmse: 14928\tvalid_1's rmse: 22778.3\n",
      "[200]\tvalid_0's rmse: 12758.8\tvalid_1's rmse: 21856.4\n",
      "[300]\tvalid_0's rmse: 11490.6\tvalid_1's rmse: 21536.4\n",
      "[400]\tvalid_0's rmse: 10440.6\tvalid_1's rmse: 21291.9\n",
      "[500]\tvalid_0's rmse: 9577.36\tvalid_1's rmse: 21012.2\n",
      "[600]\tvalid_0's rmse: 8852.17\tvalid_1's rmse: 20758\n",
      "[700]\tvalid_0's rmse: 8249.47\tvalid_1's rmse: 20678.5\n",
      "[800]\tvalid_0's rmse: 7715.8\tvalid_1's rmse: 20548.4\n",
      "[900]\tvalid_0's rmse: 7242.13\tvalid_1's rmse: 20486.9\n",
      "[1000]\tvalid_0's rmse: 6822.2\tvalid_1's rmse: 20447.2\n",
      "Did not meet early stopping. Best iteration is:\n",
      "[1000]\tvalid_0's rmse: 6822.2\tvalid_1's rmse: 20447.2\n"
     ]
    },
    {
     "name": "stderr",
     "output_type": "stream",
     "text": [
      "num_leaves, val_score: 20206.062717:  75%|#######5  | 15/20 [00:50<00:15,  3.13s/it]\u001b[32m[I 2021-02-21 10:51:25,853]\u001b[0m Trial 21 finished with value: 20447.21919849282 and parameters: {'num_leaves': 40}. Best is trial 13 with value: 20374.28646984353.\u001b[0m\n",
      "num_leaves, val_score: 20206.062717:  75%|#######5  | 15/20 [00:50<00:15,  3.13s/it]"
     ]
    },
    {
     "name": "stdout",
     "output_type": "stream",
     "text": [
      "[LightGBM] [Warning] Auto-choosing row-wise multi-threading, the overhead of testing was 0.000337 seconds.\n",
      "You can set `force_row_wise=true` to remove the overhead.\n",
      "And if memory is not enough, you can set `force_col_wise=true`.\n",
      "[LightGBM] [Info] Total Bins 1086\n",
      "[LightGBM] [Info] Number of data points in the train set: 25176, number of used features: 25\n",
      "[LightGBM] [Info] Start training from score 118516.069987\n",
      "Training until validation scores don't improve for 100 rounds\n",
      "[100]\tvalid_0's rmse: 15681.5\tvalid_1's rmse: 23105.6\n",
      "[200]\tvalid_0's rmse: 13713\tvalid_1's rmse: 22123.9\n",
      "[300]\tvalid_0's rmse: 12482.6\tvalid_1's rmse: 21613.2\n",
      "[400]\tvalid_0's rmse: 11464.6\tvalid_1's rmse: 21337.7\n",
      "[500]\tvalid_0's rmse: 10721.2\tvalid_1's rmse: 21120.2\n",
      "[600]\tvalid_0's rmse: 10026.9\tvalid_1's rmse: 20877.5\n",
      "[700]\tvalid_0's rmse: 9464.47\tvalid_1's rmse: 20677.8\n",
      "[800]\tvalid_0's rmse: 8948.44\tvalid_1's rmse: 20518.4\n",
      "[900]\tvalid_0's rmse: 8556.77\tvalid_1's rmse: 20396.5\n"
     ]
    },
    {
     "name": "stderr",
     "output_type": "stream",
     "text": [
      "num_leaves, val_score: 20206.062717:  80%|########  | 16/20 [00:52<00:10,  2.66s/it]\u001b[32m[I 2021-02-21 10:51:27,412]\u001b[0m Trial 22 finished with value: 20299.09539153037 and parameters: {'num_leaves': 29}. Best is trial 22 with value: 20299.09539153037.\u001b[0m\n",
      "num_leaves, val_score: 20206.062717:  80%|########  | 16/20 [00:52<00:10,  2.66s/it]"
     ]
    },
    {
     "name": "stdout",
     "output_type": "stream",
     "text": [
      "[1000]\tvalid_0's rmse: 8152.78\tvalid_1's rmse: 20299.1\n",
      "Did not meet early stopping. Best iteration is:\n",
      "[1000]\tvalid_0's rmse: 8152.78\tvalid_1's rmse: 20299.1\n",
      "[LightGBM] [Warning] Auto-choosing row-wise multi-threading, the overhead of testing was 0.000388 seconds.\n",
      "You can set `force_row_wise=true` to remove the overhead.\n",
      "And if memory is not enough, you can set `force_col_wise=true`.\n",
      "[LightGBM] [Info] Total Bins 1086\n",
      "[LightGBM] [Info] Number of data points in the train set: 25176, number of used features: 25\n",
      "[LightGBM] [Info] Start training from score 118516.069987\n",
      "Training until validation scores don't improve for 100 rounds\n",
      "[100]\tvalid_0's rmse: 16998.9\tvalid_1's rmse: 24161.5\n",
      "[200]\tvalid_0's rmse: 14974.8\tvalid_1's rmse: 23066.3\n",
      "[300]\tvalid_0's rmse: 13722.2\tvalid_1's rmse: 22486.5\n",
      "[400]\tvalid_0's rmse: 12710.2\tvalid_1's rmse: 22133.7\n",
      "[500]\tvalid_0's rmse: 11947.8\tvalid_1's rmse: 21727.5\n",
      "[600]\tvalid_0's rmse: 11316.5\tvalid_1's rmse: 21420.9\n",
      "[700]\tvalid_0's rmse: 10781.4\tvalid_1's rmse: 21318.1\n",
      "[800]\tvalid_0's rmse: 10334.3\tvalid_1's rmse: 21183.7\n"
     ]
    },
    {
     "name": "stderr",
     "output_type": "stream",
     "text": [
      "num_leaves, val_score: 20206.062717:  85%|########5 | 17/20 [00:53<00:06,  2.25s/it]\u001b[32m[I 2021-02-21 10:51:28,710]\u001b[0m Trial 23 finished with value: 20973.644817015866 and parameters: {'num_leaves': 19}. Best is trial 22 with value: 20299.09539153037.\u001b[0m\n",
      "num_leaves, val_score: 20206.062717:  85%|########5 | 17/20 [00:53<00:06,  2.25s/it]"
     ]
    },
    {
     "name": "stdout",
     "output_type": "stream",
     "text": [
      "[900]\tvalid_0's rmse: 9888.79\tvalid_1's rmse: 21113.4\n",
      "[1000]\tvalid_0's rmse: 9496.65\tvalid_1's rmse: 20973.6\n",
      "Did not meet early stopping. Best iteration is:\n",
      "[1000]\tvalid_0's rmse: 9496.65\tvalid_1's rmse: 20973.6\n",
      "[LightGBM] [Warning] Auto-choosing row-wise multi-threading, the overhead of testing was 0.000429 seconds.\n",
      "You can set `force_row_wise=true` to remove the overhead.\n",
      "And if memory is not enough, you can set `force_col_wise=true`.\n",
      "[LightGBM] [Info] Total Bins 1086\n",
      "[LightGBM] [Info] Number of data points in the train set: 25176, number of used features: 25\n",
      "[LightGBM] [Info] Start training from score 118516.069987\n",
      "Training until validation scores don't improve for 100 rounds\n",
      "[100]\tvalid_0's rmse: 13524\tvalid_1's rmse: 22507.1\n",
      "[200]\tvalid_0's rmse: 10961.6\tvalid_1's rmse: 21747.5\n",
      "[300]\tvalid_0's rmse: 9479.3\tvalid_1's rmse: 21377.3\n",
      "[400]\tvalid_0's rmse: 8251.62\tvalid_1's rmse: 21113.2\n",
      "[500]\tvalid_0's rmse: 7247.19\tvalid_1's rmse: 20893.3\n",
      "[600]\tvalid_0's rmse: 6470.89\tvalid_1's rmse: 20715.2\n",
      "[700]\tvalid_0's rmse: 5856.95\tvalid_1's rmse: 20573\n",
      "[800]\tvalid_0's rmse: 5307.65\tvalid_1's rmse: 20496.5\n",
      "[900]\tvalid_0's rmse: 4865.83\tvalid_1's rmse: 20458.3\n"
     ]
    },
    {
     "name": "stderr",
     "output_type": "stream",
     "text": [
      "num_leaves, val_score: 20206.062717:  90%|######### | 18/20 [00:56<00:04,  2.49s/it]\u001b[32m[I 2021-02-21 10:51:31,774]\u001b[0m Trial 24 finished with value: 20432.32136322467 and parameters: {'num_leaves': 78}. Best is trial 22 with value: 20299.09539153037.\u001b[0m\n",
      "num_leaves, val_score: 20206.062717:  90%|######### | 18/20 [00:56<00:04,  2.49s/it]"
     ]
    },
    {
     "name": "stdout",
     "output_type": "stream",
     "text": [
      "[1000]\tvalid_0's rmse: 4446.2\tvalid_1's rmse: 20432.3\n",
      "Did not meet early stopping. Best iteration is:\n",
      "[1000]\tvalid_0's rmse: 4446.2\tvalid_1's rmse: 20432.3\n",
      "[LightGBM] [Warning] Auto-choosing col-wise multi-threading, the overhead of testing was 0.002362 seconds.\n",
      "You can set `force_col_wise=true` to remove the overhead.\n",
      "[LightGBM] [Info] Total Bins 1086\n",
      "[LightGBM] [Info] Number of data points in the train set: 25176, number of used features: 25\n",
      "[LightGBM] [Info] Start training from score 118516.069987\n",
      "Training until validation scores don't improve for 100 rounds\n",
      "[100]\tvalid_0's rmse: 12640\tvalid_1's rmse: 22805.3\n",
      "[200]\tvalid_0's rmse: 9981.48\tvalid_1's rmse: 22011\n",
      "[300]\tvalid_0's rmse: 8342\tvalid_1's rmse: 21613.7\n",
      "[400]\tvalid_0's rmse: 7155.53\tvalid_1's rmse: 21481\n",
      "[500]\tvalid_0's rmse: 6169.98\tvalid_1's rmse: 21277.7\n",
      "[600]\tvalid_0's rmse: 5319.98\tvalid_1's rmse: 21143.9\n",
      "[700]\tvalid_0's rmse: 4681.86\tvalid_1's rmse: 21096.7\n",
      "[800]\tvalid_0's rmse: 4172.51\tvalid_1's rmse: 21054.3\n",
      "[900]\tvalid_0's rmse: 3696.2\tvalid_1's rmse: 20969.9\n",
      "[1000]\tvalid_0's rmse: 3316.98\tvalid_1's rmse: 20935.9\n",
      "Did not meet early stopping. Best iteration is:\n",
      "[1000]\tvalid_0's rmse: 3316.98\tvalid_1's rmse: 20935.9\n"
     ]
    },
    {
     "name": "stderr",
     "output_type": "stream",
     "text": [
      "num_leaves, val_score: 20206.062717:  95%|#########5| 19/20 [01:00<00:02,  2.81s/it]\u001b[32m[I 2021-02-21 10:51:35,322]\u001b[0m Trial 25 finished with value: 20935.90167111234 and parameters: {'num_leaves': 110}. Best is trial 22 with value: 20299.09539153037.\u001b[0m\n",
      "num_leaves, val_score: 20206.062717:  95%|#########5| 19/20 [01:00<00:02,  2.81s/it]"
     ]
    },
    {
     "name": "stdout",
     "output_type": "stream",
     "text": [
      "[LightGBM] [Warning] Auto-choosing row-wise multi-threading, the overhead of testing was 0.000352 seconds.\n",
      "You can set `force_row_wise=true` to remove the overhead.\n",
      "And if memory is not enough, you can set `force_col_wise=true`.\n",
      "[LightGBM] [Info] Total Bins 1086\n",
      "[LightGBM] [Info] Number of data points in the train set: 25176, number of used features: 25\n",
      "[LightGBM] [Info] Start training from score 118516.069987\n",
      "Training until validation scores don't improve for 100 rounds\n",
      "[100]\tvalid_0's rmse: 15681.5\tvalid_1's rmse: 23105.6\n",
      "[200]\tvalid_0's rmse: 13713\tvalid_1's rmse: 22123.9\n",
      "[300]\tvalid_0's rmse: 12482.6\tvalid_1's rmse: 21613.2\n",
      "[400]\tvalid_0's rmse: 11464.6\tvalid_1's rmse: 21337.7\n",
      "[500]\tvalid_0's rmse: 10721.2\tvalid_1's rmse: 21120.2\n",
      "[600]\tvalid_0's rmse: 10026.9\tvalid_1's rmse: 20877.5\n",
      "[700]\tvalid_0's rmse: 9464.47\tvalid_1's rmse: 20677.8\n",
      "[800]\tvalid_0's rmse: 8948.44\tvalid_1's rmse: 20518.4\n",
      "[900]\tvalid_0's rmse: 8556.77\tvalid_1's rmse: 20396.5\n"
     ]
    },
    {
     "name": "stderr",
     "output_type": "stream",
     "text": [
      "num_leaves, val_score: 20206.062717: 100%|##########| 20/20 [01:01<00:00,  2.44s/it]\u001b[32m[I 2021-02-21 10:51:36,906]\u001b[0m Trial 26 finished with value: 20299.09539153037 and parameters: {'num_leaves': 29}. Best is trial 22 with value: 20299.09539153037.\u001b[0m\n",
      "num_leaves, val_score: 20206.062717: 100%|##########| 20/20 [01:01<00:00,  3.10s/it]\n",
      "bagging, val_score: 20206.062717:   0%|          | 0/10 [00:00<?, ?it/s]"
     ]
    },
    {
     "name": "stdout",
     "output_type": "stream",
     "text": [
      "[1000]\tvalid_0's rmse: 8152.78\tvalid_1's rmse: 20299.1\n",
      "Did not meet early stopping. Best iteration is:\n",
      "[1000]\tvalid_0's rmse: 8152.78\tvalid_1's rmse: 20299.1\n",
      "[LightGBM] [Warning] Auto-choosing row-wise multi-threading, the overhead of testing was 0.000348 seconds.\n",
      "You can set `force_row_wise=true` to remove the overhead.\n",
      "And if memory is not enough, you can set `force_col_wise=true`.\n",
      "[LightGBM] [Info] Total Bins 1086\n",
      "[LightGBM] [Info] Number of data points in the train set: 25176, number of used features: 25\n",
      "[LightGBM] [Info] Start training from score 118516.069987\n",
      "Training until validation scores don't improve for 100 rounds\n",
      "[100]\tvalid_0's rmse: 17660.9\tvalid_1's rmse: 25063.5\n",
      "[200]\tvalid_0's rmse: 15564.9\tvalid_1's rmse: 23947.8\n",
      "[300]\tvalid_0's rmse: 14049.9\tvalid_1's rmse: 23587.2\n",
      "[400]\tvalid_0's rmse: 13014.5\tvalid_1's rmse: 23602.3\n",
      "[500]\tvalid_0's rmse: 12003.7\tvalid_1's rmse: 23155.7\n",
      "[600]\tvalid_0's rmse: 11169.8\tvalid_1's rmse: 22875.1\n",
      "[700]\tvalid_0's rmse: 10534\tvalid_1's rmse: 22521.4\n",
      "[800]\tvalid_0's rmse: 9902.28\tvalid_1's rmse: 22588.5\n",
      "[900]\tvalid_0's rmse: 9395.57\tvalid_1's rmse: 22470\n",
      "Early stopping, best iteration is:\n",
      "[891]\tvalid_0's rmse: 9445.21\tvalid_1's rmse: 22379.8\n"
     ]
    },
    {
     "name": "stderr",
     "output_type": "stream",
     "text": [
      "bagging, val_score: 20206.062717:  10%|#         | 1/10 [00:02<00:19,  2.19s/it]\u001b[32m[I 2021-02-21 10:51:39,101]\u001b[0m Trial 27 finished with value: 22379.76293717611 and parameters: {'bagging_fraction': 0.5293753204454401, 'bagging_freq': 7}. Best is trial 27 with value: 22379.76293717611.\u001b[0m\n",
      "bagging, val_score: 20206.062717:  10%|#         | 1/10 [00:02<00:19,  2.19s/it]"
     ]
    },
    {
     "name": "stdout",
     "output_type": "stream",
     "text": [
      "[LightGBM] [Warning] Auto-choosing row-wise multi-threading, the overhead of testing was 0.000362 seconds.\n",
      "You can set `force_row_wise=true` to remove the overhead.\n",
      "And if memory is not enough, you can set `force_col_wise=true`.\n",
      "[LightGBM] [Info] Total Bins 1086\n",
      "[LightGBM] [Info] Number of data points in the train set: 25176, number of used features: 25\n",
      "[LightGBM] [Info] Start training from score 118516.069987\n",
      "Training until validation scores don't improve for 100 rounds\n",
      "[100]\tvalid_0's rmse: 15913.6\tvalid_1's rmse: 23821\n",
      "[200]\tvalid_0's rmse: 13669.8\tvalid_1's rmse: 22881.4\n",
      "[300]\tvalid_0's rmse: 12192.3\tvalid_1's rmse: 22368.7\n",
      "[400]\tvalid_0's rmse: 11077.1\tvalid_1's rmse: 21982.6\n",
      "[500]\tvalid_0's rmse: 10197.8\tvalid_1's rmse: 21733.7\n",
      "[600]\tvalid_0's rmse: 9486.5\tvalid_1's rmse: 21635.5\n",
      "[700]\tvalid_0's rmse: 8863.72\tvalid_1's rmse: 21521\n",
      "[800]\tvalid_0's rmse: 8339.77\tvalid_1's rmse: 21454.5\n",
      "[900]\tvalid_0's rmse: 7857.02\tvalid_1's rmse: 21350.3\n",
      "[1000]\tvalid_0's rmse: 7441.74\tvalid_1's rmse: 21292.3\n",
      "Did not meet early stopping. Best iteration is:\n",
      "[1000]\tvalid_0's rmse: 7441.74\tvalid_1's rmse: 21292.3\n"
     ]
    },
    {
     "name": "stderr",
     "output_type": "stream",
     "text": [
      "bagging, val_score: 20206.062717:  20%|##        | 2/10 [00:04<00:15,  1.97s/it]\u001b[32m[I 2021-02-21 10:51:40,916]\u001b[0m Trial 28 finished with value: 21292.284526677086 and parameters: {'bagging_fraction': 0.9585733160656507, 'bagging_freq': 1}. Best is trial 28 with value: 21292.284526677086.\u001b[0m\n",
      "bagging, val_score: 20206.062717:  20%|##        | 2/10 [00:04<00:15,  1.97s/it]"
     ]
    },
    {
     "name": "stdout",
     "output_type": "stream",
     "text": [
      "[LightGBM] [Warning] Auto-choosing row-wise multi-threading, the overhead of testing was 0.000348 seconds.\n",
      "You can set `force_row_wise=true` to remove the overhead.\n",
      "And if memory is not enough, you can set `force_col_wise=true`.\n",
      "[LightGBM] [Info] Total Bins 1086\n",
      "[LightGBM] [Info] Number of data points in the train set: 25176, number of used features: 25\n",
      "[LightGBM] [Info] Start training from score 118516.069987\n",
      "Training until validation scores don't improve for 100 rounds\n",
      "[100]\tvalid_0's rmse: 15501.6\tvalid_1's rmse: 22889.9\n",
      "[200]\tvalid_0's rmse: 13409.2\tvalid_1's rmse: 21841.6\n",
      "[300]\tvalid_0's rmse: 12001.1\tvalid_1's rmse: 21351.5\n",
      "[400]\tvalid_0's rmse: 11022.9\tvalid_1's rmse: 21144.4\n",
      "[500]\tvalid_0's rmse: 10200.6\tvalid_1's rmse: 21020.1\n",
      "[600]\tvalid_0's rmse: 9581.12\tvalid_1's rmse: 20853.5\n",
      "[700]\tvalid_0's rmse: 9035.89\tvalid_1's rmse: 20750.2\n",
      "[800]\tvalid_0's rmse: 8504.16\tvalid_1's rmse: 20524.6\n",
      "[900]\tvalid_0's rmse: 8027.29\tvalid_1's rmse: 20418.3\n"
     ]
    },
    {
     "name": "stderr",
     "output_type": "stream",
     "text": [
      "bagging, val_score: 20206.062717:  30%|###       | 3/10 [00:06<00:14,  2.03s/it]\u001b[32m[I 2021-02-21 10:51:43,019]\u001b[0m Trial 29 finished with value: 20344.577024266226 and parameters: {'bagging_fraction': 0.9954521729868963, 'bagging_freq': 4}. Best is trial 29 with value: 20344.577024266226.\u001b[0m\n",
      "bagging, val_score: 20206.062717:  30%|###       | 3/10 [00:06<00:14,  2.03s/it]"
     ]
    },
    {
     "name": "stdout",
     "output_type": "stream",
     "text": [
      "[1000]\tvalid_0's rmse: 7639.56\tvalid_1's rmse: 20344.6\n",
      "Did not meet early stopping. Best iteration is:\n",
      "[1000]\tvalid_0's rmse: 7639.56\tvalid_1's rmse: 20344.6\n",
      "[LightGBM] [Warning] Auto-choosing row-wise multi-threading, the overhead of testing was 0.000345 seconds.\n",
      "You can set `force_row_wise=true` to remove the overhead.\n",
      "And if memory is not enough, you can set `force_col_wise=true`.\n",
      "[LightGBM] [Info] Total Bins 1086\n",
      "[LightGBM] [Info] Number of data points in the train set: 25176, number of used features: 25\n",
      "[LightGBM] [Info] Start training from score 118516.069987\n",
      "Training until validation scores don't improve for 100 rounds\n",
      "[100]\tvalid_0's rmse: 18884.8\tvalid_1's rmse: 26007.2\n",
      "[200]\tvalid_0's rmse: 16793.3\tvalid_1's rmse: 24961.4\n",
      "[300]\tvalid_0's rmse: 15241.7\tvalid_1's rmse: 23766.9\n"
     ]
    },
    {
     "name": "stderr",
     "output_type": "stream",
     "text": [
      "bagging, val_score: 20206.062717:  40%|####      | 4/10 [00:07<00:09,  1.65s/it]\u001b[32m[I 2021-02-21 10:51:44,073]\u001b[0m Trial 30 finished with value: 23712.683523988126 and parameters: {'bagging_fraction': 0.40034933989081045, 'bagging_freq': 7}. Best is trial 29 with value: 20344.577024266226.\u001b[0m\n",
      "bagging, val_score: 20206.062717:  40%|####      | 4/10 [00:07<00:09,  1.65s/it]"
     ]
    },
    {
     "name": "stdout",
     "output_type": "stream",
     "text": [
      "[400]\tvalid_0's rmse: 14248.9\tvalid_1's rmse: 23991.2\n",
      "Early stopping, best iteration is:\n",
      "[360]\tvalid_0's rmse: 14661.2\tvalid_1's rmse: 23712.7\n",
      "[LightGBM] [Warning] Auto-choosing row-wise multi-threading, the overhead of testing was 0.000367 seconds.\n",
      "You can set `force_row_wise=true` to remove the overhead.\n",
      "And if memory is not enough, you can set `force_col_wise=true`.\n",
      "[LightGBM] [Info] Total Bins 1086\n",
      "[LightGBM] [Info] Number of data points in the train set: 25176, number of used features: 25\n",
      "[LightGBM] [Info] Start training from score 118516.069987\n",
      "Training until validation scores don't improve for 100 rounds\n",
      "[100]\tvalid_0's rmse: 16170.2\tvalid_1's rmse: 24024.7\n",
      "[200]\tvalid_0's rmse: 13853.8\tvalid_1's rmse: 23128.9\n",
      "[300]\tvalid_0's rmse: 12446.7\tvalid_1's rmse: 22535.1\n",
      "[400]\tvalid_0's rmse: 11278\tvalid_1's rmse: 22157.8\n",
      "[500]\tvalid_0's rmse: 10361.4\tvalid_1's rmse: 21862.7\n",
      "[600]\tvalid_0's rmse: 9631.22\tvalid_1's rmse: 21713.9\n",
      "[700]\tvalid_0's rmse: 9036.87\tvalid_1's rmse: 21677.4\n",
      "[800]\tvalid_0's rmse: 8488.48\tvalid_1's rmse: 21479.8\n",
      "[900]\tvalid_0's rmse: 8001.3\tvalid_1's rmse: 21389.2\n",
      "[1000]\tvalid_0's rmse: 7569.09\tvalid_1's rmse: 21307.9\n",
      "Did not meet early stopping. Best iteration is:\n",
      "[1000]\tvalid_0's rmse: 7569.09\tvalid_1's rmse: 21307.9\n"
     ]
    },
    {
     "name": "stderr",
     "output_type": "stream",
     "text": [
      "bagging, val_score: 20206.062717:  50%|#####     | 5/10 [00:09<00:09,  1.81s/it]\u001b[32m[I 2021-02-21 10:51:46,175]\u001b[0m Trial 31 finished with value: 21307.902029185105 and parameters: {'bagging_fraction': 0.8712258785316009, 'bagging_freq': 3}. Best is trial 29 with value: 20344.577024266226.\u001b[0m\n",
      "bagging, val_score: 20206.062717:  50%|#####     | 5/10 [00:09<00:09,  1.81s/it]"
     ]
    },
    {
     "name": "stdout",
     "output_type": "stream",
     "text": [
      "[LightGBM] [Warning] Auto-choosing row-wise multi-threading, the overhead of testing was 0.000366 seconds.\n",
      "You can set `force_row_wise=true` to remove the overhead.\n",
      "And if memory is not enough, you can set `force_col_wise=true`.\n",
      "[LightGBM] [Info] Total Bins 1086\n",
      "[LightGBM] [Info] Number of data points in the train set: 25176, number of used features: 25\n",
      "[LightGBM] [Info] Start training from score 118516.069987\n",
      "Training until validation scores don't improve for 100 rounds\n",
      "[100]\tvalid_0's rmse: 16417.3\tvalid_1's rmse: 23777.3\n",
      "[200]\tvalid_0's rmse: 14155.8\tvalid_1's rmse: 23250.1\n",
      "[300]\tvalid_0's rmse: 12737.9\tvalid_1's rmse: 22600.6\n",
      "[400]\tvalid_0's rmse: 11641.1\tvalid_1's rmse: 22229.4\n",
      "[500]\tvalid_0's rmse: 10749.5\tvalid_1's rmse: 21985.8\n",
      "[600]\tvalid_0's rmse: 10004.3\tvalid_1's rmse: 21929.6\n",
      "[700]\tvalid_0's rmse: 9327.96\tvalid_1's rmse: 21791.9\n",
      "[800]\tvalid_0's rmse: 8738.11\tvalid_1's rmse: 21497.6\n",
      "[900]\tvalid_0's rmse: 8266.97\tvalid_1's rmse: 21442.3\n",
      "[1000]\tvalid_0's rmse: 7814.59\tvalid_1's rmse: 21452.2\n",
      "Did not meet early stopping. Best iteration is:\n",
      "[1000]\tvalid_0's rmse: 7814.59\tvalid_1's rmse: 21452.2\n"
     ]
    },
    {
     "name": "stderr",
     "output_type": "stream",
     "text": [
      "bagging, val_score: 20206.062717:  60%|######    | 6/10 [00:11<00:07,  1.90s/it]\u001b[32m[I 2021-02-21 10:51:48,242]\u001b[0m Trial 32 finished with value: 21452.175035083314 and parameters: {'bagging_fraction': 0.7613146916831701, 'bagging_freq': 4}. Best is trial 29 with value: 20344.577024266226.\u001b[0m\n",
      "bagging, val_score: 20206.062717:  60%|######    | 6/10 [00:11<00:07,  1.90s/it]"
     ]
    },
    {
     "name": "stdout",
     "output_type": "stream",
     "text": [
      "[LightGBM] [Warning] Auto-choosing row-wise multi-threading, the overhead of testing was 0.000391 seconds.\n",
      "You can set `force_row_wise=true` to remove the overhead.\n",
      "And if memory is not enough, you can set `force_col_wise=true`.\n",
      "[LightGBM] [Info] Total Bins 1086\n",
      "[LightGBM] [Info] Number of data points in the train set: 25176, number of used features: 25\n",
      "[LightGBM] [Info] Start training from score 118516.069987\n",
      "Training until validation scores don't improve for 100 rounds\n",
      "[100]\tvalid_0's rmse: 15773.3\tvalid_1's rmse: 23153.8\n",
      "[200]\tvalid_0's rmse: 13501\tvalid_1's rmse: 22287\n",
      "[300]\tvalid_0's rmse: 12065.2\tvalid_1's rmse: 21557.2\n",
      "[400]\tvalid_0's rmse: 10995.7\tvalid_1's rmse: 21403.8\n",
      "[500]\tvalid_0's rmse: 10164.1\tvalid_1's rmse: 21220.8\n",
      "[600]\tvalid_0's rmse: 9482.62\tvalid_1's rmse: 20974.2\n",
      "[700]\tvalid_0's rmse: 8883.11\tvalid_1's rmse: 20864.8\n",
      "[800]\tvalid_0's rmse: 8377.01\tvalid_1's rmse: 20739.5\n",
      "[900]\tvalid_0's rmse: 7911.79\tvalid_1's rmse: 20616.9\n",
      "[1000]\tvalid_0's rmse: 7519.2\tvalid_1's rmse: 20538.4\n",
      "Did not meet early stopping. Best iteration is:\n",
      "[1000]\tvalid_0's rmse: 7519.2\tvalid_1's rmse: 20538.4\n"
     ]
    },
    {
     "name": "stderr",
     "output_type": "stream",
     "text": [
      "bagging, val_score: 20206.062717:  70%|#######   | 7/10 [00:13<00:05,  1.96s/it]\u001b[32m[I 2021-02-21 10:51:50,338]\u001b[0m Trial 33 finished with value: 20538.449353752007 and parameters: {'bagging_fraction': 0.9801540286036272, 'bagging_freq': 4}. Best is trial 29 with value: 20344.577024266226.\u001b[0m\n",
      "bagging, val_score: 20206.062717:  70%|#######   | 7/10 [00:13<00:05,  1.96s/it]"
     ]
    },
    {
     "name": "stdout",
     "output_type": "stream",
     "text": [
      "[LightGBM] [Warning] Auto-choosing row-wise multi-threading, the overhead of testing was 0.000377 seconds.\n",
      "You can set `force_row_wise=true` to remove the overhead.\n",
      "And if memory is not enough, you can set `force_col_wise=true`.\n",
      "[LightGBM] [Info] Total Bins 1086\n",
      "[LightGBM] [Info] Number of data points in the train set: 25176, number of used features: 25\n",
      "[LightGBM] [Info] Start training from score 118516.069987\n",
      "Training until validation scores don't improve for 100 rounds\n",
      "[100]\tvalid_0's rmse: 16980.2\tvalid_1's rmse: 24388.1\n",
      "[200]\tvalid_0's rmse: 14587.6\tvalid_1's rmse: 23062.8\n",
      "[300]\tvalid_0's rmse: 13074.4\tvalid_1's rmse: 22601\n",
      "[400]\tvalid_0's rmse: 11928.2\tvalid_1's rmse: 22079.2\n",
      "[500]\tvalid_0's rmse: 10979.3\tvalid_1's rmse: 22039.8\n"
     ]
    },
    {
     "name": "stderr",
     "output_type": "stream",
     "text": [
      "bagging, val_score: 20206.062717:  80%|########  | 8/10 [00:14<00:03,  1.83s/it]"
     ]
    },
    {
     "name": "stdout",
     "output_type": "stream",
     "text": [
      "[600]\tvalid_0's rmse: 10256.4\tvalid_1's rmse: 22033.4\n",
      "Early stopping, best iteration is:\n",
      "[578]\tvalid_0's rmse: 10389.3\tvalid_1's rmse: 21894.3\n"
     ]
    },
    {
     "name": "stderr",
     "output_type": "stream",
     "text": [
      "\u001b[32m[I 2021-02-21 10:51:51,878]\u001b[0m Trial 34 finished with value: 21894.289357494024 and parameters: {'bagging_fraction': 0.6344998380255803, 'bagging_freq': 2}. Best is trial 29 with value: 20344.577024266226.\u001b[0m\n",
      "bagging, val_score: 20206.062717:  80%|########  | 8/10 [00:14<00:03,  1.83s/it]"
     ]
    },
    {
     "name": "stdout",
     "output_type": "stream",
     "text": [
      "[LightGBM] [Warning] Auto-choosing row-wise multi-threading, the overhead of testing was 0.000361 seconds.\n",
      "You can set `force_row_wise=true` to remove the overhead.\n",
      "And if memory is not enough, you can set `force_col_wise=true`.\n",
      "[LightGBM] [Info] Total Bins 1086\n",
      "[LightGBM] [Info] Number of data points in the train set: 25176, number of used features: 25\n",
      "[LightGBM] [Info] Start training from score 118516.069987\n",
      "Training until validation scores don't improve for 100 rounds\n",
      "[100]\tvalid_0's rmse: 16148.9\tvalid_1's rmse: 23789.2\n",
      "[200]\tvalid_0's rmse: 13810.9\tvalid_1's rmse: 23092.1\n",
      "[300]\tvalid_0's rmse: 12417.5\tvalid_1's rmse: 22815.6\n",
      "[400]\tvalid_0's rmse: 11315.4\tvalid_1's rmse: 22489.6\n",
      "[500]\tvalid_0's rmse: 10422.9\tvalid_1's rmse: 22264.6\n",
      "[600]\tvalid_0's rmse: 9748.55\tvalid_1's rmse: 22035.5\n",
      "[700]\tvalid_0's rmse: 9147.57\tvalid_1's rmse: 21888.1\n",
      "[800]\tvalid_0's rmse: 8567.67\tvalid_1's rmse: 21745.8\n"
     ]
    },
    {
     "name": "stderr",
     "output_type": "stream",
     "text": [
      "bagging, val_score: 20206.062717:  90%|######### | 9/10 [00:17<00:01,  1.92s/it]\u001b[32m[I 2021-02-21 10:51:54,013]\u001b[0m Trial 35 finished with value: 21696.056326837737 and parameters: {'bagging_fraction': 0.8120151506572847, 'bagging_freq': 5}. Best is trial 29 with value: 20344.577024266226.\u001b[0m\n",
      "bagging, val_score: 20206.062717:  90%|######### | 9/10 [00:17<00:01,  1.92s/it]"
     ]
    },
    {
     "name": "stdout",
     "output_type": "stream",
     "text": [
      "[900]\tvalid_0's rmse: 8107.43\tvalid_1's rmse: 21760.7\n",
      "Early stopping, best iteration is:\n",
      "[810]\tvalid_0's rmse: 8519.74\tvalid_1's rmse: 21696.1\n",
      "[LightGBM] [Warning] Auto-choosing row-wise multi-threading, the overhead of testing was 0.000354 seconds.\n",
      "You can set `force_row_wise=true` to remove the overhead.\n",
      "And if memory is not enough, you can set `force_col_wise=true`.\n",
      "[LightGBM] [Info] Total Bins 1086\n",
      "[LightGBM] [Info] Number of data points in the train set: 25176, number of used features: 25\n",
      "[LightGBM] [Info] Start training from score 118516.069987\n",
      "Training until validation scores don't improve for 100 rounds\n",
      "[100]\tvalid_0's rmse: 17026.9\tvalid_1's rmse: 24306.7\n",
      "[200]\tvalid_0's rmse: 14653.4\tvalid_1's rmse: 23274.5\n",
      "[300]\tvalid_0's rmse: 13127.3\tvalid_1's rmse: 22798.4\n",
      "[400]\tvalid_0's rmse: 12078.6\tvalid_1's rmse: 22494.9\n",
      "[500]\tvalid_0's rmse: 11076.5\tvalid_1's rmse: 22097.4\n",
      "[600]\tvalid_0's rmse: 10403\tvalid_1's rmse: 21849.9\n",
      "[700]\tvalid_0's rmse: 9765.61\tvalid_1's rmse: 21624.1\n",
      "[800]\tvalid_0's rmse: 9154.46\tvalid_1's rmse: 21504.3\n",
      "[900]\tvalid_0's rmse: 8636.19\tvalid_1's rmse: 21591.6\n"
     ]
    },
    {
     "name": "stderr",
     "output_type": "stream",
     "text": [
      "bagging, val_score: 20206.062717: 100%|##########| 10/10 [00:19<00:00,  2.04s/it]\u001b[32m[I 2021-02-21 10:51:56,312]\u001b[0m Trial 36 finished with value: 21557.819668231954 and parameters: {'bagging_fraction': 0.649556779255659, 'bagging_freq': 6}. Best is trial 29 with value: 20344.577024266226.\u001b[0m\n",
      "bagging, val_score: 20206.062717: 100%|##########| 10/10 [00:19<00:00,  1.94s/it]\n",
      "feature_fraction_stage2, val_score: 20206.062717:   0%|          | 0/6 [00:00<?, ?it/s]"
     ]
    },
    {
     "name": "stdout",
     "output_type": "stream",
     "text": [
      "[1000]\tvalid_0's rmse: 8169.55\tvalid_1's rmse: 21557.8\n",
      "Did not meet early stopping. Best iteration is:\n",
      "[1000]\tvalid_0's rmse: 8169.55\tvalid_1's rmse: 21557.8\n",
      "[LightGBM] [Warning] Auto-choosing row-wise multi-threading, the overhead of testing was 0.000485 seconds.\n",
      "You can set `force_row_wise=true` to remove the overhead.\n",
      "And if memory is not enough, you can set `force_col_wise=true`.\n",
      "[LightGBM] [Info] Total Bins 1086\n",
      "[LightGBM] [Info] Number of data points in the train set: 25176, number of used features: 25\n",
      "[LightGBM] [Info] Start training from score 118516.069987\n",
      "Training until validation scores don't improve for 100 rounds\n",
      "[100]\tvalid_0's rmse: 15540.2\tvalid_1's rmse: 23348\n",
      "[200]\tvalid_0's rmse: 13497.9\tvalid_1's rmse: 22271.4\n",
      "[300]\tvalid_0's rmse: 12220.1\tvalid_1's rmse: 21789.3\n",
      "[400]\tvalid_0's rmse: 11260.3\tvalid_1's rmse: 21564.3\n",
      "[500]\tvalid_0's rmse: 10305.6\tvalid_1's rmse: 21248.2\n",
      "[600]\tvalid_0's rmse: 9627.16\tvalid_1's rmse: 21114.5\n",
      "[700]\tvalid_0's rmse: 9054.3\tvalid_1's rmse: 20919.4\n",
      "[800]\tvalid_0's rmse: 8562.27\tvalid_1's rmse: 20829.1\n",
      "[900]\tvalid_0's rmse: 8141.41\tvalid_1's rmse: 20754\n",
      "[1000]\tvalid_0's rmse: 7753.58\tvalid_1's rmse: 20656.9\n",
      "Did not meet early stopping. Best iteration is:\n",
      "[1000]\tvalid_0's rmse: 7753.58\tvalid_1's rmse: 20656.9\n"
     ]
    },
    {
     "name": "stderr",
     "output_type": "stream",
     "text": [
      "feature_fraction_stage2, val_score: 20206.062717:  17%|#6        | 1/6 [00:02<00:10,  2.17s/it]\u001b[32m[I 2021-02-21 10:51:58,491]\u001b[0m Trial 37 finished with value: 20656.885957288046 and parameters: {'feature_fraction': 0.7799999999999999}. Best is trial 37 with value: 20656.885957288046.\u001b[0m\n",
      "feature_fraction_stage2, val_score: 20206.062717:  17%|#6        | 1/6 [00:02<00:10,  2.17s/it]"
     ]
    },
    {
     "name": "stdout",
     "output_type": "stream",
     "text": [
      "[LightGBM] [Warning] Auto-choosing row-wise multi-threading, the overhead of testing was 0.000319 seconds.\n",
      "You can set `force_row_wise=true` to remove the overhead.\n",
      "And if memory is not enough, you can set `force_col_wise=true`.\n",
      "[LightGBM] [Info] Total Bins 1086\n",
      "[LightGBM] [Info] Number of data points in the train set: 25176, number of used features: 25\n",
      "[LightGBM] [Info] Start training from score 118516.069987\n",
      "Training until validation scores don't improve for 100 rounds\n",
      "[100]\tvalid_0's rmse: 15700.3\tvalid_1's rmse: 23477.6\n",
      "[200]\tvalid_0's rmse: 13584.8\tvalid_1's rmse: 22377\n",
      "[300]\tvalid_0's rmse: 12243.1\tvalid_1's rmse: 21824.4\n",
      "[400]\tvalid_0's rmse: 11295.8\tvalid_1's rmse: 21630.5\n",
      "[500]\tvalid_0's rmse: 10512.6\tvalid_1's rmse: 21302.7\n",
      "[600]\tvalid_0's rmse: 9792.98\tvalid_1's rmse: 21148.9\n",
      "[700]\tvalid_0's rmse: 9179.53\tvalid_1's rmse: 21008.7\n",
      "[800]\tvalid_0's rmse: 8696.13\tvalid_1's rmse: 20834.4\n",
      "[900]\tvalid_0's rmse: 8265.98\tvalid_1's rmse: 20758.9\n"
     ]
    },
    {
     "name": "stderr",
     "output_type": "stream",
     "text": [
      "feature_fraction_stage2, val_score: 20206.062717:  33%|###3      | 2/6 [00:03<00:07,  1.86s/it]\u001b[32m[I 2021-02-21 10:52:00,136]\u001b[0m Trial 38 finished with value: 20703.92863762176 and parameters: {'feature_fraction': 0.6839999999999999}. Best is trial 37 with value: 20656.885957288046.\u001b[0m\n",
      "feature_fraction_stage2, val_score: 20206.062717:  33%|###3      | 2/6 [00:03<00:07,  1.86s/it]"
     ]
    },
    {
     "name": "stdout",
     "output_type": "stream",
     "text": [
      "[1000]\tvalid_0's rmse: 7869.67\tvalid_1's rmse: 20703.9\n",
      "Did not meet early stopping. Best iteration is:\n",
      "[1000]\tvalid_0's rmse: 7869.67\tvalid_1's rmse: 20703.9\n",
      "[LightGBM] [Warning] Auto-choosing row-wise multi-threading, the overhead of testing was 0.000289 seconds.\n",
      "You can set `force_row_wise=true` to remove the overhead.\n",
      "And if memory is not enough, you can set `force_col_wise=true`.\n",
      "[LightGBM] [Info] Total Bins 1086\n",
      "[LightGBM] [Info] Number of data points in the train set: 25176, number of used features: 25\n",
      "[LightGBM] [Info] Start training from score 118516.069987\n",
      "Training until validation scores don't improve for 100 rounds\n",
      "[100]\tvalid_0's rmse: 15664.8\tvalid_1's rmse: 23266.2\n",
      "[200]\tvalid_0's rmse: 13484.3\tvalid_1's rmse: 22152.1\n",
      "[300]\tvalid_0's rmse: 12203.5\tvalid_1's rmse: 21646.7\n",
      "[400]\tvalid_0's rmse: 11209.9\tvalid_1's rmse: 21419.8\n",
      "[500]\tvalid_0's rmse: 10411.3\tvalid_1's rmse: 21182.6\n",
      "[600]\tvalid_0's rmse: 9715.98\tvalid_1's rmse: 21007.1\n",
      "[700]\tvalid_0's rmse: 9170.42\tvalid_1's rmse: 20878.7\n",
      "[800]\tvalid_0's rmse: 8654.98\tvalid_1's rmse: 20733.9\n",
      "[900]\tvalid_0's rmse: 8174.7\tvalid_1's rmse: 20603.3\n",
      "[1000]\tvalid_0's rmse: 7767.31\tvalid_1's rmse: 20543.2\n",
      "Did not meet early stopping. Best iteration is:\n",
      "[1000]\tvalid_0's rmse: 7767.31\tvalid_1's rmse: 20543.2\n"
     ]
    },
    {
     "name": "stderr",
     "output_type": "stream",
     "text": [
      "feature_fraction_stage2, val_score: 20206.062717:  50%|#####     | 3/6 [00:05<00:05,  1.78s/it]\u001b[32m[I 2021-02-21 10:52:01,818]\u001b[0m Trial 39 finished with value: 20543.176001152566 and parameters: {'feature_fraction': 0.652}. Best is trial 39 with value: 20543.176001152566.\u001b[0m\n",
      "feature_fraction_stage2, val_score: 20206.062717:  50%|#####     | 3/6 [00:05<00:05,  1.78s/it]"
     ]
    },
    {
     "name": "stdout",
     "output_type": "stream",
     "text": [
      "[LightGBM] [Warning] Auto-choosing row-wise multi-threading, the overhead of testing was 0.000312 seconds.\n",
      "You can set `force_row_wise=true` to remove the overhead.\n",
      "And if memory is not enough, you can set `force_col_wise=true`.\n",
      "[LightGBM] [Info] Total Bins 1086\n",
      "[LightGBM] [Info] Number of data points in the train set: 25176, number of used features: 25\n",
      "[LightGBM] [Info] Start training from score 118516.069987\n",
      "Training until validation scores don't improve for 100 rounds\n",
      "[100]\tvalid_0's rmse: 15664.8\tvalid_1's rmse: 23266.2\n",
      "[200]\tvalid_0's rmse: 13484.3\tvalid_1's rmse: 22152.1\n",
      "[300]\tvalid_0's rmse: 12203.5\tvalid_1's rmse: 21646.7\n",
      "[400]\tvalid_0's rmse: 11209.9\tvalid_1's rmse: 21419.8\n",
      "[500]\tvalid_0's rmse: 10411.3\tvalid_1's rmse: 21182.6\n",
      "[600]\tvalid_0's rmse: 9715.98\tvalid_1's rmse: 21007.1\n",
      "[700]\tvalid_0's rmse: 9170.42\tvalid_1's rmse: 20878.7\n",
      "[800]\tvalid_0's rmse: 8654.98\tvalid_1's rmse: 20733.9\n",
      "[900]\tvalid_0's rmse: 8174.7\tvalid_1's rmse: 20603.3\n"
     ]
    },
    {
     "name": "stderr",
     "output_type": "stream",
     "text": [
      "feature_fraction_stage2, val_score: 20206.062717:  67%|######6   | 4/6 [00:07<00:03,  1.72s/it]\u001b[32m[I 2021-02-21 10:52:03,437]\u001b[0m Trial 40 finished with value: 20543.176001152566 and parameters: {'feature_fraction': 0.62}. Best is trial 39 with value: 20543.176001152566.\u001b[0m\n",
      "feature_fraction_stage2, val_score: 20206.062717:  67%|######6   | 4/6 [00:07<00:03,  1.72s/it]"
     ]
    },
    {
     "name": "stdout",
     "output_type": "stream",
     "text": [
      "[1000]\tvalid_0's rmse: 7767.31\tvalid_1's rmse: 20543.2\n",
      "Did not meet early stopping. Best iteration is:\n",
      "[1000]\tvalid_0's rmse: 7767.31\tvalid_1's rmse: 20543.2\n",
      "[LightGBM] [Warning] Auto-choosing row-wise multi-threading, the overhead of testing was 0.000381 seconds.\n",
      "You can set `force_row_wise=true` to remove the overhead.\n",
      "And if memory is not enough, you can set `force_col_wise=true`.\n",
      "[LightGBM] [Info] Total Bins 1086\n",
      "[LightGBM] [Info] Number of data points in the train set: 25176, number of used features: 25\n",
      "[LightGBM] [Info] Start training from score 118516.069987\n",
      "Training until validation scores don't improve for 100 rounds\n",
      "[100]\tvalid_0's rmse: 15540.2\tvalid_1's rmse: 23348\n",
      "[200]\tvalid_0's rmse: 13497.9\tvalid_1's rmse: 22271.4\n",
      "[300]\tvalid_0's rmse: 12220.1\tvalid_1's rmse: 21789.3\n",
      "[400]\tvalid_0's rmse: 11260.3\tvalid_1's rmse: 21564.3\n",
      "[500]\tvalid_0's rmse: 10305.6\tvalid_1's rmse: 21248.2\n",
      "[600]\tvalid_0's rmse: 9627.16\tvalid_1's rmse: 21114.5\n",
      "[700]\tvalid_0's rmse: 9054.3\tvalid_1's rmse: 20919.4\n",
      "[800]\tvalid_0's rmse: 8562.27\tvalid_1's rmse: 20829.1\n",
      "[900]\tvalid_0's rmse: 8141.41\tvalid_1's rmse: 20754\n",
      "[1000]\tvalid_0's rmse: 7753.58\tvalid_1's rmse: 20656.9\n",
      "Did not meet early stopping. Best iteration is:\n",
      "[1000]\tvalid_0's rmse: 7753.58\tvalid_1's rmse: 20656.9\n"
     ]
    },
    {
     "name": "stderr",
     "output_type": "stream",
     "text": [
      "feature_fraction_stage2, val_score: 20206.062717:  83%|########3 | 5/6 [00:08<00:01,  1.71s/it]\u001b[32m[I 2021-02-21 10:52:05,134]\u001b[0m Trial 41 finished with value: 20656.885957288046 and parameters: {'feature_fraction': 0.748}. Best is trial 39 with value: 20543.176001152566.\u001b[0m\n",
      "feature_fraction_stage2, val_score: 20206.062717:  83%|########3 | 5/6 [00:08<00:01,  1.71s/it]"
     ]
    },
    {
     "name": "stdout",
     "output_type": "stream",
     "text": [
      "[LightGBM] [Warning] Auto-choosing row-wise multi-threading, the overhead of testing was 0.000365 seconds.\n",
      "You can set `force_row_wise=true` to remove the overhead.\n",
      "And if memory is not enough, you can set `force_col_wise=true`.\n",
      "[LightGBM] [Info] Total Bins 1086\n",
      "[LightGBM] [Info] Number of data points in the train set: 25176, number of used features: 25\n",
      "[LightGBM] [Info] Start training from score 118516.069987\n",
      "Training until validation scores don't improve for 100 rounds\n",
      "[100]\tvalid_0's rmse: 15602.7\tvalid_1's rmse: 22924.9\n",
      "[200]\tvalid_0's rmse: 13521.6\tvalid_1's rmse: 21841.2\n",
      "[300]\tvalid_0's rmse: 12296.3\tvalid_1's rmse: 21389.9\n",
      "[400]\tvalid_0's rmse: 11386.2\tvalid_1's rmse: 21187.3\n",
      "[500]\tvalid_0's rmse: 10515.2\tvalid_1's rmse: 20815.8\n",
      "[600]\tvalid_0's rmse: 9825.92\tvalid_1's rmse: 20619.7\n",
      "[700]\tvalid_0's rmse: 9215.02\tvalid_1's rmse: 20432.2\n",
      "[800]\tvalid_0's rmse: 8674.17\tvalid_1's rmse: 20307.4\n",
      "[900]\tvalid_0's rmse: 8190.76\tvalid_1's rmse: 20235\n"
     ]
    },
    {
     "name": "stderr",
     "output_type": "stream",
     "text": [
      "feature_fraction_stage2, val_score: 20206.062717: 100%|##########| 6/6 [00:10<00:00,  1.69s/it]\u001b[32m[I 2021-02-21 10:52:06,786]\u001b[0m Trial 42 finished with value: 20206.06271717073 and parameters: {'feature_fraction': 0.716}. Best is trial 42 with value: 20206.06271717073.\u001b[0m\n",
      "feature_fraction_stage2, val_score: 20206.062717: 100%|##########| 6/6 [00:10<00:00,  1.75s/it]\n",
      "regularization_factors, val_score: 20206.062717:   0%|          | 0/20 [00:00<?, ?it/s]"
     ]
    },
    {
     "name": "stdout",
     "output_type": "stream",
     "text": [
      "[1000]\tvalid_0's rmse: 7783.67\tvalid_1's rmse: 20206.1\n",
      "Did not meet early stopping. Best iteration is:\n",
      "[1000]\tvalid_0's rmse: 7783.67\tvalid_1's rmse: 20206.1\n",
      "[LightGBM] [Warning] Auto-choosing row-wise multi-threading, the overhead of testing was 0.000353 seconds.\n",
      "You can set `force_row_wise=true` to remove the overhead.\n",
      "And if memory is not enough, you can set `force_col_wise=true`.\n",
      "[LightGBM] [Info] Total Bins 1086\n",
      "[LightGBM] [Info] Number of data points in the train set: 25176, number of used features: 25\n",
      "[LightGBM] [Info] Start training from score 118516.069987\n",
      "Training until validation scores don't improve for 100 rounds\n",
      "[100]\tvalid_0's rmse: 15847.8\tvalid_1's rmse: 23736\n",
      "[200]\tvalid_0's rmse: 13721.3\tvalid_1's rmse: 22714.2\n",
      "[300]\tvalid_0's rmse: 12484.6\tvalid_1's rmse: 22329.4\n",
      "[400]\tvalid_0's rmse: 11540.9\tvalid_1's rmse: 22079.8\n",
      "[500]\tvalid_0's rmse: 10694.5\tvalid_1's rmse: 21824.8\n",
      "[600]\tvalid_0's rmse: 9977.11\tvalid_1's rmse: 21682.1\n",
      "[700]\tvalid_0's rmse: 9407.13\tvalid_1's rmse: 21546.1\n",
      "[800]\tvalid_0's rmse: 8843.2\tvalid_1's rmse: 21433.5\n",
      "[900]\tvalid_0's rmse: 8397.22\tvalid_1's rmse: 21349\n",
      "[1000]\tvalid_0's rmse: 8002.07\tvalid_1's rmse: 21264.2\n",
      "Did not meet early stopping. Best iteration is:\n",
      "[1000]\tvalid_0's rmse: 8002.07\tvalid_1's rmse: 21264.2\n"
     ]
    },
    {
     "name": "stderr",
     "output_type": "stream",
     "text": [
      "regularization_factors, val_score: 20206.062717:   5%|5         | 1/20 [00:01<00:32,  1.71s/it]\u001b[32m[I 2021-02-21 10:52:08,505]\u001b[0m Trial 43 finished with value: 21264.18754453615 and parameters: {'lambda_l1': 0.31019631581213114, 'lambda_l2': 2.371553061791025}. Best is trial 43 with value: 21264.18754453615.\u001b[0m\n",
      "regularization_factors, val_score: 20206.062717:   5%|5         | 1/20 [00:01<00:32,  1.71s/it]"
     ]
    },
    {
     "name": "stdout",
     "output_type": "stream",
     "text": [
      "[LightGBM] [Warning] Auto-choosing row-wise multi-threading, the overhead of testing was 0.000345 seconds.\n",
      "You can set `force_row_wise=true` to remove the overhead.\n",
      "And if memory is not enough, you can set `force_col_wise=true`.\n",
      "[LightGBM] [Info] Total Bins 1086\n",
      "[LightGBM] [Info] Number of data points in the train set: 25176, number of used features: 25\n",
      "[LightGBM] [Info] Start training from score 118516.069987\n",
      "Training until validation scores don't improve for 100 rounds\n",
      "[100]\tvalid_0's rmse: 15602.7\tvalid_1's rmse: 22924.9\n",
      "[200]\tvalid_0's rmse: 13521.6\tvalid_1's rmse: 21841.2\n",
      "[300]\tvalid_0's rmse: 12296.3\tvalid_1's rmse: 21389.9\n",
      "[400]\tvalid_0's rmse: 11386.2\tvalid_1's rmse: 21187.3\n",
      "[500]\tvalid_0's rmse: 10515.2\tvalid_1's rmse: 20815.8\n",
      "[600]\tvalid_0's rmse: 9825.92\tvalid_1's rmse: 20619.7\n",
      "[700]\tvalid_0's rmse: 9215.02\tvalid_1's rmse: 20432.2\n",
      "[800]\tvalid_0's rmse: 8674.17\tvalid_1's rmse: 20307.4\n",
      "[900]\tvalid_0's rmse: 8190.76\tvalid_1's rmse: 20235\n"
     ]
    },
    {
     "name": "stderr",
     "output_type": "stream",
     "text": [
      "regularization_factors, val_score: 20206.062717:  10%|#         | 2/20 [00:03<00:30,  1.68s/it]\u001b[32m[I 2021-02-21 10:52:10,162]\u001b[0m Trial 44 finished with value: 20206.062718243254 and parameters: {'lambda_l1': 2.2610074363187057e-08, 'lambda_l2': 2.6595611696748977e-08}. Best is trial 44 with value: 20206.062718243254.\u001b[0m\n",
      "regularization_factors, val_score: 20206.062717:  10%|#         | 2/20 [00:03<00:30,  1.68s/it]"
     ]
    },
    {
     "name": "stdout",
     "output_type": "stream",
     "text": [
      "[1000]\tvalid_0's rmse: 7783.67\tvalid_1's rmse: 20206.1\n",
      "Did not meet early stopping. Best iteration is:\n",
      "[1000]\tvalid_0's rmse: 7783.67\tvalid_1's rmse: 20206.1\n",
      "[LightGBM] [Warning] Auto-choosing row-wise multi-threading, the overhead of testing was 0.000340 seconds.\n",
      "You can set `force_row_wise=true` to remove the overhead.\n",
      "And if memory is not enough, you can set `force_col_wise=true`.\n",
      "[LightGBM] [Info] Total Bins 1086\n",
      "[LightGBM] [Info] Number of data points in the train set: 25176, number of used features: 25\n",
      "[LightGBM] [Info] Start training from score 118516.069987\n",
      "Training until validation scores don't improve for 100 rounds\n",
      "[100]\tvalid_0's rmse: 15602.7\tvalid_1's rmse: 22924.9\n",
      "[200]\tvalid_0's rmse: 13521.6\tvalid_1's rmse: 21841.2\n",
      "[300]\tvalid_0's rmse: 12296.3\tvalid_1's rmse: 21389.9\n",
      "[400]\tvalid_0's rmse: 11386.2\tvalid_1's rmse: 21187.3\n",
      "[500]\tvalid_0's rmse: 10515.2\tvalid_1's rmse: 20815.8\n",
      "[600]\tvalid_0's rmse: 9825.92\tvalid_1's rmse: 20619.7\n",
      "[700]\tvalid_0's rmse: 9215.02\tvalid_1's rmse: 20432.2\n",
      "[800]\tvalid_0's rmse: 8674.17\tvalid_1's rmse: 20307.4\n",
      "[900]\tvalid_0's rmse: 8190.76\tvalid_1's rmse: 20235\n",
      "[1000]\tvalid_0's rmse: 7783.67\tvalid_1's rmse: 20206.1\n",
      "Did not meet early stopping. Best iteration is:\n",
      "[1000]\tvalid_0's rmse: 7783.67\tvalid_1's rmse: 20206.1\n"
     ]
    },
    {
     "name": "stderr",
     "output_type": "stream",
     "text": [
      "regularization_factors, val_score: 20206.062717:  15%|#5        | 3/20 [00:05<00:28,  1.68s/it]\u001b[32m[I 2021-02-21 10:52:11,837]\u001b[0m Trial 45 finished with value: 20206.06271828078 and parameters: {'lambda_l1': 1.3263868646713257e-08, 'lambda_l2': 1.2595051420368167e-07}. Best is trial 44 with value: 20206.062718243254.\u001b[0m\n",
      "regularization_factors, val_score: 20206.062717:  15%|#5        | 3/20 [00:05<00:28,  1.68s/it]"
     ]
    },
    {
     "name": "stdout",
     "output_type": "stream",
     "text": [
      "[LightGBM] [Warning] Auto-choosing row-wise multi-threading, the overhead of testing was 0.000353 seconds.\n",
      "You can set `force_row_wise=true` to remove the overhead.\n",
      "And if memory is not enough, you can set `force_col_wise=true`.\n",
      "[LightGBM] [Info] Total Bins 1086\n",
      "[LightGBM] [Info] Number of data points in the train set: 25176, number of used features: 25\n",
      "[LightGBM] [Info] Start training from score 118516.069987\n",
      "Training until validation scores don't improve for 100 rounds\n",
      "[100]\tvalid_0's rmse: 15602.7\tvalid_1's rmse: 22924.9\n",
      "[200]\tvalid_0's rmse: 13521.6\tvalid_1's rmse: 21841.2\n",
      "[300]\tvalid_0's rmse: 12296.3\tvalid_1's rmse: 21389.9\n",
      "[400]\tvalid_0's rmse: 11386.2\tvalid_1's rmse: 21187.3\n",
      "[500]\tvalid_0's rmse: 10515.2\tvalid_1's rmse: 20815.8\n",
      "[600]\tvalid_0's rmse: 9825.92\tvalid_1's rmse: 20619.7\n",
      "[700]\tvalid_0's rmse: 9215.02\tvalid_1's rmse: 20432.2\n",
      "[800]\tvalid_0's rmse: 8674.17\tvalid_1's rmse: 20307.4\n",
      "[900]\tvalid_0's rmse: 8190.76\tvalid_1's rmse: 20235\n"
     ]
    },
    {
     "name": "stderr",
     "output_type": "stream",
     "text": [
      "regularization_factors, val_score: 20206.062717:  20%|##        | 4/20 [00:06<00:26,  1.68s/it]\u001b[32m[I 2021-02-21 10:52:13,527]\u001b[0m Trial 46 finished with value: 20206.062720627302 and parameters: {'lambda_l1': 1.1208290206273028e-08, 'lambda_l2': 2.0212059200428968e-08}. Best is trial 44 with value: 20206.062718243254.\u001b[0m\n",
      "regularization_factors, val_score: 20206.062717:  20%|##        | 4/20 [00:06<00:26,  1.68s/it]"
     ]
    },
    {
     "name": "stdout",
     "output_type": "stream",
     "text": [
      "[1000]\tvalid_0's rmse: 7783.67\tvalid_1's rmse: 20206.1\n",
      "Did not meet early stopping. Best iteration is:\n",
      "[1000]\tvalid_0's rmse: 7783.67\tvalid_1's rmse: 20206.1\n",
      "[LightGBM] [Warning] Auto-choosing row-wise multi-threading, the overhead of testing was 0.000365 seconds.\n",
      "You can set `force_row_wise=true` to remove the overhead.\n",
      "And if memory is not enough, you can set `force_col_wise=true`.\n",
      "[LightGBM] [Info] Total Bins 1086\n",
      "[LightGBM] [Info] Number of data points in the train set: 25176, number of used features: 25\n",
      "[LightGBM] [Info] Start training from score 118516.069987\n",
      "Training until validation scores don't improve for 100 rounds\n",
      "[100]\tvalid_0's rmse: 15602.7\tvalid_1's rmse: 22924.9\n",
      "[200]\tvalid_0's rmse: 13521.6\tvalid_1's rmse: 21841.2\n",
      "[300]\tvalid_0's rmse: 12296.3\tvalid_1's rmse: 21389.9\n",
      "[400]\tvalid_0's rmse: 11386.2\tvalid_1's rmse: 21187.3\n",
      "[500]\tvalid_0's rmse: 10515.2\tvalid_1's rmse: 20815.8\n",
      "[600]\tvalid_0's rmse: 9825.92\tvalid_1's rmse: 20619.7\n",
      "[700]\tvalid_0's rmse: 9215.02\tvalid_1's rmse: 20432.2\n",
      "[800]\tvalid_0's rmse: 8674.17\tvalid_1's rmse: 20307.4\n",
      "[900]\tvalid_0's rmse: 8190.76\tvalid_1's rmse: 20235\n",
      "[1000]\tvalid_0's rmse: 7783.67\tvalid_1's rmse: 20206.1\n",
      "Did not meet early stopping. Best iteration is:\n",
      "[1000]\tvalid_0's rmse: 7783.67\tvalid_1's rmse: 20206.1\n"
     ]
    },
    {
     "name": "stderr",
     "output_type": "stream",
     "text": [
      "regularization_factors, val_score: 20206.062717:  25%|##5       | 5/20 [00:08<00:25,  1.68s/it]\u001b[32m[I 2021-02-21 10:52:15,211]\u001b[0m Trial 47 finished with value: 20206.062719913632 and parameters: {'lambda_l1': 1.847145958593062e-08, 'lambda_l2': 1.2474189832617562e-08}. Best is trial 44 with value: 20206.062718243254.\u001b[0m\n",
      "regularization_factors, val_score: 20206.062717:  25%|##5       | 5/20 [00:08<00:25,  1.68s/it]"
     ]
    },
    {
     "name": "stdout",
     "output_type": "stream",
     "text": [
      "[LightGBM] [Warning] Auto-choosing row-wise multi-threading, the overhead of testing was 0.000382 seconds.\n",
      "You can set `force_row_wise=true` to remove the overhead.\n",
      "And if memory is not enough, you can set `force_col_wise=true`.\n",
      "[LightGBM] [Info] Total Bins 1086\n",
      "[LightGBM] [Info] Number of data points in the train set: 25176, number of used features: 25\n",
      "[LightGBM] [Info] Start training from score 118516.069987\n",
      "Training until validation scores don't improve for 100 rounds\n",
      "[100]\tvalid_0's rmse: 15602.7\tvalid_1's rmse: 22924.9\n",
      "[200]\tvalid_0's rmse: 13521.6\tvalid_1's rmse: 21841.2\n",
      "[300]\tvalid_0's rmse: 12296.3\tvalid_1's rmse: 21389.9\n",
      "[400]\tvalid_0's rmse: 11386.2\tvalid_1's rmse: 21187.3\n",
      "[500]\tvalid_0's rmse: 10515.2\tvalid_1's rmse: 20815.8\n",
      "[600]\tvalid_0's rmse: 9825.92\tvalid_1's rmse: 20619.7\n",
      "[700]\tvalid_0's rmse: 9215.02\tvalid_1's rmse: 20432.2\n",
      "[800]\tvalid_0's rmse: 8674.17\tvalid_1's rmse: 20307.4\n",
      "[900]\tvalid_0's rmse: 8190.76\tvalid_1's rmse: 20235\n"
     ]
    },
    {
     "name": "stderr",
     "output_type": "stream",
     "text": [
      "regularization_factors, val_score: 20206.062717:  30%|###       | 6/20 [00:10<00:23,  1.70s/it]\u001b[32m[I 2021-02-21 10:52:16,936]\u001b[0m Trial 48 finished with value: 20206.062718205074 and parameters: {'lambda_l1': 1.0391499372405786e-08, 'lambda_l2': 1.0144003501341696e-08}. Best is trial 48 with value: 20206.062718205074.\u001b[0m\n",
      "regularization_factors, val_score: 20206.062717:  30%|###       | 6/20 [00:10<00:23,  1.70s/it]"
     ]
    },
    {
     "name": "stdout",
     "output_type": "stream",
     "text": [
      "[1000]\tvalid_0's rmse: 7783.67\tvalid_1's rmse: 20206.1\n",
      "Did not meet early stopping. Best iteration is:\n",
      "[1000]\tvalid_0's rmse: 7783.67\tvalid_1's rmse: 20206.1\n",
      "[LightGBM] [Warning] Auto-choosing row-wise multi-threading, the overhead of testing was 0.000339 seconds.\n",
      "You can set `force_row_wise=true` to remove the overhead.\n",
      "And if memory is not enough, you can set `force_col_wise=true`.\n",
      "[LightGBM] [Info] Total Bins 1086\n",
      "[LightGBM] [Info] Number of data points in the train set: 25176, number of used features: 25\n",
      "[LightGBM] [Info] Start training from score 118516.069987\n",
      "Training until validation scores don't improve for 100 rounds\n",
      "[100]\tvalid_0's rmse: 15602.7\tvalid_1's rmse: 22924.9\n",
      "[200]\tvalid_0's rmse: 13521.6\tvalid_1's rmse: 21841.2\n",
      "[300]\tvalid_0's rmse: 12296.3\tvalid_1's rmse: 21389.9\n",
      "[400]\tvalid_0's rmse: 11386.2\tvalid_1's rmse: 21187.3\n",
      "[500]\tvalid_0's rmse: 10515.2\tvalid_1's rmse: 20815.8\n",
      "[600]\tvalid_0's rmse: 9825.92\tvalid_1's rmse: 20619.7\n",
      "[700]\tvalid_0's rmse: 9215.02\tvalid_1's rmse: 20432.2\n",
      "[800]\tvalid_0's rmse: 8674.17\tvalid_1's rmse: 20307.4\n",
      "[900]\tvalid_0's rmse: 8190.76\tvalid_1's rmse: 20235\n"
     ]
    },
    {
     "name": "stderr",
     "output_type": "stream",
     "text": [
      "regularization_factors, val_score: 20206.062717:  35%|###5      | 7/20 [00:12<00:23,  1.85s/it]\u001b[32m[I 2021-02-21 10:52:19,086]\u001b[0m Trial 49 finished with value: 20206.062718124318 and parameters: {'lambda_l1': 1.1083110771102016e-08, 'lambda_l2': 3.0673889147466836e-08}. Best is trial 49 with value: 20206.062718124318.\u001b[0m\n",
      "regularization_factors, val_score: 20206.062717:  35%|###5      | 7/20 [00:12<00:23,  1.85s/it]"
     ]
    },
    {
     "name": "stdout",
     "output_type": "stream",
     "text": [
      "[1000]\tvalid_0's rmse: 7783.67\tvalid_1's rmse: 20206.1\n",
      "Did not meet early stopping. Best iteration is:\n",
      "[1000]\tvalid_0's rmse: 7783.67\tvalid_1's rmse: 20206.1\n",
      "[LightGBM] [Warning] Auto-choosing row-wise multi-threading, the overhead of testing was 0.000341 seconds.\n",
      "You can set `force_row_wise=true` to remove the overhead.\n",
      "And if memory is not enough, you can set `force_col_wise=true`.\n",
      "[LightGBM] [Info] Total Bins 1086\n",
      "[LightGBM] [Info] Number of data points in the train set: 25176, number of used features: 25\n",
      "[LightGBM] [Info] Start training from score 118516.069987\n",
      "Training until validation scores don't improve for 100 rounds\n",
      "[100]\tvalid_0's rmse: 15602.7\tvalid_1's rmse: 22924.9\n",
      "[200]\tvalid_0's rmse: 13521.6\tvalid_1's rmse: 21841.2\n",
      "[300]\tvalid_0's rmse: 12296.3\tvalid_1's rmse: 21389.9\n",
      "[400]\tvalid_0's rmse: 11386.2\tvalid_1's rmse: 21187.3\n",
      "[500]\tvalid_0's rmse: 10515.2\tvalid_1's rmse: 20815.8\n",
      "[600]\tvalid_0's rmse: 9825.92\tvalid_1's rmse: 20619.7\n",
      "[700]\tvalid_0's rmse: 9215.02\tvalid_1's rmse: 20432.2\n",
      "[800]\tvalid_0's rmse: 8674.17\tvalid_1's rmse: 20307.4\n",
      "[900]\tvalid_0's rmse: 8190.76\tvalid_1's rmse: 20235\n",
      "[1000]\tvalid_0's rmse: 7783.67\tvalid_1's rmse: 20206.1\n",
      "Did not meet early stopping. Best iteration is:\n",
      "[1000]\tvalid_0's rmse: 7783.67\tvalid_1's rmse: 20206.1\n"
     ]
    },
    {
     "name": "stderr",
     "output_type": "stream",
     "text": [
      "regularization_factors, val_score: 20206.062717:  40%|####      | 8/20 [00:14<00:21,  1.80s/it]\u001b[32m[I 2021-02-21 10:52:20,805]\u001b[0m Trial 50 finished with value: 20206.062868253168 and parameters: {'lambda_l1': 3.6366396213709904e-06, 'lambda_l2': 6.3289085040533e-06}. Best is trial 49 with value: 20206.062718124318.\u001b[0m\n",
      "regularization_factors, val_score: 20206.062717:  40%|####      | 8/20 [00:14<00:21,  1.80s/it]"
     ]
    },
    {
     "name": "stdout",
     "output_type": "stream",
     "text": [
      "[LightGBM] [Warning] Auto-choosing row-wise multi-threading, the overhead of testing was 0.000377 seconds.\n",
      "You can set `force_row_wise=true` to remove the overhead.\n",
      "And if memory is not enough, you can set `force_col_wise=true`.\n",
      "[LightGBM] [Info] Total Bins 1086\n",
      "[LightGBM] [Info] Number of data points in the train set: 25176, number of used features: 25\n",
      "[LightGBM] [Info] Start training from score 118516.069987\n",
      "Training until validation scores don't improve for 100 rounds\n",
      "[100]\tvalid_0's rmse: 15602.7\tvalid_1's rmse: 22924.9\n",
      "[200]\tvalid_0's rmse: 13521.6\tvalid_1's rmse: 21841.2\n",
      "[300]\tvalid_0's rmse: 12296.3\tvalid_1's rmse: 21389.9\n",
      "[400]\tvalid_0's rmse: 11386.2\tvalid_1's rmse: 21187.3\n",
      "[500]\tvalid_0's rmse: 10515.2\tvalid_1's rmse: 20815.8\n",
      "[600]\tvalid_0's rmse: 9825.92\tvalid_1's rmse: 20619.7\n",
      "[700]\tvalid_0's rmse: 9215.02\tvalid_1's rmse: 20432.2\n",
      "[800]\tvalid_0's rmse: 8674.17\tvalid_1's rmse: 20307.4\n",
      "[900]\tvalid_0's rmse: 8190.76\tvalid_1's rmse: 20235\n",
      "[1000]\tvalid_0's rmse: 7783.67\tvalid_1's rmse: 20206.1\n",
      "Did not meet early stopping. Best iteration is:\n",
      "[1000]\tvalid_0's rmse: 7783.67\tvalid_1's rmse: 20206.1\n"
     ]
    },
    {
     "name": "stderr",
     "output_type": "stream",
     "text": [
      "regularization_factors, val_score: 20206.062717:  45%|####5     | 9/20 [00:15<00:19,  1.78s/it]\u001b[32m[I 2021-02-21 10:52:22,539]\u001b[0m Trial 51 finished with value: 20206.062721572096 and parameters: {'lambda_l1': 1.2363278293852196e-08, 'lambda_l2': 2.0112468569894122e-08}. Best is trial 49 with value: 20206.062718124318.\u001b[0m\n",
      "regularization_factors, val_score: 20206.062717:  45%|####5     | 9/20 [00:15<00:19,  1.78s/it]"
     ]
    },
    {
     "name": "stdout",
     "output_type": "stream",
     "text": [
      "[LightGBM] [Warning] Auto-choosing row-wise multi-threading, the overhead of testing was 0.000366 seconds.\n",
      "You can set `force_row_wise=true` to remove the overhead.\n",
      "And if memory is not enough, you can set `force_col_wise=true`.\n",
      "[LightGBM] [Info] Total Bins 1086\n",
      "[LightGBM] [Info] Number of data points in the train set: 25176, number of used features: 25\n",
      "[LightGBM] [Info] Start training from score 118516.069987\n",
      "Training until validation scores don't improve for 100 rounds\n",
      "[100]\tvalid_0's rmse: 15602.7\tvalid_1's rmse: 22924.9\n",
      "[200]\tvalid_0's rmse: 13521.6\tvalid_1's rmse: 21841.2\n",
      "[300]\tvalid_0's rmse: 12296.3\tvalid_1's rmse: 21389.9\n",
      "[400]\tvalid_0's rmse: 11386.2\tvalid_1's rmse: 21187.3\n",
      "[500]\tvalid_0's rmse: 10515.2\tvalid_1's rmse: 20815.8\n",
      "[600]\tvalid_0's rmse: 9825.92\tvalid_1's rmse: 20619.7\n",
      "[700]\tvalid_0's rmse: 9215.02\tvalid_1's rmse: 20432.2\n",
      "[800]\tvalid_0's rmse: 8674.17\tvalid_1's rmse: 20307.4\n",
      "[900]\tvalid_0's rmse: 8190.76\tvalid_1's rmse: 20235\n"
     ]
    },
    {
     "name": "stderr",
     "output_type": "stream",
     "text": [
      "regularization_factors, val_score: 20206.062717:  50%|#####     | 10/20 [00:17<00:17,  1.76s/it]\u001b[32m[I 2021-02-21 10:52:24,235]\u001b[0m Trial 52 finished with value: 20206.06271829921 and parameters: {'lambda_l1': 1.2999352558357707e-08, 'lambda_l2': 2.0913656062942814e-07}. Best is trial 49 with value: 20206.062718124318.\u001b[0m\n",
      "regularization_factors, val_score: 20206.062717:  50%|#####     | 10/20 [00:17<00:17,  1.76s/it]"
     ]
    },
    {
     "name": "stdout",
     "output_type": "stream",
     "text": [
      "[1000]\tvalid_0's rmse: 7783.67\tvalid_1's rmse: 20206.1\n",
      "Did not meet early stopping. Best iteration is:\n",
      "[1000]\tvalid_0's rmse: 7783.67\tvalid_1's rmse: 20206.1\n",
      "[LightGBM] [Warning] Auto-choosing row-wise multi-threading, the overhead of testing was 0.000355 seconds.\n",
      "You can set `force_row_wise=true` to remove the overhead.\n",
      "And if memory is not enough, you can set `force_col_wise=true`.\n",
      "[LightGBM] [Info] Total Bins 1086\n",
      "[LightGBM] [Info] Number of data points in the train set: 25176, number of used features: 25\n",
      "[LightGBM] [Info] Start training from score 118516.069987\n",
      "Training until validation scores don't improve for 100 rounds\n",
      "[100]\tvalid_0's rmse: 15602.7\tvalid_1's rmse: 22924.9\n",
      "[200]\tvalid_0's rmse: 13521.6\tvalid_1's rmse: 21841.2\n",
      "[300]\tvalid_0's rmse: 12296.3\tvalid_1's rmse: 21389.9\n",
      "[400]\tvalid_0's rmse: 11386.2\tvalid_1's rmse: 21187.3\n",
      "[500]\tvalid_0's rmse: 10515.2\tvalid_1's rmse: 20815.8\n",
      "[600]\tvalid_0's rmse: 9825.92\tvalid_1's rmse: 20619.7\n",
      "[700]\tvalid_0's rmse: 9215.02\tvalid_1's rmse: 20432.2\n",
      "[800]\tvalid_0's rmse: 8674.17\tvalid_1's rmse: 20307.4\n",
      "[900]\tvalid_0's rmse: 8190.76\tvalid_1's rmse: 20235\n",
      "[1000]\tvalid_0's rmse: 7783.67\tvalid_1's rmse: 20206.1\n",
      "Did not meet early stopping. Best iteration is:\n",
      "[1000]\tvalid_0's rmse: 7783.67\tvalid_1's rmse: 20206.1\n"
     ]
    },
    {
     "name": "stderr",
     "output_type": "stream",
     "text": [
      "regularization_factors, val_score: 20206.062717:  55%|#####5    | 11/20 [00:19<00:15,  1.73s/it]\u001b[32m[I 2021-02-21 10:52:25,915]\u001b[0m Trial 53 finished with value: 20206.062721954837 and parameters: {'lambda_l1': 8.01135655030197e-07, 'lambda_l2': 6.038133418620244e-07}. Best is trial 49 with value: 20206.062718124318.\u001b[0m\n",
      "regularization_factors, val_score: 20206.062717:  55%|#####5    | 11/20 [00:19<00:15,  1.73s/it]"
     ]
    },
    {
     "name": "stdout",
     "output_type": "stream",
     "text": [
      "[LightGBM] [Warning] Auto-choosing row-wise multi-threading, the overhead of testing was 0.000362 seconds.\n",
      "You can set `force_row_wise=true` to remove the overhead.\n",
      "And if memory is not enough, you can set `force_col_wise=true`.\n",
      "[LightGBM] [Info] Total Bins 1086\n",
      "[LightGBM] [Info] Number of data points in the train set: 25176, number of used features: 25\n",
      "[LightGBM] [Info] Start training from score 118516.069987\n",
      "Training until validation scores don't improve for 100 rounds\n",
      "[100]\tvalid_0's rmse: 15602.7\tvalid_1's rmse: 22924.9\n",
      "[200]\tvalid_0's rmse: 13521.6\tvalid_1's rmse: 21841.2\n",
      "[300]\tvalid_0's rmse: 12296.3\tvalid_1's rmse: 21389.9\n",
      "[400]\tvalid_0's rmse: 11386.2\tvalid_1's rmse: 21187.3\n",
      "[500]\tvalid_0's rmse: 10515.2\tvalid_1's rmse: 20815.8\n",
      "[600]\tvalid_0's rmse: 9825.92\tvalid_1's rmse: 20619.7\n",
      "[700]\tvalid_0's rmse: 9215.02\tvalid_1's rmse: 20432.2\n",
      "[800]\tvalid_0's rmse: 8674.17\tvalid_1's rmse: 20307.4\n",
      "[900]\tvalid_0's rmse: 8190.76\tvalid_1's rmse: 20235\n"
     ]
    },
    {
     "name": "stderr",
     "output_type": "stream",
     "text": [
      "regularization_factors, val_score: 20206.062717:  60%|######    | 12/20 [00:20<00:13,  1.72s/it]\u001b[32m[I 2021-02-21 10:52:27,601]\u001b[0m Trial 54 finished with value: 20206.062717728324 and parameters: {'lambda_l1': 5.625588079584299e-07, 'lambda_l2': 1.0513619555815924e-08}. Best is trial 54 with value: 20206.062717728324.\u001b[0m\n",
      "regularization_factors, val_score: 20206.062717:  60%|######    | 12/20 [00:20<00:13,  1.72s/it]"
     ]
    },
    {
     "name": "stdout",
     "output_type": "stream",
     "text": [
      "[1000]\tvalid_0's rmse: 7783.67\tvalid_1's rmse: 20206.1\n",
      "Did not meet early stopping. Best iteration is:\n",
      "[1000]\tvalid_0's rmse: 7783.67\tvalid_1's rmse: 20206.1\n",
      "[LightGBM] [Warning] Auto-choosing row-wise multi-threading, the overhead of testing was 0.000362 seconds.\n",
      "You can set `force_row_wise=true` to remove the overhead.\n",
      "And if memory is not enough, you can set `force_col_wise=true`.\n",
      "[LightGBM] [Info] Total Bins 1086\n",
      "[LightGBM] [Info] Number of data points in the train set: 25176, number of used features: 25\n",
      "[LightGBM] [Info] Start training from score 118516.069987\n",
      "Training until validation scores don't improve for 100 rounds\n",
      "[100]\tvalid_0's rmse: 15692.4\tvalid_1's rmse: 22886\n",
      "[200]\tvalid_0's rmse: 13585\tvalid_1's rmse: 21925.4\n",
      "[300]\tvalid_0's rmse: 12331\tvalid_1's rmse: 21540.1\n",
      "[400]\tvalid_0's rmse: 11377.8\tvalid_1's rmse: 21227\n",
      "[500]\tvalid_0's rmse: 10536.6\tvalid_1's rmse: 20997.6\n",
      "[600]\tvalid_0's rmse: 9868.26\tvalid_1's rmse: 20811.4\n",
      "[700]\tvalid_0's rmse: 9266.88\tvalid_1's rmse: 20652.3\n",
      "[800]\tvalid_0's rmse: 8770.7\tvalid_1's rmse: 20589.8\n",
      "[900]\tvalid_0's rmse: 8277.55\tvalid_1's rmse: 20496\n",
      "[1000]\tvalid_0's rmse: 7857.09\tvalid_1's rmse: 20440.1\n",
      "Did not meet early stopping. Best iteration is:\n",
      "[1000]\tvalid_0's rmse: 7857.09\tvalid_1's rmse: 20440.1\n"
     ]
    },
    {
     "name": "stderr",
     "output_type": "stream",
     "text": [
      "regularization_factors, val_score: 20206.062717:  65%|######5   | 13/20 [00:22<00:12,  1.75s/it]\u001b[32m[I 2021-02-21 10:52:29,414]\u001b[0m Trial 55 finished with value: 20440.08848884943 and parameters: {'lambda_l1': 1.575699931506441e-06, 'lambda_l2': 0.016898141244506452}. Best is trial 54 with value: 20206.062717728324.\u001b[0m\n",
      "regularization_factors, val_score: 20206.062717:  65%|######5   | 13/20 [00:22<00:12,  1.75s/it]"
     ]
    },
    {
     "name": "stdout",
     "output_type": "stream",
     "text": [
      "[LightGBM] [Warning] Auto-choosing row-wise multi-threading, the overhead of testing was 0.000373 seconds.\n",
      "You can set `force_row_wise=true` to remove the overhead.\n",
      "And if memory is not enough, you can set `force_col_wise=true`.\n",
      "[LightGBM] [Info] Total Bins 1086\n",
      "[LightGBM] [Info] Number of data points in the train set: 25176, number of used features: 25\n",
      "[LightGBM] [Info] Start training from score 118516.069987\n",
      "Training until validation scores don't improve for 100 rounds\n",
      "[100]\tvalid_0's rmse: 15602.7\tvalid_1's rmse: 22924.9\n",
      "[200]\tvalid_0's rmse: 13521.6\tvalid_1's rmse: 21841.2\n",
      "[300]\tvalid_0's rmse: 12296.3\tvalid_1's rmse: 21389.9\n",
      "[400]\tvalid_0's rmse: 11386.2\tvalid_1's rmse: 21187.3\n",
      "[500]\tvalid_0's rmse: 10515.2\tvalid_1's rmse: 20815.8\n",
      "[600]\tvalid_0's rmse: 9825.92\tvalid_1's rmse: 20619.7\n",
      "[700]\tvalid_0's rmse: 9215.02\tvalid_1's rmse: 20432.2\n",
      "[800]\tvalid_0's rmse: 8674.17\tvalid_1's rmse: 20307.4\n",
      "[900]\tvalid_0's rmse: 8190.76\tvalid_1's rmse: 20235\n",
      "[1000]\tvalid_0's rmse: 7783.67\tvalid_1's rmse: 20206.1\n",
      "Did not meet early stopping. Best iteration is:\n",
      "[1000]\tvalid_0's rmse: 7783.67\tvalid_1's rmse: 20206.1\n"
     ]
    },
    {
     "name": "stderr",
     "output_type": "stream",
     "text": [
      "regularization_factors, val_score: 20206.062717:  70%|#######   | 14/20 [00:24<00:10,  1.77s/it]\u001b[32m[I 2021-02-21 10:52:31,236]\u001b[0m Trial 56 finished with value: 20206.062718552606 and parameters: {'lambda_l1': 2.623044185882031e-07, 'lambda_l2': 1.8412835685827143e-08}. Best is trial 54 with value: 20206.062717728324.\u001b[0m\n",
      "regularization_factors, val_score: 20206.062717:  70%|#######   | 14/20 [00:24<00:10,  1.77s/it]"
     ]
    },
    {
     "name": "stdout",
     "output_type": "stream",
     "text": [
      "[LightGBM] [Warning] Auto-choosing row-wise multi-threading, the overhead of testing was 0.000340 seconds.\n",
      "You can set `force_row_wise=true` to remove the overhead.\n",
      "And if memory is not enough, you can set `force_col_wise=true`.\n",
      "[LightGBM] [Info] Total Bins 1086\n",
      "[LightGBM] [Info] Number of data points in the train set: 25176, number of used features: 25\n",
      "[LightGBM] [Info] Start training from score 118516.069987\n",
      "Training until validation scores don't improve for 100 rounds\n",
      "[100]\tvalid_0's rmse: 15602.7\tvalid_1's rmse: 22924.9\n",
      "[200]\tvalid_0's rmse: 13521.6\tvalid_1's rmse: 21841.2\n",
      "[300]\tvalid_0's rmse: 12296.3\tvalid_1's rmse: 21389.9\n",
      "[400]\tvalid_0's rmse: 11386.2\tvalid_1's rmse: 21187.3\n",
      "[500]\tvalid_0's rmse: 10515.2\tvalid_1's rmse: 20815.8\n",
      "[600]\tvalid_0's rmse: 9825.92\tvalid_1's rmse: 20619.7\n",
      "[700]\tvalid_0's rmse: 9215.03\tvalid_1's rmse: 20432.2\n",
      "[800]\tvalid_0's rmse: 8674.17\tvalid_1's rmse: 20307.4\n",
      "[900]\tvalid_0's rmse: 8190.77\tvalid_1's rmse: 20235\n",
      "[1000]\tvalid_0's rmse: 7783.67\tvalid_1's rmse: 20206.1\n",
      "Did not meet early stopping. Best iteration is:\n",
      "[1000]\tvalid_0's rmse: 7783.67\tvalid_1's rmse: 20206.1\n"
     ]
    },
    {
     "name": "stderr",
     "output_type": "stream",
     "text": [
      "regularization_factors, val_score: 20206.062717:  75%|#######5  | 15/20 [00:26<00:08,  1.76s/it]\u001b[32m[I 2021-02-21 10:52:32,985]\u001b[0m Trial 57 finished with value: 20206.0629549195 and parameters: {'lambda_l1': 5.2536489306641245e-05, 'lambda_l2': 9.918113520345915e-06}. Best is trial 54 with value: 20206.062717728324.\u001b[0m\n",
      "regularization_factors, val_score: 20206.062717:  75%|#######5  | 15/20 [00:26<00:08,  1.76s/it]"
     ]
    },
    {
     "name": "stdout",
     "output_type": "stream",
     "text": [
      "[LightGBM] [Warning] Auto-choosing row-wise multi-threading, the overhead of testing was 0.000364 seconds.\n",
      "You can set `force_row_wise=true` to remove the overhead.\n",
      "And if memory is not enough, you can set `force_col_wise=true`.\n",
      "[LightGBM] [Info] Total Bins 1086\n",
      "[LightGBM] [Info] Number of data points in the train set: 25176, number of used features: 25\n",
      "[LightGBM] [Info] Start training from score 118516.069987\n",
      "Training until validation scores don't improve for 100 rounds\n",
      "[100]\tvalid_0's rmse: 15602.7\tvalid_1's rmse: 22924.9\n",
      "[200]\tvalid_0's rmse: 13521.6\tvalid_1's rmse: 21841.2\n",
      "[300]\tvalid_0's rmse: 12296.3\tvalid_1's rmse: 21389.9\n",
      "[400]\tvalid_0's rmse: 11386.2\tvalid_1's rmse: 21187.3\n",
      "[500]\tvalid_0's rmse: 10515.2\tvalid_1's rmse: 20815.8\n",
      "[600]\tvalid_0's rmse: 9825.92\tvalid_1's rmse: 20619.7\n",
      "[700]\tvalid_0's rmse: 9215.02\tvalid_1's rmse: 20432.2\n",
      "[800]\tvalid_0's rmse: 8674.17\tvalid_1's rmse: 20307.4\n",
      "[900]\tvalid_0's rmse: 8190.76\tvalid_1's rmse: 20235\n"
     ]
    },
    {
     "name": "stderr",
     "output_type": "stream",
     "text": [
      "regularization_factors, val_score: 20206.062717:  80%|########  | 16/20 [00:27<00:06,  1.73s/it]\u001b[32m[I 2021-02-21 10:52:34,642]\u001b[0m Trial 58 finished with value: 20206.062741076836 and parameters: {'lambda_l1': 0.005592486647357424, 'lambda_l2': 1.232841654283744e-08}. Best is trial 54 with value: 20206.062717728324.\u001b[0m\n",
      "regularization_factors, val_score: 20206.062717:  80%|########  | 16/20 [00:27<00:06,  1.73s/it]"
     ]
    },
    {
     "name": "stdout",
     "output_type": "stream",
     "text": [
      "[1000]\tvalid_0's rmse: 7783.67\tvalid_1's rmse: 20206.1\n",
      "Did not meet early stopping. Best iteration is:\n",
      "[1000]\tvalid_0's rmse: 7783.67\tvalid_1's rmse: 20206.1\n",
      "[LightGBM] [Warning] Auto-choosing col-wise multi-threading, the overhead of testing was 0.003177 seconds.\n",
      "You can set `force_col_wise=true` to remove the overhead.\n",
      "[LightGBM] [Info] Total Bins 1086\n",
      "[LightGBM] [Info] Number of data points in the train set: 25176, number of used features: 25\n",
      "[LightGBM] [Info] Start training from score 118516.069987\n",
      "Training until validation scores don't improve for 100 rounds\n",
      "[100]\tvalid_0's rmse: 15602.7\tvalid_1's rmse: 22924.9\n",
      "[200]\tvalid_0's rmse: 13521.6\tvalid_1's rmse: 21841.2\n",
      "[300]\tvalid_0's rmse: 12296.3\tvalid_1's rmse: 21389.9\n",
      "[400]\tvalid_0's rmse: 11386.2\tvalid_1's rmse: 21187.3\n",
      "[500]\tvalid_0's rmse: 10515.2\tvalid_1's rmse: 20815.8\n",
      "[600]\tvalid_0's rmse: 9825.92\tvalid_1's rmse: 20619.7\n",
      "[700]\tvalid_0's rmse: 9215.02\tvalid_1's rmse: 20432.2\n",
      "[800]\tvalid_0's rmse: 8674.17\tvalid_1's rmse: 20307.4\n",
      "[900]\tvalid_0's rmse: 8190.76\tvalid_1's rmse: 20235\n",
      "[1000]\tvalid_0's rmse: 7783.67\tvalid_1's rmse: 20206.1\n",
      "Did not meet early stopping. Best iteration is:\n",
      "[1000]\tvalid_0's rmse: 7783.67\tvalid_1's rmse: 20206.1\n"
     ]
    },
    {
     "name": "stderr",
     "output_type": "stream",
     "text": [
      "regularization_factors, val_score: 20206.062717:  85%|########5 | 17/20 [00:29<00:05,  1.73s/it]\u001b[32m[I 2021-02-21 10:52:36,374]\u001b[0m Trial 59 finished with value: 20206.06272721003 and parameters: {'lambda_l1': 9.124209568112592e-08, 'lambda_l2': 7.311225281317014e-07}. Best is trial 54 with value: 20206.062717728324.\u001b[0m\n",
      "regularization_factors, val_score: 20206.062717:  85%|########5 | 17/20 [00:29<00:05,  1.73s/it]"
     ]
    },
    {
     "name": "stdout",
     "output_type": "stream",
     "text": [
      "[LightGBM] [Warning] Auto-choosing row-wise multi-threading, the overhead of testing was 0.000357 seconds.\n",
      "You can set `force_row_wise=true` to remove the overhead.\n",
      "And if memory is not enough, you can set `force_col_wise=true`.\n",
      "[LightGBM] [Info] Total Bins 1086\n",
      "[LightGBM] [Info] Number of data points in the train set: 25176, number of used features: 25\n",
      "[LightGBM] [Info] Start training from score 118516.069987\n",
      "Training until validation scores don't improve for 100 rounds\n",
      "[100]\tvalid_0's rmse: 15602.8\tvalid_1's rmse: 22925\n",
      "[200]\tvalid_0's rmse: 13542.5\tvalid_1's rmse: 21838.7\n",
      "[300]\tvalid_0's rmse: 12285.2\tvalid_1's rmse: 21375.6\n",
      "[400]\tvalid_0's rmse: 11324.1\tvalid_1's rmse: 21070.5\n",
      "[500]\tvalid_0's rmse: 10444\tvalid_1's rmse: 20853.6\n",
      "[600]\tvalid_0's rmse: 9787.48\tvalid_1's rmse: 20577.9\n",
      "[700]\tvalid_0's rmse: 9220.54\tvalid_1's rmse: 20407.3\n",
      "[800]\tvalid_0's rmse: 8692.05\tvalid_1's rmse: 20331.6\n",
      "[900]\tvalid_0's rmse: 8261.19\tvalid_1's rmse: 20266.6\n"
     ]
    },
    {
     "name": "stderr",
     "output_type": "stream",
     "text": [
      "regularization_factors, val_score: 20192.819434:  90%|######### | 18/20 [00:31<00:03,  1.74s/it]\u001b[32m[I 2021-02-21 10:52:38,126]\u001b[0m Trial 60 finished with value: 20192.81943353947 and parameters: {'lambda_l1': 1.073361686946787e-07, 'lambda_l2': 0.0014689386683595577}. Best is trial 60 with value: 20192.81943353947.\u001b[0m\n",
      "regularization_factors, val_score: 20192.819434:  90%|######### | 18/20 [00:31<00:03,  1.74s/it]"
     ]
    },
    {
     "name": "stdout",
     "output_type": "stream",
     "text": [
      "[1000]\tvalid_0's rmse: 7856.9\tvalid_1's rmse: 20192.8\n",
      "Did not meet early stopping. Best iteration is:\n",
      "[1000]\tvalid_0's rmse: 7856.9\tvalid_1's rmse: 20192.8\n",
      "[LightGBM] [Warning] Auto-choosing row-wise multi-threading, the overhead of testing was 0.000350 seconds.\n",
      "You can set `force_row_wise=true` to remove the overhead.\n",
      "And if memory is not enough, you can set `force_col_wise=true`.\n",
      "[LightGBM] [Info] Total Bins 1086\n",
      "[LightGBM] [Info] Number of data points in the train set: 25176, number of used features: 25\n",
      "[LightGBM] [Info] Start training from score 118516.069987\n",
      "Training until validation scores don't improve for 100 rounds\n",
      "[100]\tvalid_0's rmse: 15602.9\tvalid_1's rmse: 22925\n",
      "[200]\tvalid_0's rmse: 13487.2\tvalid_1's rmse: 21743.2\n",
      "[300]\tvalid_0's rmse: 12240.9\tvalid_1's rmse: 21361.3\n",
      "[400]\tvalid_0's rmse: 11285.3\tvalid_1's rmse: 21094.3\n",
      "[500]\tvalid_0's rmse: 10428.8\tvalid_1's rmse: 20794.3\n",
      "[600]\tvalid_0's rmse: 9736.07\tvalid_1's rmse: 20593.9\n",
      "[700]\tvalid_0's rmse: 9146.13\tvalid_1's rmse: 20405.3\n",
      "[800]\tvalid_0's rmse: 8675.05\tvalid_1's rmse: 20253.1\n",
      "[900]\tvalid_0's rmse: 8243.73\tvalid_1's rmse: 20207.1\n",
      "[1000]\tvalid_0's rmse: 7808.33\tvalid_1's rmse: 20178.3\n",
      "Did not meet early stopping. Best iteration is:\n",
      "[1000]\tvalid_0's rmse: 7808.33\tvalid_1's rmse: 20178.3\n"
     ]
    },
    {
     "name": "stderr",
     "output_type": "stream",
     "text": [
      "regularization_factors, val_score: 20178.336692:  95%|#########5| 19/20 [00:33<00:01,  1.73s/it]\u001b[32m[I 2021-02-21 10:52:39,841]\u001b[0m Trial 61 finished with value: 20178.336692026176 and parameters: {'lambda_l1': 6.110603489150331e-08, 'lambda_l2': 0.0022130286505776505}. Best is trial 61 with value: 20178.336692026176.\u001b[0m\n",
      "regularization_factors, val_score: 20178.336692:  95%|#########5| 19/20 [00:33<00:01,  1.73s/it]"
     ]
    },
    {
     "name": "stdout",
     "output_type": "stream",
     "text": [
      "[LightGBM] [Warning] Auto-choosing row-wise multi-threading, the overhead of testing was 0.000372 seconds.\n",
      "You can set `force_row_wise=true` to remove the overhead.\n",
      "And if memory is not enough, you can set `force_col_wise=true`.\n",
      "[LightGBM] [Info] Total Bins 1086\n",
      "[LightGBM] [Info] Number of data points in the train set: 25176, number of used features: 25\n",
      "[LightGBM] [Info] Start training from score 118516.069987\n",
      "Training until validation scores don't improve for 100 rounds\n",
      "[100]\tvalid_0's rmse: 15602.9\tvalid_1's rmse: 22925\n",
      "[200]\tvalid_0's rmse: 13487.2\tvalid_1's rmse: 21743.1\n",
      "[300]\tvalid_0's rmse: 12240.8\tvalid_1's rmse: 21361.3\n",
      "[400]\tvalid_0's rmse: 11285.3\tvalid_1's rmse: 21094.3\n",
      "[500]\tvalid_0's rmse: 10428.8\tvalid_1's rmse: 20794.3\n",
      "[600]\tvalid_0's rmse: 9736.05\tvalid_1's rmse: 20593.9\n",
      "[700]\tvalid_0's rmse: 9146.11\tvalid_1's rmse: 20405.3\n",
      "[800]\tvalid_0's rmse: 8664.07\tvalid_1's rmse: 20258.1\n",
      "[900]\tvalid_0's rmse: 8217.41\tvalid_1's rmse: 20127.5\n"
     ]
    },
    {
     "name": "stderr",
     "output_type": "stream",
     "text": [
      "regularization_factors, val_score: 20074.955077: 100%|##########| 20/20 [00:34<00:00,  1.75s/it]\u001b[32m[I 2021-02-21 10:52:41,621]\u001b[0m Trial 62 finished with value: 20074.955077489067 and parameters: {'lambda_l1': 1.6487939274669313e-07, 'lambda_l2': 0.0020180010361226016}. Best is trial 62 with value: 20074.955077489067.\u001b[0m\n",
      "regularization_factors, val_score: 20074.955077: 100%|##########| 20/20 [00:34<00:00,  1.74s/it]\n",
      "min_data_in_leaf, val_score: 20074.955077:   0%|          | 0/5 [00:00<?, ?it/s]"
     ]
    },
    {
     "name": "stdout",
     "output_type": "stream",
     "text": [
      "[1000]\tvalid_0's rmse: 7771.66\tvalid_1's rmse: 20075\n",
      "Did not meet early stopping. Best iteration is:\n",
      "[1000]\tvalid_0's rmse: 7771.66\tvalid_1's rmse: 20075\n",
      "[LightGBM] [Warning] Auto-choosing row-wise multi-threading, the overhead of testing was 0.000348 seconds.\n",
      "You can set `force_row_wise=true` to remove the overhead.\n",
      "And if memory is not enough, you can set `force_col_wise=true`.\n",
      "[LightGBM] [Info] Total Bins 1086\n",
      "[LightGBM] [Info] Number of data points in the train set: 25176, number of used features: 25\n",
      "[LightGBM] [Info] Start training from score 118516.069987\n",
      "Training until validation scores don't improve for 100 rounds\n",
      "[100]\tvalid_0's rmse: 18412.4\tvalid_1's rmse: 26023.3\n",
      "[200]\tvalid_0's rmse: 16155\tvalid_1's rmse: 24714.2\n",
      "[300]\tvalid_0's rmse: 14712.6\tvalid_1's rmse: 23871.8\n",
      "[400]\tvalid_0's rmse: 13627.2\tvalid_1's rmse: 23434.6\n",
      "[500]\tvalid_0's rmse: 12726.7\tvalid_1's rmse: 23060.2\n",
      "[600]\tvalid_0's rmse: 12007\tvalid_1's rmse: 22739.2\n",
      "[700]\tvalid_0's rmse: 11339.7\tvalid_1's rmse: 22480.2\n",
      "[800]\tvalid_0's rmse: 10727.5\tvalid_1's rmse: 22295\n",
      "[900]\tvalid_0's rmse: 10197.1\tvalid_1's rmse: 22196.4\n",
      "[1000]\tvalid_0's rmse: 9718.91\tvalid_1's rmse: 22135.4\n",
      "Did not meet early stopping. Best iteration is:\n",
      "[1000]\tvalid_0's rmse: 9718.91\tvalid_1's rmse: 22135.4\n"
     ]
    },
    {
     "name": "stderr",
     "output_type": "stream",
     "text": [
      "min_data_in_leaf, val_score: 20074.955077:  20%|##        | 1/5 [00:01<00:07,  1.83s/it]\u001b[32m[I 2021-02-21 10:52:43,461]\u001b[0m Trial 63 finished with value: 22135.386676327907 and parameters: {'min_child_samples': 50}. Best is trial 63 with value: 22135.386676327907.\u001b[0m\n",
      "min_data_in_leaf, val_score: 20074.955077:  20%|##        | 1/5 [00:01<00:07,  1.83s/it]"
     ]
    },
    {
     "name": "stdout",
     "output_type": "stream",
     "text": [
      "[LightGBM] [Warning] Auto-choosing row-wise multi-threading, the overhead of testing was 0.000537 seconds.\n",
      "You can set `force_row_wise=true` to remove the overhead.\n",
      "And if memory is not enough, you can set `force_col_wise=true`.\n",
      "[LightGBM] [Info] Total Bins 1086\n",
      "[LightGBM] [Info] Number of data points in the train set: 25176, number of used features: 25\n",
      "[LightGBM] [Info] Start training from score 118516.069987\n",
      "Training until validation scores don't improve for 100 rounds\n",
      "[100]\tvalid_0's rmse: 16352.7\tvalid_1's rmse: 24438.8\n",
      "[200]\tvalid_0's rmse: 14489.2\tvalid_1's rmse: 23744.5\n",
      "[300]\tvalid_0's rmse: 13279.6\tvalid_1's rmse: 23338.9\n",
      "[400]\tvalid_0's rmse: 12090.7\tvalid_1's rmse: 22748.1\n",
      "[500]\tvalid_0's rmse: 11159.4\tvalid_1's rmse: 22415.2\n",
      "[600]\tvalid_0's rmse: 10423.2\tvalid_1's rmse: 22105.1\n",
      "[700]\tvalid_0's rmse: 9777.06\tvalid_1's rmse: 21850.3\n",
      "[800]\tvalid_0's rmse: 9224.06\tvalid_1's rmse: 21745.8\n",
      "[900]\tvalid_0's rmse: 8764.94\tvalid_1's rmse: 21653.7\n",
      "[1000]\tvalid_0's rmse: 8355\tvalid_1's rmse: 21585.6\n",
      "Did not meet early stopping. Best iteration is:\n",
      "[1000]\tvalid_0's rmse: 8355\tvalid_1's rmse: 21585.6\n"
     ]
    },
    {
     "name": "stderr",
     "output_type": "stream",
     "text": [
      "min_data_in_leaf, val_score: 20074.955077:  40%|####      | 2/5 [00:03<00:05,  1.77s/it]\u001b[32m[I 2021-02-21 10:52:45,194]\u001b[0m Trial 64 finished with value: 21585.597623304264 and parameters: {'min_child_samples': 25}. Best is trial 64 with value: 21585.597623304264.\u001b[0m\n",
      "min_data_in_leaf, val_score: 20074.955077:  40%|####      | 2/5 [00:03<00:05,  1.77s/it]"
     ]
    },
    {
     "name": "stdout",
     "output_type": "stream",
     "text": [
      "[LightGBM] [Warning] Auto-choosing row-wise multi-threading, the overhead of testing was 0.000353 seconds.\n",
      "You can set `force_row_wise=true` to remove the overhead.\n",
      "And if memory is not enough, you can set `force_col_wise=true`.\n",
      "[LightGBM] [Info] Total Bins 1086\n",
      "[LightGBM] [Info] Number of data points in the train set: 25176, number of used features: 25\n",
      "[LightGBM] [Info] Start training from score 118516.069987\n",
      "Training until validation scores don't improve for 100 rounds\n",
      "[100]\tvalid_0's rmse: 21232.7\tvalid_1's rmse: 29068.6\n",
      "[200]\tvalid_0's rmse: 19138\tvalid_1's rmse: 27931.6\n",
      "[300]\tvalid_0's rmse: 17778.9\tvalid_1's rmse: 27154.3\n",
      "[400]\tvalid_0's rmse: 16716.3\tvalid_1's rmse: 26595.2\n",
      "[500]\tvalid_0's rmse: 15818.7\tvalid_1's rmse: 26148.8\n",
      "[600]\tvalid_0's rmse: 15046.9\tvalid_1's rmse: 25659.7\n",
      "[700]\tvalid_0's rmse: 14327.5\tvalid_1's rmse: 25307.3\n",
      "[800]\tvalid_0's rmse: 13755.2\tvalid_1's rmse: 25024.7\n",
      "[900]\tvalid_0's rmse: 13267.8\tvalid_1's rmse: 24839.5\n",
      "[1000]\tvalid_0's rmse: 12783.2\tvalid_1's rmse: 24669.5\n",
      "Did not meet early stopping. Best iteration is:\n",
      "[1000]\tvalid_0's rmse: 12783.2\tvalid_1's rmse: 24669.5\n"
     ]
    },
    {
     "name": "stderr",
     "output_type": "stream",
     "text": [
      "min_data_in_leaf, val_score: 20074.955077:  60%|######    | 3/5 [00:05<00:03,  1.92s/it]\u001b[32m[I 2021-02-21 10:52:47,279]\u001b[0m Trial 65 finished with value: 24669.47678680791 and parameters: {'min_child_samples': 100}. Best is trial 64 with value: 21585.597623304264.\u001b[0m\n",
      "min_data_in_leaf, val_score: 20074.955077:  60%|######    | 3/5 [00:05<00:03,  1.92s/it]"
     ]
    },
    {
     "name": "stdout",
     "output_type": "stream",
     "text": [
      "[LightGBM] [Warning] Auto-choosing row-wise multi-threading, the overhead of testing was 0.000411 seconds.\n",
      "You can set `force_row_wise=true` to remove the overhead.\n",
      "And if memory is not enough, you can set `force_col_wise=true`.\n",
      "[LightGBM] [Info] Total Bins 1086\n",
      "[LightGBM] [Info] Number of data points in the train set: 25176, number of used features: 25\n",
      "[LightGBM] [Info] Start training from score 118516.069987\n",
      "Training until validation scores don't improve for 100 rounds\n",
      "[100]\tvalid_0's rmse: 14080.9\tvalid_1's rmse: 22282.9\n",
      "[200]\tvalid_0's rmse: 11919.2\tvalid_1's rmse: 21774.1\n",
      "[300]\tvalid_0's rmse: 10670.8\tvalid_1's rmse: 21518.7\n",
      "[400]\tvalid_0's rmse: 9743.41\tvalid_1's rmse: 21348.8\n",
      "[500]\tvalid_0's rmse: 8982.27\tvalid_1's rmse: 21145.9\n",
      "[600]\tvalid_0's rmse: 8379.08\tvalid_1's rmse: 21056.8\n",
      "[700]\tvalid_0's rmse: 7854.87\tvalid_1's rmse: 20985.2\n",
      "[800]\tvalid_0's rmse: 7419.98\tvalid_1's rmse: 20898.8\n",
      "[900]\tvalid_0's rmse: 7017.78\tvalid_1's rmse: 20784.1\n"
     ]
    },
    {
     "name": "stderr",
     "output_type": "stream",
     "text": [
      "min_data_in_leaf, val_score: 20074.955077:  80%|########  | 4/5 [00:07<00:01,  1.77s/it]\u001b[32m[I 2021-02-21 10:52:48,826]\u001b[0m Trial 66 finished with value: 20746.173176615554 and parameters: {'min_child_samples': 10}. Best is trial 66 with value: 20746.173176615554.\u001b[0m\n",
      "min_data_in_leaf, val_score: 20074.955077:  80%|########  | 4/5 [00:07<00:01,  1.77s/it]"
     ]
    },
    {
     "name": "stdout",
     "output_type": "stream",
     "text": [
      "[1000]\tvalid_0's rmse: 6684.22\tvalid_1's rmse: 20746.2\n",
      "Did not meet early stopping. Best iteration is:\n",
      "[1000]\tvalid_0's rmse: 6684.22\tvalid_1's rmse: 20746.2\n",
      "[LightGBM] [Warning] Auto-choosing row-wise multi-threading, the overhead of testing was 0.000349 seconds.\n",
      "You can set `force_row_wise=true` to remove the overhead.\n",
      "And if memory is not enough, you can set `force_col_wise=true`.\n",
      "[LightGBM] [Info] Total Bins 1086\n",
      "[LightGBM] [Info] Number of data points in the train set: 25176, number of used features: 25\n",
      "[LightGBM] [Info] Start training from score 118516.069987\n",
      "Training until validation scores don't improve for 100 rounds\n",
      "[100]\tvalid_0's rmse: 13333.4\tvalid_1's rmse: 21862\n",
      "[200]\tvalid_0's rmse: 11321.4\tvalid_1's rmse: 21181.1\n",
      "[300]\tvalid_0's rmse: 10113.3\tvalid_1's rmse: 20851.3\n",
      "[400]\tvalid_0's rmse: 9230.13\tvalid_1's rmse: 20724.4\n",
      "[500]\tvalid_0's rmse: 8501.35\tvalid_1's rmse: 20618.8\n",
      "[600]\tvalid_0's rmse: 7899.91\tvalid_1's rmse: 20513.5\n",
      "[700]\tvalid_0's rmse: 7398.86\tvalid_1's rmse: 20432.9\n",
      "[800]\tvalid_0's rmse: 6923.15\tvalid_1's rmse: 20368.8\n"
     ]
    },
    {
     "name": "stderr",
     "output_type": "stream",
     "text": [
      "min_data_in_leaf, val_score: 20074.955077: 100%|##########| 5/5 [00:08<00:00,  1.66s/it]\u001b[32m[I 2021-02-21 10:52:50,290]\u001b[0m Trial 67 finished with value: 20284.872417459763 and parameters: {'min_child_samples': 5}. Best is trial 67 with value: 20284.872417459763.\u001b[0m\n",
      "min_data_in_leaf, val_score: 20074.955077: 100%|##########| 5/5 [00:08<00:00,  1.73s/it]"
     ]
    },
    {
     "name": "stdout",
     "output_type": "stream",
     "text": [
      "[900]\tvalid_0's rmse: 6507.37\tvalid_1's rmse: 20323.8\n",
      "[1000]\tvalid_0's rmse: 6165.53\tvalid_1's rmse: 20284.9\n",
      "Did not meet early stopping. Best iteration is:\n",
      "[1000]\tvalid_0's rmse: 6165.53\tvalid_1's rmse: 20284.9\n"
     ]
    },
    {
     "name": "stderr",
     "output_type": "stream",
     "text": [
      "\n",
      "\u001b[32m[I 2021-02-21 10:52:50,300]\u001b[0m A new study created in memory with name: no-name-61f20e6d-4933-4800-9ae5-902b8f5a7a1b\u001b[0m\n",
      "feature_fraction, val_score: inf:   0%|          | 0/7 [00:00<?, ?it/s]"
     ]
    },
    {
     "name": "stdout",
     "output_type": "stream",
     "text": [
      "[LightGBM] [Warning] Auto-choosing row-wise multi-threading, the overhead of testing was 0.000281 seconds.\n",
      "You can set `force_row_wise=true` to remove the overhead.\n",
      "And if memory is not enough, you can set `force_col_wise=true`.\n",
      "[LightGBM] [Info] Total Bins 1091\n",
      "[LightGBM] [Info] Number of data points in the train set: 25176, number of used features: 25\n",
      "[LightGBM] [Info] Start training from score 118435.786702\n",
      "Training until validation scores don't improve for 100 rounds\n",
      "[100]\tvalid_0's rmse: 16923.1\tvalid_1's rmse: 22954.7\n"
     ]
    },
    {
     "name": "stderr",
     "output_type": "stream",
     "text": [
      "feature_fraction, val_score: 22606.055750:  14%|#4        | 1/7 [00:00<00:03,  1.85it/s]\u001b[32m[I 2021-02-21 10:52:50,845]\u001b[0m Trial 0 finished with value: 22606.05575006204 and parameters: {'feature_fraction': 0.6}. Best is trial 0 with value: 22606.05575006204.\u001b[0m\n",
      "feature_fraction, val_score: 22606.055750:  14%|#4        | 1/7 [00:00<00:03,  1.85it/s]"
     ]
    },
    {
     "name": "stdout",
     "output_type": "stream",
     "text": [
      "[200]\tvalid_0's rmse: 14569.4\tvalid_1's rmse: 22671.4\n",
      "Early stopping, best iteration is:\n",
      "[181]\tvalid_0's rmse: 14996.5\tvalid_1's rmse: 22606.1\n",
      "[LightGBM] [Warning] Auto-choosing col-wise multi-threading, the overhead of testing was 0.002102 seconds.\n",
      "You can set `force_col_wise=true` to remove the overhead.\n",
      "[LightGBM] [Info] Total Bins 1091\n",
      "[LightGBM] [Info] Number of data points in the train set: 25176, number of used features: 25\n",
      "[LightGBM] [Info] Start training from score 118435.786702\n",
      "Training until validation scores don't improve for 100 rounds\n",
      "[100]\tvalid_0's rmse: 16872\tvalid_1's rmse: 23142.5\n"
     ]
    },
    {
     "name": "stderr",
     "output_type": "stream",
     "text": [
      "feature_fraction, val_score: 22270.309613:  29%|##8       | 2/7 [00:01<00:02,  1.77it/s]\u001b[32m[I 2021-02-21 10:52:51,426]\u001b[0m Trial 1 finished with value: 22270.309613207635 and parameters: {'feature_fraction': 0.5}. Best is trial 1 with value: 22270.309613207635.\u001b[0m\n",
      "feature_fraction, val_score: 22270.309613:  29%|##8       | 2/7 [00:01<00:02,  1.77it/s]"
     ]
    },
    {
     "name": "stdout",
     "output_type": "stream",
     "text": [
      "[200]\tvalid_0's rmse: 14330.4\tvalid_1's rmse: 22347.6\n",
      "[300]\tvalid_0's rmse: 12907.4\tvalid_1's rmse: 22342\n",
      "Early stopping, best iteration is:\n",
      "[208]\tvalid_0's rmse: 14213.1\tvalid_1's rmse: 22270.3\n",
      "[LightGBM] [Warning] Auto-choosing row-wise multi-threading, the overhead of testing was 0.000354 seconds.\n",
      "You can set `force_row_wise=true` to remove the overhead.\n",
      "And if memory is not enough, you can set `force_col_wise=true`.\n",
      "[LightGBM] [Info] Total Bins 1091\n",
      "[LightGBM] [Info] Number of data points in the train set: 25176, number of used features: 25\n",
      "[LightGBM] [Info] Start training from score 118435.786702\n",
      "Training until validation scores don't improve for 100 rounds\n",
      "[100]\tvalid_0's rmse: 16877.2\tvalid_1's rmse: 22255.6\n"
     ]
    },
    {
     "name": "stderr",
     "output_type": "stream",
     "text": [
      "feature_fraction, val_score: 22138.160494:  43%|####2     | 3/7 [00:01<00:02,  1.92it/s]\u001b[32m[I 2021-02-21 10:52:51,897]\u001b[0m Trial 2 finished with value: 22138.160494349548 and parameters: {'feature_fraction': 0.7}. Best is trial 2 with value: 22138.160494349548.\u001b[0m\n",
      "feature_fraction, val_score: 22138.160494:  43%|####2     | 3/7 [00:01<00:02,  1.92it/s]"
     ]
    },
    {
     "name": "stdout",
     "output_type": "stream",
     "text": [
      "[200]\tvalid_0's rmse: 14474.2\tvalid_1's rmse: 22275.3\n",
      "Early stopping, best iteration is:\n",
      "[122]\tvalid_0's rmse: 16282\tvalid_1's rmse: 22138.2\n",
      "[LightGBM] [Warning] Auto-choosing row-wise multi-threading, the overhead of testing was 0.000387 seconds.\n",
      "You can set `force_row_wise=true` to remove the overhead.\n",
      "And if memory is not enough, you can set `force_col_wise=true`.\n",
      "[LightGBM] [Info] Total Bins 1091\n",
      "[LightGBM] [Info] Number of data points in the train set: 25176, number of used features: 25\n",
      "[LightGBM] [Info] Start training from score 118435.786702\n",
      "Training until validation scores don't improve for 100 rounds\n",
      "[100]\tvalid_0's rmse: 16762.8\tvalid_1's rmse: 22601.7\n",
      "[200]\tvalid_0's rmse: 14540.7\tvalid_1's rmse: 22503\n"
     ]
    },
    {
     "name": "stderr",
     "output_type": "stream",
     "text": [
      "feature_fraction, val_score: 22138.160494:  57%|#####7    | 4/7 [00:02<00:01,  1.86it/s]\u001b[32m[I 2021-02-21 10:52:52,459]\u001b[0m Trial 3 finished with value: 22383.623176334222 and parameters: {'feature_fraction': 0.8999999999999999}. Best is trial 2 with value: 22138.160494349548.\u001b[0m\n",
      "feature_fraction, val_score: 22138.160494:  57%|#####7    | 4/7 [00:02<00:01,  1.86it/s]"
     ]
    },
    {
     "name": "stdout",
     "output_type": "stream",
     "text": [
      "Early stopping, best iteration is:\n",
      "[163]\tvalid_0's rmse: 15331.1\tvalid_1's rmse: 22383.6\n",
      "[LightGBM] [Warning] Auto-choosing row-wise multi-threading, the overhead of testing was 0.000414 seconds.\n",
      "You can set `force_row_wise=true` to remove the overhead.\n",
      "And if memory is not enough, you can set `force_col_wise=true`.\n",
      "[LightGBM] [Info] Total Bins 1091\n",
      "[LightGBM] [Info] Number of data points in the train set: 25176, number of used features: 25\n",
      "[LightGBM] [Info] Start training from score 118435.786702\n",
      "Training until validation scores don't improve for 100 rounds\n",
      "[100]\tvalid_0's rmse: 16960.3\tvalid_1's rmse: 22289.1\n",
      "[200]\tvalid_0's rmse: 15075\tvalid_1's rmse: 21898.4\n"
     ]
    },
    {
     "name": "stderr",
     "output_type": "stream",
     "text": [
      "feature_fraction, val_score: 21867.525558:  71%|#######1  | 5/7 [00:02<00:01,  1.64it/s]\u001b[32m[I 2021-02-21 10:52:53,193]\u001b[0m Trial 4 finished with value: 21867.525558326528 and parameters: {'feature_fraction': 1.0}. Best is trial 4 with value: 21867.525558326528.\u001b[0m\n",
      "feature_fraction, val_score: 21867.525558:  71%|#######1  | 5/7 [00:02<00:01,  1.64it/s]"
     ]
    },
    {
     "name": "stdout",
     "output_type": "stream",
     "text": [
      "[300]\tvalid_0's rmse: 13859.3\tvalid_1's rmse: 22013.8\n",
      "Early stopping, best iteration is:\n",
      "[260]\tvalid_0's rmse: 14338.8\tvalid_1's rmse: 21867.5\n",
      "[LightGBM] [Warning] Auto-choosing row-wise multi-threading, the overhead of testing was 0.000367 seconds.\n",
      "You can set `force_row_wise=true` to remove the overhead.\n",
      "And if memory is not enough, you can set `force_col_wise=true`.\n",
      "[LightGBM] [Info] Total Bins 1091\n",
      "[LightGBM] [Info] Number of data points in the train set: 25176, number of used features: 25\n",
      "[LightGBM] [Info] Start training from score 118435.786702\n",
      "Training until validation scores don't improve for 100 rounds\n",
      "[100]\tvalid_0's rmse: 16913.5\tvalid_1's rmse: 22775.1\n"
     ]
    },
    {
     "name": "stderr",
     "output_type": "stream",
     "text": [
      "feature_fraction, val_score: 21867.525558:  86%|########5 | 6/7 [00:03<00:00,  1.72it/s]\u001b[32m[I 2021-02-21 10:52:53,726]\u001b[0m Trial 5 finished with value: 22626.998368345678 and parameters: {'feature_fraction': 0.8}. Best is trial 4 with value: 21867.525558326528.\u001b[0m\n",
      "feature_fraction, val_score: 21867.525558:  86%|########5 | 6/7 [00:03<00:00,  1.72it/s]"
     ]
    },
    {
     "name": "stdout",
     "output_type": "stream",
     "text": [
      "[200]\tvalid_0's rmse: 14628.2\tvalid_1's rmse: 22752.5\n",
      "Early stopping, best iteration is:\n",
      "[138]\tvalid_0's rmse: 16028.9\tvalid_1's rmse: 22627\n",
      "[LightGBM] [Warning] Auto-choosing row-wise multi-threading, the overhead of testing was 0.000248 seconds.\n",
      "You can set `force_row_wise=true` to remove the overhead.\n",
      "And if memory is not enough, you can set `force_col_wise=true`.\n",
      "[LightGBM] [Info] Total Bins 1091\n",
      "[LightGBM] [Info] Number of data points in the train set: 25176, number of used features: 25\n",
      "[LightGBM] [Info] Start training from score 118435.786702\n",
      "Training until validation scores don't improve for 100 rounds\n",
      "[100]\tvalid_0's rmse: 17514.5\tvalid_1's rmse: 23221.2\n",
      "[200]\tvalid_0's rmse: 14417.5\tvalid_1's rmse: 22572.3\n"
     ]
    },
    {
     "name": "stderr",
     "output_type": "stream",
     "text": [
      "feature_fraction, val_score: 21867.525558: 100%|##########| 7/7 [00:04<00:00,  1.63it/s]\u001b[32m[I 2021-02-21 10:52:54,404]\u001b[0m Trial 6 finished with value: 22368.471789757146 and parameters: {'feature_fraction': 0.4}. Best is trial 4 with value: 21867.525558326528.\u001b[0m\n",
      "feature_fraction, val_score: 21867.525558: 100%|##########| 7/7 [00:04<00:00,  1.71it/s]\n",
      "num_leaves, val_score: 21867.525558:   0%|          | 0/20 [00:00<?, ?it/s]"
     ]
    },
    {
     "name": "stdout",
     "output_type": "stream",
     "text": [
      "[300]\tvalid_0's rmse: 12887\tvalid_1's rmse: 22445.6\n",
      "Early stopping, best iteration is:\n",
      "[271]\tvalid_0's rmse: 13279.2\tvalid_1's rmse: 22368.5\n",
      "[LightGBM] [Warning] Auto-choosing row-wise multi-threading, the overhead of testing was 0.000413 seconds.\n",
      "You can set `force_row_wise=true` to remove the overhead.\n",
      "And if memory is not enough, you can set `force_col_wise=true`.\n",
      "[LightGBM] [Info] Total Bins 1091\n",
      "[LightGBM] [Info] Number of data points in the train set: 25176, number of used features: 25\n",
      "[LightGBM] [Info] Start training from score 118435.786702\n",
      "Training until validation scores don't improve for 100 rounds\n",
      "[100]\tvalid_0's rmse: 15446.1\tvalid_1's rmse: 22061.8\n",
      "[200]\tvalid_0's rmse: 13542.4\tvalid_1's rmse: 21896.3\n"
     ]
    },
    {
     "name": "stderr",
     "output_type": "stream",
     "text": [
      "num_leaves, val_score: 21808.618480:   5%|5         | 1/20 [00:00<00:18,  1.01it/s]\u001b[32m[I 2021-02-21 10:52:55,404]\u001b[0m Trial 7 finished with value: 21808.618479692228 and parameters: {'num_leaves': 71}. Best is trial 7 with value: 21808.618479692228.\u001b[0m\n",
      "num_leaves, val_score: 21808.618480:   5%|5         | 1/20 [00:00<00:18,  1.01it/s]"
     ]
    },
    {
     "name": "stdout",
     "output_type": "stream",
     "text": [
      "Early stopping, best iteration is:\n",
      "[191]\tvalid_0's rmse: 13737.5\tvalid_1's rmse: 21808.6\n",
      "[LightGBM] [Warning] Auto-choosing row-wise multi-threading, the overhead of testing was 0.000399 seconds.\n",
      "You can set `force_row_wise=true` to remove the overhead.\n",
      "And if memory is not enough, you can set `force_col_wise=true`.\n",
      "[LightGBM] [Info] Total Bins 1091\n",
      "[LightGBM] [Info] Number of data points in the train set: 25176, number of used features: 25\n",
      "[LightGBM] [Info] Start training from score 118435.786702\n",
      "Training until validation scores don't improve for 100 rounds\n",
      "[100]\tvalid_0's rmse: 16954.7\tvalid_1's rmse: 22023.4\n",
      "[200]\tvalid_0's rmse: 15135.4\tvalid_1's rmse: 21607.4\n"
     ]
    },
    {
     "name": "stderr",
     "output_type": "stream",
     "text": [
      "num_leaves, val_score: 21433.989491:  10%|#         | 2/20 [00:01<00:15,  1.16it/s]\u001b[32m[I 2021-02-21 10:52:56,173]\u001b[0m Trial 8 finished with value: 21433.989490748852 and parameters: {'num_leaves': 30}. Best is trial 8 with value: 21433.989490748852.\u001b[0m\n",
      "num_leaves, val_score: 21433.989491:  10%|#         | 2/20 [00:01<00:15,  1.16it/s]"
     ]
    },
    {
     "name": "stdout",
     "output_type": "stream",
     "text": [
      "[300]\tvalid_0's rmse: 13907.4\tvalid_1's rmse: 21487.8\n",
      "Early stopping, best iteration is:\n",
      "[296]\tvalid_0's rmse: 13946.5\tvalid_1's rmse: 21434\n",
      "[LightGBM] [Warning] Auto-choosing row-wise multi-threading, the overhead of testing was 0.000393 seconds.\n",
      "You can set `force_row_wise=true` to remove the overhead.\n",
      "And if memory is not enough, you can set `force_col_wise=true`.\n",
      "[LightGBM] [Info] Total Bins 1091\n",
      "[LightGBM] [Info] Number of data points in the train set: 25176, number of used features: 25\n",
      "[LightGBM] [Info] Start training from score 118435.786702\n",
      "Training until validation scores don't improve for 100 rounds\n",
      "[100]\tvalid_0's rmse: 15064.9\tvalid_1's rmse: 21857.6\n",
      "[200]\tvalid_0's rmse: 13061.8\tvalid_1's rmse: 21794.3\n",
      "Early stopping, best iteration is:\n",
      "[159]\tvalid_0's rmse: 13812.2\tvalid_1's rmse: 21735.3\n"
     ]
    },
    {
     "name": "stderr",
     "output_type": "stream",
     "text": [
      "num_leaves, val_score: 21433.989491:  15%|#5        | 3/20 [00:02<00:15,  1.08it/s]\u001b[32m[I 2021-02-21 10:52:57,183]\u001b[0m Trial 9 finished with value: 21735.315104540958 and parameters: {'num_leaves': 93}. Best is trial 8 with value: 21433.989490748852.\u001b[0m\n",
      "num_leaves, val_score: 21433.989491:  15%|#5        | 3/20 [00:02<00:15,  1.08it/s]"
     ]
    },
    {
     "name": "stdout",
     "output_type": "stream",
     "text": [
      "[LightGBM] [Warning] Auto-choosing row-wise multi-threading, the overhead of testing was 0.000397 seconds.\n",
      "You can set `force_row_wise=true` to remove the overhead.\n",
      "And if memory is not enough, you can set `force_col_wise=true`.\n",
      "[LightGBM] [Info] Total Bins 1091\n",
      "[LightGBM] [Info] Number of data points in the train set: 25176, number of used features: 25\n",
      "[LightGBM] [Info] Start training from score 118435.786702\n",
      "Training until validation scores don't improve for 100 rounds\n",
      "[100]\tvalid_0's rmse: 13411.2\tvalid_1's rmse: 21647.1\n",
      "[200]\tvalid_0's rmse: 11470.9\tvalid_1's rmse: 21543.6\n"
     ]
    },
    {
     "name": "stderr",
     "output_type": "stream",
     "text": [
      "num_leaves, val_score: 21433.989491:  20%|##        | 4/20 [00:04<00:22,  1.39s/it]\u001b[32m[I 2021-02-21 10:52:59,280]\u001b[0m Trial 10 finished with value: 21509.744715908357 and parameters: {'num_leaves': 252}. Best is trial 8 with value: 21433.989490748852.\u001b[0m\n",
      "num_leaves, val_score: 21433.989491:  20%|##        | 4/20 [00:04<00:22,  1.39s/it]"
     ]
    },
    {
     "name": "stdout",
     "output_type": "stream",
     "text": [
      "Early stopping, best iteration is:\n",
      "[174]\tvalid_0's rmse: 11810.1\tvalid_1's rmse: 21509.7\n",
      "[LightGBM] [Warning] Auto-choosing row-wise multi-threading, the overhead of testing was 0.000368 seconds.\n",
      "You can set `force_row_wise=true` to remove the overhead.\n",
      "And if memory is not enough, you can set `force_col_wise=true`.\n",
      "[LightGBM] [Info] Total Bins 1091\n",
      "[LightGBM] [Info] Number of data points in the train set: 25176, number of used features: 25\n",
      "[LightGBM] [Info] Start training from score 118435.786702\n",
      "Training until validation scores don't improve for 100 rounds\n",
      "[100]\tvalid_0's rmse: 13491.5\tvalid_1's rmse: 21593.8\n"
     ]
    },
    {
     "name": "stderr",
     "output_type": "stream",
     "text": [
      "num_leaves, val_score: 21433.989491:  25%|##5       | 5/20 [00:06<00:21,  1.45s/it]\u001b[32m[I 2021-02-21 10:53:00,832]\u001b[0m Trial 11 finished with value: 21518.473373179364 and parameters: {'num_leaves': 254}. Best is trial 8 with value: 21433.989490748852.\u001b[0m\n",
      "num_leaves, val_score: 21433.989491:  25%|##5       | 5/20 [00:06<00:21,  1.45s/it]"
     ]
    },
    {
     "name": "stdout",
     "output_type": "stream",
     "text": [
      "Early stopping, best iteration is:\n",
      "[86]\tvalid_0's rmse: 13936.9\tvalid_1's rmse: 21518.5\n",
      "[LightGBM] [Warning] Auto-choosing row-wise multi-threading, the overhead of testing was 0.000388 seconds.\n",
      "You can set `force_row_wise=true` to remove the overhead.\n",
      "And if memory is not enough, you can set `force_col_wise=true`.\n",
      "[LightGBM] [Info] Total Bins 1091\n",
      "[LightGBM] [Info] Number of data points in the train set: 25176, number of used features: 25\n",
      "[LightGBM] [Info] Start training from score 118435.786702\n",
      "Training until validation scores don't improve for 100 rounds\n",
      "[100]\tvalid_0's rmse: 13599\tvalid_1's rmse: 21699\n"
     ]
    },
    {
     "name": "stderr",
     "output_type": "stream",
     "text": [
      "num_leaves, val_score: 21433.989491:  30%|###       | 6/20 [00:07<00:20,  1.45s/it]\u001b[32m[I 2021-02-21 10:53:02,273]\u001b[0m Trial 12 finished with value: 21627.278962708748 and parameters: {'num_leaves': 243}. Best is trial 8 with value: 21433.989490748852.\u001b[0m\n",
      "num_leaves, val_score: 21433.989491:  30%|###       | 6/20 [00:07<00:20,  1.45s/it]"
     ]
    },
    {
     "name": "stdout",
     "output_type": "stream",
     "text": [
      "Early stopping, best iteration is:\n",
      "[81]\tvalid_0's rmse: 14289.1\tvalid_1's rmse: 21627.3\n",
      "[LightGBM] [Warning] Auto-choosing row-wise multi-threading, the overhead of testing was 0.000412 seconds.\n",
      "You can set `force_row_wise=true` to remove the overhead.\n",
      "And if memory is not enough, you can set `force_col_wise=true`.\n",
      "[LightGBM] [Info] Total Bins 1091\n",
      "[LightGBM] [Info] Number of data points in the train set: 25176, number of used features: 25\n",
      "[LightGBM] [Info] Start training from score 118435.786702\n",
      "Training until validation scores don't improve for 100 rounds\n",
      "[100]\tvalid_0's rmse: 21499.4\tvalid_1's rmse: 23739.7\n",
      "[200]\tvalid_0's rmse: 19732.7\tvalid_1's rmse: 23232.9\n",
      "[300]\tvalid_0's rmse: 18606.7\tvalid_1's rmse: 22820.4\n",
      "[400]\tvalid_0's rmse: 17909.4\tvalid_1's rmse: 22802.3\n",
      "[500]\tvalid_0's rmse: 17307.2\tvalid_1's rmse: 22765\n",
      "Early stopping, best iteration is:\n",
      "[465]\tvalid_0's rmse: 17493.7\tvalid_1's rmse: 22701.7\n"
     ]
    },
    {
     "name": "stderr",
     "output_type": "stream",
     "text": [
      "num_leaves, val_score: 21433.989491:  35%|###5      | 7/20 [00:08<00:14,  1.12s/it]\u001b[32m[I 2021-02-21 10:53:02,714]\u001b[0m Trial 13 finished with value: 22701.719098645488 and parameters: {'num_leaves': 5}. Best is trial 8 with value: 21433.989490748852.\u001b[0m\n",
      "num_leaves, val_score: 21433.989491:  35%|###5      | 7/20 [00:08<00:14,  1.12s/it]"
     ]
    },
    {
     "name": "stdout",
     "output_type": "stream",
     "text": [
      "[LightGBM] [Warning] Auto-choosing row-wise multi-threading, the overhead of testing was 0.000530 seconds.\n",
      "You can set `force_row_wise=true` to remove the overhead.\n",
      "And if memory is not enough, you can set `force_col_wise=true`.\n",
      "[LightGBM] [Info] Total Bins 1091\n",
      "[LightGBM] [Info] Number of data points in the train set: 25176, number of used features: 25\n",
      "[LightGBM] [Info] Start training from score 118435.786702\n",
      "Training until validation scores don't improve for 100 rounds\n",
      "[100]\tvalid_0's rmse: 14002.3\tvalid_1's rmse: 21645.9\n",
      "[200]\tvalid_0's rmse: 11914.3\tvalid_1's rmse: 21628.3\n"
     ]
    },
    {
     "name": "stderr",
     "output_type": "stream",
     "text": [
      "num_leaves, val_score: 21433.989491:  40%|####      | 8/20 [00:09<00:15,  1.28s/it]\u001b[32m[I 2021-02-21 10:53:04,341]\u001b[0m Trial 14 finished with value: 21581.3635107769 and parameters: {'num_leaves': 178}. Best is trial 8 with value: 21433.989490748852.\u001b[0m\n",
      "num_leaves, val_score: 21433.989491:  40%|####      | 8/20 [00:09<00:15,  1.28s/it]"
     ]
    },
    {
     "name": "stdout",
     "output_type": "stream",
     "text": [
      "Early stopping, best iteration is:\n",
      "[162]\tvalid_0's rmse: 12520.1\tvalid_1's rmse: 21581.4\n",
      "[LightGBM] [Warning] Auto-choosing row-wise multi-threading, the overhead of testing was 0.000397 seconds.\n",
      "You can set `force_row_wise=true` to remove the overhead.\n",
      "And if memory is not enough, you can set `force_col_wise=true`.\n",
      "[LightGBM] [Info] Total Bins 1091\n",
      "[LightGBM] [Info] Number of data points in the train set: 25176, number of used features: 25\n",
      "[LightGBM] [Info] Start training from score 118435.786702\n",
      "Training until validation scores don't improve for 100 rounds\n",
      "[100]\tvalid_0's rmse: 22730.3\tvalid_1's rmse: 24359.3\n",
      "[200]\tvalid_0's rmse: 21302.2\tvalid_1's rmse: 23571.7\n",
      "[300]\tvalid_0's rmse: 20402.1\tvalid_1's rmse: 23217.1\n",
      "[400]\tvalid_0's rmse: 19482.3\tvalid_1's rmse: 23129.7\n"
     ]
    },
    {
     "name": "stderr",
     "output_type": "stream",
     "text": [
      "num_leaves, val_score: 21433.989491:  45%|####5     | 9/20 [00:10<00:11,  1.05s/it]\u001b[32m[I 2021-02-21 10:53:04,873]\u001b[0m Trial 15 finished with value: 22887.271493324464 and parameters: {'num_leaves': 4}. Best is trial 8 with value: 21433.989490748852.\u001b[0m\n",
      "num_leaves, val_score: 21433.989491:  45%|####5     | 9/20 [00:10<00:11,  1.05s/it]"
     ]
    },
    {
     "name": "stdout",
     "output_type": "stream",
     "text": [
      "[500]\tvalid_0's rmse: 18956.1\tvalid_1's rmse: 22966.5\n",
      "[600]\tvalid_0's rmse: 18523.2\tvalid_1's rmse: 22903\n",
      "[700]\tvalid_0's rmse: 18033.8\tvalid_1's rmse: 22935.8\n",
      "Early stopping, best iteration is:\n",
      "[621]\tvalid_0's rmse: 18442.5\tvalid_1's rmse: 22887.3\n",
      "[LightGBM] [Warning] Auto-choosing row-wise multi-threading, the overhead of testing was 0.000400 seconds.\n",
      "You can set `force_row_wise=true` to remove the overhead.\n",
      "And if memory is not enough, you can set `force_col_wise=true`.\n",
      "[LightGBM] [Info] Total Bins 1091\n",
      "[LightGBM] [Info] Number of data points in the train set: 25176, number of used features: 25\n",
      "[LightGBM] [Info] Start training from score 118435.786702\n",
      "Training until validation scores don't improve for 100 rounds\n",
      "[100]\tvalid_0's rmse: 14012.7\tvalid_1's rmse: 21635\n",
      "[200]\tvalid_0's rmse: 11975.4\tvalid_1's rmse: 21686.6\n"
     ]
    },
    {
     "name": "stderr",
     "output_type": "stream",
     "text": [
      "num_leaves, val_score: 21433.989491:  50%|#####     | 10/20 [00:11<00:11,  1.16s/it]\u001b[32m[I 2021-02-21 10:53:06,288]\u001b[0m Trial 16 finished with value: 21590.48925926628 and parameters: {'num_leaves': 170}. Best is trial 8 with value: 21433.989490748852.\u001b[0m\n",
      "num_leaves, val_score: 21433.989491:  50%|#####     | 10/20 [00:11<00:11,  1.16s/it]"
     ]
    },
    {
     "name": "stdout",
     "output_type": "stream",
     "text": [
      "Early stopping, best iteration is:\n",
      "[139]\tvalid_0's rmse: 13060.3\tvalid_1's rmse: 21590.5\n",
      "[LightGBM] [Warning] Auto-choosing row-wise multi-threading, the overhead of testing was 0.000378 seconds.\n",
      "You can set `force_row_wise=true` to remove the overhead.\n",
      "And if memory is not enough, you can set `force_col_wise=true`.\n",
      "[LightGBM] [Info] Total Bins 1091\n",
      "[LightGBM] [Info] Number of data points in the train set: 25176, number of used features: 25\n",
      "[LightGBM] [Info] Start training from score 118435.786702\n",
      "Training until validation scores don't improve for 100 rounds\n",
      "[100]\tvalid_0's rmse: 15781.2\tvalid_1's rmse: 21932.5\n"
     ]
    },
    {
     "name": "stderr",
     "output_type": "stream",
     "text": [
      "num_leaves, val_score: 21433.989491:  55%|#####5    | 11/20 [00:12<00:09,  1.05s/it]"
     ]
    },
    {
     "name": "stdout",
     "output_type": "stream",
     "text": [
      "[200]\tvalid_0's rmse: 13760.1\tvalid_1's rmse: 21892.1\n",
      "Early stopping, best iteration is:\n",
      "[177]\tvalid_0's rmse: 14201.5\tvalid_1's rmse: 21816.3\n"
     ]
    },
    {
     "name": "stderr",
     "output_type": "stream",
     "text": [
      "\u001b[32m[I 2021-02-21 10:53:07,100]\u001b[0m Trial 17 finished with value: 21816.286623155836 and parameters: {'num_leaves': 62}. Best is trial 8 with value: 21433.989490748852.\u001b[0m\n",
      "num_leaves, val_score: 21433.989491:  55%|#####5    | 11/20 [00:12<00:09,  1.05s/it]"
     ]
    },
    {
     "name": "stdout",
     "output_type": "stream",
     "text": [
      "[LightGBM] [Warning] Auto-choosing row-wise multi-threading, the overhead of testing was 0.000532 seconds.\n",
      "You can set `force_row_wise=true` to remove the overhead.\n",
      "And if memory is not enough, you can set `force_col_wise=true`.\n",
      "[LightGBM] [Info] Total Bins 1091\n",
      "[LightGBM] [Info] Number of data points in the train set: 25176, number of used features: 25\n",
      "[LightGBM] [Info] Start training from score 118435.786702\n",
      "Training until validation scores don't improve for 100 rounds\n",
      "[100]\tvalid_0's rmse: 13694.2\tvalid_1's rmse: 21810.3\n",
      "[200]\tvalid_0's rmse: 11666.9\tvalid_1's rmse: 21658.2\n"
     ]
    },
    {
     "name": "stderr",
     "output_type": "stream",
     "text": [
      "num_leaves, val_score: 21433.989491:  60%|######    | 12/20 [00:14<00:10,  1.26s/it]\u001b[32m[I 2021-02-21 10:53:08,848]\u001b[0m Trial 18 finished with value: 21636.811495118087 and parameters: {'num_leaves': 199}. Best is trial 8 with value: 21433.989490748852.\u001b[0m\n",
      "num_leaves, val_score: 21433.989491:  60%|######    | 12/20 [00:14<00:10,  1.26s/it]"
     ]
    },
    {
     "name": "stdout",
     "output_type": "stream",
     "text": [
      "Early stopping, best iteration is:\n",
      "[168]\tvalid_0's rmse: 12206.7\tvalid_1's rmse: 21636.8\n",
      "[LightGBM] [Warning] Auto-choosing row-wise multi-threading, the overhead of testing was 0.000401 seconds.\n",
      "You can set `force_row_wise=true` to remove the overhead.\n",
      "And if memory is not enough, you can set `force_col_wise=true`.\n",
      "[LightGBM] [Info] Total Bins 1091\n",
      "[LightGBM] [Info] Number of data points in the train set: 25176, number of used features: 25\n",
      "[LightGBM] [Info] Start training from score 118435.786702\n",
      "Training until validation scores don't improve for 100 rounds\n",
      "[100]\tvalid_0's rmse: 14597.9\tvalid_1's rmse: 21695.1\n",
      "[200]\tvalid_0's rmse: 12540.7\tvalid_1's rmse: 21602.7\n"
     ]
    },
    {
     "name": "stderr",
     "output_type": "stream",
     "text": [
      "num_leaves, val_score: 21433.989491:  65%|######5   | 13/20 [00:15<00:08,  1.28s/it]\u001b[32m[I 2021-02-21 10:53:10,162]\u001b[0m Trial 19 finished with value: 21587.45797463334 and parameters: {'num_leaves': 121}. Best is trial 8 with value: 21433.989490748852.\u001b[0m\n",
      "num_leaves, val_score: 21433.989491:  65%|######5   | 13/20 [00:15<00:08,  1.28s/it]"
     ]
    },
    {
     "name": "stdout",
     "output_type": "stream",
     "text": [
      "Early stopping, best iteration is:\n",
      "[182]\tvalid_0's rmse: 12837.6\tvalid_1's rmse: 21587.5\n",
      "[LightGBM] [Warning] Auto-choosing row-wise multi-threading, the overhead of testing was 0.000407 seconds.\n",
      "You can set `force_row_wise=true` to remove the overhead.\n",
      "And if memory is not enough, you can set `force_col_wise=true`.\n",
      "[LightGBM] [Info] Total Bins 1091\n",
      "[LightGBM] [Info] Number of data points in the train set: 25176, number of used features: 25\n",
      "[LightGBM] [Info] Start training from score 118435.786702\n",
      "Training until validation scores don't improve for 100 rounds\n",
      "[100]\tvalid_0's rmse: 16873.3\tvalid_1's rmse: 22200.7\n",
      "[200]\tvalid_0's rmse: 15010.2\tvalid_1's rmse: 21834.1\n"
     ]
    },
    {
     "name": "stderr",
     "output_type": "stream",
     "text": [
      "num_leaves, val_score: 21433.989491:  70%|#######   | 14/20 [00:16<00:06,  1.12s/it]\u001b[32m[I 2021-02-21 10:53:10,911]\u001b[0m Trial 20 finished with value: 21724.122540622953 and parameters: {'num_leaves': 35}. Best is trial 8 with value: 21433.989490748852.\u001b[0m\n",
      "num_leaves, val_score: 21433.989491:  70%|#######   | 14/20 [00:16<00:06,  1.12s/it]"
     ]
    },
    {
     "name": "stdout",
     "output_type": "stream",
     "text": [
      "[300]\tvalid_0's rmse: 13709.7\tvalid_1's rmse: 21938.7\n",
      "Early stopping, best iteration is:\n",
      "[244]\tvalid_0's rmse: 14428.4\tvalid_1's rmse: 21724.1\n",
      "[LightGBM] [Warning] Auto-choosing row-wise multi-threading, the overhead of testing was 0.000403 seconds.\n",
      "You can set `force_row_wise=true` to remove the overhead.\n",
      "And if memory is not enough, you can set `force_col_wise=true`.\n",
      "[LightGBM] [Info] Total Bins 1091\n",
      "[LightGBM] [Info] Number of data points in the train set: 25176, number of used features: 25\n",
      "[LightGBM] [Info] Start training from score 118435.786702\n",
      "Training until validation scores don't improve for 100 rounds\n",
      "[100]\tvalid_0's rmse: 13500.6\tvalid_1's rmse: 21649.5\n"
     ]
    },
    {
     "name": "stderr",
     "output_type": "stream",
     "text": [
      "num_leaves, val_score: 21433.989491:  75%|#######5  | 15/20 [00:18<00:06,  1.25s/it]\u001b[32m[I 2021-02-21 10:53:12,462]\u001b[0m Trial 21 finished with value: 21529.909257560164 and parameters: {'num_leaves': 253}. Best is trial 8 with value: 21433.989490748852.\u001b[0m\n",
      "num_leaves, val_score: 21433.989491:  75%|#######5  | 15/20 [00:18<00:06,  1.25s/it]"
     ]
    },
    {
     "name": "stdout",
     "output_type": "stream",
     "text": [
      "Early stopping, best iteration is:\n",
      "[85]\tvalid_0's rmse: 13998.5\tvalid_1's rmse: 21529.9\n",
      "[LightGBM] [Warning] Auto-choosing row-wise multi-threading, the overhead of testing was 0.000385 seconds.\n",
      "You can set `force_row_wise=true` to remove the overhead.\n",
      "And if memory is not enough, you can set `force_col_wise=true`.\n",
      "[LightGBM] [Info] Total Bins 1091\n",
      "[LightGBM] [Info] Number of data points in the train set: 25176, number of used features: 25\n",
      "[LightGBM] [Info] Start training from score 118435.786702\n",
      "Training until validation scores don't improve for 100 rounds\n",
      "[100]\tvalid_0's rmse: 13592.6\tvalid_1's rmse: 21799.8\n"
     ]
    },
    {
     "name": "stderr",
     "output_type": "stream",
     "text": [
      "num_leaves, val_score: 21433.989491:  80%|########  | 16/20 [00:19<00:05,  1.27s/it]\u001b[32m[I 2021-02-21 10:53:13,775]\u001b[0m Trial 22 finished with value: 21677.21188925889 and parameters: {'num_leaves': 217}. Best is trial 8 with value: 21433.989490748852.\u001b[0m\n",
      "num_leaves, val_score: 21433.989491:  80%|########  | 16/20 [00:19<00:05,  1.27s/it]"
     ]
    },
    {
     "name": "stdout",
     "output_type": "stream",
     "text": [
      "Early stopping, best iteration is:\n",
      "[87]\tvalid_0's rmse: 14025.2\tvalid_1's rmse: 21677.2\n",
      "[LightGBM] [Warning] Auto-choosing row-wise multi-threading, the overhead of testing was 0.000379 seconds.\n",
      "You can set `force_row_wise=true` to remove the overhead.\n",
      "And if memory is not enough, you can set `force_col_wise=true`.\n",
      "[LightGBM] [Info] Total Bins 1091\n",
      "[LightGBM] [Info] Number of data points in the train set: 25176, number of used features: 25\n",
      "[LightGBM] [Info] Start training from score 118435.786702\n",
      "Training until validation scores don't improve for 100 rounds\n",
      "[100]\tvalid_0's rmse: 13382.3\tvalid_1's rmse: 21776.2\n"
     ]
    },
    {
     "name": "stderr",
     "output_type": "stream",
     "text": [
      "num_leaves, val_score: 21433.989491:  85%|########5 | 17/20 [00:20<00:04,  1.36s/it]\u001b[32m[I 2021-02-21 10:53:15,356]\u001b[0m Trial 23 finished with value: 21767.89857417667 and parameters: {'num_leaves': 250}. Best is trial 8 with value: 21433.989490748852.\u001b[0m\n",
      "num_leaves, val_score: 21433.989491:  85%|########5 | 17/20 [00:20<00:04,  1.36s/it]"
     ]
    },
    {
     "name": "stdout",
     "output_type": "stream",
     "text": [
      "Early stopping, best iteration is:\n",
      "[96]\tvalid_0's rmse: 13508.9\tvalid_1's rmse: 21767.9\n",
      "[LightGBM] [Warning] Auto-choosing row-wise multi-threading, the overhead of testing was 0.000424 seconds.\n",
      "You can set `force_row_wise=true` to remove the overhead.\n",
      "And if memory is not enough, you can set `force_col_wise=true`.\n",
      "[LightGBM] [Info] Total Bins 1091\n",
      "[LightGBM] [Info] Number of data points in the train set: 25176, number of used features: 25\n",
      "[LightGBM] [Info] Start training from score 118435.786702\n",
      "Training until validation scores don't improve for 100 rounds\n",
      "[100]\tvalid_0's rmse: 14232.7\tvalid_1's rmse: 21986.1\n",
      "[200]\tvalid_0's rmse: 12248.7\tvalid_1's rmse: 21869.4\n"
     ]
    },
    {
     "name": "stderr",
     "output_type": "stream",
     "text": [
      "num_leaves, val_score: 21433.989491:  90%|######### | 18/20 [00:22<00:02,  1.45s/it]\u001b[32m[I 2021-02-21 10:53:17,017]\u001b[0m Trial 24 finished with value: 21850.037419323195 and parameters: {'num_leaves': 139}. Best is trial 8 with value: 21433.989490748852.\u001b[0m\n",
      "num_leaves, val_score: 21433.989491:  90%|######### | 18/20 [00:22<00:02,  1.45s/it]"
     ]
    },
    {
     "name": "stdout",
     "output_type": "stream",
     "text": [
      "[300]\tvalid_0's rmse: 10896.2\tvalid_1's rmse: 22124.9\n",
      "Early stopping, best iteration is:\n",
      "[206]\tvalid_0's rmse: 12161.5\tvalid_1's rmse: 21850\n",
      "[LightGBM] [Warning] Auto-choosing row-wise multi-threading, the overhead of testing was 0.000598 seconds.\n",
      "You can set `force_row_wise=true` to remove the overhead.\n",
      "And if memory is not enough, you can set `force_col_wise=true`.\n",
      "[LightGBM] [Info] Total Bins 1091\n",
      "[LightGBM] [Info] Number of data points in the train set: 25176, number of used features: 25\n",
      "[LightGBM] [Info] Start training from score 118435.786702\n",
      "Training until validation scores don't improve for 100 rounds\n",
      "[100]\tvalid_0's rmse: 13627.1\tvalid_1's rmse: 21905.5\n",
      "[200]\tvalid_0's rmse: 11598.5\tvalid_1's rmse: 21856.3\n"
     ]
    },
    {
     "name": "stderr",
     "output_type": "stream",
     "text": [
      "num_leaves, val_score: 21433.989491:  95%|#########5| 19/20 [00:24<00:01,  1.60s/it]\u001b[32m[I 2021-02-21 10:53:18,949]\u001b[0m Trial 25 finished with value: 21831.389837676394 and parameters: {'num_leaves': 218}. Best is trial 8 with value: 21433.989490748852.\u001b[0m\n",
      "num_leaves, val_score: 21433.989491:  95%|#########5| 19/20 [00:24<00:01,  1.60s/it]"
     ]
    },
    {
     "name": "stdout",
     "output_type": "stream",
     "text": [
      "Early stopping, best iteration is:\n",
      "[165]\tvalid_0's rmse: 12112.6\tvalid_1's rmse: 21831.4\n",
      "[LightGBM] [Warning] Auto-choosing row-wise multi-threading, the overhead of testing was 0.000391 seconds.\n",
      "You can set `force_row_wise=true` to remove the overhead.\n",
      "And if memory is not enough, you can set `force_col_wise=true`.\n",
      "[LightGBM] [Info] Total Bins 1091\n",
      "[LightGBM] [Info] Number of data points in the train set: 25176, number of used features: 25\n",
      "[LightGBM] [Info] Start training from score 118435.786702\n",
      "Training until validation scores don't improve for 100 rounds\n",
      "[100]\tvalid_0's rmse: 13624.5\tvalid_1's rmse: 21803\n",
      "[200]\tvalid_0's rmse: 11523.3\tvalid_1's rmse: 21855.8\n"
     ]
    },
    {
     "name": "stderr",
     "output_type": "stream",
     "text": [
      "num_leaves, val_score: 21433.989491: 100%|##########| 20/20 [00:26<00:00,  1.70s/it]\u001b[32m[I 2021-02-21 10:53:20,881]\u001b[0m Trial 26 finished with value: 21748.41409385163 and parameters: {'num_leaves': 223}. Best is trial 8 with value: 21433.989490748852.\u001b[0m\n",
      "num_leaves, val_score: 21433.989491: 100%|##########| 20/20 [00:26<00:00,  1.32s/it]\n",
      "bagging, val_score: 21433.989491:   0%|          | 0/10 [00:00<?, ?it/s]"
     ]
    },
    {
     "name": "stdout",
     "output_type": "stream",
     "text": [
      "Early stopping, best iteration is:\n",
      "[174]\tvalid_0's rmse: 12038.1\tvalid_1's rmse: 21748.4\n",
      "[LightGBM] [Warning] Auto-choosing row-wise multi-threading, the overhead of testing was 0.000397 seconds.\n",
      "You can set `force_row_wise=true` to remove the overhead.\n",
      "And if memory is not enough, you can set `force_col_wise=true`.\n",
      "[LightGBM] [Info] Total Bins 1091\n",
      "[LightGBM] [Info] Number of data points in the train set: 25176, number of used features: 25\n",
      "[LightGBM] [Info] Start training from score 118435.786702\n",
      "Training until validation scores don't improve for 100 rounds\n",
      "[100]\tvalid_0's rmse: 19433.1\tvalid_1's rmse: 22253.8\n",
      "[200]\tvalid_0's rmse: 17576.5\tvalid_1's rmse: 21806.9\n",
      "[300]\tvalid_0's rmse: 16449.4\tvalid_1's rmse: 21608.2\n",
      "[400]\tvalid_0's rmse: 15557.3\tvalid_1's rmse: 21771.4\n"
     ]
    },
    {
     "name": "stderr",
     "output_type": "stream",
     "text": [
      "bagging, val_score: 21255.201224:  10%|#         | 1/10 [00:01<00:09,  1.08s/it]\u001b[32m[I 2021-02-21 10:53:21,963]\u001b[0m Trial 27 finished with value: 21255.201224389883 and parameters: {'bagging_fraction': 0.5414002828369386, 'bagging_freq': 5}. Best is trial 27 with value: 21255.201224389883.\u001b[0m\n",
      "bagging, val_score: 21255.201224:  10%|#         | 1/10 [00:01<00:09,  1.08s/it]"
     ]
    },
    {
     "name": "stdout",
     "output_type": "stream",
     "text": [
      "Early stopping, best iteration is:\n",
      "[340]\tvalid_0's rmse: 16055.6\tvalid_1's rmse: 21255.2\n",
      "[LightGBM] [Warning] Auto-choosing row-wise multi-threading, the overhead of testing was 0.000393 seconds.\n",
      "You can set `force_row_wise=true` to remove the overhead.\n",
      "And if memory is not enough, you can set `force_col_wise=true`.\n",
      "[LightGBM] [Info] Total Bins 1091\n",
      "[LightGBM] [Info] Number of data points in the train set: 25176, number of used features: 25\n",
      "[LightGBM] [Info] Start training from score 118435.786702\n",
      "Training until validation scores don't improve for 100 rounds\n",
      "[100]\tvalid_0's rmse: 19817.1\tvalid_1's rmse: 21710.3\n",
      "[200]\tvalid_0's rmse: 18027.3\tvalid_1's rmse: 21628.7\n"
     ]
    },
    {
     "name": "stderr",
     "output_type": "stream",
     "text": [
      "bagging, val_score: 21255.201224:  20%|##        | 2/10 [00:01<00:07,  1.14it/s]\u001b[32m[I 2021-02-21 10:53:22,701]\u001b[0m Trial 28 finished with value: 21605.4906120904 and parameters: {'bagging_fraction': 0.5208456593292824, 'bagging_freq': 5}. Best is trial 27 with value: 21255.201224389883.\u001b[0m\n",
      "bagging, val_score: 21255.201224:  20%|##        | 2/10 [00:01<00:07,  1.14it/s]"
     ]
    },
    {
     "name": "stdout",
     "output_type": "stream",
     "text": [
      "Early stopping, best iteration is:\n",
      "[197]\tvalid_0's rmse: 18057.6\tvalid_1's rmse: 21605.5\n",
      "[LightGBM] [Warning] Auto-choosing row-wise multi-threading, the overhead of testing was 0.000713 seconds.\n",
      "You can set `force_row_wise=true` to remove the overhead.\n",
      "And if memory is not enough, you can set `force_col_wise=true`.\n",
      "[LightGBM] [Info] Total Bins 1091\n",
      "[LightGBM] [Info] Number of data points in the train set: 25176, number of used features: 25\n",
      "[LightGBM] [Info] Start training from score 118435.786702\n",
      "Training until validation scores don't improve for 100 rounds\n",
      "[100]\tvalid_0's rmse: 18367.4\tvalid_1's rmse: 21436.3\n"
     ]
    },
    {
     "name": "stderr",
     "output_type": "stream",
     "text": [
      "bagging, val_score: 20966.071726:  30%|###       | 3/10 [00:02<00:05,  1.29it/s]\u001b[32m[I 2021-02-21 10:53:23,357]\u001b[0m Trial 29 finished with value: 20966.0717256807 and parameters: {'bagging_fraction': 0.8195977441789308, 'bagging_freq': 3}. Best is trial 29 with value: 20966.0717256807.\u001b[0m\n",
      "bagging, val_score: 20966.071726:  30%|###       | 3/10 [00:02<00:05,  1.29it/s]"
     ]
    },
    {
     "name": "stdout",
     "output_type": "stream",
     "text": [
      "[200]\tvalid_0's rmse: 16067.4\tvalid_1's rmse: 21114.5\n",
      "Early stopping, best iteration is:\n",
      "[136]\tvalid_0's rmse: 17125.2\tvalid_1's rmse: 20966.1\n",
      "[LightGBM] [Warning] Auto-choosing row-wise multi-threading, the overhead of testing was 0.000394 seconds.\n",
      "You can set `force_row_wise=true` to remove the overhead.\n",
      "And if memory is not enough, you can set `force_col_wise=true`.\n",
      "[LightGBM] [Info] Total Bins 1091\n",
      "[LightGBM] [Info] Number of data points in the train set: 25176, number of used features: 25\n",
      "[LightGBM] [Info] Start training from score 118435.786702\n",
      "Training until validation scores don't improve for 100 rounds\n",
      "[100]\tvalid_0's rmse: 17895.5\tvalid_1's rmse: 21933.4\n"
     ]
    },
    {
     "name": "stderr",
     "output_type": "stream",
     "text": [
      "bagging, val_score: 20966.071726:  40%|####      | 4/10 [00:03<00:04,  1.38it/s]\u001b[32m[I 2021-02-21 10:53:23,997]\u001b[0m Trial 30 finished with value: 21702.501841367965 and parameters: {'bagging_fraction': 0.8915856510116059, 'bagging_freq': 2}. Best is trial 29 with value: 20966.0717256807.\u001b[0m\n",
      "bagging, val_score: 20966.071726:  40%|####      | 4/10 [00:03<00:04,  1.38it/s]"
     ]
    },
    {
     "name": "stdout",
     "output_type": "stream",
     "text": [
      "[200]\tvalid_0's rmse: 15736.7\tvalid_1's rmse: 21800.2\n",
      "Early stopping, best iteration is:\n",
      "[122]\tvalid_0's rmse: 17329.2\tvalid_1's rmse: 21702.5\n",
      "[LightGBM] [Warning] Auto-choosing row-wise multi-threading, the overhead of testing was 0.000411 seconds.\n",
      "You can set `force_row_wise=true` to remove the overhead.\n",
      "And if memory is not enough, you can set `force_col_wise=true`.\n",
      "[LightGBM] [Info] Total Bins 1091\n",
      "[LightGBM] [Info] Number of data points in the train set: 25176, number of used features: 25\n",
      "[LightGBM] [Info] Start training from score 118435.786702\n",
      "Training until validation scores don't improve for 100 rounds\n",
      "[100]\tvalid_0's rmse: 18312.6\tvalid_1's rmse: 21627.8\n",
      "[200]\tvalid_0's rmse: 16274.9\tvalid_1's rmse: 21588.1\n"
     ]
    },
    {
     "name": "stderr",
     "output_type": "stream",
     "text": [
      "bagging, val_score: 20966.071726:  50%|#####     | 5/10 [00:03<00:03,  1.29it/s]\u001b[32m[I 2021-02-21 10:53:24,868]\u001b[0m Trial 31 finished with value: 21313.78522371318 and parameters: {'bagging_fraction': 0.7373320667647684, 'bagging_freq': 4}. Best is trial 29 with value: 20966.0717256807.\u001b[0m\n",
      "bagging, val_score: 20966.071726:  50%|#####     | 5/10 [00:03<00:03,  1.29it/s]"
     ]
    },
    {
     "name": "stdout",
     "output_type": "stream",
     "text": [
      "[300]\tvalid_0's rmse: 14991.3\tvalid_1's rmse: 21639\n",
      "Early stopping, best iteration is:\n",
      "[236]\tvalid_0's rmse: 15761.6\tvalid_1's rmse: 21313.8\n",
      "[LightGBM] [Warning] Auto-choosing row-wise multi-threading, the overhead of testing was 0.000396 seconds.\n",
      "You can set `force_row_wise=true` to remove the overhead.\n",
      "And if memory is not enough, you can set `force_col_wise=true`.\n",
      "[LightGBM] [Info] Total Bins 1091\n",
      "[LightGBM] [Info] Number of data points in the train set: 25176, number of used features: 25\n",
      "[LightGBM] [Info] Start training from score 118435.786702\n",
      "Training until validation scores don't improve for 100 rounds\n",
      "[100]\tvalid_0's rmse: 18159.7\tvalid_1's rmse: 21685.1\n"
     ]
    },
    {
     "name": "stderr",
     "output_type": "stream",
     "text": [
      "bagging, val_score: 20966.071726:  60%|######    | 6/10 [00:04<00:02,  1.35it/s]\u001b[32m[I 2021-02-21 10:53:25,546]\u001b[0m Trial 32 finished with value: 21436.73157293049 and parameters: {'bagging_fraction': 0.769335308249144, 'bagging_freq': 4}. Best is trial 29 with value: 20966.0717256807.\u001b[0m\n",
      "bagging, val_score: 20966.071726:  60%|######    | 6/10 [00:04<00:02,  1.35it/s]"
     ]
    },
    {
     "name": "stdout",
     "output_type": "stream",
     "text": [
      "[200]\tvalid_0's rmse: 16214.1\tvalid_1's rmse: 21628.3\n",
      "Early stopping, best iteration is:\n",
      "[144]\tvalid_0's rmse: 17220.8\tvalid_1's rmse: 21436.7\n",
      "[LightGBM] [Warning] Auto-choosing row-wise multi-threading, the overhead of testing was 0.000400 seconds.\n",
      "You can set `force_row_wise=true` to remove the overhead.\n",
      "And if memory is not enough, you can set `force_col_wise=true`.\n",
      "[LightGBM] [Info] Total Bins 1091\n",
      "[LightGBM] [Info] Number of data points in the train set: 25176, number of used features: 25\n",
      "[LightGBM] [Info] Start training from score 118435.786702\n",
      "Training until validation scores don't improve for 100 rounds\n",
      "[100]\tvalid_0's rmse: 18749.3\tvalid_1's rmse: 21844.7\n",
      "[200]\tvalid_0's rmse: 16449.8\tvalid_1's rmse: 21377.1\n",
      "[300]\tvalid_0's rmse: 15057.4\tvalid_1's rmse: 21167.3\n"
     ]
    },
    {
     "name": "stderr",
     "output_type": "stream",
     "text": [
      "bagging, val_score: 20966.071726:  70%|#######   | 7/10 [00:05<00:02,  1.15it/s]\u001b[32m[I 2021-02-21 10:53:26,681]\u001b[0m Trial 33 finished with value: 21150.345060037722 and parameters: {'bagging_fraction': 0.6625425720075999, 'bagging_freq': 3}. Best is trial 29 with value: 20966.0717256807.\u001b[0m\n",
      "bagging, val_score: 20966.071726:  70%|#######   | 7/10 [00:05<00:02,  1.15it/s]"
     ]
    },
    {
     "name": "stdout",
     "output_type": "stream",
     "text": [
      "[400]\tvalid_0's rmse: 14056.6\tvalid_1's rmse: 21385.2\n",
      "Early stopping, best iteration is:\n",
      "[357]\tvalid_0's rmse: 14504\tvalid_1's rmse: 21150.3\n",
      "[LightGBM] [Warning] Auto-choosing col-wise multi-threading, the overhead of testing was 0.002230 seconds.\n",
      "You can set `force_col_wise=true` to remove the overhead.\n",
      "[LightGBM] [Info] Total Bins 1091\n",
      "[LightGBM] [Info] Number of data points in the train set: 25176, number of used features: 25\n",
      "[LightGBM] [Info] Start training from score 118435.786702\n",
      "Training until validation scores don't improve for 100 rounds\n",
      "[100]\tvalid_0's rmse: 19161.2\tvalid_1's rmse: 21762.2\n",
      "[200]\tvalid_0's rmse: 17372.9\tvalid_1's rmse: 21200.8\n",
      "[300]\tvalid_0's rmse: 15971.1\tvalid_1's rmse: 21315.8\n"
     ]
    },
    {
     "name": "stderr",
     "output_type": "stream",
     "text": [
      "bagging, val_score: 20945.716405:  80%|########  | 8/10 [00:06<00:01,  1.14it/s]\u001b[32m[I 2021-02-21 10:53:27,574]\u001b[0m Trial 34 finished with value: 20945.71640512547 and parameters: {'bagging_fraction': 0.6080684710790244, 'bagging_freq': 3}. Best is trial 34 with value: 20945.71640512547.\u001b[0m\n",
      "bagging, val_score: 20945.716405:  80%|########  | 8/10 [00:06<00:01,  1.14it/s]"
     ]
    },
    {
     "name": "stdout",
     "output_type": "stream",
     "text": [
      "Early stopping, best iteration is:\n",
      "[261]\tvalid_0's rmse: 16554.3\tvalid_1's rmse: 20945.7\n",
      "[LightGBM] [Warning] Auto-choosing row-wise multi-threading, the overhead of testing was 0.000383 seconds.\n",
      "You can set `force_row_wise=true` to remove the overhead.\n",
      "And if memory is not enough, you can set `force_col_wise=true`.\n",
      "[LightGBM] [Info] Total Bins 1091\n",
      "[LightGBM] [Info] Number of data points in the train set: 25176, number of used features: 25\n",
      "[LightGBM] [Info] Start training from score 118435.786702\n",
      "Training until validation scores don't improve for 100 rounds\n",
      "[100]\tvalid_0's rmse: 19135.8\tvalid_1's rmse: 21496.5\n"
     ]
    },
    {
     "name": "stderr",
     "output_type": "stream",
     "text": [
      "bagging, val_score: 20945.716405:  90%|######### | 9/10 [00:07<00:00,  1.24it/s]\u001b[32m[I 2021-02-21 10:53:28,219]\u001b[0m Trial 35 finished with value: 20947.736176170994 and parameters: {'bagging_fraction': 0.5469776245744057, 'bagging_freq': 2}. Best is trial 34 with value: 20945.71640512547.\u001b[0m\n",
      "bagging, val_score: 20945.716405:  90%|######### | 9/10 [00:07<00:00,  1.24it/s]"
     ]
    },
    {
     "name": "stdout",
     "output_type": "stream",
     "text": [
      "[200]\tvalid_0's rmse: 17221.3\tvalid_1's rmse: 21456.4\n",
      "Early stopping, best iteration is:\n",
      "[136]\tvalid_0's rmse: 18449.1\tvalid_1's rmse: 20947.7\n",
      "[LightGBM] [Warning] Auto-choosing row-wise multi-threading, the overhead of testing was 0.000405 seconds.\n",
      "You can set `force_row_wise=true` to remove the overhead.\n",
      "And if memory is not enough, you can set `force_col_wise=true`.\n",
      "[LightGBM] [Info] Total Bins 1091\n",
      "[LightGBM] [Info] Number of data points in the train set: 25176, number of used features: 25\n",
      "[LightGBM] [Info] Start training from score 118435.786702\n",
      "Training until validation scores don't improve for 100 rounds\n",
      "[100]\tvalid_0's rmse: 19063.8\tvalid_1's rmse: 21562\n"
     ]
    },
    {
     "name": "stderr",
     "output_type": "stream",
     "text": [
      "bagging, val_score: 20805.241535: 100%|##########| 10/10 [00:08<00:00,  1.27it/s]\u001b[32m[I 2021-02-21 10:53:28,962]\u001b[0m Trial 36 finished with value: 20805.241535147776 and parameters: {'bagging_fraction': 0.6297153499589686, 'bagging_freq': 2}. Best is trial 36 with value: 20805.241535147776.\u001b[0m\n",
      "bagging, val_score: 20805.241535: 100%|##########| 10/10 [00:08<00:00,  1.24it/s]\n",
      "feature_fraction_stage2, val_score: 20805.241535:   0%|          | 0/3 [00:00<?, ?it/s]"
     ]
    },
    {
     "name": "stdout",
     "output_type": "stream",
     "text": [
      "[200]\tvalid_0's rmse: 17171.7\tvalid_1's rmse: 20995.9\n",
      "Early stopping, best iteration is:\n",
      "[177]\tvalid_0's rmse: 17551.8\tvalid_1's rmse: 20805.2\n",
      "[LightGBM] [Warning] Auto-choosing row-wise multi-threading, the overhead of testing was 0.000393 seconds.\n",
      "You can set `force_row_wise=true` to remove the overhead.\n",
      "And if memory is not enough, you can set `force_col_wise=true`.\n",
      "[LightGBM] [Info] Total Bins 1091\n",
      "[LightGBM] [Info] Number of data points in the train set: 25176, number of used features: 25\n",
      "[LightGBM] [Info] Start training from score 118435.786702\n",
      "Training until validation scores don't improve for 100 rounds\n",
      "[100]\tvalid_0's rmse: 19063.8\tvalid_1's rmse: 21562\n"
     ]
    },
    {
     "name": "stderr",
     "output_type": "stream",
     "text": [
      "feature_fraction_stage2, val_score: 20805.241535:  33%|###3      | 1/3 [00:00<00:01,  1.39it/s]\u001b[32m[I 2021-02-21 10:53:29,689]\u001b[0m Trial 37 finished with value: 20805.241535147776 and parameters: {'feature_fraction': 0.9840000000000001}. Best is trial 37 with value: 20805.241535147776.\u001b[0m\n",
      "feature_fraction_stage2, val_score: 20805.241535:  33%|###3      | 1/3 [00:00<00:01,  1.39it/s]"
     ]
    },
    {
     "name": "stdout",
     "output_type": "stream",
     "text": [
      "[200]\tvalid_0's rmse: 17171.7\tvalid_1's rmse: 20995.9\n",
      "Early stopping, best iteration is:\n",
      "[177]\tvalid_0's rmse: 17551.8\tvalid_1's rmse: 20805.2\n",
      "[LightGBM] [Warning] Auto-choosing row-wise multi-threading, the overhead of testing was 0.000359 seconds.\n",
      "You can set `force_row_wise=true` to remove the overhead.\n",
      "And if memory is not enough, you can set `force_col_wise=true`.\n",
      "[LightGBM] [Info] Total Bins 1091\n",
      "[LightGBM] [Info] Number of data points in the train set: 25176, number of used features: 25\n",
      "[LightGBM] [Info] Start training from score 118435.786702\n",
      "Training until validation scores don't improve for 100 rounds\n",
      "[100]\tvalid_0's rmse: 18866.6\tvalid_1's rmse: 21377.1\n",
      "[200]\tvalid_0's rmse: 16840\tvalid_1's rmse: 20996.6\n"
     ]
    },
    {
     "name": "stderr",
     "output_type": "stream",
     "text": [
      "feature_fraction_stage2, val_score: 20805.241535:  67%|######6   | 2/3 [00:01<00:00,  1.29it/s]\u001b[32m[I 2021-02-21 10:53:30,507]\u001b[0m Trial 38 finished with value: 20814.79554925925 and parameters: {'feature_fraction': 0.9520000000000001}. Best is trial 37 with value: 20805.241535147776.\u001b[0m\n",
      "feature_fraction_stage2, val_score: 20805.241535:  67%|######6   | 2/3 [00:01<00:00,  1.29it/s]"
     ]
    },
    {
     "name": "stdout",
     "output_type": "stream",
     "text": [
      "Early stopping, best iteration is:\n",
      "[176]\tvalid_0's rmse: 17244.4\tvalid_1's rmse: 20814.8\n",
      "[LightGBM] [Warning] Auto-choosing row-wise multi-threading, the overhead of testing was 0.000361 seconds.\n",
      "You can set `force_row_wise=true` to remove the overhead.\n",
      "And if memory is not enough, you can set `force_col_wise=true`.\n",
      "[LightGBM] [Info] Total Bins 1091\n",
      "[LightGBM] [Info] Number of data points in the train set: 25176, number of used features: 25\n",
      "[LightGBM] [Info] Start training from score 118435.786702\n",
      "Training until validation scores don't improve for 100 rounds\n",
      "[100]\tvalid_0's rmse: 18750.9\tvalid_1's rmse: 21478.2\n"
     ]
    },
    {
     "name": "stderr",
     "output_type": "stream",
     "text": [
      "feature_fraction_stage2, val_score: 20779.911021: 100%|##########| 3/3 [00:02<00:00,  1.31it/s]\u001b[32m[I 2021-02-21 10:53:31,253]\u001b[0m Trial 39 finished with value: 20779.911021363525 and parameters: {'feature_fraction': 0.92}. Best is trial 39 with value: 20779.911021363525.\u001b[0m\n",
      "feature_fraction_stage2, val_score: 20779.911021: 100%|##########| 3/3 [00:02<00:00,  1.31it/s]\n",
      "regularization_factors, val_score: 20779.911021:   0%|          | 0/20 [00:00<?, ?it/s]"
     ]
    },
    {
     "name": "stdout",
     "output_type": "stream",
     "text": [
      "[200]\tvalid_0's rmse: 16737.6\tvalid_1's rmse: 20900.7\n",
      "Early stopping, best iteration is:\n",
      "[175]\tvalid_0's rmse: 17220.7\tvalid_1's rmse: 20779.9\n",
      "[LightGBM] [Warning] Auto-choosing row-wise multi-threading, the overhead of testing was 0.000351 seconds.\n",
      "You can set `force_row_wise=true` to remove the overhead.\n",
      "And if memory is not enough, you can set `force_col_wise=true`.\n",
      "[LightGBM] [Info] Total Bins 1091\n",
      "[LightGBM] [Info] Number of data points in the train set: 25176, number of used features: 25\n",
      "[LightGBM] [Info] Start training from score 118435.786702\n",
      "Training until validation scores don't improve for 100 rounds\n",
      "[100]\tvalid_0's rmse: 18581.7\tvalid_1's rmse: 21199.3\n"
     ]
    },
    {
     "name": "stderr",
     "output_type": "stream",
     "text": [
      "regularization_factors, val_score: 20546.697467:   5%|5         | 1/20 [00:00<00:14,  1.35it/s]\u001b[32m[I 2021-02-21 10:53:31,999]\u001b[0m Trial 40 finished with value: 20546.697467183913 and parameters: {'lambda_l1': 3.3448463908755132e-06, 'lambda_l2': 0.0515604381431599}. Best is trial 40 with value: 20546.697467183913.\u001b[0m\n",
      "regularization_factors, val_score: 20546.697467:   5%|5         | 1/20 [00:00<00:14,  1.35it/s]"
     ]
    },
    {
     "name": "stdout",
     "output_type": "stream",
     "text": [
      "[200]\tvalid_0's rmse: 16531.3\tvalid_1's rmse: 20664.8\n",
      "Early stopping, best iteration is:\n",
      "[178]\tvalid_0's rmse: 16931.4\tvalid_1's rmse: 20546.7\n",
      "[LightGBM] [Warning] Auto-choosing row-wise multi-threading, the overhead of testing was 0.000620 seconds.\n",
      "You can set `force_row_wise=true` to remove the overhead.\n",
      "And if memory is not enough, you can set `force_col_wise=true`.\n",
      "[LightGBM] [Info] Total Bins 1091\n",
      "[LightGBM] [Info] Number of data points in the train set: 25176, number of used features: 25\n",
      "[LightGBM] [Info] Start training from score 118435.786702\n",
      "Training until validation scores don't improve for 100 rounds\n",
      "[100]\tvalid_0's rmse: 18688.4\tvalid_1's rmse: 21575.2\n"
     ]
    },
    {
     "name": "stderr",
     "output_type": "stream",
     "text": [
      "regularization_factors, val_score: 20546.697467:  10%|#         | 2/20 [00:01<00:13,  1.37it/s]\u001b[32m[I 2021-02-21 10:53:32,723]\u001b[0m Trial 41 finished with value: 20870.105901395083 and parameters: {'lambda_l1': 2.575970794004904e-06, 'lambda_l2': 0.09497031704894066}. Best is trial 40 with value: 20546.697467183913.\u001b[0m\n",
      "regularization_factors, val_score: 20546.697467:  10%|#         | 2/20 [00:01<00:13,  1.37it/s]"
     ]
    },
    {
     "name": "stdout",
     "output_type": "stream",
     "text": [
      "[200]\tvalid_0's rmse: 16609.7\tvalid_1's rmse: 20954.1\n",
      "Early stopping, best iteration is:\n",
      "[175]\tvalid_0's rmse: 17116.3\tvalid_1's rmse: 20870.1\n",
      "[LightGBM] [Warning] Auto-choosing row-wise multi-threading, the overhead of testing was 0.000357 seconds.\n",
      "You can set `force_row_wise=true` to remove the overhead.\n",
      "And if memory is not enough, you can set `force_col_wise=true`.\n",
      "[LightGBM] [Info] Total Bins 1091\n",
      "[LightGBM] [Info] Number of data points in the train set: 25176, number of used features: 25\n",
      "[LightGBM] [Info] Start training from score 118435.786702\n",
      "Training until validation scores don't improve for 100 rounds\n",
      "[100]\tvalid_0's rmse: 18750.9\tvalid_1's rmse: 21478.2\n"
     ]
    },
    {
     "name": "stderr",
     "output_type": "stream",
     "text": [
      "regularization_factors, val_score: 20546.697467:  15%|#5        | 3/20 [00:02<00:12,  1.36it/s]\u001b[32m[I 2021-02-21 10:53:33,464]\u001b[0m Trial 42 finished with value: 20779.91116536265 and parameters: {'lambda_l1': 0.08888804129465884, 'lambda_l2': 4.455945623019713e-06}. Best is trial 40 with value: 20546.697467183913.\u001b[0m\n",
      "regularization_factors, val_score: 20546.697467:  15%|#5        | 3/20 [00:02<00:12,  1.36it/s]"
     ]
    },
    {
     "name": "stdout",
     "output_type": "stream",
     "text": [
      "[200]\tvalid_0's rmse: 16737.6\tvalid_1's rmse: 20900.7\n",
      "Early stopping, best iteration is:\n",
      "[175]\tvalid_0's rmse: 17220.7\tvalid_1's rmse: 20779.9\n",
      "[LightGBM] [Warning] Auto-choosing row-wise multi-threading, the overhead of testing was 0.000636 seconds.\n",
      "You can set `force_row_wise=true` to remove the overhead.\n",
      "And if memory is not enough, you can set `force_col_wise=true`.\n",
      "[LightGBM] [Info] Total Bins 1091\n",
      "[LightGBM] [Info] Number of data points in the train set: 25176, number of used features: 25\n",
      "[LightGBM] [Info] Start training from score 118435.786702\n",
      "Training until validation scores don't improve for 100 rounds\n",
      "[100]\tvalid_0's rmse: 18750.9\tvalid_1's rmse: 21478.2\n"
     ]
    },
    {
     "name": "stderr",
     "output_type": "stream",
     "text": [
      "regularization_factors, val_score: 20546.697467:  20%|##        | 4/20 [00:02<00:11,  1.35it/s]\u001b[32m[I 2021-02-21 10:53:34,216]\u001b[0m Trial 43 finished with value: 20779.91192777023 and parameters: {'lambda_l1': 1.2097956635166074, 'lambda_l2': 2.977261721585164e-07}. Best is trial 40 with value: 20546.697467183913.\u001b[0m\n",
      "regularization_factors, val_score: 20546.697467:  20%|##        | 4/20 [00:02<00:11,  1.35it/s]"
     ]
    },
    {
     "name": "stdout",
     "output_type": "stream",
     "text": [
      "[200]\tvalid_0's rmse: 16737.6\tvalid_1's rmse: 20900.7\n",
      "Early stopping, best iteration is:\n",
      "[175]\tvalid_0's rmse: 17220.7\tvalid_1's rmse: 20779.9\n",
      "[LightGBM] [Warning] Auto-choosing row-wise multi-threading, the overhead of testing was 0.000432 seconds.\n",
      "You can set `force_row_wise=true` to remove the overhead.\n",
      "And if memory is not enough, you can set `force_col_wise=true`.\n",
      "[LightGBM] [Info] Total Bins 1091\n",
      "[LightGBM] [Info] Number of data points in the train set: 25176, number of used features: 25\n",
      "[LightGBM] [Info] Start training from score 118435.786702\n",
      "Training until validation scores don't improve for 100 rounds\n",
      "[100]\tvalid_0's rmse: 18750.9\tvalid_1's rmse: 21478.3\n",
      "[200]\tvalid_0's rmse: 16738.7\tvalid_1's rmse: 20815.6\n"
     ]
    },
    {
     "name": "stderr",
     "output_type": "stream",
     "text": [
      "regularization_factors, val_score: 20546.697467:  25%|##5       | 5/20 [00:03<00:11,  1.30it/s]\u001b[32m[I 2021-02-21 10:53:35,034]\u001b[0m Trial 44 finished with value: 20767.771140958474 and parameters: {'lambda_l1': 6.120677333153245, 'lambda_l2': 2.339488995739788e-07}. Best is trial 40 with value: 20546.697467183913.\u001b[0m\n",
      "regularization_factors, val_score: 20546.697467:  25%|##5       | 5/20 [00:03<00:11,  1.30it/s]"
     ]
    },
    {
     "name": "stdout",
     "output_type": "stream",
     "text": [
      "[300]\tvalid_0's rmse: 15164\tvalid_1's rmse: 21060.2\n",
      "Early stopping, best iteration is:\n",
      "[201]\tvalid_0's rmse: 16695\tvalid_1's rmse: 20767.8\n",
      "[LightGBM] [Warning] Auto-choosing row-wise multi-threading, the overhead of testing was 0.000365 seconds.\n",
      "You can set `force_row_wise=true` to remove the overhead.\n",
      "And if memory is not enough, you can set `force_col_wise=true`.\n",
      "[LightGBM] [Info] Total Bins 1091\n",
      "[LightGBM] [Info] Number of data points in the train set: 25176, number of used features: 25\n",
      "[LightGBM] [Info] Start training from score 118435.786702\n",
      "Training until validation scores don't improve for 100 rounds\n",
      "[100]\tvalid_0's rmse: 18750.9\tvalid_1's rmse: 21478.3\n"
     ]
    },
    {
     "name": "stderr",
     "output_type": "stream",
     "text": [
      "regularization_factors, val_score: 20546.697467:  30%|###       | 6/20 [00:04<00:10,  1.32it/s]\u001b[32m[I 2021-02-21 10:53:35,776]\u001b[0m Trial 45 finished with value: 20779.915198273327 and parameters: {'lambda_l1': 5.690885081627436, 'lambda_l2': 1.712402862311971e-07}. Best is trial 40 with value: 20546.697467183913.\u001b[0m\n",
      "regularization_factors, val_score: 20546.697467:  30%|###       | 6/20 [00:04<00:10,  1.32it/s]"
     ]
    },
    {
     "name": "stdout",
     "output_type": "stream",
     "text": [
      "[200]\tvalid_0's rmse: 16737.6\tvalid_1's rmse: 20900.7\n",
      "Early stopping, best iteration is:\n",
      "[175]\tvalid_0's rmse: 17220.7\tvalid_1's rmse: 20779.9\n",
      "[LightGBM] [Warning] Auto-choosing row-wise multi-threading, the overhead of testing was 0.000580 seconds.\n",
      "You can set `force_row_wise=true` to remove the overhead.\n",
      "And if memory is not enough, you can set `force_col_wise=true`.\n",
      "[LightGBM] [Info] Total Bins 1091\n",
      "[LightGBM] [Info] Number of data points in the train set: 25176, number of used features: 25\n",
      "[LightGBM] [Info] Start training from score 118435.786702\n",
      "Training until validation scores don't improve for 100 rounds\n",
      "[100]\tvalid_0's rmse: 18750.9\tvalid_1's rmse: 21478.3\n"
     ]
    },
    {
     "name": "stderr",
     "output_type": "stream",
     "text": [
      "regularization_factors, val_score: 20546.697467:  35%|###5      | 7/20 [00:05<00:09,  1.33it/s]\u001b[32m[I 2021-02-21 10:53:36,503]\u001b[0m Trial 46 finished with value: 20779.91281142844 and parameters: {'lambda_l1': 2.4220069898855106, 'lambda_l2': 3.0198345833111445e-07}. Best is trial 40 with value: 20546.697467183913.\u001b[0m\n",
      "regularization_factors, val_score: 20546.697467:  35%|###5      | 7/20 [00:05<00:09,  1.33it/s]"
     ]
    },
    {
     "name": "stdout",
     "output_type": "stream",
     "text": [
      "[200]\tvalid_0's rmse: 16737.6\tvalid_1's rmse: 20900.7\n",
      "Early stopping, best iteration is:\n",
      "[175]\tvalid_0's rmse: 17220.7\tvalid_1's rmse: 20779.9\n",
      "[LightGBM] [Warning] Auto-choosing row-wise multi-threading, the overhead of testing was 0.000436 seconds.\n",
      "You can set `force_row_wise=true` to remove the overhead.\n",
      "And if memory is not enough, you can set `force_col_wise=true`.\n",
      "[LightGBM] [Info] Total Bins 1091\n",
      "[LightGBM] [Info] Number of data points in the train set: 25176, number of used features: 25\n",
      "[LightGBM] [Info] Start training from score 118435.786702\n",
      "Training until validation scores don't improve for 100 rounds\n",
      "[100]\tvalid_0's rmse: 18750.9\tvalid_1's rmse: 21478.2\n"
     ]
    },
    {
     "name": "stderr",
     "output_type": "stream",
     "text": [
      "regularization_factors, val_score: 20546.697467:  40%|####      | 8/20 [00:05<00:08,  1.35it/s]\u001b[32m[I 2021-02-21 10:53:37,229]\u001b[0m Trial 47 finished with value: 20779.911495555458 and parameters: {'lambda_l1': 0.6164389424998601, 'lambda_l2': 1.0722242655459713e-06}. Best is trial 40 with value: 20546.697467183913.\u001b[0m\n",
      "regularization_factors, val_score: 20546.697467:  40%|####      | 8/20 [00:05<00:08,  1.35it/s]"
     ]
    },
    {
     "name": "stdout",
     "output_type": "stream",
     "text": [
      "[200]\tvalid_0's rmse: 16737.6\tvalid_1's rmse: 20900.7\n",
      "Early stopping, best iteration is:\n",
      "[175]\tvalid_0's rmse: 17220.7\tvalid_1's rmse: 20779.9\n",
      "[LightGBM] [Warning] Auto-choosing row-wise multi-threading, the overhead of testing was 0.000599 seconds.\n",
      "You can set `force_row_wise=true` to remove the overhead.\n",
      "And if memory is not enough, you can set `force_col_wise=true`.\n",
      "[LightGBM] [Info] Total Bins 1091\n",
      "[LightGBM] [Info] Number of data points in the train set: 25176, number of used features: 25\n",
      "[LightGBM] [Info] Start training from score 118435.786702\n",
      "Training until validation scores don't improve for 100 rounds\n",
      "[100]\tvalid_0's rmse: 18576.1\tvalid_1's rmse: 21124.5\n"
     ]
    },
    {
     "name": "stderr",
     "output_type": "stream",
     "text": [
      "regularization_factors, val_score: 20546.697467:  45%|####5     | 9/20 [00:06<00:08,  1.35it/s]\u001b[32m[I 2021-02-21 10:53:37,959]\u001b[0m Trial 48 finished with value: 20599.248890219744 and parameters: {'lambda_l1': 0.0055982296651809265, 'lambda_l2': 0.00015719639424997332}. Best is trial 40 with value: 20546.697467183913.\u001b[0m\n",
      "regularization_factors, val_score: 20546.697467:  45%|####5     | 9/20 [00:06<00:08,  1.35it/s]"
     ]
    },
    {
     "name": "stdout",
     "output_type": "stream",
     "text": [
      "[200]\tvalid_0's rmse: 16647\tvalid_1's rmse: 20823\n",
      "Early stopping, best iteration is:\n",
      "[177]\tvalid_0's rmse: 16987.3\tvalid_1's rmse: 20599.2\n",
      "[LightGBM] [Warning] Auto-choosing row-wise multi-threading, the overhead of testing was 0.000350 seconds.\n",
      "You can set `force_row_wise=true` to remove the overhead.\n",
      "And if memory is not enough, you can set `force_col_wise=true`.\n",
      "[LightGBM] [Info] Total Bins 1091\n",
      "[LightGBM] [Info] Number of data points in the train set: 25176, number of used features: 25\n",
      "[LightGBM] [Info] Start training from score 118435.786702\n",
      "Training until validation scores don't improve for 100 rounds\n",
      "[100]\tvalid_0's rmse: 18576.1\tvalid_1's rmse: 21124.5\n"
     ]
    },
    {
     "name": "stderr",
     "output_type": "stream",
     "text": [
      "regularization_factors, val_score: 20546.697467:  50%|#####     | 10/20 [00:07<00:07,  1.27it/s]\u001b[32m[I 2021-02-21 10:53:38,859]\u001b[0m Trial 49 finished with value: 20599.259963477936 and parameters: {'lambda_l1': 0.0020676740761952418, 'lambda_l2': 0.0005626914288254053}. Best is trial 40 with value: 20546.697467183913.\u001b[0m\n",
      "regularization_factors, val_score: 20546.697467:  50%|#####     | 10/20 [00:07<00:07,  1.27it/s]"
     ]
    },
    {
     "name": "stdout",
     "output_type": "stream",
     "text": [
      "[200]\tvalid_0's rmse: 16647.1\tvalid_1's rmse: 20823\n",
      "Early stopping, best iteration is:\n",
      "[177]\tvalid_0's rmse: 16987.4\tvalid_1's rmse: 20599.3\n",
      "[LightGBM] [Warning] Auto-choosing row-wise multi-threading, the overhead of testing was 0.000360 seconds.\n",
      "You can set `force_row_wise=true` to remove the overhead.\n",
      "And if memory is not enough, you can set `force_col_wise=true`.\n",
      "[LightGBM] [Info] Total Bins 1091\n",
      "[LightGBM] [Info] Number of data points in the train set: 25176, number of used features: 25\n",
      "[LightGBM] [Info] Start training from score 118435.786702\n",
      "Training until validation scores don't improve for 100 rounds\n",
      "[100]\tvalid_0's rmse: 18586.8\tvalid_1's rmse: 20901.2\n"
     ]
    },
    {
     "name": "stderr",
     "output_type": "stream",
     "text": [
      "regularization_factors, val_score: 20311.724701:  55%|#####5    | 11/20 [00:08<00:07,  1.27it/s]\u001b[32m[I 2021-02-21 10:53:39,639]\u001b[0m Trial 50 finished with value: 20311.724701223728 and parameters: {'lambda_l1': 0.0005414431509359882, 'lambda_l2': 0.005890833547105945}. Best is trial 50 with value: 20311.724701223728.\u001b[0m\n",
      "regularization_factors, val_score: 20311.724701:  55%|#####5    | 11/20 [00:08<00:07,  1.27it/s]"
     ]
    },
    {
     "name": "stdout",
     "output_type": "stream",
     "text": [
      "[200]\tvalid_0's rmse: 16584.5\tvalid_1's rmse: 20431\n",
      "Early stopping, best iteration is:\n",
      "[170]\tvalid_0's rmse: 17154.2\tvalid_1's rmse: 20311.7\n",
      "[LightGBM] [Warning] Auto-choosing row-wise multi-threading, the overhead of testing was 0.000719 seconds.\n",
      "You can set `force_row_wise=true` to remove the overhead.\n",
      "And if memory is not enough, you can set `force_col_wise=true`.\n",
      "[LightGBM] [Info] Total Bins 1091\n",
      "[LightGBM] [Info] Number of data points in the train set: 25176, number of used features: 25\n",
      "[LightGBM] [Info] Start training from score 118435.786702\n",
      "Training until validation scores don't improve for 100 rounds\n",
      "[100]\tvalid_0's rmse: 18586.5\tvalid_1's rmse: 20901.1\n"
     ]
    },
    {
     "name": "stderr",
     "output_type": "stream",
     "text": [
      "regularization_factors, val_score: 20311.677216:  60%|######    | 12/20 [00:09<00:06,  1.31it/s]\u001b[32m[I 2021-02-21 10:53:40,360]\u001b[0m Trial 51 finished with value: 20311.67721592116 and parameters: {'lambda_l1': 0.0007058377996041125, 'lambda_l2': 0.003907551675973116}. Best is trial 51 with value: 20311.67721592116.\u001b[0m\n",
      "regularization_factors, val_score: 20311.677216:  60%|######    | 12/20 [00:09<00:06,  1.31it/s]"
     ]
    },
    {
     "name": "stdout",
     "output_type": "stream",
     "text": [
      "[200]\tvalid_0's rmse: 16584.2\tvalid_1's rmse: 20431\n",
      "Early stopping, best iteration is:\n",
      "[170]\tvalid_0's rmse: 17153.9\tvalid_1's rmse: 20311.7\n",
      "[LightGBM] [Warning] Auto-choosing row-wise multi-threading, the overhead of testing was 0.000426 seconds.\n",
      "You can set `force_row_wise=true` to remove the overhead.\n",
      "And if memory is not enough, you can set `force_col_wise=true`.\n",
      "[LightGBM] [Info] Total Bins 1091\n",
      "[LightGBM] [Info] Number of data points in the train set: 25176, number of used features: 25\n",
      "[LightGBM] [Info] Start training from score 118435.786702\n",
      "Training until validation scores don't improve for 100 rounds\n",
      "[100]\tvalid_0's rmse: 18587\tvalid_1's rmse: 20901.3\n"
     ]
    },
    {
     "name": "stderr",
     "output_type": "stream",
     "text": [
      "regularization_factors, val_score: 20311.677216:  65%|######5   | 13/20 [00:09<00:05,  1.29it/s]\u001b[32m[I 2021-02-21 10:53:41,165]\u001b[0m Trial 52 finished with value: 20324.022187439354 and parameters: {'lambda_l1': 0.0005030037824012359, 'lambda_l2': 0.008295850350209114}. Best is trial 51 with value: 20311.67721592116.\u001b[0m\n",
      "regularization_factors, val_score: 20311.677216:  65%|######5   | 13/20 [00:09<00:05,  1.29it/s]"
     ]
    },
    {
     "name": "stdout",
     "output_type": "stream",
     "text": [
      "[200]\tvalid_0's rmse: 16647.2\tvalid_1's rmse: 20398.3\n",
      "Early stopping, best iteration is:\n",
      "[176]\tvalid_0's rmse: 17033.1\tvalid_1's rmse: 20324\n",
      "[LightGBM] [Warning] Auto-choosing row-wise multi-threading, the overhead of testing was 0.000358 seconds.\n",
      "You can set `force_row_wise=true` to remove the overhead.\n",
      "And if memory is not enough, you can set `force_col_wise=true`.\n",
      "[LightGBM] [Info] Total Bins 1091\n",
      "[LightGBM] [Info] Number of data points in the train set: 25176, number of used features: 25\n",
      "[LightGBM] [Info] Start training from score 118435.786702\n",
      "Training until validation scores don't improve for 100 rounds\n",
      "[100]\tvalid_0's rmse: 18586.9\tvalid_1's rmse: 20901.3\n"
     ]
    },
    {
     "name": "stderr",
     "output_type": "stream",
     "text": [
      "regularization_factors, val_score: 20311.677216:  70%|#######   | 14/20 [00:10<00:04,  1.31it/s]\u001b[32m[I 2021-02-21 10:53:41,891]\u001b[0m Trial 53 finished with value: 20323.998681181223 and parameters: {'lambda_l1': 0.0007248816153934656, 'lambda_l2': 0.007213601186082069}. Best is trial 51 with value: 20311.67721592116.\u001b[0m\n",
      "regularization_factors, val_score: 20311.677216:  70%|#######   | 14/20 [00:10<00:04,  1.31it/s]"
     ]
    },
    {
     "name": "stdout",
     "output_type": "stream",
     "text": [
      "[200]\tvalid_0's rmse: 16647.1\tvalid_1's rmse: 20398.2\n",
      "Early stopping, best iteration is:\n",
      "[176]\tvalid_0's rmse: 17033\tvalid_1's rmse: 20324\n",
      "[LightGBM] [Warning] Auto-choosing row-wise multi-threading, the overhead of testing was 0.000354 seconds.\n",
      "You can set `force_row_wise=true` to remove the overhead.\n",
      "And if memory is not enough, you can set `force_col_wise=true`.\n",
      "[LightGBM] [Info] Total Bins 1091\n",
      "[LightGBM] [Info] Number of data points in the train set: 25176, number of used features: 25\n",
      "[LightGBM] [Info] Start training from score 118435.786702\n",
      "Training until validation scores don't improve for 100 rounds\n",
      "[100]\tvalid_0's rmse: 18587.3\tvalid_1's rmse: 20901.4\n"
     ]
    },
    {
     "name": "stderr",
     "output_type": "stream",
     "text": [
      "regularization_factors, val_score: 20311.677216:  75%|#######5  | 15/20 [00:11<00:03,  1.33it/s]\u001b[32m[I 2021-02-21 10:53:42,614]\u001b[0m Trial 54 finished with value: 20324.062903128284 and parameters: {'lambda_l1': 0.0004114651431076438, 'lambda_l2': 0.010169559503272677}. Best is trial 51 with value: 20311.67721592116.\u001b[0m\n",
      "regularization_factors, val_score: 20311.677216:  75%|#######5  | 15/20 [00:11<00:03,  1.33it/s]"
     ]
    },
    {
     "name": "stdout",
     "output_type": "stream",
     "text": [
      "[200]\tvalid_0's rmse: 16647.5\tvalid_1's rmse: 20398.3\n",
      "Early stopping, best iteration is:\n",
      "[176]\tvalid_0's rmse: 17033.4\tvalid_1's rmse: 20324.1\n",
      "[LightGBM] [Warning] Auto-choosing row-wise multi-threading, the overhead of testing was 0.000367 seconds.\n",
      "You can set `force_row_wise=true` to remove the overhead.\n",
      "And if memory is not enough, you can set `force_col_wise=true`.\n",
      "[LightGBM] [Info] Total Bins 1091\n",
      "[LightGBM] [Info] Number of data points in the train set: 25176, number of used features: 25\n",
      "[LightGBM] [Info] Start training from score 118435.786702\n",
      "Training until validation scores don't improve for 100 rounds\n",
      "[100]\tvalid_0's rmse: 18710.1\tvalid_1's rmse: 21339.3\n"
     ]
    },
    {
     "name": "stderr",
     "output_type": "stream",
     "text": [
      "regularization_factors, val_score: 20311.677216:  80%|########  | 16/20 [00:12<00:02,  1.34it/s]\u001b[32m[I 2021-02-21 10:53:43,354]\u001b[0m Trial 55 finished with value: 20733.54208731413 and parameters: {'lambda_l1': 4.464799924431175e-05, 'lambda_l2': 0.02165098189119694}. Best is trial 51 with value: 20311.67721592116.\u001b[0m\n",
      "regularization_factors, val_score: 20311.677216:  80%|########  | 16/20 [00:12<00:02,  1.34it/s]"
     ]
    },
    {
     "name": "stdout",
     "output_type": "stream",
     "text": [
      "[200]\tvalid_0's rmse: 16665.5\tvalid_1's rmse: 20804.3\n",
      "Early stopping, best iteration is:\n",
      "[175]\tvalid_0's rmse: 17219.7\tvalid_1's rmse: 20733.5\n",
      "[LightGBM] [Warning] Auto-choosing row-wise multi-threading, the overhead of testing was 0.000383 seconds.\n",
      "You can set `force_row_wise=true` to remove the overhead.\n",
      "And if memory is not enough, you can set `force_col_wise=true`.\n",
      "[LightGBM] [Info] Total Bins 1091\n",
      "[LightGBM] [Info] Number of data points in the train set: 25176, number of used features: 25\n",
      "[LightGBM] [Info] Start training from score 118435.786702\n",
      "Training until validation scores don't improve for 100 rounds\n",
      "[100]\tvalid_0's rmse: 18586.6\tvalid_1's rmse: 20901.2\n"
     ]
    },
    {
     "name": "stderr",
     "output_type": "stream",
     "text": [
      "regularization_factors, val_score: 20311.677216:  85%|########5 | 17/20 [00:12<00:02,  1.33it/s]\u001b[32m[I 2021-02-21 10:53:44,109]\u001b[0m Trial 56 finished with value: 20311.699688834204 and parameters: {'lambda_l1': 0.00027065927576633097, 'lambda_l2': 0.004846244287503362}. Best is trial 51 with value: 20311.67721592116.\u001b[0m\n",
      "regularization_factors, val_score: 20311.677216:  85%|########5 | 17/20 [00:12<00:02,  1.33it/s]"
     ]
    },
    {
     "name": "stdout",
     "output_type": "stream",
     "text": [
      "[200]\tvalid_0's rmse: 16584.4\tvalid_1's rmse: 20431\n",
      "Early stopping, best iteration is:\n",
      "[170]\tvalid_0's rmse: 17154\tvalid_1's rmse: 20311.7\n",
      "[LightGBM] [Warning] Auto-choosing row-wise multi-threading, the overhead of testing was 0.000745 seconds.\n",
      "You can set `force_row_wise=true` to remove the overhead.\n",
      "And if memory is not enough, you can set `force_col_wise=true`.\n",
      "[LightGBM] [Info] Total Bins 1091\n",
      "[LightGBM] [Info] Number of data points in the train set: 25176, number of used features: 25\n",
      "[LightGBM] [Info] Start training from score 118435.786702\n",
      "Training until validation scores don't improve for 100 rounds\n",
      "[100]\tvalid_0's rmse: 18641.8\tvalid_1's rmse: 21044.3\n"
     ]
    },
    {
     "name": "stderr",
     "output_type": "stream",
     "text": [
      "regularization_factors, val_score: 20311.677216:  90%|######### | 18/20 [00:13<00:01,  1.34it/s]\u001b[32m[I 2021-02-21 10:53:44,839]\u001b[0m Trial 57 finished with value: 20385.962486366698 and parameters: {'lambda_l1': 0.0001966351363611588, 'lambda_l2': 0.0022781317217798534}. Best is trial 51 with value: 20311.67721592116.\u001b[0m\n",
      "regularization_factors, val_score: 20311.677216:  90%|######### | 18/20 [00:13<00:01,  1.34it/s]"
     ]
    },
    {
     "name": "stdout",
     "output_type": "stream",
     "text": [
      "[200]\tvalid_0's rmse: 16650.4\tvalid_1's rmse: 20471.7\n",
      "Early stopping, best iteration is:\n",
      "[170]\tvalid_0's rmse: 17188.4\tvalid_1's rmse: 20386\n",
      "[LightGBM] [Warning] Auto-choosing row-wise multi-threading, the overhead of testing was 0.000376 seconds.\n",
      "You can set `force_row_wise=true` to remove the overhead.\n",
      "And if memory is not enough, you can set `force_col_wise=true`.\n",
      "[LightGBM] [Info] Total Bins 1091\n",
      "[LightGBM] [Info] Number of data points in the train set: 25176, number of used features: 25\n",
      "[LightGBM] [Info] Start training from score 118435.786702\n",
      "Training until validation scores don't improve for 100 rounds\n",
      "[100]\tvalid_0's rmse: 18586.7\tvalid_1's rmse: 20901.2\n"
     ]
    },
    {
     "name": "stderr",
     "output_type": "stream",
     "text": [
      "regularization_factors, val_score: 20311.677216:  95%|#########5| 19/20 [00:14<00:00,  1.34it/s]\u001b[32m[I 2021-02-21 10:53:45,589]\u001b[0m Trial 58 finished with value: 20311.707857161156 and parameters: {'lambda_l1': 0.0011717447852067158, 'lambda_l2': 0.00518709007231366}. Best is trial 51 with value: 20311.67721592116.\u001b[0m\n",
      "regularization_factors, val_score: 20311.677216:  95%|#########5| 19/20 [00:14<00:00,  1.34it/s]"
     ]
    },
    {
     "name": "stdout",
     "output_type": "stream",
     "text": [
      "[200]\tvalid_0's rmse: 16584.4\tvalid_1's rmse: 20431\n",
      "Early stopping, best iteration is:\n",
      "[170]\tvalid_0's rmse: 17154.1\tvalid_1's rmse: 20311.7\n",
      "[LightGBM] [Warning] Auto-choosing row-wise multi-threading, the overhead of testing was 0.000367 seconds.\n",
      "You can set `force_row_wise=true` to remove the overhead.\n",
      "And if memory is not enough, you can set `force_col_wise=true`.\n",
      "[LightGBM] [Info] Total Bins 1091\n",
      "[LightGBM] [Info] Number of data points in the train set: 25176, number of used features: 25\n",
      "[LightGBM] [Info] Start training from score 118435.786702\n",
      "Training until validation scores don't improve for 100 rounds\n",
      "[100]\tvalid_0's rmse: 18748.9\tvalid_1's rmse: 21287.6\n"
     ]
    },
    {
     "name": "stderr",
     "output_type": "stream",
     "text": [
      "regularization_factors, val_score: 20311.677216: 100%|##########| 20/20 [00:15<00:00,  1.36it/s]\u001b[32m[I 2021-02-21 10:53:46,305]\u001b[0m Trial 59 finished with value: 20622.429287474304 and parameters: {'lambda_l1': 0.004626648541722286, 'lambda_l2': 1.8085675116764852}. Best is trial 51 with value: 20311.67721592116.\u001b[0m\n",
      "regularization_factors, val_score: 20311.677216: 100%|##########| 20/20 [00:15<00:00,  1.33it/s]\n",
      "min_data_in_leaf, val_score: 20311.677216:   0%|          | 0/5 [00:00<?, ?it/s]"
     ]
    },
    {
     "name": "stdout",
     "output_type": "stream",
     "text": [
      "[200]\tvalid_0's rmse: 16756.9\tvalid_1's rmse: 20807.2\n",
      "Early stopping, best iteration is:\n",
      "[170]\tvalid_0's rmse: 17316.5\tvalid_1's rmse: 20622.4\n",
      "[LightGBM] [Warning] Auto-choosing row-wise multi-threading, the overhead of testing was 0.000744 seconds.\n",
      "You can set `force_row_wise=true` to remove the overhead.\n",
      "And if memory is not enough, you can set `force_col_wise=true`.\n",
      "[LightGBM] [Info] Total Bins 1091\n",
      "[LightGBM] [Info] Number of data points in the train set: 25176, number of used features: 25\n",
      "[LightGBM] [Info] Start training from score 118435.786702\n",
      "Training until validation scores don't improve for 100 rounds\n",
      "[100]\tvalid_0's rmse: 24943.9\tvalid_1's rmse: 25324.9\n",
      "[200]\tvalid_0's rmse: 22391.1\tvalid_1's rmse: 23676.9\n",
      "[300]\tvalid_0's rmse: 20985\tvalid_1's rmse: 23215.2\n",
      "[400]\tvalid_0's rmse: 20025.5\tvalid_1's rmse: 23165.6\n",
      "[500]\tvalid_0's rmse: 19320.7\tvalid_1's rmse: 22988.5\n",
      "[600]\tvalid_0's rmse: 18757.1\tvalid_1's rmse: 22859.5\n",
      "[700]\tvalid_0's rmse: 18261.4\tvalid_1's rmse: 22893.3\n"
     ]
    },
    {
     "name": "stderr",
     "output_type": "stream",
     "text": [
      "min_data_in_leaf, val_score: 20311.677216:  20%|##        | 1/5 [00:02<00:09,  2.34s/it]\u001b[32m[I 2021-02-21 10:53:48,651]\u001b[0m Trial 60 finished with value: 22786.758130612056 and parameters: {'min_child_samples': 100}. Best is trial 60 with value: 22786.758130612056.\u001b[0m\n",
      "min_data_in_leaf, val_score: 20311.677216:  20%|##        | 1/5 [00:02<00:09,  2.34s/it]"
     ]
    },
    {
     "name": "stdout",
     "output_type": "stream",
     "text": [
      "[800]\tvalid_0's rmse: 17771.7\tvalid_1's rmse: 22997\n",
      "Early stopping, best iteration is:\n",
      "[733]\tvalid_0's rmse: 18089.6\tvalid_1's rmse: 22786.8\n",
      "[LightGBM] [Warning] Auto-choosing row-wise multi-threading, the overhead of testing was 0.000715 seconds.\n",
      "You can set `force_row_wise=true` to remove the overhead.\n",
      "And if memory is not enough, you can set `force_col_wise=true`.\n",
      "[LightGBM] [Info] Total Bins 1091\n",
      "[LightGBM] [Info] Number of data points in the train set: 25176, number of used features: 25\n",
      "[LightGBM] [Info] Start training from score 118435.786702\n",
      "Training until validation scores don't improve for 100 rounds\n",
      "[100]\tvalid_0's rmse: 19165.1\tvalid_1's rmse: 22135.8\n",
      "[200]\tvalid_0's rmse: 17048.3\tvalid_1's rmse: 21482.5\n",
      "[300]\tvalid_0's rmse: 15868.7\tvalid_1's rmse: 21352.2\n"
     ]
    },
    {
     "name": "stderr",
     "output_type": "stream",
     "text": [
      "min_data_in_leaf, val_score: 20311.677216:  40%|####      | 2/5 [00:03<00:04,  1.58s/it]\u001b[32m[I 2021-02-21 10:53:49,707]\u001b[0m Trial 61 finished with value: 21239.97558481273 and parameters: {'min_child_samples': 25}. Best is trial 61 with value: 21239.97558481273.\u001b[0m\n",
      "min_data_in_leaf, val_score: 20311.677216:  40%|####      | 2/5 [00:03<00:04,  1.58s/it]"
     ]
    },
    {
     "name": "stdout",
     "output_type": "stream",
     "text": [
      "[400]\tvalid_0's rmse: 15048.6\tvalid_1's rmse: 21580.9\n",
      "Early stopping, best iteration is:\n",
      "[313]\tvalid_0's rmse: 15753.5\tvalid_1's rmse: 21240\n",
      "[LightGBM] [Warning] Auto-choosing row-wise multi-threading, the overhead of testing was 0.000357 seconds.\n",
      "You can set `force_row_wise=true` to remove the overhead.\n",
      "And if memory is not enough, you can set `force_col_wise=true`.\n",
      "[LightGBM] [Info] Total Bins 1091\n",
      "[LightGBM] [Info] Number of data points in the train set: 25176, number of used features: 25\n",
      "[LightGBM] [Info] Start training from score 118435.786702\n",
      "Training until validation scores don't improve for 100 rounds\n",
      "[100]\tvalid_0's rmse: 21742\tvalid_1's rmse: 23120.7\n",
      "[200]\tvalid_0's rmse: 19490.5\tvalid_1's rmse: 22089.5\n",
      "[300]\tvalid_0's rmse: 18320.9\tvalid_1's rmse: 22003.4\n"
     ]
    },
    {
     "name": "stderr",
     "output_type": "stream",
     "text": [
      "min_data_in_leaf, val_score: 20311.677216:  60%|######    | 3/5 [00:04<00:02,  1.39s/it]\u001b[32m[I 2021-02-21 10:53:50,865]\u001b[0m Trial 62 finished with value: 21847.72827060151 and parameters: {'min_child_samples': 50}. Best is trial 61 with value: 21239.97558481273.\u001b[0m\n",
      "min_data_in_leaf, val_score: 20311.677216:  60%|######    | 3/5 [00:04<00:02,  1.39s/it]"
     ]
    },
    {
     "name": "stdout",
     "output_type": "stream",
     "text": [
      "[400]\tvalid_0's rmse: 17438.7\tvalid_1's rmse: 22027.4\n",
      "Early stopping, best iteration is:\n",
      "[321]\tvalid_0's rmse: 18095.8\tvalid_1's rmse: 21847.7\n",
      "[LightGBM] [Warning] Auto-choosing row-wise multi-threading, the overhead of testing was 0.000355 seconds.\n",
      "You can set `force_row_wise=true` to remove the overhead.\n",
      "And if memory is not enough, you can set `force_col_wise=true`.\n",
      "[LightGBM] [Info] Total Bins 1091\n",
      "[LightGBM] [Info] Number of data points in the train set: 25176, number of used features: 25\n",
      "[LightGBM] [Info] Start training from score 118435.786702\n",
      "Training until validation scores don't improve for 100 rounds\n",
      "[100]\tvalid_0's rmse: 14243.4\tvalid_1's rmse: 22219.1\n",
      "[200]\tvalid_0's rmse: 11991.4\tvalid_1's rmse: 22242.4\n"
     ]
    },
    {
     "name": "stderr",
     "output_type": "stream",
     "text": [
      "min_data_in_leaf, val_score: 20311.677216:  80%|########  | 4/5 [00:05<00:01,  1.08s/it]\u001b[32m[I 2021-02-21 10:53:51,464]\u001b[0m Trial 63 finished with value: 22031.386401442924 and parameters: {'min_child_samples': 5}. Best is trial 61 with value: 21239.97558481273.\u001b[0m\n",
      "min_data_in_leaf, val_score: 20311.677216:  80%|########  | 4/5 [00:05<00:01,  1.08s/it]"
     ]
    },
    {
     "name": "stdout",
     "output_type": "stream",
     "text": [
      "Early stopping, best iteration is:\n",
      "[142]\tvalid_0's rmse: 13192.3\tvalid_1's rmse: 22031.4\n",
      "[LightGBM] [Warning] Auto-choosing row-wise multi-threading, the overhead of testing was 0.000358 seconds.\n",
      "You can set `force_row_wise=true` to remove the overhead.\n",
      "And if memory is not enough, you can set `force_col_wise=true`.\n",
      "[LightGBM] [Info] Total Bins 1091\n",
      "[LightGBM] [Info] Number of data points in the train set: 25176, number of used features: 25\n",
      "[LightGBM] [Info] Start training from score 118435.786702\n",
      "Training until validation scores don't improve for 100 rounds\n",
      "[100]\tvalid_0's rmse: 15860.9\tvalid_1's rmse: 21749.2\n",
      "[200]\tvalid_0's rmse: 13362.3\tvalid_1's rmse: 21240.7\n",
      "[300]\tvalid_0's rmse: 12039.7\tvalid_1's rmse: 21013.4\n",
      "[400]\tvalid_0's rmse: 11054.9\tvalid_1's rmse: 20904.4\n"
     ]
    },
    {
     "name": "stderr",
     "output_type": "stream",
     "text": [
      "min_data_in_leaf, val_score: 20311.677216: 100%|##########| 5/5 [00:06<00:00,  1.07s/it]\u001b[32m[I 2021-02-21 10:53:52,527]\u001b[0m Trial 64 finished with value: 20820.32626344882 and parameters: {'min_child_samples': 10}. Best is trial 64 with value: 20820.32626344882.\u001b[0m\n",
      "min_data_in_leaf, val_score: 20311.677216: 100%|##########| 5/5 [00:06<00:00,  1.24s/it]\n",
      "\u001b[32m[I 2021-02-21 10:53:52,538]\u001b[0m A new study created in memory with name: no-name-c4b53c06-cf85-4ba8-bbe3-53a964387319\u001b[0m\n",
      "feature_fraction, val_score: inf:   0%|          | 0/7 [00:00<?, ?it/s]"
     ]
    },
    {
     "name": "stdout",
     "output_type": "stream",
     "text": [
      "Early stopping, best iteration is:\n",
      "[367]\tvalid_0's rmse: 11330.3\tvalid_1's rmse: 20820.3\n",
      "[LightGBM] [Warning] Auto-choosing row-wise multi-threading, the overhead of testing was 0.000380 seconds.\n",
      "You can set `force_row_wise=true` to remove the overhead.\n",
      "And if memory is not enough, you can set `force_col_wise=true`.\n",
      "[LightGBM] [Info] Total Bins 1084\n",
      "[LightGBM] [Info] Number of data points in the train set: 25176, number of used features: 25\n",
      "[LightGBM] [Info] Start training from score 117892.049333\n",
      "Training until validation scores don't improve for 100 rounds\n"
     ]
    },
    {
     "name": "stderr",
     "output_type": "stream",
     "text": [
      "feature_fraction, val_score: 20414.568389:  14%|#4        | 1/7 [00:00<00:02,  2.45it/s]\u001b[32m[I 2021-02-21 10:53:52,951]\u001b[0m Trial 0 finished with value: 20414.568389346907 and parameters: {'feature_fraction': 0.8}. Best is trial 0 with value: 20414.568389346907.\u001b[0m\n",
      "feature_fraction, val_score: 20414.568389:  14%|#4        | 1/7 [00:00<00:02,  2.45it/s]"
     ]
    },
    {
     "name": "stdout",
     "output_type": "stream",
     "text": [
      "[100]\tvalid_0's rmse: 17423.2\tvalid_1's rmse: 20467.4\n",
      "Early stopping, best iteration is:\n",
      "[90]\tvalid_0's rmse: 17732\tvalid_1's rmse: 20414.6\n",
      "[LightGBM] [Warning] Auto-choosing col-wise multi-threading, the overhead of testing was 0.002250 seconds.\n",
      "You can set `force_col_wise=true` to remove the overhead.\n",
      "[LightGBM] [Info] Total Bins 1084\n",
      "[LightGBM] [Info] Number of data points in the train set: 25176, number of used features: 25\n",
      "[LightGBM] [Info] Start training from score 117892.049333\n",
      "Training until validation scores don't improve for 100 rounds\n",
      "[100]\tvalid_0's rmse: 17270\tvalid_1's rmse: 19993.7\n",
      "[200]\tvalid_0's rmse: 14847.7\tvalid_1's rmse: 19486.9\n",
      "[300]\tvalid_0's rmse: 13348\tvalid_1's rmse: 19444.3\n",
      "[400]\tvalid_0's rmse: 12243.6\tvalid_1's rmse: 19308.8\n",
      "[500]\tvalid_0's rmse: 11347.2\tvalid_1's rmse: 19298.2\n",
      "[600]\tvalid_0's rmse: 10586.6\tvalid_1's rmse: 19230.6\n",
      "[700]\tvalid_0's rmse: 9872.77\tvalid_1's rmse: 19200.8\n",
      "[800]\tvalid_0's rmse: 9312.01\tvalid_1's rmse: 19105.4\n",
      "[900]\tvalid_0's rmse: 8846.28\tvalid_1's rmse: 19039.7\n",
      "Early stopping, best iteration is:\n",
      "[852]\tvalid_0's rmse: 9051.23\tvalid_1's rmse: 19019.7\n"
     ]
    },
    {
     "name": "stderr",
     "output_type": "stream",
     "text": [
      "feature_fraction, val_score: 19019.655628:  29%|##8       | 2/7 [00:02<00:06,  1.29s/it]\u001b[32m[I 2021-02-21 10:53:54,857]\u001b[0m Trial 1 finished with value: 19019.65562804947 and parameters: {'feature_fraction': 0.5}. Best is trial 1 with value: 19019.65562804947.\u001b[0m\n",
      "feature_fraction, val_score: 19019.655628:  29%|##8       | 2/7 [00:02<00:06,  1.29s/it]"
     ]
    },
    {
     "name": "stdout",
     "output_type": "stream",
     "text": [
      "[LightGBM] [Warning] Auto-choosing row-wise multi-threading, the overhead of testing was 0.000385 seconds.\n",
      "You can set `force_row_wise=true` to remove the overhead.\n",
      "And if memory is not enough, you can set `force_col_wise=true`.\n",
      "[LightGBM] [Info] Total Bins 1084\n",
      "[LightGBM] [Info] Number of data points in the train set: 25176, number of used features: 25\n",
      "[LightGBM] [Info] Start training from score 117892.049333\n",
      "Training until validation scores don't improve for 100 rounds\n"
     ]
    },
    {
     "name": "stderr",
     "output_type": "stream",
     "text": [
      "feature_fraction, val_score: 19019.655628:  43%|####2     | 3/7 [00:02<00:03,  1.11it/s]\u001b[32m[I 2021-02-21 10:53:55,295]\u001b[0m Trial 2 finished with value: 20148.4153499851 and parameters: {'feature_fraction': 1.0}. Best is trial 1 with value: 19019.65562804947.\u001b[0m\n",
      "feature_fraction, val_score: 19019.655628:  43%|####2     | 3/7 [00:02<00:03,  1.11it/s]"
     ]
    },
    {
     "name": "stdout",
     "output_type": "stream",
     "text": [
      "[100]\tvalid_0's rmse: 17671.8\tvalid_1's rmse: 20178.2\n",
      "Early stopping, best iteration is:\n",
      "[91]\tvalid_0's rmse: 17909.6\tvalid_1's rmse: 20148.4\n",
      "[LightGBM] [Warning] Auto-choosing row-wise multi-threading, the overhead of testing was 0.000232 seconds.\n",
      "You can set `force_row_wise=true` to remove the overhead.\n",
      "And if memory is not enough, you can set `force_col_wise=true`.\n",
      "[LightGBM] [Info] Total Bins 1084\n",
      "[LightGBM] [Info] Number of data points in the train set: 25176, number of used features: 25\n",
      "[LightGBM] [Info] Start training from score 117892.049333\n",
      "Training until validation scores don't improve for 100 rounds\n",
      "[100]\tvalid_0's rmse: 17946.4\tvalid_1's rmse: 20689.4\n",
      "[200]\tvalid_0's rmse: 14721.8\tvalid_1's rmse: 19579.7\n",
      "[300]\tvalid_0's rmse: 13182.3\tvalid_1's rmse: 19346.6\n",
      "[400]\tvalid_0's rmse: 12125.4\tvalid_1's rmse: 19213.4\n",
      "[500]\tvalid_0's rmse: 11219\tvalid_1's rmse: 19103.5\n",
      "[600]\tvalid_0's rmse: 10520\tvalid_1's rmse: 19038.9\n"
     ]
    },
    {
     "name": "stderr",
     "output_type": "stream",
     "text": [
      "feature_fraction, val_score: 19018.990704:  57%|#####7    | 4/7 [00:04<00:03,  1.08s/it]\u001b[32m[I 2021-02-21 10:53:56,661]\u001b[0m Trial 3 finished with value: 19018.990703738196 and parameters: {'feature_fraction': 0.4}. Best is trial 3 with value: 19018.990703738196.\u001b[0m\n",
      "feature_fraction, val_score: 19018.990704:  57%|#####7    | 4/7 [00:04<00:03,  1.08s/it]"
     ]
    },
    {
     "name": "stdout",
     "output_type": "stream",
     "text": [
      "Early stopping, best iteration is:\n",
      "[574]\tvalid_0's rmse: 10708.4\tvalid_1's rmse: 19019\n",
      "[LightGBM] [Warning] Auto-choosing row-wise multi-threading, the overhead of testing was 0.000694 seconds.\n",
      "You can set `force_row_wise=true` to remove the overhead.\n",
      "And if memory is not enough, you can set `force_col_wise=true`.\n",
      "[LightGBM] [Info] Total Bins 1084\n",
      "[LightGBM] [Info] Number of data points in the train set: 25176, number of used features: 25\n",
      "[LightGBM] [Info] Start training from score 117892.049333\n",
      "Training until validation scores don't improve for 100 rounds\n"
     ]
    },
    {
     "name": "stderr",
     "output_type": "stream",
     "text": [
      "feature_fraction, val_score: 19018.990704:  71%|#######1  | 5/7 [00:04<00:01,  1.12it/s]\u001b[32m[I 2021-02-21 10:53:57,213]\u001b[0m Trial 4 finished with value: 20022.746255894595 and parameters: {'feature_fraction': 0.8999999999999999}. Best is trial 3 with value: 19018.990703738196.\u001b[0m\n",
      "feature_fraction, val_score: 19018.990704:  71%|#######1  | 5/7 [00:04<00:01,  1.12it/s]"
     ]
    },
    {
     "name": "stdout",
     "output_type": "stream",
     "text": [
      "[100]\tvalid_0's rmse: 17590.2\tvalid_1's rmse: 20035.6\n",
      "Early stopping, best iteration is:\n",
      "[99]\tvalid_0's rmse: 17614.4\tvalid_1's rmse: 20022.7\n",
      "[LightGBM] [Warning] Auto-choosing row-wise multi-threading, the overhead of testing was 0.000362 seconds.\n",
      "You can set `force_row_wise=true` to remove the overhead.\n",
      "And if memory is not enough, you can set `force_col_wise=true`.\n",
      "[LightGBM] [Info] Total Bins 1084\n",
      "[LightGBM] [Info] Number of data points in the train set: 25176, number of used features: 25\n",
      "[LightGBM] [Info] Start training from score 117892.049333\n",
      "Training until validation scores don't improve for 100 rounds\n",
      "[100]\tvalid_0's rmse: 17110.4\tvalid_1's rmse: 20013.4\n"
     ]
    },
    {
     "name": "stderr",
     "output_type": "stream",
     "text": [
      "feature_fraction, val_score: 19018.990704:  86%|########5 | 6/7 [00:05<00:00,  1.30it/s]\u001b[32m[I 2021-02-21 10:53:57,746]\u001b[0m Trial 5 finished with value: 19862.453374830646 and parameters: {'feature_fraction': 0.6}. Best is trial 3 with value: 19018.990703738196.\u001b[0m\n",
      "feature_fraction, val_score: 19018.990704:  86%|########5 | 6/7 [00:05<00:00,  1.30it/s]"
     ]
    },
    {
     "name": "stdout",
     "output_type": "stream",
     "text": [
      "[200]\tvalid_0's rmse: 14849.3\tvalid_1's rmse: 19931.3\n",
      "Early stopping, best iteration is:\n",
      "[168]\tvalid_0's rmse: 15391.4\tvalid_1's rmse: 19862.5\n",
      "[LightGBM] [Warning] Auto-choosing row-wise multi-threading, the overhead of testing was 0.000388 seconds.\n",
      "You can set `force_row_wise=true` to remove the overhead.\n",
      "And if memory is not enough, you can set `force_col_wise=true`.\n",
      "[LightGBM] [Info] Total Bins 1084\n",
      "[LightGBM] [Info] Number of data points in the train set: 25176, number of used features: 25\n",
      "[LightGBM] [Info] Start training from score 117892.049333\n",
      "Training until validation scores don't improve for 100 rounds\n",
      "[100]\tvalid_0's rmse: 17234.6\tvalid_1's rmse: 20084.5\n",
      "[200]\tvalid_0's rmse: 15152.1\tvalid_1's rmse: 20022\n",
      "[300]\tvalid_0's rmse: 13461.7\tvalid_1's rmse: 20013.6\n",
      "[400]\tvalid_0's rmse: 12204.7\tvalid_1's rmse: 20012.3\n"
     ]
    },
    {
     "name": "stderr",
     "output_type": "stream",
     "text": [
      "feature_fraction, val_score: 19018.990704: 100%|##########| 7/7 [00:06<00:00,  1.24it/s]\u001b[32m[I 2021-02-21 10:53:58,622]\u001b[0m Trial 6 finished with value: 19873.465995988194 and parameters: {'feature_fraction': 0.7}. Best is trial 3 with value: 19018.990703738196.\u001b[0m\n",
      "feature_fraction, val_score: 19018.990704: 100%|##########| 7/7 [00:06<00:00,  1.15it/s]\n",
      "num_leaves, val_score: 19018.990704:   0%|          | 0/20 [00:00<?, ?it/s]"
     ]
    },
    {
     "name": "stdout",
     "output_type": "stream",
     "text": [
      "Early stopping, best iteration is:\n",
      "[383]\tvalid_0's rmse: 12394.3\tvalid_1's rmse: 19873.5\n",
      "[LightGBM] [Warning] Auto-choosing row-wise multi-threading, the overhead of testing was 0.000253 seconds.\n",
      "You can set `force_row_wise=true` to remove the overhead.\n",
      "And if memory is not enough, you can set `force_col_wise=true`.\n",
      "[LightGBM] [Info] Total Bins 1084\n",
      "[LightGBM] [Info] Number of data points in the train set: 25176, number of used features: 25\n",
      "[LightGBM] [Info] Start training from score 117892.049333\n",
      "Training until validation scores don't improve for 100 rounds\n",
      "[100]\tvalid_0's rmse: 18964.7\tvalid_1's rmse: 21297.7\n",
      "[200]\tvalid_0's rmse: 15931.3\tvalid_1's rmse: 20353.2\n",
      "[300]\tvalid_0's rmse: 14543.2\tvalid_1's rmse: 19980.1\n",
      "[400]\tvalid_0's rmse: 13642.9\tvalid_1's rmse: 19864.4\n"
     ]
    },
    {
     "name": "stderr",
     "output_type": "stream",
     "text": [
      "num_leaves, val_score: 19018.990704:   5%|5         | 1/20 [00:00<00:15,  1.25it/s]\u001b[32m[I 2021-02-21 10:53:59,426]\u001b[0m Trial 7 finished with value: 19791.68846160695 and parameters: {'num_leaves': 21}. Best is trial 7 with value: 19791.68846160695.\u001b[0m\n",
      "num_leaves, val_score: 19018.990704:   5%|5         | 1/20 [00:00<00:15,  1.25it/s]"
     ]
    },
    {
     "name": "stdout",
     "output_type": "stream",
     "text": [
      "[500]\tvalid_0's rmse: 12826.6\tvalid_1's rmse: 19810.3\n",
      "Early stopping, best iteration is:\n",
      "[487]\tvalid_0's rmse: 12916.4\tvalid_1's rmse: 19791.7\n",
      "[LightGBM] [Warning] Auto-choosing row-wise multi-threading, the overhead of testing was 0.000272 seconds.\n",
      "You can set `force_row_wise=true` to remove the overhead.\n",
      "And if memory is not enough, you can set `force_col_wise=true`.\n",
      "[LightGBM] [Info] Total Bins 1084\n",
      "[LightGBM] [Info] Number of data points in the train set: 25176, number of used features: 25\n",
      "[LightGBM] [Info] Start training from score 117892.049333\n",
      "Training until validation scores don't improve for 100 rounds\n",
      "[100]\tvalid_0's rmse: 13485.8\tvalid_1's rmse: 20859.1\n",
      "[200]\tvalid_0's rmse: 9340.82\tvalid_1's rmse: 20488\n"
     ]
    },
    {
     "name": "stderr",
     "output_type": "stream",
     "text": [
      "num_leaves, val_score: 19018.990704:  10%|#         | 2/20 [00:02<00:25,  1.40s/it]\u001b[32m[I 2021-02-21 10:54:01,256]\u001b[0m Trial 8 finished with value: 20471.812009269393 and parameters: {'num_leaves': 235}. Best is trial 7 with value: 19791.68846160695.\u001b[0m\n",
      "num_leaves, val_score: 19018.990704:  10%|#         | 2/20 [00:02<00:25,  1.40s/it]"
     ]
    },
    {
     "name": "stdout",
     "output_type": "stream",
     "text": [
      "Early stopping, best iteration is:\n",
      "[179]\tvalid_0's rmse: 9915.06\tvalid_1's rmse: 20471.8\n",
      "[LightGBM] [Warning] Auto-choosing row-wise multi-threading, the overhead of testing was 0.000236 seconds.\n",
      "You can set `force_row_wise=true` to remove the overhead.\n",
      "And if memory is not enough, you can set `force_col_wise=true`.\n",
      "[LightGBM] [Info] Total Bins 1084\n",
      "[LightGBM] [Info] Number of data points in the train set: 25176, number of used features: 25\n",
      "[LightGBM] [Info] Start training from score 117892.049333\n",
      "Training until validation scores don't improve for 100 rounds\n",
      "[100]\tvalid_0's rmse: 14716.6\tvalid_1's rmse: 20481.3\n",
      "[200]\tvalid_0's rmse: 10863.9\tvalid_1's rmse: 20272.9\n",
      "[300]\tvalid_0's rmse: 8953.31\tvalid_1's rmse: 20254.5\n",
      "[400]\tvalid_0's rmse: 7611.04\tvalid_1's rmse: 20187.6\n",
      "[500]\tvalid_0's rmse: 6483.2\tvalid_1's rmse: 20113.1\n",
      "[600]\tvalid_0's rmse: 5551.87\tvalid_1's rmse: 20068.1\n",
      "[700]\tvalid_0's rmse: 4879.39\tvalid_1's rmse: 20061.5\n",
      "[800]\tvalid_0's rmse: 4304.25\tvalid_1's rmse: 20009.9\n",
      "[900]\tvalid_0's rmse: 3828.18\tvalid_1's rmse: 19975.1\n",
      "[1000]\tvalid_0's rmse: 3421.18\tvalid_1's rmse: 19947.8\n",
      "Did not meet early stopping. Best iteration is:\n",
      "[1000]\tvalid_0's rmse: 3421.18\tvalid_1's rmse: 19947.8\n"
     ]
    },
    {
     "name": "stderr",
     "output_type": "stream",
     "text": [
      "num_leaves, val_score: 19018.990704:  15%|#5        | 3/20 [00:06<00:40,  2.36s/it]\u001b[32m[I 2021-02-21 10:54:04,762]\u001b[0m Trial 9 finished with value: 19947.809737085834 and parameters: {'num_leaves': 124}. Best is trial 7 with value: 19791.68846160695.\u001b[0m\n",
      "num_leaves, val_score: 19018.990704:  15%|#5        | 3/20 [00:06<00:40,  2.36s/it]"
     ]
    },
    {
     "name": "stdout",
     "output_type": "stream",
     "text": [
      "[LightGBM] [Warning] Auto-choosing row-wise multi-threading, the overhead of testing was 0.000291 seconds.\n",
      "You can set `force_row_wise=true` to remove the overhead.\n",
      "And if memory is not enough, you can set `force_col_wise=true`.\n",
      "[LightGBM] [Info] Total Bins 1084\n",
      "[LightGBM] [Info] Number of data points in the train set: 25176, number of used features: 25\n",
      "[LightGBM] [Info] Start training from score 117892.049333\n",
      "Training until validation scores don't improve for 100 rounds\n",
      "[100]\tvalid_0's rmse: 13358.8\tvalid_1's rmse: 20666.7\n",
      "[200]\tvalid_0's rmse: 9325.71\tvalid_1's rmse: 20411.5\n"
     ]
    },
    {
     "name": "stderr",
     "output_type": "stream",
     "text": [
      "num_leaves, val_score: 19018.990704:  20%|##        | 4/20 [00:08<00:36,  2.31s/it]\u001b[32m[I 2021-02-21 10:54:06,979]\u001b[0m Trial 10 finished with value: 20335.781498755503 and parameters: {'num_leaves': 254}. Best is trial 7 with value: 19791.68846160695.\u001b[0m\n",
      "num_leaves, val_score: 19018.990704:  20%|##        | 4/20 [00:08<00:36,  2.31s/it]"
     ]
    },
    {
     "name": "stdout",
     "output_type": "stream",
     "text": [
      "Early stopping, best iteration is:\n",
      "[173]\tvalid_0's rmse: 10064.4\tvalid_1's rmse: 20335.8\n",
      "[LightGBM] [Warning] Auto-choosing row-wise multi-threading, the overhead of testing was 0.000242 seconds.\n",
      "You can set `force_row_wise=true` to remove the overhead.\n",
      "And if memory is not enough, you can set `force_col_wise=true`.\n",
      "[LightGBM] [Info] Total Bins 1084\n",
      "[LightGBM] [Info] Number of data points in the train set: 25176, number of used features: 25\n",
      "[LightGBM] [Info] Start training from score 117892.049333\n",
      "Training until validation scores don't improve for 100 rounds\n",
      "[100]\tvalid_0's rmse: 22398.3\tvalid_1's rmse: 22698.3\n",
      "[200]\tvalid_0's rmse: 19779.1\tvalid_1's rmse: 21377.4\n",
      "[300]\tvalid_0's rmse: 18412\tvalid_1's rmse: 20882.9\n"
     ]
    },
    {
     "name": "stderr",
     "output_type": "stream",
     "text": [
      "num_leaves, val_score: 19018.990704:  25%|##5       | 5/20 [00:08<00:25,  1.67s/it]\u001b[32m[I 2021-02-21 10:54:07,525]\u001b[0m Trial 11 finished with value: 20488.34032103679 and parameters: {'num_leaves': 7}. Best is trial 7 with value: 19791.68846160695.\u001b[0m\n",
      "num_leaves, val_score: 19018.990704:  25%|##5       | 5/20 [00:08<00:25,  1.67s/it]"
     ]
    },
    {
     "name": "stdout",
     "output_type": "stream",
     "text": [
      "[400]\tvalid_0's rmse: 17398.7\tvalid_1's rmse: 20618.1\n",
      "[500]\tvalid_0's rmse: 16629.3\tvalid_1's rmse: 20550.3\n",
      "[600]\tvalid_0's rmse: 16026\tvalid_1's rmse: 20603.9\n",
      "Early stopping, best iteration is:\n",
      "[518]\tvalid_0's rmse: 16531.5\tvalid_1's rmse: 20488.3\n",
      "[LightGBM] [Warning] Auto-choosing col-wise multi-threading, the overhead of testing was 0.003317 seconds.\n",
      "You can set `force_col_wise=true` to remove the overhead.\n",
      "[LightGBM] [Info] Total Bins 1084\n",
      "[LightGBM] [Info] Number of data points in the train set: 25176, number of used features: 25\n",
      "[LightGBM] [Info] Start training from score 117892.049333\n",
      "Training until validation scores don't improve for 100 rounds\n",
      "[100]\tvalid_0's rmse: 14593.5\tvalid_1's rmse: 20331.2\n",
      "[200]\tvalid_0's rmse: 10798.1\tvalid_1's rmse: 19951.4\n",
      "[300]\tvalid_0's rmse: 8738.77\tvalid_1's rmse: 19810.7\n",
      "[400]\tvalid_0's rmse: 7376.85\tvalid_1's rmse: 19768.3\n",
      "[500]\tvalid_0's rmse: 6281.4\tvalid_1's rmse: 19760.9\n",
      "[600]\tvalid_0's rmse: 5271.92\tvalid_1's rmse: 19678.8\n",
      "[700]\tvalid_0's rmse: 4568\tvalid_1's rmse: 19682.2\n",
      "Early stopping, best iteration is:\n",
      "[614]\tvalid_0's rmse: 5155.35\tvalid_1's rmse: 19655.6\n"
     ]
    },
    {
     "name": "stderr",
     "output_type": "stream",
     "text": [
      "num_leaves, val_score: 19018.990704:  30%|###       | 6/20 [00:11<00:27,  1.97s/it]\u001b[32m[I 2021-02-21 10:54:10,070]\u001b[0m Trial 12 finished with value: 19655.552465749563 and parameters: {'num_leaves': 137}. Best is trial 12 with value: 19655.552465749563.\u001b[0m\n",
      "num_leaves, val_score: 19018.990704:  30%|###       | 6/20 [00:11<00:27,  1.97s/it]"
     ]
    },
    {
     "name": "stdout",
     "output_type": "stream",
     "text": [
      "[LightGBM] [Warning] Auto-choosing col-wise multi-threading, the overhead of testing was 0.001919 seconds.\n",
      "You can set `force_col_wise=true` to remove the overhead.\n",
      "[LightGBM] [Info] Total Bins 1084\n",
      "[LightGBM] [Info] Number of data points in the train set: 25176, number of used features: 25\n",
      "[LightGBM] [Info] Start training from score 117892.049333\n",
      "Training until validation scores don't improve for 100 rounds\n",
      "[100]\tvalid_0's rmse: 15143.3\tvalid_1's rmse: 20353\n",
      "[200]\tvalid_0's rmse: 11263.3\tvalid_1's rmse: 19565.8\n",
      "[300]\tvalid_0's rmse: 9352.45\tvalid_1's rmse: 19418.1\n",
      "[400]\tvalid_0's rmse: 8113.78\tvalid_1's rmse: 19363.8\n",
      "[500]\tvalid_0's rmse: 7113.2\tvalid_1's rmse: 19336.1\n",
      "[600]\tvalid_0's rmse: 6198.24\tvalid_1's rmse: 19219.2\n",
      "[700]\tvalid_0's rmse: 5494.37\tvalid_1's rmse: 19191.7\n",
      "[800]\tvalid_0's rmse: 4935.08\tvalid_1's rmse: 19142.7\n",
      "[900]\tvalid_0's rmse: 4450.35\tvalid_1's rmse: 19121.5\n",
      "[1000]\tvalid_0's rmse: 4061.86\tvalid_1's rmse: 19101.7\n",
      "Did not meet early stopping. Best iteration is:\n",
      "[1000]\tvalid_0's rmse: 4061.86\tvalid_1's rmse: 19101.7\n"
     ]
    },
    {
     "name": "stderr",
     "output_type": "stream",
     "text": [
      "num_leaves, val_score: 19018.990704:  35%|###5      | 7/20 [00:14<00:29,  2.25s/it]\u001b[32m[I 2021-02-21 10:54:12,910]\u001b[0m Trial 13 finished with value: 19101.69611651518 and parameters: {'num_leaves': 99}. Best is trial 13 with value: 19101.69611651518.\u001b[0m\n",
      "num_leaves, val_score: 19018.990704:  35%|###5      | 7/20 [00:14<00:29,  2.25s/it]"
     ]
    },
    {
     "name": "stdout",
     "output_type": "stream",
     "text": [
      "[LightGBM] [Warning] Auto-choosing row-wise multi-threading, the overhead of testing was 0.000238 seconds.\n",
      "You can set `force_row_wise=true` to remove the overhead.\n",
      "And if memory is not enough, you can set `force_col_wise=true`.\n",
      "[LightGBM] [Info] Total Bins 1084\n",
      "[LightGBM] [Info] Number of data points in the train set: 25176, number of used features: 25\n",
      "[LightGBM] [Info] Start training from score 117892.049333\n",
      "Training until validation scores don't improve for 100 rounds\n",
      "[100]\tvalid_0's rmse: 13695.4\tvalid_1's rmse: 20360.4\n",
      "[200]\tvalid_0's rmse: 9647.73\tvalid_1's rmse: 19916.9\n"
     ]
    },
    {
     "name": "stderr",
     "output_type": "stream",
     "text": [
      "num_leaves, val_score: 19018.990704:  40%|####      | 8/20 [00:15<00:24,  2.04s/it]\u001b[32m[I 2021-02-21 10:54:14,476]\u001b[0m Trial 14 finished with value: 19899.219639596988 and parameters: {'num_leaves': 184}. Best is trial 13 with value: 19101.69611651518.\u001b[0m\n",
      "num_leaves, val_score: 19018.990704:  40%|####      | 8/20 [00:15<00:24,  2.04s/it]"
     ]
    },
    {
     "name": "stdout",
     "output_type": "stream",
     "text": [
      "[300]\tvalid_0's rmse: 7658.53\tvalid_1's rmse: 20011.6\n",
      "Early stopping, best iteration is:\n",
      "[202]\tvalid_0's rmse: 9586.73\tvalid_1's rmse: 19899.2\n",
      "[LightGBM] [Warning] Auto-choosing row-wise multi-threading, the overhead of testing was 0.000268 seconds.\n",
      "You can set `force_row_wise=true` to remove the overhead.\n",
      "And if memory is not enough, you can set `force_col_wise=true`.\n",
      "[LightGBM] [Info] Total Bins 1084\n",
      "[LightGBM] [Info] Number of data points in the train set: 25176, number of used features: 25\n",
      "[LightGBM] [Info] Start training from score 117892.049333\n",
      "Training until validation scores don't improve for 100 rounds\n",
      "[100]\tvalid_0's rmse: 16796.7\tvalid_1's rmse: 20713.4\n",
      "[200]\tvalid_0's rmse: 13224.4\tvalid_1's rmse: 19990.5\n",
      "[300]\tvalid_0's rmse: 11474.5\tvalid_1's rmse: 19770.3\n",
      "[400]\tvalid_0's rmse: 10285.1\tvalid_1's rmse: 19593.6\n",
      "[500]\tvalid_0's rmse: 9221.54\tvalid_1's rmse: 19465.6\n",
      "[600]\tvalid_0's rmse: 8423.27\tvalid_1's rmse: 19479.9\n",
      "Early stopping, best iteration is:\n",
      "[509]\tvalid_0's rmse: 9126.78\tvalid_1's rmse: 19442.9\n"
     ]
    },
    {
     "name": "stderr",
     "output_type": "stream",
     "text": [
      "num_leaves, val_score: 19018.990704:  45%|####5     | 9/20 [00:17<00:19,  1.81s/it]\u001b[32m[I 2021-02-21 10:54:15,788]\u001b[0m Trial 15 finished with value: 19442.893016730144 and parameters: {'num_leaves': 55}. Best is trial 13 with value: 19101.69611651518.\u001b[0m\n",
      "num_leaves, val_score: 19018.990704:  45%|####5     | 9/20 [00:17<00:19,  1.81s/it]"
     ]
    },
    {
     "name": "stdout",
     "output_type": "stream",
     "text": [
      "[LightGBM] [Warning] Auto-choosing row-wise multi-threading, the overhead of testing was 0.000266 seconds.\n",
      "You can set `force_row_wise=true` to remove the overhead.\n",
      "And if memory is not enough, you can set `force_col_wise=true`.\n",
      "[LightGBM] [Info] Total Bins 1084\n",
      "[LightGBM] [Info] Number of data points in the train set: 25176, number of used features: 25\n",
      "[LightGBM] [Info] Start training from score 117892.049333\n",
      "Training until validation scores don't improve for 100 rounds\n",
      "[100]\tvalid_0's rmse: 13759.7\tvalid_1's rmse: 20518.2\n",
      "[200]\tvalid_0's rmse: 9562.54\tvalid_1's rmse: 20119.1\n",
      "[300]\tvalid_0's rmse: 7562.07\tvalid_1's rmse: 20102.5\n",
      "[400]\tvalid_0's rmse: 6234.93\tvalid_1's rmse: 20099.5\n"
     ]
    },
    {
     "name": "stderr",
     "output_type": "stream",
     "text": [
      "num_leaves, val_score: 19018.990704:  50%|#####     | 10/20 [00:19<00:19,  1.97s/it]\u001b[32m[I 2021-02-21 10:54:18,125]\u001b[0m Trial 16 finished with value: 20058.95537681372 and parameters: {'num_leaves': 195}. Best is trial 13 with value: 19101.69611651518.\u001b[0m\n",
      "num_leaves, val_score: 19018.990704:  50%|#####     | 10/20 [00:19<00:19,  1.97s/it]"
     ]
    },
    {
     "name": "stdout",
     "output_type": "stream",
     "text": [
      "Early stopping, best iteration is:\n",
      "[370]\tvalid_0's rmse: 6631.02\tvalid_1's rmse: 20059\n",
      "[LightGBM] [Warning] Auto-choosing col-wise multi-threading, the overhead of testing was 0.002324 seconds.\n",
      "You can set `force_col_wise=true` to remove the overhead.\n",
      "[LightGBM] [Info] Total Bins 1084\n",
      "[LightGBM] [Info] Number of data points in the train set: 25176, number of used features: 25\n",
      "[LightGBM] [Info] Start training from score 117892.049333\n",
      "Training until validation scores don't improve for 100 rounds\n",
      "[100]\tvalid_0's rmse: 16289.8\tvalid_1's rmse: 20549.2\n",
      "[200]\tvalid_0's rmse: 12883.2\tvalid_1's rmse: 19930.4\n",
      "[300]\tvalid_0's rmse: 11105\tvalid_1's rmse: 19850.3\n",
      "[400]\tvalid_0's rmse: 9846.59\tvalid_1's rmse: 19817.3\n",
      "[500]\tvalid_0's rmse: 8750.23\tvalid_1's rmse: 19721.8\n",
      "[600]\tvalid_0's rmse: 7833.45\tvalid_1's rmse: 19579.4\n",
      "[700]\tvalid_0's rmse: 7170.8\tvalid_1's rmse: 19540.8\n",
      "[800]\tvalid_0's rmse: 6585.67\tvalid_1's rmse: 19497.4\n",
      "[900]\tvalid_0's rmse: 6078.28\tvalid_1's rmse: 19433.9\n",
      "[1000]\tvalid_0's rmse: 5651.25\tvalid_1's rmse: 19384\n",
      "Did not meet early stopping. Best iteration is:\n",
      "[1000]\tvalid_0's rmse: 5651.25\tvalid_1's rmse: 19384\n"
     ]
    },
    {
     "name": "stderr",
     "output_type": "stream",
     "text": [
      "num_leaves, val_score: 19018.990704:  55%|#####5    | 11/20 [00:21<00:18,  2.01s/it]\u001b[32m[I 2021-02-21 10:54:20,233]\u001b[0m Trial 17 finished with value: 19384.042274527914 and parameters: {'num_leaves': 67}. Best is trial 13 with value: 19101.69611651518.\u001b[0m\n",
      "num_leaves, val_score: 19018.990704:  55%|#####5    | 11/20 [00:21<00:18,  2.01s/it]"
     ]
    },
    {
     "name": "stdout",
     "output_type": "stream",
     "text": [
      "[LightGBM] [Warning] Auto-choosing row-wise multi-threading, the overhead of testing was 0.000234 seconds.\n",
      "You can set `force_row_wise=true` to remove the overhead.\n",
      "And if memory is not enough, you can set `force_col_wise=true`.\n",
      "[LightGBM] [Info] Total Bins 1084\n",
      "[LightGBM] [Info] Number of data points in the train set: 25176, number of used features: 25\n",
      "[LightGBM] [Info] Start training from score 117892.049333\n",
      "Training until validation scores don't improve for 100 rounds\n",
      "[100]\tvalid_0's rmse: 14051.4\tvalid_1's rmse: 20890.6\n",
      "[200]\tvalid_0's rmse: 9970.77\tvalid_1's rmse: 20502.6\n",
      "[300]\tvalid_0's rmse: 7890.08\tvalid_1's rmse: 20453.2\n"
     ]
    },
    {
     "name": "stderr",
     "output_type": "stream",
     "text": [
      "num_leaves, val_score: 19018.990704:  60%|######    | 12/20 [00:23<00:16,  2.04s/it]\u001b[32m[I 2021-02-21 10:54:22,341]\u001b[0m Trial 18 finished with value: 20442.84165566416 and parameters: {'num_leaves': 193}. Best is trial 13 with value: 19101.69611651518.\u001b[0m\n",
      "num_leaves, val_score: 19018.990704:  60%|######    | 12/20 [00:23<00:16,  2.04s/it]"
     ]
    },
    {
     "name": "stdout",
     "output_type": "stream",
     "text": [
      "[400]\tvalid_0's rmse: 6520.81\tvalid_1's rmse: 20496.8\n",
      "Early stopping, best iteration is:\n",
      "[303]\tvalid_0's rmse: 7850.97\tvalid_1's rmse: 20442.8\n",
      "[LightGBM] [Warning] Auto-choosing row-wise multi-threading, the overhead of testing was 0.000226 seconds.\n",
      "You can set `force_row_wise=true` to remove the overhead.\n",
      "And if memory is not enough, you can set `force_col_wise=true`.\n",
      "[LightGBM] [Info] Total Bins 1084\n",
      "[LightGBM] [Info] Number of data points in the train set: 25176, number of used features: 25\n",
      "[LightGBM] [Info] Start training from score 117892.049333\n",
      "Training until validation scores don't improve for 100 rounds\n",
      "[100]\tvalid_0's rmse: 14453.4\tvalid_1's rmse: 20489.5\n",
      "[200]\tvalid_0's rmse: 10435.8\tvalid_1's rmse: 20056.1\n"
     ]
    },
    {
     "name": "stderr",
     "output_type": "stream",
     "text": [
      "num_leaves, val_score: 19018.990704:  65%|######5   | 13/20 [00:25<00:12,  1.83s/it]\u001b[32m[I 2021-02-21 10:54:23,695]\u001b[0m Trial 19 finished with value: 20031.376350851988 and parameters: {'num_leaves': 158}. Best is trial 13 with value: 19101.69611651518.\u001b[0m\n",
      "num_leaves, val_score: 19018.990704:  65%|######5   | 13/20 [00:25<00:12,  1.83s/it]"
     ]
    },
    {
     "name": "stdout",
     "output_type": "stream",
     "text": [
      "[300]\tvalid_0's rmse: 8381.9\tvalid_1's rmse: 20063.3\n",
      "Early stopping, best iteration is:\n",
      "[203]\tvalid_0's rmse: 10357.4\tvalid_1's rmse: 20031.4\n",
      "[LightGBM] [Warning] Auto-choosing row-wise multi-threading, the overhead of testing was 0.000229 seconds.\n",
      "You can set `force_row_wise=true` to remove the overhead.\n",
      "And if memory is not enough, you can set `force_col_wise=true`.\n",
      "[LightGBM] [Info] Total Bins 1084\n",
      "[LightGBM] [Info] Number of data points in the train set: 25176, number of used features: 25\n",
      "[LightGBM] [Info] Start training from score 117892.049333\n",
      "Training until validation scores don't improve for 100 rounds\n",
      "[100]\tvalid_0's rmse: 13421.3\tvalid_1's rmse: 20718.5\n",
      "[200]\tvalid_0's rmse: 9443.25\tvalid_1's rmse: 20282.4\n"
     ]
    },
    {
     "name": "stderr",
     "output_type": "stream",
     "text": [
      "num_leaves, val_score: 19018.990704:  70%|#######   | 14/20 [00:26<00:10,  1.76s/it]\u001b[32m[I 2021-02-21 10:54:25,283]\u001b[0m Trial 20 finished with value: 20231.64165020439 and parameters: {'num_leaves': 228}. Best is trial 13 with value: 19101.69611651518.\u001b[0m\n",
      "num_leaves, val_score: 19018.990704:  70%|#######   | 14/20 [00:26<00:10,  1.76s/it]"
     ]
    },
    {
     "name": "stdout",
     "output_type": "stream",
     "text": [
      "Early stopping, best iteration is:\n",
      "[179]\tvalid_0's rmse: 9980.83\tvalid_1's rmse: 20231.6\n",
      "[LightGBM] [Warning] Auto-choosing row-wise multi-threading, the overhead of testing was 0.000228 seconds.\n",
      "You can set `force_row_wise=true` to remove the overhead.\n",
      "And if memory is not enough, you can set `force_col_wise=true`.\n",
      "[LightGBM] [Info] Total Bins 1084\n",
      "[LightGBM] [Info] Number of data points in the train set: 25176, number of used features: 25\n",
      "[LightGBM] [Info] Start training from score 117892.049333\n",
      "Training until validation scores don't improve for 100 rounds\n",
      "[100]\tvalid_0's rmse: 15590.5\tvalid_1's rmse: 20735.6\n",
      "[200]\tvalid_0's rmse: 11978.1\tvalid_1's rmse: 20100.8\n",
      "[300]\tvalid_0's rmse: 10151.9\tvalid_1's rmse: 19979.3\n",
      "[400]\tvalid_0's rmse: 8892.3\tvalid_1's rmse: 19936.8\n",
      "[500]\tvalid_0's rmse: 7888.39\tvalid_1's rmse: 19889.8\n",
      "[600]\tvalid_0's rmse: 6976.21\tvalid_1's rmse: 19784.8\n",
      "[700]\tvalid_0's rmse: 6258.87\tvalid_1's rmse: 19683.7\n",
      "[800]\tvalid_0's rmse: 5641.56\tvalid_1's rmse: 19662.7\n",
      "[900]\tvalid_0's rmse: 5152.5\tvalid_1's rmse: 19584.5\n"
     ]
    },
    {
     "name": "stderr",
     "output_type": "stream",
     "text": [
      "num_leaves, val_score: 19018.990704:  75%|#######5  | 15/20 [00:29<00:10,  2.05s/it]\u001b[32m[I 2021-02-21 10:54:28,000]\u001b[0m Trial 21 finished with value: 19554.991309627203 and parameters: {'num_leaves': 84}. Best is trial 13 with value: 19101.69611651518.\u001b[0m\n",
      "num_leaves, val_score: 19018.990704:  75%|#######5  | 15/20 [00:29<00:10,  2.05s/it]"
     ]
    },
    {
     "name": "stdout",
     "output_type": "stream",
     "text": [
      "[1000]\tvalid_0's rmse: 4722.99\tvalid_1's rmse: 19555\n",
      "Did not meet early stopping. Best iteration is:\n",
      "[1000]\tvalid_0's rmse: 4722.99\tvalid_1's rmse: 19555\n",
      "[LightGBM] [Warning] Auto-choosing row-wise multi-threading, the overhead of testing was 0.000240 seconds.\n",
      "You can set `force_row_wise=true` to remove the overhead.\n",
      "And if memory is not enough, you can set `force_col_wise=true`.\n",
      "[LightGBM] [Info] Total Bins 1084\n",
      "[LightGBM] [Info] Number of data points in the train set: 25176, number of used features: 25\n",
      "[LightGBM] [Info] Start training from score 117892.049333\n",
      "Training until validation scores don't improve for 100 rounds\n",
      "[100]\tvalid_0's rmse: 15224.6\tvalid_1's rmse: 20545.2\n",
      "[200]\tvalid_0's rmse: 11399.2\tvalid_1's rmse: 20110.4\n",
      "[300]\tvalid_0's rmse: 9559.21\tvalid_1's rmse: 20021.8\n",
      "[400]\tvalid_0's rmse: 8265.64\tvalid_1's rmse: 19985.4\n",
      "[500]\tvalid_0's rmse: 7195.13\tvalid_1's rmse: 19868.3\n",
      "[600]\tvalid_0's rmse: 6285.67\tvalid_1's rmse: 19771\n",
      "[700]\tvalid_0's rmse: 5583.21\tvalid_1's rmse: 19739.5\n",
      "[800]\tvalid_0's rmse: 4946.13\tvalid_1's rmse: 19667.5\n",
      "[900]\tvalid_0's rmse: 4427.29\tvalid_1's rmse: 19609.6\n",
      "[1000]\tvalid_0's rmse: 4015.58\tvalid_1's rmse: 19569.7\n",
      "Did not meet early stopping. Best iteration is:\n",
      "[1000]\tvalid_0's rmse: 4015.58\tvalid_1's rmse: 19569.7\n"
     ]
    },
    {
     "name": "stderr",
     "output_type": "stream",
     "text": [
      "num_leaves, val_score: 19018.990704:  80%|########  | 16/20 [00:32<00:09,  2.41s/it]\u001b[32m[I 2021-02-21 10:54:31,245]\u001b[0m Trial 22 finished with value: 19569.67718509922 and parameters: {'num_leaves': 104}. Best is trial 13 with value: 19101.69611651518.\u001b[0m\n",
      "num_leaves, val_score: 19018.990704:  80%|########  | 16/20 [00:32<00:09,  2.41s/it]"
     ]
    },
    {
     "name": "stdout",
     "output_type": "stream",
     "text": [
      "[LightGBM] [Warning] Auto-choosing row-wise multi-threading, the overhead of testing was 0.000237 seconds.\n",
      "You can set `force_row_wise=true` to remove the overhead.\n",
      "And if memory is not enough, you can set `force_col_wise=true`.\n",
      "[LightGBM] [Info] Total Bins 1084\n",
      "[LightGBM] [Info] Number of data points in the train set: 25176, number of used features: 25\n",
      "[LightGBM] [Info] Start training from score 117892.049333\n",
      "Training until validation scores don't improve for 100 rounds\n",
      "[100]\tvalid_0's rmse: 17660.8\tvalid_1's rmse: 20687\n",
      "[200]\tvalid_0's rmse: 14068.4\tvalid_1's rmse: 19779.5\n",
      "[300]\tvalid_0's rmse: 12658.5\tvalid_1's rmse: 19593.3\n",
      "[400]\tvalid_0's rmse: 11558.8\tvalid_1's rmse: 19465.8\n",
      "[500]\tvalid_0's rmse: 10704.8\tvalid_1's rmse: 19403.5\n",
      "[600]\tvalid_0's rmse: 9983.05\tvalid_1's rmse: 19326.8\n",
      "[700]\tvalid_0's rmse: 9321.05\tvalid_1's rmse: 19247\n",
      "[800]\tvalid_0's rmse: 8767.27\tvalid_1's rmse: 19186.2\n",
      "[900]\tvalid_0's rmse: 8262.31\tvalid_1's rmse: 19110.8\n"
     ]
    },
    {
     "name": "stderr",
     "output_type": "stream",
     "text": [
      "num_leaves, val_score: 19018.990704:  85%|########5 | 17/20 [00:34<00:06,  2.18s/it]\u001b[32m[I 2021-02-21 10:54:32,884]\u001b[0m Trial 23 finished with value: 19040.994654104972 and parameters: {'num_leaves': 37}. Best is trial 23 with value: 19040.994654104972.\u001b[0m\n",
      "num_leaves, val_score: 19018.990704:  85%|########5 | 17/20 [00:34<00:06,  2.18s/it]"
     ]
    },
    {
     "name": "stdout",
     "output_type": "stream",
     "text": [
      "[1000]\tvalid_0's rmse: 7864.58\tvalid_1's rmse: 19041\n",
      "Did not meet early stopping. Best iteration is:\n",
      "[1000]\tvalid_0's rmse: 7864.58\tvalid_1's rmse: 19041\n",
      "[LightGBM] [Warning] Auto-choosing row-wise multi-threading, the overhead of testing was 0.000248 seconds.\n",
      "You can set `force_row_wise=true` to remove the overhead.\n",
      "And if memory is not enough, you can set `force_col_wise=true`.\n",
      "[LightGBM] [Info] Total Bins 1084\n",
      "[LightGBM] [Info] Number of data points in the train set: 25176, number of used features: 25\n",
      "[LightGBM] [Info] Start training from score 117892.049333\n",
      "Training until validation scores don't improve for 100 rounds\n",
      "[100]\tvalid_0's rmse: 17310.3\tvalid_1's rmse: 20780.4\n",
      "[200]\tvalid_0's rmse: 14104.3\tvalid_1's rmse: 19814.3\n",
      "[300]\tvalid_0's rmse: 12662.3\tvalid_1's rmse: 19500.6\n",
      "[400]\tvalid_0's rmse: 11682.6\tvalid_1's rmse: 19381.5\n",
      "[500]\tvalid_0's rmse: 10852.2\tvalid_1's rmse: 19300.4\n",
      "[600]\tvalid_0's rmse: 10161.9\tvalid_1's rmse: 19258.5\n",
      "[700]\tvalid_0's rmse: 9514.73\tvalid_1's rmse: 19192.4\n",
      "[800]\tvalid_0's rmse: 8997.93\tvalid_1's rmse: 19148.6\n",
      "[900]\tvalid_0's rmse: 8544.68\tvalid_1's rmse: 19079\n",
      "[1000]\tvalid_0's rmse: 8112\tvalid_1's rmse: 19013.3\n",
      "Did not meet early stopping. Best iteration is:\n",
      "[1000]\tvalid_0's rmse: 8112\tvalid_1's rmse: 19013.3\n"
     ]
    },
    {
     "name": "stderr",
     "output_type": "stream",
     "text": [
      "num_leaves, val_score: 19013.322176:  90%|######### | 18/20 [00:35<00:04,  2.02s/it]\u001b[32m[I 2021-02-21 10:54:34,549]\u001b[0m Trial 24 finished with value: 19013.322176455717 and parameters: {'num_leaves': 35}. Best is trial 24 with value: 19013.322176455717.\u001b[0m\n",
      "num_leaves, val_score: 19013.322176:  90%|######### | 18/20 [00:35<00:04,  2.02s/it]"
     ]
    },
    {
     "name": "stdout",
     "output_type": "stream",
     "text": [
      "[LightGBM] [Warning] Auto-choosing row-wise multi-threading, the overhead of testing was 0.000267 seconds.\n",
      "You can set `force_row_wise=true` to remove the overhead.\n",
      "And if memory is not enough, you can set `force_col_wise=true`.\n",
      "[LightGBM] [Info] Total Bins 1084\n",
      "[LightGBM] [Info] Number of data points in the train set: 25176, number of used features: 25\n",
      "[LightGBM] [Info] Start training from score 117892.049333\n",
      "Training until validation scores don't improve for 100 rounds\n",
      "[100]\tvalid_0's rmse: 21064.9\tvalid_1's rmse: 22530.7\n",
      "[200]\tvalid_0's rmse: 18175.7\tvalid_1's rmse: 21019.8\n",
      "[300]\tvalid_0's rmse: 16750.6\tvalid_1's rmse: 20617.3\n",
      "[400]\tvalid_0's rmse: 15814.7\tvalid_1's rmse: 20277.3\n",
      "[500]\tvalid_0's rmse: 15080.9\tvalid_1's rmse: 19902.5\n",
      "[600]\tvalid_0's rmse: 14505.2\tvalid_1's rmse: 19817.8\n",
      "[700]\tvalid_0's rmse: 13971.5\tvalid_1's rmse: 19683.1\n",
      "[800]\tvalid_0's rmse: 13529.3\tvalid_1's rmse: 19465.6\n"
     ]
    },
    {
     "name": "stderr",
     "output_type": "stream",
     "text": [
      "num_leaves, val_score: 19013.322176:  95%|#########5| 19/20 [00:36<00:01,  1.69s/it]\u001b[32m[I 2021-02-21 10:54:35,458]\u001b[0m Trial 25 finished with value: 19275.48177989767 and parameters: {'num_leaves': 10}. Best is trial 24 with value: 19013.322176455717.\u001b[0m\n",
      "num_leaves, val_score: 19013.322176:  95%|#########5| 19/20 [00:36<00:01,  1.69s/it]"
     ]
    },
    {
     "name": "stdout",
     "output_type": "stream",
     "text": [
      "[900]\tvalid_0's rmse: 13155.4\tvalid_1's rmse: 19416.3\n",
      "[1000]\tvalid_0's rmse: 12715.9\tvalid_1's rmse: 19275.5\n",
      "Did not meet early stopping. Best iteration is:\n",
      "[1000]\tvalid_0's rmse: 12715.9\tvalid_1's rmse: 19275.5\n",
      "[LightGBM] [Warning] Auto-choosing row-wise multi-threading, the overhead of testing was 0.000253 seconds.\n",
      "You can set `force_row_wise=true` to remove the overhead.\n",
      "And if memory is not enough, you can set `force_col_wise=true`.\n",
      "[LightGBM] [Info] Total Bins 1084\n",
      "[LightGBM] [Info] Number of data points in the train set: 25176, number of used features: 25\n",
      "[LightGBM] [Info] Start training from score 117892.049333\n",
      "Training until validation scores don't improve for 100 rounds\n",
      "[100]\tvalid_0's rmse: 17170.4\tvalid_1's rmse: 20670.9\n",
      "[200]\tvalid_0's rmse: 13889.1\tvalid_1's rmse: 19809.6\n",
      "[300]\tvalid_0's rmse: 12365.1\tvalid_1's rmse: 19650.1\n",
      "[400]\tvalid_0's rmse: 11279.4\tvalid_1's rmse: 19537.5\n",
      "[500]\tvalid_0's rmse: 10373.2\tvalid_1's rmse: 19495.9\n",
      "[600]\tvalid_0's rmse: 9510.76\tvalid_1's rmse: 19421.8\n",
      "[700]\tvalid_0's rmse: 8835.05\tvalid_1's rmse: 19337.7\n",
      "[800]\tvalid_0's rmse: 8282.4\tvalid_1's rmse: 19305.1\n",
      "[900]\tvalid_0's rmse: 7826.15\tvalid_1's rmse: 19280.5\n",
      "[1000]\tvalid_0's rmse: 7409.56\tvalid_1's rmse: 19233.7\n",
      "Did not meet early stopping. Best iteration is:\n",
      "[1000]\tvalid_0's rmse: 7409.56\tvalid_1's rmse: 19233.7\n"
     ]
    },
    {
     "name": "stderr",
     "output_type": "stream",
     "text": [
      "num_leaves, val_score: 19013.322176: 100%|##########| 20/20 [00:38<00:00,  1.71s/it]\u001b[32m[I 2021-02-21 10:54:37,233]\u001b[0m Trial 26 finished with value: 19233.71280296845 and parameters: {'num_leaves': 42}. Best is trial 24 with value: 19013.322176455717.\u001b[0m\n",
      "num_leaves, val_score: 19013.322176: 100%|##########| 20/20 [00:38<00:00,  1.93s/it]\n",
      "bagging, val_score: 19013.322176:   0%|          | 0/10 [00:00<?, ?it/s]"
     ]
    },
    {
     "name": "stdout",
     "output_type": "stream",
     "text": [
      "[LightGBM] [Warning] Auto-choosing col-wise multi-threading, the overhead of testing was 0.002925 seconds.\n",
      "You can set `force_col_wise=true` to remove the overhead.\n",
      "[LightGBM] [Info] Total Bins 1084\n",
      "[LightGBM] [Info] Number of data points in the train set: 25176, number of used features: 25\n",
      "[LightGBM] [Info] Start training from score 117892.049333\n",
      "Training until validation scores don't improve for 100 rounds\n",
      "[100]\tvalid_0's rmse: 18233.6\tvalid_1's rmse: 20154.1\n",
      "[200]\tvalid_0's rmse: 15116.3\tvalid_1's rmse: 19463.3\n",
      "[300]\tvalid_0's rmse: 13455.2\tvalid_1's rmse: 19174.8\n",
      "[400]\tvalid_0's rmse: 12171\tvalid_1's rmse: 19072.2\n"
     ]
    },
    {
     "name": "stderr",
     "output_type": "stream",
     "text": [
      "bagging, val_score: 18913.787436:  10%|#         | 1/10 [00:01<00:10,  1.18s/it]\u001b[32m[I 2021-02-21 10:54:38,421]\u001b[0m Trial 27 finished with value: 18913.78743633858 and parameters: {'bagging_fraction': 0.8478859127211132, 'bagging_freq': 6}. Best is trial 27 with value: 18913.78743633858.\u001b[0m\n",
      "bagging, val_score: 18913.787436:  10%|#         | 1/10 [00:01<00:10,  1.18s/it]"
     ]
    },
    {
     "name": "stdout",
     "output_type": "stream",
     "text": [
      "[500]\tvalid_0's rmse: 11166.9\tvalid_1's rmse: 18973\n",
      "Early stopping, best iteration is:\n",
      "[490]\tvalid_0's rmse: 11247\tvalid_1's rmse: 18913.8\n",
      "[LightGBM] [Warning] Auto-choosing row-wise multi-threading, the overhead of testing was 0.000240 seconds.\n",
      "You can set `force_row_wise=true` to remove the overhead.\n",
      "And if memory is not enough, you can set `force_col_wise=true`.\n",
      "[LightGBM] [Info] Total Bins 1084\n",
      "[LightGBM] [Info] Number of data points in the train set: 25176, number of used features: 25\n",
      "[LightGBM] [Info] Start training from score 117892.049333\n",
      "Training until validation scores don't improve for 100 rounds\n",
      "[100]\tvalid_0's rmse: 18337.8\tvalid_1's rmse: 20474.9\n",
      "[200]\tvalid_0's rmse: 14985.4\tvalid_1's rmse: 19807.1\n",
      "[300]\tvalid_0's rmse: 13348.7\tvalid_1's rmse: 19604.7\n"
     ]
    },
    {
     "name": "stderr",
     "output_type": "stream",
     "text": [
      "bagging, val_score: 18913.787436:  20%|##        | 2/10 [00:02<00:09,  1.13s/it]\u001b[32m[I 2021-02-21 10:54:39,508]\u001b[0m Trial 28 finished with value: 19515.454574339037 and parameters: {'bagging_fraction': 0.8644676312997819, 'bagging_freq': 6}. Best is trial 27 with value: 18913.78743633858.\u001b[0m\n",
      "bagging, val_score: 18913.787436:  20%|##        | 2/10 [00:02<00:09,  1.13s/it]"
     ]
    },
    {
     "name": "stdout",
     "output_type": "stream",
     "text": [
      "[400]\tvalid_0's rmse: 12066.9\tvalid_1's rmse: 19594.5\n",
      "Early stopping, best iteration is:\n",
      "[360]\tvalid_0's rmse: 12567.9\tvalid_1's rmse: 19515.5\n",
      "[LightGBM] [Warning] Auto-choosing row-wise multi-threading, the overhead of testing was 0.000240 seconds.\n",
      "You can set `force_row_wise=true` to remove the overhead.\n",
      "And if memory is not enough, you can set `force_col_wise=true`.\n",
      "[LightGBM] [Info] Total Bins 1084\n",
      "[LightGBM] [Info] Number of data points in the train set: 25176, number of used features: 25\n",
      "[LightGBM] [Info] Start training from score 117892.049333\n",
      "Training until validation scores don't improve for 100 rounds\n",
      "[100]\tvalid_0's rmse: 20373\tvalid_1's rmse: 20663.9\n",
      "[200]\tvalid_0's rmse: 17124.2\tvalid_1's rmse: 19897.8\n"
     ]
    },
    {
     "name": "stderr",
     "output_type": "stream",
     "text": [
      "bagging, val_score: 18913.787436:  30%|###       | 3/10 [00:02<00:06,  1.06it/s]\u001b[32m[I 2021-02-21 10:54:40,231]\u001b[0m Trial 29 finished with value: 19706.79562068984 and parameters: {'bagging_fraction': 0.5725746664908012, 'bagging_freq': 4}. Best is trial 27 with value: 18913.78743633858.\u001b[0m\n",
      "bagging, val_score: 18913.787436:  30%|###       | 3/10 [00:02<00:06,  1.06it/s]"
     ]
    },
    {
     "name": "stdout",
     "output_type": "stream",
     "text": [
      "Early stopping, best iteration is:\n",
      "[188]\tvalid_0's rmse: 17445.7\tvalid_1's rmse: 19706.8\n",
      "[LightGBM] [Warning] Auto-choosing row-wise multi-threading, the overhead of testing was 0.000237 seconds.\n",
      "You can set `force_row_wise=true` to remove the overhead.\n",
      "And if memory is not enough, you can set `force_col_wise=true`.\n",
      "[LightGBM] [Info] Total Bins 1084\n",
      "[LightGBM] [Info] Number of data points in the train set: 25176, number of used features: 25\n",
      "[LightGBM] [Info] Start training from score 117892.049333\n",
      "Training until validation scores don't improve for 100 rounds\n",
      "[100]\tvalid_0's rmse: 17778.4\tvalid_1's rmse: 20868.4\n",
      "[200]\tvalid_0's rmse: 14394.1\tvalid_1's rmse: 19908.2\n",
      "[300]\tvalid_0's rmse: 12853.8\tvalid_1's rmse: 19708.6\n",
      "[400]\tvalid_0's rmse: 11761.4\tvalid_1's rmse: 19622.9\n",
      "[500]\tvalid_0's rmse: 10863.1\tvalid_1's rmse: 19474.2\n",
      "[600]\tvalid_0's rmse: 10090.3\tvalid_1's rmse: 19347.8\n",
      "[700]\tvalid_0's rmse: 9428.28\tvalid_1's rmse: 19321.7\n",
      "[800]\tvalid_0's rmse: 8876.25\tvalid_1's rmse: 19273.9\n",
      "[900]\tvalid_0's rmse: 8430.41\tvalid_1's rmse: 19145.4\n",
      "[1000]\tvalid_0's rmse: 8021.98\tvalid_1's rmse: 19069.3\n",
      "Did not meet early stopping. Best iteration is:\n",
      "[1000]\tvalid_0's rmse: 8021.98\tvalid_1's rmse: 19069.3\n"
     ]
    },
    {
     "name": "stderr",
     "output_type": "stream",
     "text": [
      "bagging, val_score: 18913.787436:  40%|####      | 4/10 [00:04<00:08,  1.34s/it]\u001b[32m[I 2021-02-21 10:54:42,183]\u001b[0m Trial 30 finished with value: 19069.307179988027 and parameters: {'bagging_fraction': 0.9845185034144136, 'bagging_freq': 7}. Best is trial 27 with value: 18913.78743633858.\u001b[0m\n",
      "bagging, val_score: 18913.787436:  40%|####      | 4/10 [00:04<00:08,  1.34s/it]"
     ]
    },
    {
     "name": "stdout",
     "output_type": "stream",
     "text": [
      "[LightGBM] [Warning] Auto-choosing row-wise multi-threading, the overhead of testing was 0.000231 seconds.\n",
      "You can set `force_row_wise=true` to remove the overhead.\n",
      "And if memory is not enough, you can set `force_col_wise=true`.\n",
      "[LightGBM] [Info] Total Bins 1084\n",
      "[LightGBM] [Info] Number of data points in the train set: 25176, number of used features: 25\n",
      "[LightGBM] [Info] Start training from score 117892.049333\n",
      "Training until validation scores don't improve for 100 rounds\n",
      "[100]\tvalid_0's rmse: 18782.4\tvalid_1's rmse: 20928.7\n",
      "[200]\tvalid_0's rmse: 15589.5\tvalid_1's rmse: 20167.4\n",
      "[300]\tvalid_0's rmse: 13796.6\tvalid_1's rmse: 19883.5\n",
      "[400]\tvalid_0's rmse: 12480.5\tvalid_1's rmse: 19808.2\n",
      "[500]\tvalid_0's rmse: 11369.6\tvalid_1's rmse: 19626.7\n",
      "[600]\tvalid_0's rmse: 10520.2\tvalid_1's rmse: 19609.5\n",
      "[700]\tvalid_0's rmse: 9805.31\tvalid_1's rmse: 19439.4\n"
     ]
    },
    {
     "name": "stderr",
     "output_type": "stream",
     "text": [
      "bagging, val_score: 18913.787436:  50%|#####     | 5/10 [00:06<00:06,  1.38s/it]\u001b[32m[I 2021-02-21 10:54:43,637]\u001b[0m Trial 31 finished with value: 19428.715877627987 and parameters: {'bagging_fraction': 0.761952098331655, 'bagging_freq': 1}. Best is trial 27 with value: 18913.78743633858.\u001b[0m\n",
      "bagging, val_score: 18913.787436:  50%|#####     | 5/10 [00:06<00:06,  1.38s/it]"
     ]
    },
    {
     "name": "stdout",
     "output_type": "stream",
     "text": [
      "[800]\tvalid_0's rmse: 9173.32\tvalid_1's rmse: 19459\n",
      "Early stopping, best iteration is:\n",
      "[702]\tvalid_0's rmse: 9794.68\tvalid_1's rmse: 19428.7\n",
      "[LightGBM] [Warning] Auto-choosing row-wise multi-threading, the overhead of testing was 0.000240 seconds.\n",
      "You can set `force_row_wise=true` to remove the overhead.\n",
      "And if memory is not enough, you can set `force_col_wise=true`.\n",
      "[LightGBM] [Info] Total Bins 1084\n",
      "[LightGBM] [Info] Number of data points in the train set: 25176, number of used features: 25\n",
      "[LightGBM] [Info] Start training from score 117892.049333\n",
      "Training until validation scores don't improve for 100 rounds\n",
      "[100]\tvalid_0's rmse: 17636.4\tvalid_1's rmse: 20664.5\n",
      "[200]\tvalid_0's rmse: 14293.7\tvalid_1's rmse: 20040\n",
      "[300]\tvalid_0's rmse: 12784.7\tvalid_1's rmse: 19722.5\n",
      "[400]\tvalid_0's rmse: 11616.6\tvalid_1's rmse: 19594.8\n",
      "[500]\tvalid_0's rmse: 10708.3\tvalid_1's rmse: 19445.1\n",
      "[600]\tvalid_0's rmse: 9942.43\tvalid_1's rmse: 19386.8\n",
      "[700]\tvalid_0's rmse: 9346.19\tvalid_1's rmse: 19326.5\n",
      "[800]\tvalid_0's rmse: 8827.01\tvalid_1's rmse: 19297.3\n",
      "[900]\tvalid_0's rmse: 8356.18\tvalid_1's rmse: 19173.6\n",
      "[1000]\tvalid_0's rmse: 7952.44\tvalid_1's rmse: 19148.9\n",
      "Did not meet early stopping. Best iteration is:\n",
      "[1000]\tvalid_0's rmse: 7952.44\tvalid_1's rmse: 19148.9\n"
     ]
    },
    {
     "name": "stderr",
     "output_type": "stream",
     "text": [
      "bagging, val_score: 18913.787436:  60%|######    | 6/10 [00:08<00:06,  1.60s/it]\u001b[32m[I 2021-02-21 10:54:45,666]\u001b[0m Trial 32 finished with value: 19148.87679011233 and parameters: {'bagging_fraction': 0.9733801520748815, 'bagging_freq': 5}. Best is trial 27 with value: 18913.78743633858.\u001b[0m\n",
      "bagging, val_score: 18913.787436:  60%|######    | 6/10 [00:08<00:06,  1.60s/it]"
     ]
    },
    {
     "name": "stdout",
     "output_type": "stream",
     "text": [
      "[LightGBM] [Warning] Auto-choosing row-wise multi-threading, the overhead of testing was 0.000273 seconds.\n",
      "You can set `force_row_wise=true` to remove the overhead.\n",
      "And if memory is not enough, you can set `force_col_wise=true`.\n",
      "[LightGBM] [Info] Total Bins 1084\n",
      "[LightGBM] [Info] Number of data points in the train set: 25176, number of used features: 25\n",
      "[LightGBM] [Info] Start training from score 117892.049333\n",
      "Training until validation scores don't improve for 100 rounds\n",
      "[100]\tvalid_0's rmse: 21839.5\tvalid_1's rmse: 21566.8\n",
      "[200]\tvalid_0's rmse: 19006.6\tvalid_1's rmse: 20628\n",
      "[300]\tvalid_0's rmse: 16996.6\tvalid_1's rmse: 20580.1\n",
      "[400]\tvalid_0's rmse: 15623.2\tvalid_1's rmse: 20269\n"
     ]
    },
    {
     "name": "stderr",
     "output_type": "stream",
     "text": [
      "bagging, val_score: 18913.787436:  70%|#######   | 7/10 [00:09<00:04,  1.47s/it]\u001b[32m[I 2021-02-21 10:54:46,863]\u001b[0m Trial 33 finished with value: 20161.51604151264 and parameters: {'bagging_fraction': 0.40040355620253376, 'bagging_freq': 2}. Best is trial 27 with value: 18913.78743633858.\u001b[0m\n",
      "bagging, val_score: 18913.787436:  70%|#######   | 7/10 [00:09<00:04,  1.47s/it]"
     ]
    },
    {
     "name": "stdout",
     "output_type": "stream",
     "text": [
      "[500]\tvalid_0's rmse: 14487.4\tvalid_1's rmse: 20674\n",
      "Early stopping, best iteration is:\n",
      "[436]\tvalid_0's rmse: 15151.6\tvalid_1's rmse: 20161.5\n",
      "[LightGBM] [Warning] Auto-choosing row-wise multi-threading, the overhead of testing was 0.000238 seconds.\n",
      "You can set `force_row_wise=true` to remove the overhead.\n",
      "And if memory is not enough, you can set `force_col_wise=true`.\n",
      "[LightGBM] [Info] Total Bins 1084\n",
      "[LightGBM] [Info] Number of data points in the train set: 25176, number of used features: 25\n",
      "[LightGBM] [Info] Start training from score 117892.049333\n",
      "Training until validation scores don't improve for 100 rounds\n",
      "[100]\tvalid_0's rmse: 19540\tvalid_1's rmse: 20316.8\n",
      "[200]\tvalid_0's rmse: 16567.5\tvalid_1's rmse: 19723.7\n",
      "[300]\tvalid_0's rmse: 14748.7\tvalid_1's rmse: 19408.3\n"
     ]
    },
    {
     "name": "stderr",
     "output_type": "stream",
     "text": [
      "bagging, val_score: 18913.787436:  80%|########  | 8/10 [00:10<00:02,  1.30s/it]\u001b[32m[I 2021-02-21 10:54:47,801]\u001b[0m Trial 34 finished with value: 19287.78387269212 and parameters: {'bagging_fraction': 0.6369780956511554, 'bagging_freq': 7}. Best is trial 27 with value: 18913.78743633858.\u001b[0m\n",
      "bagging, val_score: 18913.787436:  80%|########  | 8/10 [00:10<00:02,  1.30s/it]"
     ]
    },
    {
     "name": "stdout",
     "output_type": "stream",
     "text": [
      "[400]\tvalid_0's rmse: 13242.3\tvalid_1's rmse: 19533\n",
      "Early stopping, best iteration is:\n",
      "[329]\tvalid_0's rmse: 14322\tvalid_1's rmse: 19287.8\n",
      "[LightGBM] [Warning] Auto-choosing col-wise multi-threading, the overhead of testing was 0.001787 seconds.\n",
      "You can set `force_col_wise=true` to remove the overhead.\n",
      "[LightGBM] [Info] Total Bins 1084\n",
      "[LightGBM] [Info] Number of data points in the train set: 25176, number of used features: 25\n",
      "[LightGBM] [Info] Start training from score 117892.049333\n",
      "Training until validation scores don't improve for 100 rounds\n",
      "[100]\tvalid_0's rmse: 18228.5\tvalid_1's rmse: 20733.4\n",
      "[200]\tvalid_0's rmse: 15337.8\tvalid_1's rmse: 20017.4\n",
      "[300]\tvalid_0's rmse: 13346\tvalid_1's rmse: 19716.1\n",
      "[400]\tvalid_0's rmse: 12119.6\tvalid_1's rmse: 19711\n"
     ]
    },
    {
     "name": "stderr",
     "output_type": "stream",
     "text": [
      "bagging, val_score: 18913.787436:  90%|######### | 9/10 [00:11<00:01,  1.21s/it]\u001b[32m[I 2021-02-21 10:54:48,821]\u001b[0m Trial 35 finished with value: 19638.204061346652 and parameters: {'bagging_fraction': 0.8149068572931184, 'bagging_freq': 3}. Best is trial 27 with value: 18913.78743633858.\u001b[0m\n",
      "bagging, val_score: 18913.787436:  90%|######### | 9/10 [00:11<00:01,  1.21s/it]"
     ]
    },
    {
     "name": "stdout",
     "output_type": "stream",
     "text": [
      "Early stopping, best iteration is:\n",
      "[387]\tvalid_0's rmse: 12248.3\tvalid_1's rmse: 19638.2\n",
      "[LightGBM] [Warning] Auto-choosing row-wise multi-threading, the overhead of testing was 0.000270 seconds.\n",
      "You can set `force_row_wise=true` to remove the overhead.\n",
      "And if memory is not enough, you can set `force_col_wise=true`.\n",
      "[LightGBM] [Info] Total Bins 1084\n",
      "[LightGBM] [Info] Number of data points in the train set: 25176, number of used features: 25\n",
      "[LightGBM] [Info] Start training from score 117892.049333\n",
      "Training until validation scores don't improve for 100 rounds\n",
      "[100]\tvalid_0's rmse: 17890.2\tvalid_1's rmse: 20860.4\n",
      "[200]\tvalid_0's rmse: 14878.3\tvalid_1's rmse: 19956.4\n",
      "[300]\tvalid_0's rmse: 13225.8\tvalid_1's rmse: 19835.9\n",
      "[400]\tvalid_0's rmse: 12029.8\tvalid_1's rmse: 19761.5\n",
      "[500]\tvalid_0's rmse: 11010\tvalid_1's rmse: 19735.6\n",
      "[600]\tvalid_0's rmse: 10212.7\tvalid_1's rmse: 19702\n",
      "[700]\tvalid_0's rmse: 9536.65\tvalid_1's rmse: 19670.4\n",
      "[800]\tvalid_0's rmse: 8962.85\tvalid_1's rmse: 19616.8\n"
     ]
    },
    {
     "name": "stderr",
     "output_type": "stream",
     "text": [
      "bagging, val_score: 18913.787436: 100%|##########| 10/10 [00:13<00:00,  1.40s/it]\u001b[32m[I 2021-02-21 10:54:50,644]\u001b[0m Trial 36 finished with value: 19511.850708989285 and parameters: {'bagging_fraction': 0.8961764622855473, 'bagging_freq': 5}. Best is trial 27 with value: 18913.78743633858.\u001b[0m\n",
      "bagging, val_score: 18913.787436: 100%|##########| 10/10 [00:13<00:00,  1.34s/it]\n",
      "feature_fraction_stage2, val_score: 18913.787436:   0%|          | 0/3 [00:00<?, ?it/s]"
     ]
    },
    {
     "name": "stdout",
     "output_type": "stream",
     "text": [
      "[900]\tvalid_0's rmse: 8470.93\tvalid_1's rmse: 19578.8\n",
      "Early stopping, best iteration is:\n",
      "[832]\tvalid_0's rmse: 8788.15\tvalid_1's rmse: 19511.9\n",
      "[LightGBM] [Warning] Auto-choosing row-wise multi-threading, the overhead of testing was 0.000234 seconds.\n",
      "You can set `force_row_wise=true` to remove the overhead.\n",
      "And if memory is not enough, you can set `force_col_wise=true`.\n",
      "[LightGBM] [Info] Total Bins 1084\n",
      "[LightGBM] [Info] Number of data points in the train set: 25176, number of used features: 25\n",
      "[LightGBM] [Info] Start training from score 117892.049333\n",
      "Training until validation scores don't improve for 100 rounds\n",
      "[100]\tvalid_0's rmse: 18233.6\tvalid_1's rmse: 20154.1\n",
      "[200]\tvalid_0's rmse: 15116.3\tvalid_1's rmse: 19463.3\n",
      "[300]\tvalid_0's rmse: 13455.2\tvalid_1's rmse: 19174.8\n",
      "[400]\tvalid_0's rmse: 12171\tvalid_1's rmse: 19072.2\n",
      "[500]\tvalid_0's rmse: 11166.9\tvalid_1's rmse: 18973\n"
     ]
    },
    {
     "name": "stderr",
     "output_type": "stream",
     "text": [
      "feature_fraction_stage2, val_score: 18913.787436:  33%|###3      | 1/3 [00:01<00:02,  1.22s/it]\u001b[32m[I 2021-02-21 10:54:51,870]\u001b[0m Trial 37 finished with value: 18913.78743633858 and parameters: {'feature_fraction': 0.41600000000000004}. Best is trial 37 with value: 18913.78743633858.\u001b[0m\n",
      "feature_fraction_stage2, val_score: 18913.787436:  33%|###3      | 1/3 [00:01<00:02,  1.22s/it]"
     ]
    },
    {
     "name": "stdout",
     "output_type": "stream",
     "text": [
      "Early stopping, best iteration is:\n",
      "[490]\tvalid_0's rmse: 11247\tvalid_1's rmse: 18913.8\n",
      "[LightGBM] [Warning] Auto-choosing row-wise multi-threading, the overhead of testing was 0.000244 seconds.\n",
      "You can set `force_row_wise=true` to remove the overhead.\n",
      "And if memory is not enough, you can set `force_col_wise=true`.\n",
      "[LightGBM] [Info] Total Bins 1084\n",
      "[LightGBM] [Info] Number of data points in the train set: 25176, number of used features: 25\n",
      "[LightGBM] [Info] Start training from score 117892.049333\n",
      "Training until validation scores don't improve for 100 rounds\n",
      "[100]\tvalid_0's rmse: 17970.8\tvalid_1's rmse: 20264.2\n",
      "[200]\tvalid_0's rmse: 14935.4\tvalid_1's rmse: 19976\n"
     ]
    },
    {
     "name": "stderr",
     "output_type": "stream",
     "text": [
      "feature_fraction_stage2, val_score: 18913.787436:  67%|######6   | 2/3 [00:02<00:00,  1.02it/s]\u001b[32m[I 2021-02-21 10:54:52,684]\u001b[0m Trial 38 finished with value: 19735.323853879483 and parameters: {'feature_fraction': 0.48000000000000004}. Best is trial 37 with value: 18913.78743633858.\u001b[0m\n",
      "feature_fraction_stage2, val_score: 18913.787436:  67%|######6   | 2/3 [00:02<00:00,  1.02it/s]"
     ]
    },
    {
     "name": "stdout",
     "output_type": "stream",
     "text": [
      "[300]\tvalid_0's rmse: 13376.2\tvalid_1's rmse: 19901.3\n",
      "Early stopping, best iteration is:\n",
      "[253]\tvalid_0's rmse: 14122.5\tvalid_1's rmse: 19735.3\n",
      "[LightGBM] [Warning] Auto-choosing row-wise multi-threading, the overhead of testing was 0.000242 seconds.\n",
      "You can set `force_row_wise=true` to remove the overhead.\n",
      "And if memory is not enough, you can set `force_col_wise=true`.\n",
      "[LightGBM] [Info] Total Bins 1084\n",
      "[LightGBM] [Info] Number of data points in the train set: 25176, number of used features: 25\n",
      "[LightGBM] [Info] Start training from score 117892.049333\n",
      "Training until validation scores don't improve for 100 rounds\n",
      "[100]\tvalid_0's rmse: 18057.6\tvalid_1's rmse: 20512.8\n",
      "[200]\tvalid_0's rmse: 15044.1\tvalid_1's rmse: 19934.8\n"
     ]
    },
    {
     "name": "stderr",
     "output_type": "stream",
     "text": [
      "feature_fraction_stage2, val_score: 18913.787436: 100%|##########| 3/3 [00:02<00:00,  1.10it/s]\u001b[32m[I 2021-02-21 10:54:53,506]\u001b[0m Trial 39 finished with value: 19751.725319652214 and parameters: {'feature_fraction': 0.44800000000000006}. Best is trial 37 with value: 18913.78743633858.\u001b[0m\n",
      "feature_fraction_stage2, val_score: 18913.787436: 100%|##########| 3/3 [00:02<00:00,  1.05it/s]\n",
      "regularization_factors, val_score: 18913.787436:   0%|          | 0/20 [00:00<?, ?it/s]"
     ]
    },
    {
     "name": "stdout",
     "output_type": "stream",
     "text": [
      "[300]\tvalid_0's rmse: 13346.9\tvalid_1's rmse: 19894.5\n",
      "Early stopping, best iteration is:\n",
      "[253]\tvalid_0's rmse: 14123.6\tvalid_1's rmse: 19751.7\n",
      "[LightGBM] [Warning] Auto-choosing row-wise multi-threading, the overhead of testing was 0.000237 seconds.\n",
      "You can set `force_row_wise=true` to remove the overhead.\n",
      "And if memory is not enough, you can set `force_col_wise=true`.\n",
      "[LightGBM] [Info] Total Bins 1084\n",
      "[LightGBM] [Info] Number of data points in the train set: 25176, number of used features: 25\n",
      "[LightGBM] [Info] Start training from score 117892.049333\n",
      "Training until validation scores don't improve for 100 rounds\n",
      "[100]\tvalid_0's rmse: 18263\tvalid_1's rmse: 20173.4\n",
      "[200]\tvalid_0's rmse: 15011.6\tvalid_1's rmse: 19575.9\n",
      "[300]\tvalid_0's rmse: 13436.9\tvalid_1's rmse: 19423.2\n",
      "[400]\tvalid_0's rmse: 12186.8\tvalid_1's rmse: 19366.4\n",
      "[500]\tvalid_0's rmse: 11201.5\tvalid_1's rmse: 19290.9\n"
     ]
    },
    {
     "name": "stderr",
     "output_type": "stream",
     "text": [
      "regularization_factors, val_score: 18913.787436:   5%|5         | 1/20 [00:01<00:23,  1.23s/it]\u001b[32m[I 2021-02-21 10:54:54,745]\u001b[0m Trial 40 finished with value: 19234.37741003164 and parameters: {'lambda_l1': 5.0621104906678724e-05, 'lambda_l2': 0.008203434953375626}. Best is trial 40 with value: 19234.37741003164.\u001b[0m\n",
      "regularization_factors, val_score: 18913.787436:   5%|5         | 1/20 [00:01<00:23,  1.23s/it]"
     ]
    },
    {
     "name": "stdout",
     "output_type": "stream",
     "text": [
      "Early stopping, best iteration is:\n",
      "[493]\tvalid_0's rmse: 11256.2\tvalid_1's rmse: 19234.4\n",
      "[LightGBM] [Warning] Auto-choosing row-wise multi-threading, the overhead of testing was 0.000236 seconds.\n",
      "You can set `force_row_wise=true` to remove the overhead.\n",
      "And if memory is not enough, you can set `force_col_wise=true`.\n",
      "[LightGBM] [Info] Total Bins 1084\n",
      "[LightGBM] [Info] Number of data points in the train set: 25176, number of used features: 25\n",
      "[LightGBM] [Info] Start training from score 117892.049333\n",
      "Training until validation scores don't improve for 100 rounds\n",
      "[100]\tvalid_0's rmse: 18233.6\tvalid_1's rmse: 20154.1\n",
      "[200]\tvalid_0's rmse: 15116.3\tvalid_1's rmse: 19463.3\n",
      "[300]\tvalid_0's rmse: 13455.2\tvalid_1's rmse: 19174.8\n",
      "[400]\tvalid_0's rmse: 12171\tvalid_1's rmse: 19072.2\n"
     ]
    },
    {
     "name": "stderr",
     "output_type": "stream",
     "text": [
      "regularization_factors, val_score: 18913.787436:  10%|#         | 2/20 [00:02<00:22,  1.25s/it]\u001b[32m[I 2021-02-21 10:54:56,006]\u001b[0m Trial 41 finished with value: 18913.78754513606 and parameters: {'lambda_l1': 0.34490183393651586, 'lambda_l2': 1.0604620981583192e-08}. Best is trial 41 with value: 18913.78754513606.\u001b[0m\n",
      "regularization_factors, val_score: 18913.787436:  10%|#         | 2/20 [00:02<00:22,  1.25s/it]"
     ]
    },
    {
     "name": "stdout",
     "output_type": "stream",
     "text": [
      "[500]\tvalid_0's rmse: 11166.9\tvalid_1's rmse: 18973\n",
      "Early stopping, best iteration is:\n",
      "[490]\tvalid_0's rmse: 11247\tvalid_1's rmse: 18913.8\n",
      "[LightGBM] [Warning] Auto-choosing row-wise multi-threading, the overhead of testing was 0.000248 seconds.\n",
      "You can set `force_row_wise=true` to remove the overhead.\n",
      "And if memory is not enough, you can set `force_col_wise=true`.\n",
      "[LightGBM] [Info] Total Bins 1084\n",
      "[LightGBM] [Info] Number of data points in the train set: 25176, number of used features: 25\n",
      "[LightGBM] [Info] Start training from score 117892.049333\n",
      "Training until validation scores don't improve for 100 rounds\n",
      "[100]\tvalid_0's rmse: 18233.7\tvalid_1's rmse: 20154.1\n",
      "[200]\tvalid_0's rmse: 15087.3\tvalid_1's rmse: 19552.8\n",
      "[300]\tvalid_0's rmse: 13388.6\tvalid_1's rmse: 19450.5\n",
      "[400]\tvalid_0's rmse: 12145.3\tvalid_1's rmse: 19270.2\n",
      "[500]\tvalid_0's rmse: 11155.2\tvalid_1's rmse: 19166.4\n"
     ]
    },
    {
     "name": "stderr",
     "output_type": "stream",
     "text": [
      "regularization_factors, val_score: 18913.787436:  15%|#5        | 3/20 [00:03<00:21,  1.27s/it]\u001b[32m[I 2021-02-21 10:54:57,295]\u001b[0m Trial 42 finished with value: 19110.719196386577 and parameters: {'lambda_l1': 8.446535682388996, 'lambda_l2': 1.4533389859456977e-08}. Best is trial 41 with value: 18913.78754513606.\u001b[0m\n",
      "regularization_factors, val_score: 18913.787436:  15%|#5        | 3/20 [00:03<00:21,  1.27s/it]"
     ]
    },
    {
     "name": "stdout",
     "output_type": "stream",
     "text": [
      "Early stopping, best iteration is:\n",
      "[490]\tvalid_0's rmse: 11231.4\tvalid_1's rmse: 19110.7\n",
      "[LightGBM] [Warning] Auto-choosing row-wise multi-threading, the overhead of testing was 0.000230 seconds.\n",
      "You can set `force_row_wise=true` to remove the overhead.\n",
      "And if memory is not enough, you can set `force_col_wise=true`.\n",
      "[LightGBM] [Info] Total Bins 1084\n",
      "[LightGBM] [Info] Number of data points in the train set: 25176, number of used features: 25\n",
      "[LightGBM] [Info] Start training from score 117892.049333\n",
      "Training until validation scores don't improve for 100 rounds\n",
      "[100]\tvalid_0's rmse: 18233.7\tvalid_1's rmse: 20154.1\n",
      "[200]\tvalid_0's rmse: 15087.3\tvalid_1's rmse: 19552.8\n",
      "[300]\tvalid_0's rmse: 13388.6\tvalid_1's rmse: 19450.5\n",
      "[400]\tvalid_0's rmse: 12145.3\tvalid_1's rmse: 19270.2\n"
     ]
    },
    {
     "name": "stderr",
     "output_type": "stream",
     "text": [
      "regularization_factors, val_score: 18913.787436:  20%|##        | 4/20 [00:05<00:20,  1.26s/it]\u001b[32m[I 2021-02-21 10:54:58,532]\u001b[0m Trial 43 finished with value: 19110.719843228868 and parameters: {'lambda_l1': 4.785207056133453, 'lambda_l2': 1.0697555095641876e-08}. Best is trial 41 with value: 18913.78754513606.\u001b[0m\n",
      "regularization_factors, val_score: 18913.787436:  20%|##        | 4/20 [00:05<00:20,  1.26s/it]"
     ]
    },
    {
     "name": "stdout",
     "output_type": "stream",
     "text": [
      "[500]\tvalid_0's rmse: 11155.2\tvalid_1's rmse: 19166.4\n",
      "Early stopping, best iteration is:\n",
      "[490]\tvalid_0's rmse: 11231.3\tvalid_1's rmse: 19110.7\n",
      "[LightGBM] [Warning] Auto-choosing row-wise multi-threading, the overhead of testing was 0.000255 seconds.\n",
      "You can set `force_row_wise=true` to remove the overhead.\n",
      "And if memory is not enough, you can set `force_col_wise=true`.\n",
      "[LightGBM] [Info] Total Bins 1084\n",
      "[LightGBM] [Info] Number of data points in the train set: 25176, number of used features: 25\n",
      "[LightGBM] [Info] Start training from score 117892.049333\n",
      "Training until validation scores don't improve for 100 rounds\n",
      "[100]\tvalid_0's rmse: 18233.6\tvalid_1's rmse: 20154.1\n",
      "[200]\tvalid_0's rmse: 15116.3\tvalid_1's rmse: 19463.3\n",
      "[300]\tvalid_0's rmse: 13455.2\tvalid_1's rmse: 19174.8\n",
      "[400]\tvalid_0's rmse: 12171\tvalid_1's rmse: 19072.2\n"
     ]
    },
    {
     "name": "stderr",
     "output_type": "stream",
     "text": [
      "regularization_factors, val_score: 18913.787436:  25%|##5       | 5/20 [00:06<00:18,  1.25s/it]\u001b[32m[I 2021-02-21 10:54:59,762]\u001b[0m Trial 44 finished with value: 18913.78759498353 and parameters: {'lambda_l1': 0.04680186452254755, 'lambda_l2': 1.436279556669433e-05}. Best is trial 41 with value: 18913.78754513606.\u001b[0m\n",
      "regularization_factors, val_score: 18913.787436:  25%|##5       | 5/20 [00:06<00:18,  1.25s/it]"
     ]
    },
    {
     "name": "stdout",
     "output_type": "stream",
     "text": [
      "[500]\tvalid_0's rmse: 11166.9\tvalid_1's rmse: 18973\n",
      "Early stopping, best iteration is:\n",
      "[490]\tvalid_0's rmse: 11247\tvalid_1's rmse: 18913.8\n",
      "[LightGBM] [Warning] Auto-choosing row-wise multi-threading, the overhead of testing was 0.000241 seconds.\n",
      "You can set `force_row_wise=true` to remove the overhead.\n",
      "And if memory is not enough, you can set `force_col_wise=true`.\n",
      "[LightGBM] [Info] Total Bins 1084\n",
      "[LightGBM] [Info] Number of data points in the train set: 25176, number of used features: 25\n",
      "[LightGBM] [Info] Start training from score 117892.049333\n",
      "Training until validation scores don't improve for 100 rounds\n",
      "[100]\tvalid_0's rmse: 18233.6\tvalid_1's rmse: 20154.1\n",
      "[200]\tvalid_0's rmse: 15116.3\tvalid_1's rmse: 19463.3\n",
      "[300]\tvalid_0's rmse: 13455.2\tvalid_1's rmse: 19174.8\n",
      "[400]\tvalid_0's rmse: 12171\tvalid_1's rmse: 19072.2\n"
     ]
    },
    {
     "name": "stderr",
     "output_type": "stream",
     "text": [
      "regularization_factors, val_score: 18913.787436:  30%|###       | 6/20 [00:07<00:17,  1.27s/it]\u001b[32m[I 2021-02-21 10:55:01,075]\u001b[0m Trial 45 finished with value: 18913.787503535597 and parameters: {'lambda_l1': 0.0395786345155164, 'lambda_l2': 6.269865510016738e-06}. Best is trial 45 with value: 18913.787503535597.\u001b[0m\n",
      "regularization_factors, val_score: 18913.787436:  30%|###       | 6/20 [00:07<00:17,  1.27s/it]"
     ]
    },
    {
     "name": "stdout",
     "output_type": "stream",
     "text": [
      "[500]\tvalid_0's rmse: 11166.9\tvalid_1's rmse: 18973\n",
      "Early stopping, best iteration is:\n",
      "[490]\tvalid_0's rmse: 11247\tvalid_1's rmse: 18913.8\n",
      "[LightGBM] [Warning] Auto-choosing row-wise multi-threading, the overhead of testing was 0.000238 seconds.\n",
      "You can set `force_row_wise=true` to remove the overhead.\n",
      "And if memory is not enough, you can set `force_col_wise=true`.\n",
      "[LightGBM] [Info] Total Bins 1084\n",
      "[LightGBM] [Info] Number of data points in the train set: 25176, number of used features: 25\n",
      "[LightGBM] [Info] Start training from score 117892.049333\n",
      "Training until validation scores don't improve for 100 rounds\n",
      "[100]\tvalid_0's rmse: 18233.6\tvalid_1's rmse: 20154.1\n",
      "[200]\tvalid_0's rmse: 15116.3\tvalid_1's rmse: 19463.3\n",
      "[300]\tvalid_0's rmse: 13455.2\tvalid_1's rmse: 19174.8\n",
      "[400]\tvalid_0's rmse: 12171\tvalid_1's rmse: 19072.2\n"
     ]
    },
    {
     "name": "stderr",
     "output_type": "stream",
     "text": [
      "regularization_factors, val_score: 18913.787436:  35%|###5      | 7/20 [00:08<00:16,  1.26s/it]\u001b[32m[I 2021-02-21 10:55:02,307]\u001b[0m Trial 46 finished with value: 18913.787693033828 and parameters: {'lambda_l1': 0.04174040323286087, 'lambda_l2': 2.645035339810773e-05}. Best is trial 45 with value: 18913.787503535597.\u001b[0m\n",
      "regularization_factors, val_score: 18913.787436:  35%|###5      | 7/20 [00:08<00:16,  1.26s/it]"
     ]
    },
    {
     "name": "stdout",
     "output_type": "stream",
     "text": [
      "[500]\tvalid_0's rmse: 11166.9\tvalid_1's rmse: 18973\n",
      "Early stopping, best iteration is:\n",
      "[490]\tvalid_0's rmse: 11247\tvalid_1's rmse: 18913.8\n",
      "[LightGBM] [Warning] Auto-choosing row-wise multi-threading, the overhead of testing was 0.000311 seconds.\n",
      "You can set `force_row_wise=true` to remove the overhead.\n",
      "And if memory is not enough, you can set `force_col_wise=true`.\n",
      "[LightGBM] [Info] Total Bins 1084\n",
      "[LightGBM] [Info] Number of data points in the train set: 25176, number of used features: 25\n",
      "[LightGBM] [Info] Start training from score 117892.049333\n",
      "Training until validation scores don't improve for 100 rounds\n",
      "[100]\tvalid_0's rmse: 18233.6\tvalid_1's rmse: 20154.1\n",
      "[200]\tvalid_0's rmse: 15116.3\tvalid_1's rmse: 19463.3\n",
      "[300]\tvalid_0's rmse: 13455.2\tvalid_1's rmse: 19174.8\n",
      "[400]\tvalid_0's rmse: 12171\tvalid_1's rmse: 19072.2\n"
     ]
    },
    {
     "name": "stderr",
     "output_type": "stream",
     "text": [
      "regularization_factors, val_score: 18913.787436:  40%|####      | 8/20 [00:10<00:14,  1.25s/it]\u001b[32m[I 2021-02-21 10:55:03,533]\u001b[0m Trial 47 finished with value: 18913.787538801196 and parameters: {'lambda_l1': 0.04931499820274558, 'lambda_l2': 9.936769237879604e-06}. Best is trial 45 with value: 18913.787503535597.\u001b[0m\n",
      "regularization_factors, val_score: 18913.787436:  40%|####      | 8/20 [00:10<00:14,  1.25s/it]"
     ]
    },
    {
     "name": "stdout",
     "output_type": "stream",
     "text": [
      "[500]\tvalid_0's rmse: 11166.9\tvalid_1's rmse: 18973\n",
      "Early stopping, best iteration is:\n",
      "[490]\tvalid_0's rmse: 11247\tvalid_1's rmse: 18913.8\n",
      "[LightGBM] [Warning] Auto-choosing row-wise multi-threading, the overhead of testing was 0.000251 seconds.\n",
      "You can set `force_row_wise=true` to remove the overhead.\n",
      "And if memory is not enough, you can set `force_col_wise=true`.\n",
      "[LightGBM] [Info] Total Bins 1084\n",
      "[LightGBM] [Info] Number of data points in the train set: 25176, number of used features: 25\n",
      "[LightGBM] [Info] Start training from score 117892.049333\n",
      "Training until validation scores don't improve for 100 rounds\n",
      "[100]\tvalid_0's rmse: 18233.6\tvalid_1's rmse: 20154.1\n",
      "[200]\tvalid_0's rmse: 15116.3\tvalid_1's rmse: 19463.3\n",
      "[300]\tvalid_0's rmse: 13455.2\tvalid_1's rmse: 19174.8\n",
      "[400]\tvalid_0's rmse: 12171\tvalid_1's rmse: 19072.2\n"
     ]
    },
    {
     "name": "stderr",
     "output_type": "stream",
     "text": [
      "regularization_factors, val_score: 18913.787436:  45%|####5     | 9/20 [00:11<00:13,  1.24s/it]\u001b[32m[I 2021-02-21 10:55:04,757]\u001b[0m Trial 48 finished with value: 18913.78745617427 and parameters: {'lambda_l1': 0.019991756201039542, 'lambda_l2': 8.323201549969565e-07}. Best is trial 48 with value: 18913.78745617427.\u001b[0m\n",
      "regularization_factors, val_score: 18913.787436:  45%|####5     | 9/20 [00:11<00:13,  1.24s/it]"
     ]
    },
    {
     "name": "stdout",
     "output_type": "stream",
     "text": [
      "[500]\tvalid_0's rmse: 11166.9\tvalid_1's rmse: 18973\n",
      "Early stopping, best iteration is:\n",
      "[490]\tvalid_0's rmse: 11247\tvalid_1's rmse: 18913.8\n",
      "[LightGBM] [Warning] Auto-choosing row-wise multi-threading, the overhead of testing was 0.000242 seconds.\n",
      "You can set `force_row_wise=true` to remove the overhead.\n",
      "And if memory is not enough, you can set `force_col_wise=true`.\n",
      "[LightGBM] [Info] Total Bins 1084\n",
      "[LightGBM] [Info] Number of data points in the train set: 25176, number of used features: 25\n",
      "[LightGBM] [Info] Start training from score 117892.049333\n",
      "Training until validation scores don't improve for 100 rounds\n",
      "[100]\tvalid_0's rmse: 18233.6\tvalid_1's rmse: 20154.1\n",
      "[200]\tvalid_0's rmse: 15116.3\tvalid_1's rmse: 19463.3\n",
      "[300]\tvalid_0's rmse: 13455.2\tvalid_1's rmse: 19174.8\n",
      "[400]\tvalid_0's rmse: 12171\tvalid_1's rmse: 19072.2\n"
     ]
    },
    {
     "name": "stderr",
     "output_type": "stream",
     "text": [
      "regularization_factors, val_score: 18913.787436:  50%|#####     | 10/20 [00:12<00:12,  1.25s/it]"
     ]
    },
    {
     "name": "stdout",
     "output_type": "stream",
     "text": [
      "[500]\tvalid_0's rmse: 11166.9\tvalid_1's rmse: 18973\n",
      "Early stopping, best iteration is:\n",
      "[490]\tvalid_0's rmse: 11247\tvalid_1's rmse: 18913.8\n"
     ]
    },
    {
     "name": "stderr",
     "output_type": "stream",
     "text": [
      "\u001b[32m[I 2021-02-21 10:55:06,030]\u001b[0m Trial 49 finished with value: 18913.787449378204 and parameters: {'lambda_l1': 0.0021405564141083197, 'lambda_l2': 1.551073202335172e-06}. Best is trial 49 with value: 18913.787449378204.\u001b[0m\n",
      "regularization_factors, val_score: 18913.787436:  50%|#####     | 10/20 [00:12<00:12,  1.25s/it]"
     ]
    },
    {
     "name": "stdout",
     "output_type": "stream",
     "text": [
      "[LightGBM] [Warning] Auto-choosing row-wise multi-threading, the overhead of testing was 0.000246 seconds.\n",
      "You can set `force_row_wise=true` to remove the overhead.\n",
      "And if memory is not enough, you can set `force_col_wise=true`.\n",
      "[LightGBM] [Info] Total Bins 1084\n",
      "[LightGBM] [Info] Number of data points in the train set: 25176, number of used features: 25\n",
      "[LightGBM] [Info] Start training from score 117892.049333\n",
      "Training until validation scores don't improve for 100 rounds\n",
      "[100]\tvalid_0's rmse: 18233.6\tvalid_1's rmse: 20154.1\n",
      "[200]\tvalid_0's rmse: 15116.3\tvalid_1's rmse: 19463.3\n",
      "[300]\tvalid_0's rmse: 13455.2\tvalid_1's rmse: 19174.8\n",
      "[400]\tvalid_0's rmse: 12171\tvalid_1's rmse: 19072.2\n",
      "[500]\tvalid_0's rmse: 11166.9\tvalid_1's rmse: 18973\n"
     ]
    },
    {
     "name": "stderr",
     "output_type": "stream",
     "text": [
      "regularization_factors, val_score: 18913.787436:  55%|#####5    | 11/20 [00:13<00:11,  1.27s/it]\u001b[32m[I 2021-02-21 10:55:07,337]\u001b[0m Trial 50 finished with value: 18913.78744461895 and parameters: {'lambda_l1': 1.2681667655225009e-08, 'lambda_l2': 6.658039861488181e-07}. Best is trial 50 with value: 18913.78744461895.\u001b[0m\n",
      "regularization_factors, val_score: 18913.787436:  55%|#####5    | 11/20 [00:13<00:11,  1.27s/it]"
     ]
    },
    {
     "name": "stdout",
     "output_type": "stream",
     "text": [
      "Early stopping, best iteration is:\n",
      "[490]\tvalid_0's rmse: 11247\tvalid_1's rmse: 18913.8\n",
      "[LightGBM] [Warning] Auto-choosing row-wise multi-threading, the overhead of testing was 0.000258 seconds.\n",
      "You can set `force_row_wise=true` to remove the overhead.\n",
      "And if memory is not enough, you can set `force_col_wise=true`.\n",
      "[LightGBM] [Info] Total Bins 1084\n",
      "[LightGBM] [Info] Number of data points in the train set: 25176, number of used features: 25\n",
      "[LightGBM] [Info] Start training from score 117892.049333\n",
      "Training until validation scores don't improve for 100 rounds\n",
      "[100]\tvalid_0's rmse: 18233.6\tvalid_1's rmse: 20154.1\n",
      "[200]\tvalid_0's rmse: 15116.3\tvalid_1's rmse: 19463.3\n",
      "[300]\tvalid_0's rmse: 13455.2\tvalid_1's rmse: 19174.8\n",
      "[400]\tvalid_0's rmse: 12171\tvalid_1's rmse: 19072.2\n"
     ]
    },
    {
     "name": "stderr",
     "output_type": "stream",
     "text": [
      "regularization_factors, val_score: 18913.787436:  60%|######    | 12/20 [00:15<00:10,  1.25s/it]\u001b[32m[I 2021-02-21 10:55:08,562]\u001b[0m Trial 51 finished with value: 18913.787442291075 and parameters: {'lambda_l1': 1.4555312755973233e-08, 'lambda_l2': 6.779663195201072e-07}. Best is trial 51 with value: 18913.787442291075.\u001b[0m\n",
      "regularization_factors, val_score: 18913.787436:  60%|######    | 12/20 [00:15<00:10,  1.25s/it]"
     ]
    },
    {
     "name": "stdout",
     "output_type": "stream",
     "text": [
      "[500]\tvalid_0's rmse: 11166.9\tvalid_1's rmse: 18973\n",
      "Early stopping, best iteration is:\n",
      "[490]\tvalid_0's rmse: 11247\tvalid_1's rmse: 18913.8\n",
      "[LightGBM] [Warning] Auto-choosing row-wise multi-threading, the overhead of testing was 0.000240 seconds.\n",
      "You can set `force_row_wise=true` to remove the overhead.\n",
      "And if memory is not enough, you can set `force_col_wise=true`.\n",
      "[LightGBM] [Info] Total Bins 1084\n",
      "[LightGBM] [Info] Number of data points in the train set: 25176, number of used features: 25\n",
      "[LightGBM] [Info] Start training from score 117892.049333\n",
      "Training until validation scores don't improve for 100 rounds\n",
      "[100]\tvalid_0's rmse: 18233.6\tvalid_1's rmse: 20154.1\n",
      "[200]\tvalid_0's rmse: 15116.3\tvalid_1's rmse: 19463.3\n",
      "[300]\tvalid_0's rmse: 13455.2\tvalid_1's rmse: 19174.8\n",
      "[400]\tvalid_0's rmse: 12171\tvalid_1's rmse: 19072.2\n"
     ]
    },
    {
     "name": "stderr",
     "output_type": "stream",
     "text": [
      "regularization_factors, val_score: 18913.787436:  65%|######5   | 13/20 [00:16<00:08,  1.25s/it]\u001b[32m[I 2021-02-21 10:55:09,789]\u001b[0m Trial 52 finished with value: 18913.787440389275 and parameters: {'lambda_l1': 1.7704401479606515e-08, 'lambda_l2': 3.7574125026392497e-07}. Best is trial 52 with value: 18913.787440389275.\u001b[0m\n",
      "regularization_factors, val_score: 18913.787436:  65%|######5   | 13/20 [00:16<00:08,  1.25s/it]"
     ]
    },
    {
     "name": "stdout",
     "output_type": "stream",
     "text": [
      "[500]\tvalid_0's rmse: 11166.9\tvalid_1's rmse: 18973\n",
      "Early stopping, best iteration is:\n",
      "[490]\tvalid_0's rmse: 11247\tvalid_1's rmse: 18913.8\n",
      "[LightGBM] [Warning] Auto-choosing row-wise multi-threading, the overhead of testing was 0.000233 seconds.\n",
      "You can set `force_row_wise=true` to remove the overhead.\n",
      "And if memory is not enough, you can set `force_col_wise=true`.\n",
      "[LightGBM] [Info] Total Bins 1084\n",
      "[LightGBM] [Info] Number of data points in the train set: 25176, number of used features: 25\n",
      "[LightGBM] [Info] Start training from score 117892.049333\n",
      "Training until validation scores don't improve for 100 rounds\n",
      "[100]\tvalid_0's rmse: 18233.6\tvalid_1's rmse: 20154.1\n",
      "[200]\tvalid_0's rmse: 15116.3\tvalid_1's rmse: 19463.3\n",
      "[300]\tvalid_0's rmse: 13455.2\tvalid_1's rmse: 19174.8\n",
      "[400]\tvalid_0's rmse: 12171\tvalid_1's rmse: 19072.2\n"
     ]
    },
    {
     "name": "stderr",
     "output_type": "stream",
     "text": [
      "regularization_factors, val_score: 18913.787436:  70%|#######   | 14/20 [00:17<00:07,  1.24s/it]\u001b[32m[I 2021-02-21 10:55:11,014]\u001b[0m Trial 53 finished with value: 18913.787437061146 and parameters: {'lambda_l1': 1.198013382440706e-08, 'lambda_l2': 2.0589969687649362e-07}. Best is trial 53 with value: 18913.787437061146.\u001b[0m\n",
      "regularization_factors, val_score: 18913.787436:  70%|#######   | 14/20 [00:17<00:07,  1.24s/it]"
     ]
    },
    {
     "name": "stdout",
     "output_type": "stream",
     "text": [
      "[500]\tvalid_0's rmse: 11166.9\tvalid_1's rmse: 18973\n",
      "Early stopping, best iteration is:\n",
      "[490]\tvalid_0's rmse: 11247\tvalid_1's rmse: 18913.8\n",
      "[LightGBM] [Warning] Auto-choosing row-wise multi-threading, the overhead of testing was 0.000245 seconds.\n",
      "You can set `force_row_wise=true` to remove the overhead.\n",
      "And if memory is not enough, you can set `force_col_wise=true`.\n",
      "[LightGBM] [Info] Total Bins 1084\n",
      "[LightGBM] [Info] Number of data points in the train set: 25176, number of used features: 25\n",
      "[LightGBM] [Info] Start training from score 117892.049333\n",
      "Training until validation scores don't improve for 100 rounds\n",
      "[100]\tvalid_0's rmse: 18233.6\tvalid_1's rmse: 20154.1\n",
      "[200]\tvalid_0's rmse: 15116.3\tvalid_1's rmse: 19463.3\n",
      "[300]\tvalid_0's rmse: 13455.2\tvalid_1's rmse: 19174.8\n",
      "[400]\tvalid_0's rmse: 12171\tvalid_1's rmse: 19072.2\n",
      "[500]\tvalid_0's rmse: 11166.9\tvalid_1's rmse: 18973\n"
     ]
    },
    {
     "name": "stderr",
     "output_type": "stream",
     "text": [
      "regularization_factors, val_score: 18913.787436:  75%|#######5  | 15/20 [00:18<00:06,  1.24s/it]\u001b[32m[I 2021-02-21 10:55:12,266]\u001b[0m Trial 54 finished with value: 18913.78743695184 and parameters: {'lambda_l1': 1.105760985924484e-08, 'lambda_l2': 1.4583507441382823e-07}. Best is trial 54 with value: 18913.78743695184.\u001b[0m\n",
      "regularization_factors, val_score: 18913.787436:  75%|#######5  | 15/20 [00:18<00:06,  1.24s/it]"
     ]
    },
    {
     "name": "stdout",
     "output_type": "stream",
     "text": [
      "Early stopping, best iteration is:\n",
      "[490]\tvalid_0's rmse: 11247\tvalid_1's rmse: 18913.8\n",
      "[LightGBM] [Warning] Auto-choosing row-wise multi-threading, the overhead of testing was 0.000235 seconds.\n",
      "You can set `force_row_wise=true` to remove the overhead.\n",
      "And if memory is not enough, you can set `force_col_wise=true`.\n",
      "[LightGBM] [Info] Total Bins 1084\n",
      "[LightGBM] [Info] Number of data points in the train set: 25176, number of used features: 25\n",
      "[LightGBM] [Info] Start training from score 117892.049333\n",
      "Training until validation scores don't improve for 100 rounds\n",
      "[100]\tvalid_0's rmse: 18233.6\tvalid_1's rmse: 20154.1\n",
      "[200]\tvalid_0's rmse: 15116.3\tvalid_1's rmse: 19463.3\n",
      "[300]\tvalid_0's rmse: 13455.2\tvalid_1's rmse: 19174.8\n",
      "[400]\tvalid_0's rmse: 12171\tvalid_1's rmse: 19072.2\n"
     ]
    },
    {
     "name": "stderr",
     "output_type": "stream",
     "text": [
      "regularization_factors, val_score: 18913.787436:  80%|########  | 16/20 [00:19<00:04,  1.24s/it]\u001b[32m[I 2021-02-21 10:55:13,492]\u001b[0m Trial 55 finished with value: 18913.787437414852 and parameters: {'lambda_l1': 1.2447293109812193e-08, 'lambda_l2': 6.892160077533106e-08}. Best is trial 54 with value: 18913.78743695184.\u001b[0m\n",
      "regularization_factors, val_score: 18913.787436:  80%|########  | 16/20 [00:19<00:04,  1.24s/it]"
     ]
    },
    {
     "name": "stdout",
     "output_type": "stream",
     "text": [
      "[500]\tvalid_0's rmse: 11166.9\tvalid_1's rmse: 18973\n",
      "Early stopping, best iteration is:\n",
      "[490]\tvalid_0's rmse: 11247\tvalid_1's rmse: 18913.8\n",
      "[LightGBM] [Warning] Auto-choosing row-wise multi-threading, the overhead of testing was 0.000244 seconds.\n",
      "You can set `force_row_wise=true` to remove the overhead.\n",
      "And if memory is not enough, you can set `force_col_wise=true`.\n",
      "[LightGBM] [Info] Total Bins 1084\n",
      "[LightGBM] [Info] Number of data points in the train set: 25176, number of used features: 25\n",
      "[LightGBM] [Info] Start training from score 117892.049333\n",
      "Training until validation scores don't improve for 100 rounds\n",
      "[100]\tvalid_0's rmse: 18233.6\tvalid_1's rmse: 20154.1\n",
      "[200]\tvalid_0's rmse: 15116.3\tvalid_1's rmse: 19463.3\n",
      "[300]\tvalid_0's rmse: 13455.2\tvalid_1's rmse: 19174.8\n",
      "[400]\tvalid_0's rmse: 12171\tvalid_1's rmse: 19072.2\n"
     ]
    },
    {
     "name": "stderr",
     "output_type": "stream",
     "text": [
      "regularization_factors, val_score: 18913.787436:  85%|########5 | 17/20 [00:21<00:03,  1.23s/it]\u001b[32m[I 2021-02-21 10:55:14,710]\u001b[0m Trial 56 finished with value: 18913.78743810449 and parameters: {'lambda_l1': 2.9891245006693007e-07, 'lambda_l2': 7.120315018474125e-08}. Best is trial 54 with value: 18913.78743695184.\u001b[0m\n",
      "regularization_factors, val_score: 18913.787436:  85%|########5 | 17/20 [00:21<00:03,  1.23s/it]"
     ]
    },
    {
     "name": "stdout",
     "output_type": "stream",
     "text": [
      "[500]\tvalid_0's rmse: 11166.9\tvalid_1's rmse: 18973\n",
      "Early stopping, best iteration is:\n",
      "[490]\tvalid_0's rmse: 11247\tvalid_1's rmse: 18913.8\n",
      "[LightGBM] [Warning] Auto-choosing row-wise multi-threading, the overhead of testing was 0.000269 seconds.\n",
      "You can set `force_row_wise=true` to remove the overhead.\n",
      "And if memory is not enough, you can set `force_col_wise=true`.\n",
      "[LightGBM] [Info] Total Bins 1084\n",
      "[LightGBM] [Info] Number of data points in the train set: 25176, number of used features: 25\n",
      "[LightGBM] [Info] Start training from score 117892.049333\n",
      "Training until validation scores don't improve for 100 rounds\n",
      "[100]\tvalid_0's rmse: 18233.6\tvalid_1's rmse: 20154.1\n",
      "[200]\tvalid_0's rmse: 15116.3\tvalid_1's rmse: 19463.3\n",
      "[300]\tvalid_0's rmse: 13455.2\tvalid_1's rmse: 19174.8\n",
      "[400]\tvalid_0's rmse: 12171\tvalid_1's rmse: 19072.2\n"
     ]
    },
    {
     "name": "stderr",
     "output_type": "stream",
     "text": [
      "regularization_factors, val_score: 18913.787436:  90%|######### | 18/20 [00:22<00:02,  1.24s/it]\u001b[32m[I 2021-02-21 10:55:15,965]\u001b[0m Trial 57 finished with value: 18913.787438196 and parameters: {'lambda_l1': 6.028360134263527e-07, 'lambda_l2': 5.516884141634829e-08}. Best is trial 54 with value: 18913.78743695184.\u001b[0m\n",
      "regularization_factors, val_score: 18913.787436:  90%|######### | 18/20 [00:22<00:02,  1.24s/it]"
     ]
    },
    {
     "name": "stdout",
     "output_type": "stream",
     "text": [
      "[500]\tvalid_0's rmse: 11166.9\tvalid_1's rmse: 18973\n",
      "Early stopping, best iteration is:\n",
      "[490]\tvalid_0's rmse: 11247\tvalid_1's rmse: 18913.8\n",
      "[LightGBM] [Warning] Auto-choosing row-wise multi-threading, the overhead of testing was 0.000238 seconds.\n",
      "You can set `force_row_wise=true` to remove the overhead.\n",
      "And if memory is not enough, you can set `force_col_wise=true`.\n",
      "[LightGBM] [Info] Total Bins 1084\n",
      "[LightGBM] [Info] Number of data points in the train set: 25176, number of used features: 25\n",
      "[LightGBM] [Info] Start training from score 117892.049333\n",
      "Training until validation scores don't improve for 100 rounds\n",
      "[100]\tvalid_0's rmse: 18684.7\tvalid_1's rmse: 20607.6\n",
      "[200]\tvalid_0's rmse: 15395.4\tvalid_1's rmse: 19973.9\n",
      "[300]\tvalid_0's rmse: 13713.6\tvalid_1's rmse: 19714.4\n",
      "[400]\tvalid_0's rmse: 12467.3\tvalid_1's rmse: 19651.8\n",
      "[500]\tvalid_0's rmse: 11458.4\tvalid_1's rmse: 19551.9\n",
      "[600]\tvalid_0's rmse: 10531.3\tvalid_1's rmse: 19510.5\n",
      "[700]\tvalid_0's rmse: 9915.16\tvalid_1's rmse: 19491.8\n",
      "[800]\tvalid_0's rmse: 9323.46\tvalid_1's rmse: 19456.8\n",
      "[900]\tvalid_0's rmse: 8780.34\tvalid_1's rmse: 19367.6\n"
     ]
    },
    {
     "name": "stderr",
     "output_type": "stream",
     "text": [
      "regularization_factors, val_score: 18913.787436:  95%|#########5| 19/20 [00:24<00:01,  1.49s/it]\u001b[32m[I 2021-02-21 10:55:18,039]\u001b[0m Trial 58 finished with value: 19205.75825342659 and parameters: {'lambda_l1': 3.031612192220408e-07, 'lambda_l2': 2.7943016655932817}. Best is trial 54 with value: 18913.78743695184.\u001b[0m\n",
      "regularization_factors, val_score: 18913.787436:  95%|#########5| 19/20 [00:24<00:01,  1.49s/it]"
     ]
    },
    {
     "name": "stdout",
     "output_type": "stream",
     "text": [
      "[1000]\tvalid_0's rmse: 8321.34\tvalid_1's rmse: 19205.8\n",
      "Did not meet early stopping. Best iteration is:\n",
      "[1000]\tvalid_0's rmse: 8321.34\tvalid_1's rmse: 19205.8\n",
      "[LightGBM] [Warning] Auto-choosing row-wise multi-threading, the overhead of testing was 0.000267 seconds.\n",
      "You can set `force_row_wise=true` to remove the overhead.\n",
      "And if memory is not enough, you can set `force_col_wise=true`.\n",
      "[LightGBM] [Info] Total Bins 1084\n",
      "[LightGBM] [Info] Number of data points in the train set: 25176, number of used features: 25\n",
      "[LightGBM] [Info] Start training from score 117892.049333\n",
      "Training until validation scores don't improve for 100 rounds\n",
      "[100]\tvalid_0's rmse: 18233.6\tvalid_1's rmse: 20154.1\n",
      "[200]\tvalid_0's rmse: 15116.3\tvalid_1's rmse: 19463.3\n",
      "[300]\tvalid_0's rmse: 13455.2\tvalid_1's rmse: 19174.8\n",
      "[400]\tvalid_0's rmse: 12171\tvalid_1's rmse: 19072.2\n"
     ]
    },
    {
     "name": "stderr",
     "output_type": "stream",
     "text": [
      "regularization_factors, val_score: 18913.787436: 100%|##########| 20/20 [00:25<00:00,  1.41s/it]\u001b[32m[I 2021-02-21 10:55:19,256]\u001b[0m Trial 59 finished with value: 18913.787437873038 and parameters: {'lambda_l1': 3.158408509024525e-07, 'lambda_l2': 7.149770905889703e-08}. Best is trial 54 with value: 18913.78743695184.\u001b[0m\n",
      "regularization_factors, val_score: 18913.787436: 100%|##########| 20/20 [00:25<00:00,  1.29s/it]\n",
      "min_data_in_leaf, val_score: 18913.787436:   0%|          | 0/5 [00:00<?, ?it/s]"
     ]
    },
    {
     "name": "stdout",
     "output_type": "stream",
     "text": [
      "[500]\tvalid_0's rmse: 11166.9\tvalid_1's rmse: 18973\n",
      "Early stopping, best iteration is:\n",
      "[490]\tvalid_0's rmse: 11247\tvalid_1's rmse: 18913.8\n",
      "[LightGBM] [Warning] Auto-choosing row-wise multi-threading, the overhead of testing was 0.000241 seconds.\n",
      "You can set `force_row_wise=true` to remove the overhead.\n",
      "And if memory is not enough, you can set `force_col_wise=true`.\n",
      "[LightGBM] [Info] Total Bins 1084\n",
      "[LightGBM] [Info] Number of data points in the train set: 25176, number of used features: 25\n",
      "[LightGBM] [Info] Start training from score 117892.049333\n",
      "Training until validation scores don't improve for 100 rounds\n",
      "[100]\tvalid_0's rmse: 22181.7\tvalid_1's rmse: 21006.7\n",
      "[200]\tvalid_0's rmse: 19087.9\tvalid_1's rmse: 19883.5\n",
      "[300]\tvalid_0's rmse: 17300\tvalid_1's rmse: 19459\n",
      "[400]\tvalid_0's rmse: 15948.1\tvalid_1's rmse: 19179\n",
      "[500]\tvalid_0's rmse: 14815.4\tvalid_1's rmse: 19123.2\n",
      "[600]\tvalid_0's rmse: 13826.8\tvalid_1's rmse: 19021.3\n",
      "[700]\tvalid_0's rmse: 12946.5\tvalid_1's rmse: 18957.3\n",
      "[800]\tvalid_0's rmse: 12110.3\tvalid_1's rmse: 18828.8\n",
      "[900]\tvalid_0's rmse: 11451.7\tvalid_1's rmse: 18739.6\n",
      "[1000]\tvalid_0's rmse: 10897.9\tvalid_1's rmse: 18714.6\n",
      "Did not meet early stopping. Best iteration is:\n",
      "[1000]\tvalid_0's rmse: 10897.9\tvalid_1's rmse: 18714.6\n"
     ]
    },
    {
     "name": "stderr",
     "output_type": "stream",
     "text": [
      "min_data_in_leaf, val_score: 18714.567425:  20%|##        | 1/5 [00:02<00:08,  2.17s/it]\u001b[32m[I 2021-02-21 10:55:21,427]\u001b[0m Trial 60 finished with value: 18714.567424529283 and parameters: {'min_child_samples': 50}. Best is trial 60 with value: 18714.567424529283.\u001b[0m\n",
      "min_data_in_leaf, val_score: 18714.567425:  20%|##        | 1/5 [00:02<00:08,  2.17s/it]"
     ]
    },
    {
     "name": "stdout",
     "output_type": "stream",
     "text": [
      "[LightGBM] [Warning] Auto-choosing col-wise multi-threading, the overhead of testing was 0.003213 seconds.\n",
      "You can set `force_col_wise=true` to remove the overhead.\n",
      "[LightGBM] [Info] Total Bins 1084\n",
      "[LightGBM] [Info] Number of data points in the train set: 25176, number of used features: 25\n",
      "[LightGBM] [Info] Start training from score 117892.049333\n",
      "Training until validation scores don't improve for 100 rounds\n",
      "[100]\tvalid_0's rmse: 14116.9\tvalid_1's rmse: 21634.7\n",
      "[200]\tvalid_0's rmse: 11657.5\tvalid_1's rmse: 20881\n",
      "[300]\tvalid_0's rmse: 10426.7\tvalid_1's rmse: 20620\n",
      "[400]\tvalid_0's rmse: 9459.75\tvalid_1's rmse: 20437.2\n",
      "[500]\tvalid_0's rmse: 8746.3\tvalid_1's rmse: 20313.3\n",
      "[600]\tvalid_0's rmse: 8143.3\tvalid_1's rmse: 20254.7\n",
      "[700]\tvalid_0's rmse: 7617.81\tvalid_1's rmse: 20151.1\n",
      "[800]\tvalid_0's rmse: 7167.8\tvalid_1's rmse: 20113.4\n",
      "[900]\tvalid_0's rmse: 6764.33\tvalid_1's rmse: 20071.9\n"
     ]
    },
    {
     "name": "stderr",
     "output_type": "stream",
     "text": [
      "min_data_in_leaf, val_score: 18714.567425:  40%|####      | 2/5 [00:03<00:05,  1.82s/it]\u001b[32m[I 2021-02-21 10:55:23,006]\u001b[0m Trial 61 finished with value: 20034.420636117662 and parameters: {'min_child_samples': 5}. Best is trial 60 with value: 18714.567424529283.\u001b[0m\n",
      "min_data_in_leaf, val_score: 18714.567425:  40%|####      | 2/5 [00:03<00:05,  1.82s/it]"
     ]
    },
    {
     "name": "stdout",
     "output_type": "stream",
     "text": [
      "[1000]\tvalid_0's rmse: 6381.68\tvalid_1's rmse: 20034.4\n",
      "Did not meet early stopping. Best iteration is:\n",
      "[1000]\tvalid_0's rmse: 6381.68\tvalid_1's rmse: 20034.4\n",
      "[LightGBM] [Warning] Auto-choosing row-wise multi-threading, the overhead of testing was 0.000229 seconds.\n",
      "You can set `force_row_wise=true` to remove the overhead.\n",
      "And if memory is not enough, you can set `force_col_wise=true`.\n",
      "[LightGBM] [Info] Total Bins 1084\n",
      "[LightGBM] [Info] Number of data points in the train set: 25176, number of used features: 25\n",
      "[LightGBM] [Info] Start training from score 117892.049333\n",
      "Training until validation scores don't improve for 100 rounds\n",
      "[100]\tvalid_0's rmse: 15406.5\tvalid_1's rmse: 21168\n",
      "[200]\tvalid_0's rmse: 12498.5\tvalid_1's rmse: 20233.7\n",
      "[300]\tvalid_0's rmse: 11060.2\tvalid_1's rmse: 20117.9\n",
      "[400]\tvalid_0's rmse: 10074.9\tvalid_1's rmse: 19960.4\n",
      "[500]\tvalid_0's rmse: 9298.06\tvalid_1's rmse: 19874.5\n",
      "[600]\tvalid_0's rmse: 8634.86\tvalid_1's rmse: 19814.7\n",
      "[700]\tvalid_0's rmse: 8098.11\tvalid_1's rmse: 19726\n",
      "[800]\tvalid_0's rmse: 7619.37\tvalid_1's rmse: 19675.3\n",
      "[900]\tvalid_0's rmse: 7217.36\tvalid_1's rmse: 19644.3\n"
     ]
    },
    {
     "name": "stderr",
     "output_type": "stream",
     "text": [
      "min_data_in_leaf, val_score: 18714.567425:  60%|######    | 3/5 [00:05<00:03,  1.82s/it]\u001b[32m[I 2021-02-21 10:55:24,834]\u001b[0m Trial 62 finished with value: 19626.788837224012 and parameters: {'min_child_samples': 10}. Best is trial 60 with value: 18714.567424529283.\u001b[0m\n",
      "min_data_in_leaf, val_score: 18714.567425:  60%|######    | 3/5 [00:05<00:03,  1.82s/it]"
     ]
    },
    {
     "name": "stdout",
     "output_type": "stream",
     "text": [
      "[1000]\tvalid_0's rmse: 6817.79\tvalid_1's rmse: 19626.8\n",
      "Did not meet early stopping. Best iteration is:\n",
      "[1000]\tvalid_0's rmse: 6817.79\tvalid_1's rmse: 19626.8\n",
      "[LightGBM] [Warning] Auto-choosing row-wise multi-threading, the overhead of testing was 0.000272 seconds.\n",
      "You can set `force_row_wise=true` to remove the overhead.\n",
      "And if memory is not enough, you can set `force_col_wise=true`.\n",
      "[LightGBM] [Info] Total Bins 1084\n",
      "[LightGBM] [Info] Number of data points in the train set: 25176, number of used features: 25\n",
      "[LightGBM] [Info] Start training from score 117892.049333\n",
      "Training until validation scores don't improve for 100 rounds\n",
      "[100]\tvalid_0's rmse: 19027.7\tvalid_1's rmse: 19874.2\n",
      "[200]\tvalid_0's rmse: 16002.1\tvalid_1's rmse: 19090.7\n"
     ]
    },
    {
     "name": "stderr",
     "output_type": "stream",
     "text": [
      "min_data_in_leaf, val_score: 18714.567425:  80%|########  | 4/5 [00:06<00:01,  1.43s/it]\u001b[32m[I 2021-02-21 10:55:25,667]\u001b[0m Trial 63 finished with value: 18838.115375138535 and parameters: {'min_child_samples': 25}. Best is trial 60 with value: 18714.567424529283.\u001b[0m\n",
      "min_data_in_leaf, val_score: 18714.567425:  80%|########  | 4/5 [00:06<00:01,  1.43s/it]"
     ]
    },
    {
     "name": "stdout",
     "output_type": "stream",
     "text": [
      "[300]\tvalid_0's rmse: 14385\tvalid_1's rmse: 18927.8\n",
      "Early stopping, best iteration is:\n",
      "[253]\tvalid_0's rmse: 15145.7\tvalid_1's rmse: 18838.1\n",
      "[LightGBM] [Warning] Auto-choosing row-wise multi-threading, the overhead of testing was 0.000244 seconds.\n",
      "You can set `force_row_wise=true` to remove the overhead.\n",
      "And if memory is not enough, you can set `force_col_wise=true`.\n",
      "[LightGBM] [Info] Total Bins 1084\n",
      "[LightGBM] [Info] Number of data points in the train set: 25176, number of used features: 25\n",
      "[LightGBM] [Info] Start training from score 117892.049333\n",
      "Training until validation scores don't improve for 100 rounds\n",
      "[100]\tvalid_0's rmse: 25104.9\tvalid_1's rmse: 22007.4\n",
      "[200]\tvalid_0's rmse: 22416.6\tvalid_1's rmse: 21013.5\n",
      "[300]\tvalid_0's rmse: 20710\tvalid_1's rmse: 20499.5\n",
      "[400]\tvalid_0's rmse: 19287.1\tvalid_1's rmse: 20332\n",
      "[500]\tvalid_0's rmse: 18189.5\tvalid_1's rmse: 20214.3\n",
      "[600]\tvalid_0's rmse: 17014.1\tvalid_1's rmse: 19971.2\n",
      "[700]\tvalid_0's rmse: 16126.4\tvalid_1's rmse: 19894.9\n",
      "[800]\tvalid_0's rmse: 15361.2\tvalid_1's rmse: 19869\n",
      "[900]\tvalid_0's rmse: 14708.8\tvalid_1's rmse: 19816.8\n"
     ]
    },
    {
     "name": "stderr",
     "output_type": "stream",
     "text": [
      "min_data_in_leaf, val_score: 18714.567425: 100%|##########| 5/5 [00:08<00:00,  1.83s/it]\u001b[32m[I 2021-02-21 10:55:28,197]\u001b[0m Trial 64 finished with value: 19761.72283068992 and parameters: {'min_child_samples': 100}. Best is trial 60 with value: 18714.567424529283.\u001b[0m\n",
      "min_data_in_leaf, val_score: 18714.567425: 100%|##########| 5/5 [00:08<00:00,  1.79s/it]\n",
      "\u001b[32m[I 2021-02-21 10:55:28,207]\u001b[0m A new study created in memory with name: no-name-62a15bbb-48d8-4acd-8eca-0ca25c99f3c1\u001b[0m\n",
      "feature_fraction, val_score: inf:   0%|          | 0/7 [00:00<?, ?it/s]"
     ]
    },
    {
     "name": "stdout",
     "output_type": "stream",
     "text": [
      "[1000]\tvalid_0's rmse: 14104.6\tvalid_1's rmse: 19761.7\n",
      "Did not meet early stopping. Best iteration is:\n",
      "[1000]\tvalid_0's rmse: 14104.6\tvalid_1's rmse: 19761.7\n",
      "[LightGBM] [Warning] Auto-choosing row-wise multi-threading, the overhead of testing was 0.000291 seconds.\n",
      "You can set `force_row_wise=true` to remove the overhead.\n",
      "And if memory is not enough, you can set `force_col_wise=true`.\n",
      "[LightGBM] [Info] Total Bins 1090\n",
      "[LightGBM] [Info] Number of data points in the train set: 25176, number of used features: 25\n",
      "[LightGBM] [Info] Start training from score 118280.850532\n",
      "Training until validation scores don't improve for 100 rounds\n",
      "[100]\tvalid_0's rmse: 17023.3\tvalid_1's rmse: 22751\n",
      "[200]\tvalid_0's rmse: 14588.6\tvalid_1's rmse: 22118\n",
      "[300]\tvalid_0's rmse: 13083.9\tvalid_1's rmse: 21950.8\n",
      "[400]\tvalid_0's rmse: 11910.6\tvalid_1's rmse: 21930.3\n",
      "[500]\tvalid_0's rmse: 11005.5\tvalid_1's rmse: 21777.5\n",
      "[600]\tvalid_0's rmse: 10272.3\tvalid_1's rmse: 21767.5\n",
      "[700]\tvalid_0's rmse: 9625.37\tvalid_1's rmse: 21778.3\n",
      "[800]\tvalid_0's rmse: 9143.77\tvalid_1's rmse: 21731.2\n"
     ]
    },
    {
     "name": "stderr",
     "output_type": "stream",
     "text": [
      "feature_fraction, val_score: 21573.645659:  14%|#4        | 1/7 [00:01<00:09,  1.62s/it]"
     ]
    },
    {
     "name": "stdout",
     "output_type": "stream",
     "text": [
      "[900]\tvalid_0's rmse: 8666.08\tvalid_1's rmse: 21637\n",
      "[1000]\tvalid_0's rmse: 8220.14\tvalid_1's rmse: 21573.6\n",
      "Did not meet early stopping. Best iteration is:\n",
      "[1000]\tvalid_0's rmse: 8220.14\tvalid_1's rmse: 21573.6\n"
     ]
    },
    {
     "name": "stderr",
     "output_type": "stream",
     "text": [
      "\u001b[32m[I 2021-02-21 10:55:29,834]\u001b[0m Trial 0 finished with value: 21573.64565936196 and parameters: {'feature_fraction': 0.6}. Best is trial 0 with value: 21573.64565936196.\u001b[0m\n",
      "feature_fraction, val_score: 21573.645659:  14%|#4        | 1/7 [00:01<00:09,  1.62s/it]"
     ]
    },
    {
     "name": "stdout",
     "output_type": "stream",
     "text": [
      "[LightGBM] [Warning] Auto-choosing row-wise multi-threading, the overhead of testing was 0.000247 seconds.\n",
      "You can set `force_row_wise=true` to remove the overhead.\n",
      "And if memory is not enough, you can set `force_col_wise=true`.\n",
      "[LightGBM] [Info] Total Bins 1090\n",
      "[LightGBM] [Info] Number of data points in the train set: 25176, number of used features: 25\n",
      "[LightGBM] [Info] Start training from score 118280.850532\n",
      "Training until validation scores don't improve for 100 rounds\n",
      "[100]\tvalid_0's rmse: 17330.5\tvalid_1's rmse: 23556.9\n",
      "[200]\tvalid_0's rmse: 14395.8\tvalid_1's rmse: 22614.5\n",
      "[300]\tvalid_0's rmse: 13050.4\tvalid_1's rmse: 22296.6\n",
      "[400]\tvalid_0's rmse: 11896.5\tvalid_1's rmse: 22014.8\n",
      "[500]\tvalid_0's rmse: 11054.9\tvalid_1's rmse: 21968.1\n"
     ]
    },
    {
     "name": "stderr",
     "output_type": "stream",
     "text": [
      "feature_fraction, val_score: 21573.645659:  29%|##8       | 2/7 [00:02<00:06,  1.28s/it]\u001b[32m[I 2021-02-21 10:55:30,881]\u001b[0m Trial 1 finished with value: 21931.808708232173 and parameters: {'feature_fraction': 0.4}. Best is trial 0 with value: 21573.64565936196.\u001b[0m\n",
      "feature_fraction, val_score: 21573.645659:  29%|##8       | 2/7 [00:02<00:06,  1.28s/it]"
     ]
    },
    {
     "name": "stdout",
     "output_type": "stream",
     "text": [
      "[600]\tvalid_0's rmse: 10363.4\tvalid_1's rmse: 21960.5\n",
      "Early stopping, best iteration is:\n",
      "[503]\tvalid_0's rmse: 11028.6\tvalid_1's rmse: 21931.8\n",
      "[LightGBM] [Warning] Auto-choosing row-wise multi-threading, the overhead of testing was 0.000387 seconds.\n",
      "You can set `force_row_wise=true` to remove the overhead.\n",
      "And if memory is not enough, you can set `force_col_wise=true`.\n",
      "[LightGBM] [Info] Total Bins 1090\n",
      "[LightGBM] [Info] Number of data points in the train set: 25176, number of used features: 25\n",
      "[LightGBM] [Info] Start training from score 118280.850532\n",
      "Training until validation scores don't improve for 100 rounds\n",
      "[100]\tvalid_0's rmse: 16826.8\tvalid_1's rmse: 23651.3\n",
      "[200]\tvalid_0's rmse: 14864.7\tvalid_1's rmse: 23295\n"
     ]
    },
    {
     "name": "stderr",
     "output_type": "stream",
     "text": [
      "feature_fraction, val_score: 21573.645659:  43%|####2     | 3/7 [00:03<00:04,  1.01s/it]\u001b[32m[I 2021-02-21 10:55:31,575]\u001b[0m Trial 2 finished with value: 23282.055166298058 and parameters: {'feature_fraction': 1.0}. Best is trial 0 with value: 21573.64565936196.\u001b[0m\n",
      "feature_fraction, val_score: 21573.645659:  43%|####2     | 3/7 [00:03<00:04,  1.01s/it]"
     ]
    },
    {
     "name": "stdout",
     "output_type": "stream",
     "text": [
      "[300]\tvalid_0's rmse: 13526.1\tvalid_1's rmse: 23350.8\n",
      "Early stopping, best iteration is:\n",
      "[237]\tvalid_0's rmse: 14331.2\tvalid_1's rmse: 23282.1\n",
      "[LightGBM] [Warning] Auto-choosing col-wise multi-threading, the overhead of testing was 0.002127 seconds.\n",
      "You can set `force_col_wise=true` to remove the overhead.\n",
      "[LightGBM] [Info] Total Bins 1090\n",
      "[LightGBM] [Info] Number of data points in the train set: 25176, number of used features: 25\n",
      "[LightGBM] [Info] Start training from score 118280.850532\n",
      "Training until validation scores don't improve for 100 rounds\n",
      "[100]\tvalid_0's rmse: 17020.8\tvalid_1's rmse: 22648.7\n",
      "[200]\tvalid_0's rmse: 14609.9\tvalid_1's rmse: 22363.2\n"
     ]
    },
    {
     "name": "stderr",
     "output_type": "stream",
     "text": [
      "feature_fraction, val_score: 21573.645659:  57%|#####7    | 4/7 [00:03<00:02,  1.21it/s]\u001b[32m[I 2021-02-21 10:55:32,117]\u001b[0m Trial 3 finished with value: 22249.738431597965 and parameters: {'feature_fraction': 0.8}. Best is trial 0 with value: 21573.64565936196.\u001b[0m\n",
      "feature_fraction, val_score: 21573.645659:  57%|#####7    | 4/7 [00:03<00:02,  1.21it/s]"
     ]
    },
    {
     "name": "stdout",
     "output_type": "stream",
     "text": [
      "Early stopping, best iteration is:\n",
      "[156]\tvalid_0's rmse: 15505\tvalid_1's rmse: 22249.7\n",
      "[LightGBM] [Warning] Auto-choosing row-wise multi-threading, the overhead of testing was 0.000339 seconds.\n",
      "You can set `force_row_wise=true` to remove the overhead.\n",
      "And if memory is not enough, you can set `force_col_wise=true`.\n",
      "[LightGBM] [Info] Total Bins 1090\n",
      "[LightGBM] [Info] Number of data points in the train set: 25176, number of used features: 25\n",
      "[LightGBM] [Info] Start training from score 118280.850532\n",
      "Training until validation scores don't improve for 100 rounds\n",
      "[100]\tvalid_0's rmse: 16914.2\tvalid_1's rmse: 22732.9\n",
      "[200]\tvalid_0's rmse: 14585.1\tvalid_1's rmse: 22518.7\n"
     ]
    },
    {
     "name": "stderr",
     "output_type": "stream",
     "text": [
      "feature_fraction, val_score: 21573.645659:  71%|#######1  | 5/7 [00:04<00:01,  1.39it/s]\u001b[32m[I 2021-02-21 10:55:32,646]\u001b[0m Trial 4 finished with value: 22493.390549772477 and parameters: {'feature_fraction': 0.7}. Best is trial 0 with value: 21573.64565936196.\u001b[0m\n",
      "feature_fraction, val_score: 21573.645659:  71%|#######1  | 5/7 [00:04<00:01,  1.39it/s]"
     ]
    },
    {
     "name": "stdout",
     "output_type": "stream",
     "text": [
      "Early stopping, best iteration is:\n",
      "[154]\tvalid_0's rmse: 15486.3\tvalid_1's rmse: 22493.4\n",
      "[LightGBM] [Warning] Auto-choosing row-wise multi-threading, the overhead of testing was 0.000286 seconds.\n",
      "You can set `force_row_wise=true` to remove the overhead.\n",
      "And if memory is not enough, you can set `force_col_wise=true`.\n",
      "[LightGBM] [Info] Total Bins 1090\n",
      "[LightGBM] [Info] Number of data points in the train set: 25176, number of used features: 25\n",
      "[LightGBM] [Info] Start training from score 118280.850532\n",
      "Training until validation scores don't improve for 100 rounds\n",
      "[100]\tvalid_0's rmse: 17054\tvalid_1's rmse: 22343.2\n",
      "[200]\tvalid_0's rmse: 14586.7\tvalid_1's rmse: 21612.7\n",
      "[300]\tvalid_0's rmse: 13084.8\tvalid_1's rmse: 21352.2\n",
      "[400]\tvalid_0's rmse: 11936.1\tvalid_1's rmse: 21289\n",
      "[500]\tvalid_0's rmse: 11007.3\tvalid_1's rmse: 21252.5\n",
      "[600]\tvalid_0's rmse: 10239.8\tvalid_1's rmse: 21203.1\n"
     ]
    },
    {
     "name": "stderr",
     "output_type": "stream",
     "text": [
      "feature_fraction, val_score: 21132.626554:  86%|########5 | 6/7 [00:05<00:00,  1.09it/s]\u001b[32m[I 2021-02-21 10:55:33,957]\u001b[0m Trial 5 finished with value: 21132.62655377773 and parameters: {'feature_fraction': 0.5}. Best is trial 5 with value: 21132.62655377773.\u001b[0m\n",
      "feature_fraction, val_score: 21132.626554:  86%|########5 | 6/7 [00:05<00:00,  1.09it/s]"
     ]
    },
    {
     "name": "stdout",
     "output_type": "stream",
     "text": [
      "[700]\tvalid_0's rmse: 9645.95\tvalid_1's rmse: 21161.4\n",
      "Early stopping, best iteration is:\n",
      "[683]\tvalid_0's rmse: 9764.91\tvalid_1's rmse: 21132.6\n",
      "[LightGBM] [Warning] Auto-choosing row-wise multi-threading, the overhead of testing was 0.000373 seconds.\n",
      "You can set `force_row_wise=true` to remove the overhead.\n",
      "And if memory is not enough, you can set `force_col_wise=true`.\n",
      "[LightGBM] [Info] Total Bins 1090\n",
      "[LightGBM] [Info] Number of data points in the train set: 25176, number of used features: 25\n",
      "[LightGBM] [Info] Start training from score 118280.850532\n",
      "Training until validation scores don't improve for 100 rounds\n",
      "[100]\tvalid_0's rmse: 16973\tvalid_1's rmse: 22710.9\n"
     ]
    },
    {
     "name": "stderr",
     "output_type": "stream",
     "text": [
      "feature_fraction, val_score: 21132.626554: 100%|##########| 7/7 [00:06<00:00,  1.21it/s]\u001b[32m[I 2021-02-21 10:55:34,587]\u001b[0m Trial 6 finished with value: 22399.903450743328 and parameters: {'feature_fraction': 0.8999999999999999}. Best is trial 5 with value: 21132.62655377773.\u001b[0m\n",
      "feature_fraction, val_score: 21132.626554: 100%|##########| 7/7 [00:06<00:00,  1.10it/s]"
     ]
    },
    {
     "name": "stdout",
     "output_type": "stream",
     "text": [
      "[200]\tvalid_0's rmse: 14758.3\tvalid_1's rmse: 22509.2\n",
      "[300]\tvalid_0's rmse: 13269.1\tvalid_1's rmse: 22541.1\n",
      "Early stopping, best iteration is:\n",
      "[217]\tvalid_0's rmse: 14461.3\tvalid_1's rmse: 22399.9\n"
     ]
    },
    {
     "name": "stderr",
     "output_type": "stream",
     "text": [
      "\n",
      "num_leaves, val_score: 21132.626554:   0%|          | 0/20 [00:00<?, ?it/s]"
     ]
    },
    {
     "name": "stdout",
     "output_type": "stream",
     "text": [
      "[LightGBM] [Warning] Auto-choosing row-wise multi-threading, the overhead of testing was 0.000296 seconds.\n",
      "You can set `force_row_wise=true` to remove the overhead.\n",
      "And if memory is not enough, you can set `force_col_wise=true`.\n",
      "[LightGBM] [Info] Total Bins 1090\n",
      "[LightGBM] [Info] Number of data points in the train set: 25176, number of used features: 25\n",
      "[LightGBM] [Info] Start training from score 118280.850532\n",
      "Training until validation scores don't improve for 100 rounds\n",
      "[100]\tvalid_0's rmse: 15485.1\tvalid_1's rmse: 22755.3\n",
      "[200]\tvalid_0's rmse: 12496.8\tvalid_1's rmse: 22293.6\n",
      "[300]\tvalid_0's rmse: 10936.5\tvalid_1's rmse: 22232.8\n",
      "[400]\tvalid_0's rmse: 9675.73\tvalid_1's rmse: 22001.2\n",
      "[500]\tvalid_0's rmse: 8756.25\tvalid_1's rmse: 21925.3\n",
      "[600]\tvalid_0's rmse: 7944.34\tvalid_1's rmse: 21884.3\n",
      "[700]\tvalid_0's rmse: 7323.3\tvalid_1's rmse: 21796.7\n",
      "[800]\tvalid_0's rmse: 6757.04\tvalid_1's rmse: 21771.5\n",
      "[900]\tvalid_0's rmse: 6262.95\tvalid_1's rmse: 21719.7\n"
     ]
    },
    {
     "name": "stderr",
     "output_type": "stream",
     "text": [
      "num_leaves, val_score: 21132.626554:   5%|5         | 1/20 [00:02<00:44,  2.34s/it]\u001b[32m[I 2021-02-21 10:55:36,934]\u001b[0m Trial 7 finished with value: 21695.905360037304 and parameters: {'num_leaves': 59}. Best is trial 7 with value: 21695.905360037304.\u001b[0m\n",
      "num_leaves, val_score: 21132.626554:   5%|5         | 1/20 [00:02<00:44,  2.34s/it]"
     ]
    },
    {
     "name": "stdout",
     "output_type": "stream",
     "text": [
      "[1000]\tvalid_0's rmse: 5847.01\tvalid_1's rmse: 21695.9\n",
      "Did not meet early stopping. Best iteration is:\n",
      "[1000]\tvalid_0's rmse: 5847.01\tvalid_1's rmse: 21695.9\n",
      "[LightGBM] [Warning] Auto-choosing col-wise multi-threading, the overhead of testing was 0.002204 seconds.\n",
      "You can set `force_col_wise=true` to remove the overhead.\n",
      "[LightGBM] [Info] Total Bins 1090\n",
      "[LightGBM] [Info] Number of data points in the train set: 25176, number of used features: 25\n",
      "[LightGBM] [Info] Start training from score 118280.850532\n",
      "Training until validation scores don't improve for 100 rounds\n",
      "[100]\tvalid_0's rmse: 13563.4\tvalid_1's rmse: 22395.2\n",
      "[200]\tvalid_0's rmse: 10510.1\tvalid_1's rmse: 21763.7\n"
     ]
    },
    {
     "name": "stderr",
     "output_type": "stream",
     "text": [
      "num_leaves, val_score: 21132.626554:  10%|#         | 2/20 [00:03<00:31,  1.74s/it]\u001b[32m[I 2021-02-21 10:55:38,247]\u001b[0m Trial 8 finished with value: 21711.80291041867 and parameters: {'num_leaves': 139}. Best is trial 7 with value: 21695.905360037304.\u001b[0m\n",
      "num_leaves, val_score: 21132.626554:  10%|#         | 2/20 [00:03<00:31,  1.74s/it]"
     ]
    },
    {
     "name": "stdout",
     "output_type": "stream",
     "text": [
      "[300]\tvalid_0's rmse: 8703.78\tvalid_1's rmse: 21799.8\n",
      "Early stopping, best iteration is:\n",
      "[222]\tvalid_0's rmse: 10068.6\tvalid_1's rmse: 21711.8\n",
      "[LightGBM] [Warning] Auto-choosing row-wise multi-threading, the overhead of testing was 0.000266 seconds.\n",
      "You can set `force_row_wise=true` to remove the overhead.\n",
      "And if memory is not enough, you can set `force_col_wise=true`.\n",
      "[LightGBM] [Info] Total Bins 1090\n",
      "[LightGBM] [Info] Number of data points in the train set: 25176, number of used features: 25\n",
      "[LightGBM] [Info] Start training from score 118280.850532\n",
      "Training until validation scores don't improve for 100 rounds\n",
      "[100]\tvalid_0's rmse: 17054\tvalid_1's rmse: 22343.2\n",
      "[200]\tvalid_0's rmse: 14586.7\tvalid_1's rmse: 21612.7\n",
      "[300]\tvalid_0's rmse: 13084.8\tvalid_1's rmse: 21352.2\n",
      "[400]\tvalid_0's rmse: 11936.1\tvalid_1's rmse: 21289\n",
      "[500]\tvalid_0's rmse: 11007.3\tvalid_1's rmse: 21252.5\n",
      "[600]\tvalid_0's rmse: 10239.8\tvalid_1's rmse: 21203.1\n",
      "[700]\tvalid_0's rmse: 9645.95\tvalid_1's rmse: 21161.4\n"
     ]
    },
    {
     "name": "stderr",
     "output_type": "stream",
     "text": [
      "num_leaves, val_score: 21132.626554:  15%|#5        | 3/20 [00:04<00:25,  1.52s/it]\u001b[32m[I 2021-02-21 10:55:39,512]\u001b[0m Trial 9 finished with value: 21132.62655377773 and parameters: {'num_leaves': 31}. Best is trial 9 with value: 21132.62655377773.\u001b[0m\n",
      "num_leaves, val_score: 21132.626554:  15%|#5        | 3/20 [00:04<00:25,  1.52s/it]"
     ]
    },
    {
     "name": "stdout",
     "output_type": "stream",
     "text": [
      "Early stopping, best iteration is:\n",
      "[683]\tvalid_0's rmse: 9764.91\tvalid_1's rmse: 21132.6\n",
      "[LightGBM] [Warning] Auto-choosing row-wise multi-threading, the overhead of testing was 0.000270 seconds.\n",
      "You can set `force_row_wise=true` to remove the overhead.\n",
      "And if memory is not enough, you can set `force_col_wise=true`.\n",
      "[LightGBM] [Info] Total Bins 1090\n",
      "[LightGBM] [Info] Number of data points in the train set: 25176, number of used features: 25\n",
      "[LightGBM] [Info] Start training from score 118280.850532\n",
      "Training until validation scores don't improve for 100 rounds\n",
      "[100]\tvalid_0's rmse: 12176.4\tvalid_1's rmse: 22320\n",
      "[200]\tvalid_0's rmse: 9089.72\tvalid_1's rmse: 22058.7\n",
      "[300]\tvalid_0's rmse: 7241.54\tvalid_1's rmse: 22005.9\n"
     ]
    },
    {
     "name": "stderr",
     "output_type": "stream",
     "text": [
      "num_leaves, val_score: 21132.626554:  20%|##        | 4/20 [00:07<00:30,  1.93s/it]\u001b[32m[I 2021-02-21 10:55:42,069]\u001b[0m Trial 10 finished with value: 21987.771600908276 and parameters: {'num_leaves': 256}. Best is trial 9 with value: 21132.62655377773.\u001b[0m\n",
      "num_leaves, val_score: 21132.626554:  20%|##        | 4/20 [00:07<00:30,  1.93s/it]"
     ]
    },
    {
     "name": "stdout",
     "output_type": "stream",
     "text": [
      "Early stopping, best iteration is:\n",
      "[275]\tvalid_0's rmse: 7632.7\tvalid_1's rmse: 21987.8\n",
      "[LightGBM] [Warning] Auto-choosing row-wise multi-threading, the overhead of testing was 0.000336 seconds.\n",
      "You can set `force_row_wise=true` to remove the overhead.\n",
      "And if memory is not enough, you can set `force_col_wise=true`.\n",
      "[LightGBM] [Info] Total Bins 1090\n",
      "[LightGBM] [Info] Number of data points in the train set: 25176, number of used features: 25\n",
      "[LightGBM] [Info] Start training from score 118280.850532\n",
      "Training until validation scores don't improve for 100 rounds\n",
      "[100]\tvalid_0's rmse: 24018\tvalid_1's rmse: 27079\n",
      "[200]\tvalid_0's rmse: 21785.2\tvalid_1's rmse: 25686.7\n",
      "[300]\tvalid_0's rmse: 20788.2\tvalid_1's rmse: 25111.3\n",
      "[400]\tvalid_0's rmse: 19968.9\tvalid_1's rmse: 24735.5\n",
      "[500]\tvalid_0's rmse: 19307\tvalid_1's rmse: 24485.4\n",
      "[600]\tvalid_0's rmse: 18670.4\tvalid_1's rmse: 24347.4\n",
      "[700]\tvalid_0's rmse: 18205.1\tvalid_1's rmse: 24387.6\n",
      "Early stopping, best iteration is:\n",
      "[653]\tvalid_0's rmse: 18428\tvalid_1's rmse: 24326.9\n"
     ]
    },
    {
     "name": "stderr",
     "output_type": "stream",
     "text": [
      "num_leaves, val_score: 21132.626554:  25%|##5       | 5/20 [00:08<00:21,  1.43s/it]\u001b[32m[I 2021-02-21 10:55:42,613]\u001b[0m Trial 11 finished with value: 24326.945538389155 and parameters: {'num_leaves': 4}. Best is trial 9 with value: 21132.62655377773.\u001b[0m\n",
      "num_leaves, val_score: 21132.626554:  25%|##5       | 5/20 [00:08<00:21,  1.43s/it]"
     ]
    },
    {
     "name": "stdout",
     "output_type": "stream",
     "text": [
      "[LightGBM] [Warning] Auto-choosing row-wise multi-threading, the overhead of testing was 0.000432 seconds.\n",
      "You can set `force_row_wise=true` to remove the overhead.\n",
      "And if memory is not enough, you can set `force_col_wise=true`.\n",
      "[LightGBM] [Info] Total Bins 1090\n",
      "[LightGBM] [Info] Number of data points in the train set: 25176, number of used features: 25\n",
      "[LightGBM] [Info] Start training from score 118280.850532\n",
      "Training until validation scores don't improve for 100 rounds\n",
      "[100]\tvalid_0's rmse: 13845.5\tvalid_1's rmse: 22523.6\n",
      "[200]\tvalid_0's rmse: 10808.3\tvalid_1's rmse: 22006\n",
      "[300]\tvalid_0's rmse: 8990.54\tvalid_1's rmse: 21911.5\n",
      "[400]\tvalid_0's rmse: 7563.77\tvalid_1's rmse: 21702.9\n",
      "[500]\tvalid_0's rmse: 6539.57\tvalid_1's rmse: 21735.8\n",
      "Early stopping, best iteration is:\n",
      "[449]\tvalid_0's rmse: 7019.72\tvalid_1's rmse: 21676.9\n"
     ]
    },
    {
     "name": "stderr",
     "output_type": "stream",
     "text": [
      "num_leaves, val_score: 21132.626554:  30%|###       | 6/20 [00:10<00:23,  1.66s/it]\u001b[32m[I 2021-02-21 10:55:44,713]\u001b[0m Trial 12 finished with value: 21676.946088187324 and parameters: {'num_leaves': 116}. Best is trial 9 with value: 21132.62655377773.\u001b[0m\n",
      "num_leaves, val_score: 21132.626554:  30%|###       | 6/20 [00:10<00:23,  1.66s/it]"
     ]
    },
    {
     "name": "stdout",
     "output_type": "stream",
     "text": [
      "[LightGBM] [Warning] Auto-choosing row-wise multi-threading, the overhead of testing was 0.000363 seconds.\n",
      "You can set `force_row_wise=true` to remove the overhead.\n",
      "And if memory is not enough, you can set `force_col_wise=true`.\n",
      "[LightGBM] [Info] Total Bins 1090\n",
      "[LightGBM] [Info] Number of data points in the train set: 25176, number of used features: 25\n",
      "[LightGBM] [Info] Start training from score 118280.850532\n",
      "Training until validation scores don't improve for 100 rounds\n",
      "[100]\tvalid_0's rmse: 18174.8\tvalid_1's rmse: 23858\n",
      "[200]\tvalid_0's rmse: 15797.3\tvalid_1's rmse: 23041.4\n",
      "[300]\tvalid_0's rmse: 14520.8\tvalid_1's rmse: 22724.9\n",
      "[400]\tvalid_0's rmse: 13452\tvalid_1's rmse: 22604.1\n",
      "[500]\tvalid_0's rmse: 12643.6\tvalid_1's rmse: 22479.3\n",
      "[600]\tvalid_0's rmse: 12057.8\tvalid_1's rmse: 22388.5\n",
      "[700]\tvalid_0's rmse: 11512.1\tvalid_1's rmse: 22340.4\n",
      "[800]\tvalid_0's rmse: 11003.2\tvalid_1's rmse: 22167.3\n",
      "[900]\tvalid_0's rmse: 10587.8\tvalid_1's rmse: 22108.3\n"
     ]
    },
    {
     "name": "stderr",
     "output_type": "stream",
     "text": [
      "num_leaves, val_score: 21132.626554:  35%|###5      | 7/20 [00:11<00:19,  1.53s/it]\u001b[32m[I 2021-02-21 10:55:45,977]\u001b[0m Trial 13 finished with value: 22049.673644027323 and parameters: {'num_leaves': 18}. Best is trial 9 with value: 21132.62655377773.\u001b[0m\n",
      "num_leaves, val_score: 21132.626554:  35%|###5      | 7/20 [00:11<00:19,  1.53s/it]"
     ]
    },
    {
     "name": "stdout",
     "output_type": "stream",
     "text": [
      "[1000]\tvalid_0's rmse: 10181.7\tvalid_1's rmse: 22049.7\n",
      "Did not meet early stopping. Best iteration is:\n",
      "[1000]\tvalid_0's rmse: 10181.7\tvalid_1's rmse: 22049.7\n",
      "[LightGBM] [Warning] Auto-choosing col-wise multi-threading, the overhead of testing was 0.002654 seconds.\n",
      "You can set `force_col_wise=true` to remove the overhead.\n",
      "[LightGBM] [Info] Total Bins 1090\n",
      "[LightGBM] [Info] Number of data points in the train set: 25176, number of used features: 25\n",
      "[LightGBM] [Info] Start training from score 118280.850532\n",
      "Training until validation scores don't improve for 100 rounds\n",
      "[100]\tvalid_0's rmse: 14184.1\tvalid_1's rmse: 21995.9\n",
      "[200]\tvalid_0's rmse: 11275.4\tvalid_1's rmse: 21203.1\n",
      "[300]\tvalid_0's rmse: 9568.09\tvalid_1's rmse: 21210\n",
      "[400]\tvalid_0's rmse: 8142.12\tvalid_1's rmse: 21066.5\n",
      "[500]\tvalid_0's rmse: 7057.36\tvalid_1's rmse: 21040.5\n",
      "Early stopping, best iteration is:\n",
      "[480]\tvalid_0's rmse: 7246.54\tvalid_1's rmse: 21000.4\n"
     ]
    },
    {
     "name": "stderr",
     "output_type": "stream",
     "text": [
      "num_leaves, val_score: 21000.352564:  40%|####      | 8/20 [00:13<00:19,  1.63s/it]\u001b[32m[I 2021-02-21 10:55:47,809]\u001b[0m Trial 14 finished with value: 21000.352563821798 and parameters: {'num_leaves': 103}. Best is trial 14 with value: 21000.352563821798.\u001b[0m\n",
      "num_leaves, val_score: 21000.352564:  40%|####      | 8/20 [00:13<00:19,  1.63s/it]"
     ]
    },
    {
     "name": "stdout",
     "output_type": "stream",
     "text": [
      "[LightGBM] [Warning] Auto-choosing row-wise multi-threading, the overhead of testing was 0.000327 seconds.\n",
      "You can set `force_row_wise=true` to remove the overhead.\n",
      "And if memory is not enough, you can set `force_col_wise=true`.\n",
      "[LightGBM] [Info] Total Bins 1090\n",
      "[LightGBM] [Info] Number of data points in the train set: 25176, number of used features: 25\n",
      "[LightGBM] [Info] Start training from score 118280.850532\n",
      "Training until validation scores don't improve for 100 rounds\n",
      "[100]\tvalid_0's rmse: 12970.6\tvalid_1's rmse: 22484.3\n",
      "[200]\tvalid_0's rmse: 9765.38\tvalid_1's rmse: 21955\n",
      "[300]\tvalid_0's rmse: 7886.82\tvalid_1's rmse: 21974.8\n",
      "Early stopping, best iteration is:\n",
      "[239]\tvalid_0's rmse: 8934.81\tvalid_1's rmse: 21926\n"
     ]
    },
    {
     "name": "stderr",
     "output_type": "stream",
     "text": [
      "num_leaves, val_score: 21000.352564:  45%|####5     | 9/20 [00:15<00:18,  1.69s/it]\u001b[32m[I 2021-02-21 10:55:49,643]\u001b[0m Trial 15 finished with value: 21926.008821301155 and parameters: {'num_leaves': 190}. Best is trial 14 with value: 21000.352563821798.\u001b[0m\n",
      "num_leaves, val_score: 21000.352564:  45%|####5     | 9/20 [00:15<00:18,  1.69s/it]"
     ]
    },
    {
     "name": "stdout",
     "output_type": "stream",
     "text": [
      "[LightGBM] [Warning] Auto-choosing row-wise multi-threading, the overhead of testing was 0.000283 seconds.\n",
      "You can set `force_row_wise=true` to remove the overhead.\n",
      "And if memory is not enough, you can set `force_col_wise=true`.\n",
      "[LightGBM] [Info] Total Bins 1090\n",
      "[LightGBM] [Info] Number of data points in the train set: 25176, number of used features: 25\n",
      "[LightGBM] [Info] Start training from score 118280.850532\n",
      "Training until validation scores don't improve for 100 rounds\n",
      "[100]\tvalid_0's rmse: 14008.2\tvalid_1's rmse: 22425.5\n",
      "[200]\tvalid_0's rmse: 10962\tvalid_1's rmse: 21860.7\n"
     ]
    },
    {
     "name": "stderr",
     "output_type": "stream",
     "text": [
      "num_leaves, val_score: 21000.352564:  50%|#####     | 10/20 [00:16<00:15,  1.54s/it]\u001b[32m[I 2021-02-21 10:55:50,847]\u001b[0m Trial 16 finished with value: 21833.201033459227 and parameters: {'num_leaves': 112}. Best is trial 14 with value: 21000.352563821798.\u001b[0m\n",
      "num_leaves, val_score: 21000.352564:  50%|#####     | 10/20 [00:16<00:15,  1.54s/it]"
     ]
    },
    {
     "name": "stdout",
     "output_type": "stream",
     "text": [
      "[300]\tvalid_0's rmse: 9180.04\tvalid_1's rmse: 21859.4\n",
      "Early stopping, best iteration is:\n",
      "[212]\tvalid_0's rmse: 10709.8\tvalid_1's rmse: 21833.2\n",
      "[LightGBM] [Warning] Auto-choosing row-wise multi-threading, the overhead of testing was 0.000276 seconds.\n",
      "You can set `force_row_wise=true` to remove the overhead.\n",
      "And if memory is not enough, you can set `force_col_wise=true`.\n",
      "[LightGBM] [Info] Total Bins 1090\n",
      "[LightGBM] [Info] Number of data points in the train set: 25176, number of used features: 25\n",
      "[LightGBM] [Info] Start training from score 118280.850532\n",
      "Training until validation scores don't improve for 100 rounds\n",
      "[100]\tvalid_0's rmse: 15395.3\tvalid_1's rmse: 22531.8\n",
      "[200]\tvalid_0's rmse: 12424\tvalid_1's rmse: 22046.6\n",
      "[300]\tvalid_0's rmse: 10673.5\tvalid_1's rmse: 21790.4\n",
      "[400]\tvalid_0's rmse: 9420.66\tvalid_1's rmse: 21734\n",
      "Early stopping, best iteration is:\n",
      "[387]\tvalid_0's rmse: 9556.73\tvalid_1's rmse: 21717.8\n"
     ]
    },
    {
     "name": "stderr",
     "output_type": "stream",
     "text": [
      "num_leaves, val_score: 21000.352564:  55%|#####5    | 11/20 [00:17<00:13,  1.47s/it]\u001b[32m[I 2021-02-21 10:55:52,141]\u001b[0m Trial 17 finished with value: 21717.751759887247 and parameters: {'num_leaves': 61}. Best is trial 14 with value: 21000.352563821798.\u001b[0m\n",
      "num_leaves, val_score: 21000.352564:  55%|#####5    | 11/20 [00:17<00:13,  1.47s/it]"
     ]
    },
    {
     "name": "stdout",
     "output_type": "stream",
     "text": [
      "[LightGBM] [Warning] Auto-choosing row-wise multi-threading, the overhead of testing was 0.000295 seconds.\n",
      "You can set `force_row_wise=true` to remove the overhead.\n",
      "And if memory is not enough, you can set `force_col_wise=true`.\n",
      "[LightGBM] [Info] Total Bins 1090\n",
      "[LightGBM] [Info] Number of data points in the train set: 25176, number of used features: 25\n",
      "[LightGBM] [Info] Start training from score 118280.850532\n",
      "Training until validation scores don't improve for 100 rounds\n",
      "[100]\tvalid_0's rmse: 15491.9\tvalid_1's rmse: 22402\n",
      "[200]\tvalid_0's rmse: 12610.8\tvalid_1's rmse: 22056.8\n",
      "[300]\tvalid_0's rmse: 10926.2\tvalid_1's rmse: 21864.4\n",
      "[400]\tvalid_0's rmse: 9731.58\tvalid_1's rmse: 21799.6\n",
      "[500]\tvalid_0's rmse: 8768.53\tvalid_1's rmse: 21788.6\n",
      "[600]\tvalid_0's rmse: 7941.42\tvalid_1's rmse: 21750.2\n"
     ]
    },
    {
     "name": "stderr",
     "output_type": "stream",
     "text": [
      "num_leaves, val_score: 21000.352564:  60%|######    | 12/20 [00:19<00:13,  1.67s/it]\u001b[32m[I 2021-02-21 10:55:54,285]\u001b[0m Trial 18 finished with value: 21703.10158762579 and parameters: {'num_leaves': 60}. Best is trial 14 with value: 21000.352563821798.\u001b[0m\n",
      "num_leaves, val_score: 21000.352564:  60%|######    | 12/20 [00:19<00:13,  1.67s/it]"
     ]
    },
    {
     "name": "stdout",
     "output_type": "stream",
     "text": [
      "[700]\tvalid_0's rmse: 7237.92\tvalid_1's rmse: 21746.9\n",
      "Early stopping, best iteration is:\n",
      "[638]\tvalid_0's rmse: 7653.95\tvalid_1's rmse: 21703.1\n",
      "[LightGBM] [Warning] Auto-choosing row-wise multi-threading, the overhead of testing was 0.000329 seconds.\n",
      "You can set `force_row_wise=true` to remove the overhead.\n",
      "And if memory is not enough, you can set `force_col_wise=true`.\n",
      "[LightGBM] [Info] Total Bins 1090\n",
      "[LightGBM] [Info] Number of data points in the train set: 25176, number of used features: 25\n",
      "[LightGBM] [Info] Start training from score 118280.850532\n",
      "Training until validation scores don't improve for 100 rounds\n",
      "[100]\tvalid_0's rmse: 13287.8\tvalid_1's rmse: 22367.9\n",
      "[200]\tvalid_0's rmse: 10221.8\tvalid_1's rmse: 21959.1\n",
      "[300]\tvalid_0's rmse: 8243.07\tvalid_1's rmse: 21845.5\n"
     ]
    },
    {
     "name": "stderr",
     "output_type": "stream",
     "text": [
      "num_leaves, val_score: 21000.352564:  65%|######5   | 13/20 [00:21<00:12,  1.80s/it]\u001b[32m[I 2021-02-21 10:55:56,373]\u001b[0m Trial 19 finished with value: 21821.558696473505 and parameters: {'num_leaves': 169}. Best is trial 14 with value: 21000.352563821798.\u001b[0m\n",
      "num_leaves, val_score: 21000.352564:  65%|######5   | 13/20 [00:21<00:12,  1.80s/it]"
     ]
    },
    {
     "name": "stdout",
     "output_type": "stream",
     "text": [
      "Early stopping, best iteration is:\n",
      "[276]\tvalid_0's rmse: 8734.24\tvalid_1's rmse: 21821.6\n",
      "[LightGBM] [Warning] Auto-choosing row-wise multi-threading, the overhead of testing was 0.000268 seconds.\n",
      "You can set `force_row_wise=true` to remove the overhead.\n",
      "And if memory is not enough, you can set `force_col_wise=true`.\n",
      "[LightGBM] [Info] Total Bins 1090\n",
      "[LightGBM] [Info] Number of data points in the train set: 25176, number of used features: 25\n",
      "[LightGBM] [Info] Start training from score 118280.850532\n",
      "Training until validation scores don't improve for 100 rounds\n",
      "[100]\tvalid_0's rmse: 14592.6\tvalid_1's rmse: 22422.2\n",
      "[200]\tvalid_0's rmse: 11765.5\tvalid_1's rmse: 21785.5\n",
      "[300]\tvalid_0's rmse: 9964.84\tvalid_1's rmse: 21703.7\n",
      "[400]\tvalid_0's rmse: 8584.73\tvalid_1's rmse: 21489.2\n",
      "[500]\tvalid_0's rmse: 7541.36\tvalid_1's rmse: 21380.5\n"
     ]
    },
    {
     "name": "stderr",
     "output_type": "stream",
     "text": [
      "num_leaves, val_score: 21000.352564:  70%|#######   | 14/20 [00:24<00:11,  1.96s/it]\u001b[32m[I 2021-02-21 10:55:58,705]\u001b[0m Trial 20 finished with value: 21378.651700065442 and parameters: {'num_leaves': 86}. Best is trial 14 with value: 21000.352563821798.\u001b[0m\n",
      "num_leaves, val_score: 21000.352564:  70%|#######   | 14/20 [00:24<00:11,  1.96s/it]"
     ]
    },
    {
     "name": "stdout",
     "output_type": "stream",
     "text": [
      "[600]\tvalid_0's rmse: 6708.56\tvalid_1's rmse: 21415.1\n",
      "Early stopping, best iteration is:\n",
      "[509]\tvalid_0's rmse: 7448.48\tvalid_1's rmse: 21378.7\n",
      "[LightGBM] [Warning] Auto-choosing col-wise multi-threading, the overhead of testing was 0.002216 seconds.\n",
      "You can set `force_col_wise=true` to remove the overhead.\n",
      "[LightGBM] [Info] Total Bins 1090\n",
      "[LightGBM] [Info] Number of data points in the train set: 25176, number of used features: 25\n",
      "[LightGBM] [Info] Start training from score 118280.850532\n",
      "Training until validation scores don't improve for 100 rounds\n",
      "[100]\tvalid_0's rmse: 16483.6\tvalid_1's rmse: 22757.3\n",
      "[200]\tvalid_0's rmse: 13855.5\tvalid_1's rmse: 22063.1\n",
      "[300]\tvalid_0's rmse: 12249.2\tvalid_1's rmse: 21790.8\n",
      "[400]\tvalid_0's rmse: 11165.6\tvalid_1's rmse: 21706.9\n",
      "[500]\tvalid_0's rmse: 10282.4\tvalid_1's rmse: 21633.8\n",
      "[600]\tvalid_0's rmse: 9461.23\tvalid_1's rmse: 21552.4\n",
      "[700]\tvalid_0's rmse: 8841.95\tvalid_1's rmse: 21446.2\n",
      "[800]\tvalid_0's rmse: 8315.39\tvalid_1's rmse: 21374.8\n",
      "[900]\tvalid_0's rmse: 7812.04\tvalid_1's rmse: 21365.7\n"
     ]
    },
    {
     "name": "stderr",
     "output_type": "stream",
     "text": [
      "num_leaves, val_score: 21000.352564:  75%|#######5  | 15/20 [00:25<00:09,  1.91s/it]\u001b[32m[I 2021-02-21 10:56:00,512]\u001b[0m Trial 21 finished with value: 21364.42241512114 and parameters: {'num_leaves': 38}. Best is trial 14 with value: 21000.352563821798.\u001b[0m\n",
      "num_leaves, val_score: 21000.352564:  75%|#######5  | 15/20 [00:25<00:09,  1.91s/it]"
     ]
    },
    {
     "name": "stdout",
     "output_type": "stream",
     "text": [
      "[1000]\tvalid_0's rmse: 7396.95\tvalid_1's rmse: 21364.4\n",
      "Did not meet early stopping. Best iteration is:\n",
      "[1000]\tvalid_0's rmse: 7396.95\tvalid_1's rmse: 21364.4\n",
      "[LightGBM] [Warning] Auto-choosing row-wise multi-threading, the overhead of testing was 0.000291 seconds.\n",
      "You can set `force_row_wise=true` to remove the overhead.\n",
      "And if memory is not enough, you can set `force_col_wise=true`.\n",
      "[LightGBM] [Info] Total Bins 1090\n",
      "[LightGBM] [Info] Number of data points in the train set: 25176, number of used features: 25\n",
      "[LightGBM] [Info] Start training from score 118280.850532\n",
      "Training until validation scores don't improve for 100 rounds\n",
      "[100]\tvalid_0's rmse: 12648.2\tvalid_1's rmse: 22423.9\n",
      "[200]\tvalid_0's rmse: 9406.02\tvalid_1's rmse: 21852.9\n",
      "[300]\tvalid_0's rmse: 7520.88\tvalid_1's rmse: 21793.6\n",
      "[400]\tvalid_0's rmse: 6179.56\tvalid_1's rmse: 21805.1\n",
      "Early stopping, best iteration is:\n",
      "[335]\tvalid_0's rmse: 7040.43\tvalid_1's rmse: 21773.3\n"
     ]
    },
    {
     "name": "stderr",
     "output_type": "stream",
     "text": [
      "num_leaves, val_score: 21000.352564:  80%|########  | 16/20 [00:28<00:08,  2.09s/it]\u001b[32m[I 2021-02-21 10:56:03,010]\u001b[0m Trial 22 finished with value: 21773.252788587848 and parameters: {'num_leaves': 210}. Best is trial 14 with value: 21000.352563821798.\u001b[0m\n",
      "num_leaves, val_score: 21000.352564:  80%|########  | 16/20 [00:28<00:08,  2.09s/it]"
     ]
    },
    {
     "name": "stdout",
     "output_type": "stream",
     "text": [
      "[LightGBM] [Warning] Auto-choosing row-wise multi-threading, the overhead of testing was 0.000280 seconds.\n",
      "You can set `force_row_wise=true` to remove the overhead.\n",
      "And if memory is not enough, you can set `force_col_wise=true`.\n",
      "[LightGBM] [Info] Total Bins 1090\n",
      "[LightGBM] [Info] Number of data points in the train set: 25176, number of used features: 25\n",
      "[LightGBM] [Info] Start training from score 118280.850532\n",
      "Training until validation scores don't improve for 100 rounds\n",
      "[100]\tvalid_0's rmse: 13491.1\tvalid_1's rmse: 22278.6\n",
      "[200]\tvalid_0's rmse: 10330.6\tvalid_1's rmse: 21828.8\n"
     ]
    },
    {
     "name": "stderr",
     "output_type": "stream",
     "text": [
      "num_leaves, val_score: 21000.352564:  85%|########5 | 17/20 [00:29<00:05,  1.87s/it]\u001b[32m[I 2021-02-21 10:56:04,385]\u001b[0m Trial 23 finished with value: 21751.136342612568 and parameters: {'num_leaves': 146}. Best is trial 14 with value: 21000.352563821798.\u001b[0m\n",
      "num_leaves, val_score: 21000.352564:  85%|########5 | 17/20 [00:29<00:05,  1.87s/it]"
     ]
    },
    {
     "name": "stdout",
     "output_type": "stream",
     "text": [
      "[300]\tvalid_0's rmse: 8459.68\tvalid_1's rmse: 21781.3\n",
      "Early stopping, best iteration is:\n",
      "[212]\tvalid_0's rmse: 10030.5\tvalid_1's rmse: 21751.1\n",
      "[LightGBM] [Warning] Auto-choosing row-wise multi-threading, the overhead of testing was 0.000293 seconds.\n",
      "You can set `force_row_wise=true` to remove the overhead.\n",
      "And if memory is not enough, you can set `force_col_wise=true`.\n",
      "[LightGBM] [Info] Total Bins 1090\n",
      "[LightGBM] [Info] Number of data points in the train set: 25176, number of used features: 25\n",
      "[LightGBM] [Info] Start training from score 118280.850532\n",
      "Training until validation scores don't improve for 100 rounds\n",
      "[100]\tvalid_0's rmse: 14417.2\tvalid_1's rmse: 22562.3\n",
      "[200]\tvalid_0's rmse: 11454.7\tvalid_1's rmse: 21949.3\n",
      "[300]\tvalid_0's rmse: 9783.96\tvalid_1's rmse: 21854.8\n",
      "[400]\tvalid_0's rmse: 8434.11\tvalid_1's rmse: 21634\n",
      "[500]\tvalid_0's rmse: 7406.92\tvalid_1's rmse: 21587.6\n",
      "Early stopping, best iteration is:\n",
      "[480]\tvalid_0's rmse: 7591.62\tvalid_1's rmse: 21566.3\n"
     ]
    },
    {
     "name": "stderr",
     "output_type": "stream",
     "text": [
      "num_leaves, val_score: 21000.352564:  90%|######### | 18/20 [00:31<00:03,  1.87s/it]\u001b[32m[I 2021-02-21 10:56:06,254]\u001b[0m Trial 24 finished with value: 21566.271349335966 and parameters: {'num_leaves': 90}. Best is trial 14 with value: 21000.352563821798.\u001b[0m\n",
      "num_leaves, val_score: 21000.352564:  90%|######### | 18/20 [00:31<00:03,  1.87s/it]"
     ]
    },
    {
     "name": "stdout",
     "output_type": "stream",
     "text": [
      "[LightGBM] [Warning] Auto-choosing row-wise multi-threading, the overhead of testing was 0.000287 seconds.\n",
      "You can set `force_row_wise=true` to remove the overhead.\n",
      "And if memory is not enough, you can set `force_col_wise=true`.\n",
      "[LightGBM] [Info] Total Bins 1090\n",
      "[LightGBM] [Info] Number of data points in the train set: 25176, number of used features: 25\n",
      "[LightGBM] [Info] Start training from score 118280.850532\n",
      "Training until validation scores don't improve for 100 rounds\n",
      "[100]\tvalid_0's rmse: 17375.6\tvalid_1's rmse: 22945\n",
      "[200]\tvalid_0's rmse: 14824.9\tvalid_1's rmse: 22210.1\n",
      "[300]\tvalid_0's rmse: 13372.3\tvalid_1's rmse: 22023\n",
      "[400]\tvalid_0's rmse: 12399.8\tvalid_1's rmse: 21874.9\n",
      "[500]\tvalid_0's rmse: 11592.1\tvalid_1's rmse: 21758.4\n",
      "[600]\tvalid_0's rmse: 10876.7\tvalid_1's rmse: 21661.6\n",
      "[700]\tvalid_0's rmse: 10297.6\tvalid_1's rmse: 21573.7\n"
     ]
    },
    {
     "name": "stderr",
     "output_type": "stream",
     "text": [
      "num_leaves, val_score: 21000.352564:  95%|#########5| 19/20 [00:33<00:01,  1.73s/it]\u001b[32m[I 2021-02-21 10:56:07,645]\u001b[0m Trial 25 finished with value: 21487.561721904414 and parameters: {'num_leaves': 25}. Best is trial 14 with value: 21000.352563821798.\u001b[0m\n",
      "num_leaves, val_score: 21000.352564:  95%|#########5| 19/20 [00:33<00:01,  1.73s/it]"
     ]
    },
    {
     "name": "stdout",
     "output_type": "stream",
     "text": [
      "[800]\tvalid_0's rmse: 9725.96\tvalid_1's rmse: 21531\n",
      "Early stopping, best iteration is:\n",
      "[762]\tvalid_0's rmse: 9935.62\tvalid_1's rmse: 21487.6\n",
      "[LightGBM] [Warning] Auto-choosing row-wise multi-threading, the overhead of testing was 0.000437 seconds.\n",
      "You can set `force_row_wise=true` to remove the overhead.\n",
      "And if memory is not enough, you can set `force_col_wise=true`.\n",
      "[LightGBM] [Info] Total Bins 1090\n",
      "[LightGBM] [Info] Number of data points in the train set: 25176, number of used features: 25\n",
      "[LightGBM] [Info] Start training from score 118280.850532\n",
      "Training until validation scores don't improve for 100 rounds\n",
      "[100]\tvalid_0's rmse: 14325.4\tvalid_1's rmse: 22490.1\n",
      "[200]\tvalid_0's rmse: 11391.9\tvalid_1's rmse: 21951.7\n",
      "[300]\tvalid_0's rmse: 9674.92\tvalid_1's rmse: 21904.9\n",
      "[400]\tvalid_0's rmse: 8292.78\tvalid_1's rmse: 21758.9\n"
     ]
    },
    {
     "name": "stderr",
     "output_type": "stream",
     "text": [
      "num_leaves, val_score: 21000.352564: 100%|##########| 20/20 [00:34<00:00,  1.75s/it]\u001b[32m[I 2021-02-21 10:56:09,461]\u001b[0m Trial 26 finished with value: 21611.14942405837 and parameters: {'num_leaves': 94}. Best is trial 14 with value: 21000.352563821798.\u001b[0m\n",
      "num_leaves, val_score: 21000.352564: 100%|##########| 20/20 [00:34<00:00,  1.74s/it]\n",
      "  0%|          | 0/10 [00:00<?, ?it/s]"
     ]
    },
    {
     "name": "stdout",
     "output_type": "stream",
     "text": [
      "[500]\tvalid_0's rmse: 7290.42\tvalid_1's rmse: 21650.9\n",
      "Early stopping, best iteration is:\n",
      "[438]\tvalid_0's rmse: 7846.58\tvalid_1's rmse: 21611.1\n"
     ]
    },
    {
     "name": "stderr",
     "output_type": "stream",
     "text": [
      "\r",
      "bagging, val_score: 21000.352564:   0%|          | 0/10 [00:00<?, ?it/s]"
     ]
    },
    {
     "name": "stdout",
     "output_type": "stream",
     "text": [
      "[LightGBM] [Warning] Auto-choosing row-wise multi-threading, the overhead of testing was 0.000300 seconds.\n",
      "You can set `force_row_wise=true` to remove the overhead.\n",
      "And if memory is not enough, you can set `force_col_wise=true`.\n",
      "[LightGBM] [Info] Total Bins 1090\n",
      "[LightGBM] [Info] Number of data points in the train set: 25176, number of used features: 25\n",
      "[LightGBM] [Info] Start training from score 118280.850532\n",
      "Training until validation scores don't improve for 100 rounds\n",
      "[100]\tvalid_0's rmse: 14582\tvalid_1's rmse: 23125\n",
      "[200]\tvalid_0's rmse: 11368.1\tvalid_1's rmse: 22524.9\n",
      "[300]\tvalid_0's rmse: 9549.99\tvalid_1's rmse: 22431.5\n"
     ]
    },
    {
     "name": "stderr",
     "output_type": "stream",
     "text": [
      "bagging, val_score: 21000.352564:  10%|#         | 1/10 [00:01<00:15,  1.77s/it]\u001b[32m[I 2021-02-21 10:56:11,234]\u001b[0m Trial 27 finished with value: 22348.06780783157 and parameters: {'bagging_fraction': 0.8483032688915733, 'bagging_freq': 4}. Best is trial 27 with value: 22348.06780783157.\u001b[0m\n",
      "bagging, val_score: 21000.352564:  10%|#         | 1/10 [00:01<00:15,  1.77s/it]"
     ]
    },
    {
     "name": "stdout",
     "output_type": "stream",
     "text": [
      "[400]\tvalid_0's rmse: 8193.03\tvalid_1's rmse: 22374.3\n",
      "Early stopping, best iteration is:\n",
      "[328]\tvalid_0's rmse: 9150.13\tvalid_1's rmse: 22348.1\n",
      "[LightGBM] [Warning] Auto-choosing row-wise multi-threading, the overhead of testing was 0.000282 seconds.\n",
      "You can set `force_row_wise=true` to remove the overhead.\n",
      "And if memory is not enough, you can set `force_col_wise=true`.\n",
      "[LightGBM] [Info] Total Bins 1090\n",
      "[LightGBM] [Info] Number of data points in the train set: 25176, number of used features: 25\n",
      "[LightGBM] [Info] Start training from score 118280.850532\n",
      "Training until validation scores don't improve for 100 rounds\n",
      "[100]\tvalid_0's rmse: 18538.1\tvalid_1's rmse: 23719.8\n",
      "[200]\tvalid_0's rmse: 15782.5\tvalid_1's rmse: 23072.8\n",
      "[300]\tvalid_0's rmse: 13927.1\tvalid_1's rmse: 22940.4\n",
      "[400]\tvalid_0's rmse: 12511.9\tvalid_1's rmse: 22832.5\n",
      "[500]\tvalid_0's rmse: 11325.5\tvalid_1's rmse: 22754.7\n",
      "[600]\tvalid_0's rmse: 10283\tvalid_1's rmse: 22775\n",
      "Early stopping, best iteration is:\n",
      "[539]\tvalid_0's rmse: 10918.5\tvalid_1's rmse: 22667.1\n"
     ]
    },
    {
     "name": "stderr",
     "output_type": "stream",
     "text": [
      "bagging, val_score: 21000.352564:  20%|##        | 2/10 [00:04<00:18,  2.36s/it]\u001b[32m[I 2021-02-21 10:56:14,007]\u001b[0m Trial 28 finished with value: 22667.07139556006 and parameters: {'bagging_fraction': 0.4221564729124931, 'bagging_freq': 1}. Best is trial 27 with value: 22348.06780783157.\u001b[0m\n",
      "bagging, val_score: 21000.352564:  20%|##        | 2/10 [00:04<00:18,  2.36s/it]"
     ]
    },
    {
     "name": "stdout",
     "output_type": "stream",
     "text": [
      "[LightGBM] [Warning] Auto-choosing row-wise multi-threading, the overhead of testing was 0.000346 seconds.\n",
      "You can set `force_row_wise=true` to remove the overhead.\n",
      "And if memory is not enough, you can set `force_col_wise=true`.\n",
      "[LightGBM] [Info] Total Bins 1090\n",
      "[LightGBM] [Info] Number of data points in the train set: 25176, number of used features: 25\n",
      "[LightGBM] [Info] Start training from score 118280.850532\n",
      "Training until validation scores don't improve for 100 rounds\n",
      "[100]\tvalid_0's rmse: 18299.7\tvalid_1's rmse: 23635.8\n",
      "[200]\tvalid_0's rmse: 15816.8\tvalid_1's rmse: 23330.3\n",
      "[300]\tvalid_0's rmse: 13845.5\tvalid_1's rmse: 23107.9\n",
      "[400]\tvalid_0's rmse: 12534.4\tvalid_1's rmse: 23020.1\n"
     ]
    },
    {
     "name": "stderr",
     "output_type": "stream",
     "text": [
      "bagging, val_score: 21000.352564:  30%|###       | 3/10 [00:06<00:15,  2.22s/it]\u001b[32m[I 2021-02-21 10:56:16,052]\u001b[0m Trial 29 finished with value: 22903.246321845272 and parameters: {'bagging_fraction': 0.461282285276298, 'bagging_freq': 6}. Best is trial 27 with value: 22348.06780783157.\u001b[0m\n",
      "bagging, val_score: 21000.352564:  30%|###       | 3/10 [00:06<00:15,  2.22s/it]"
     ]
    },
    {
     "name": "stdout",
     "output_type": "stream",
     "text": [
      "Early stopping, best iteration is:\n",
      "[377]\tvalid_0's rmse: 12854.4\tvalid_1's rmse: 22903.2\n",
      "[LightGBM] [Warning] Auto-choosing row-wise multi-threading, the overhead of testing was 0.000299 seconds.\n",
      "You can set `force_row_wise=true` to remove the overhead.\n",
      "And if memory is not enough, you can set `force_col_wise=true`.\n",
      "[LightGBM] [Info] Total Bins 1090\n",
      "[LightGBM] [Info] Number of data points in the train set: 25176, number of used features: 25\n",
      "[LightGBM] [Info] Start training from score 118280.850532\n",
      "Training until validation scores don't improve for 100 rounds\n",
      "[100]\tvalid_0's rmse: 14281\tvalid_1's rmse: 22179.7\n",
      "[200]\tvalid_0's rmse: 11192.2\tvalid_1's rmse: 21624.4\n",
      "[300]\tvalid_0's rmse: 9248.66\tvalid_1's rmse: 21582.4\n",
      "[400]\tvalid_0's rmse: 7767.07\tvalid_1's rmse: 21516.2\n",
      "[500]\tvalid_0's rmse: 6706.67\tvalid_1's rmse: 21538.3\n",
      "Early stopping, best iteration is:\n",
      "[445]\tvalid_0's rmse: 7265.85\tvalid_1's rmse: 21493.3\n"
     ]
    },
    {
     "name": "stderr",
     "output_type": "stream",
     "text": [
      "bagging, val_score: 21000.352564:  40%|####      | 4/10 [00:08<00:12,  2.12s/it]\u001b[32m[I 2021-02-21 10:56:18,026]\u001b[0m Trial 30 finished with value: 21493.27260504435 and parameters: {'bagging_fraction': 0.9812372690161465, 'bagging_freq': 1}. Best is trial 30 with value: 21493.27260504435.\u001b[0m\n",
      "bagging, val_score: 21000.352564:  40%|####      | 4/10 [00:08<00:12,  2.12s/it]"
     ]
    },
    {
     "name": "stdout",
     "output_type": "stream",
     "text": [
      "[LightGBM] [Warning] Auto-choosing row-wise multi-threading, the overhead of testing was 0.000387 seconds.\n",
      "You can set `force_row_wise=true` to remove the overhead.\n",
      "And if memory is not enough, you can set `force_col_wise=true`.\n",
      "[LightGBM] [Info] Total Bins 1090\n",
      "[LightGBM] [Info] Number of data points in the train set: 25176, number of used features: 25\n",
      "[LightGBM] [Info] Start training from score 118280.850532\n",
      "Training until validation scores don't improve for 100 rounds\n",
      "[100]\tvalid_0's rmse: 16433.9\tvalid_1's rmse: 23210.2\n",
      "[200]\tvalid_0's rmse: 13497.8\tvalid_1's rmse: 22832.7\n",
      "[300]\tvalid_0's rmse: 11351.5\tvalid_1's rmse: 22782.4\n"
     ]
    },
    {
     "name": "stderr",
     "output_type": "stream",
     "text": [
      "bagging, val_score: 21000.352564:  50%|#####     | 5/10 [00:10<00:10,  2.05s/it]\u001b[32m[I 2021-02-21 10:56:19,950]\u001b[0m Trial 31 finished with value: 22680.14837429517 and parameters: {'bagging_fraction': 0.6513650488936655, 'bagging_freq': 7}. Best is trial 30 with value: 21493.27260504435.\u001b[0m\n",
      "bagging, val_score: 21000.352564:  50%|#####     | 5/10 [00:10<00:10,  2.05s/it]"
     ]
    },
    {
     "name": "stdout",
     "output_type": "stream",
     "text": [
      "Early stopping, best iteration is:\n",
      "[263]\tvalid_0's rmse: 12090.8\tvalid_1's rmse: 22680.1\n",
      "[LightGBM] [Warning] Auto-choosing row-wise multi-threading, the overhead of testing was 0.000321 seconds.\n",
      "You can set `force_row_wise=true` to remove the overhead.\n",
      "And if memory is not enough, you can set `force_col_wise=true`.\n",
      "[LightGBM] [Info] Total Bins 1090\n",
      "[LightGBM] [Info] Number of data points in the train set: 25176, number of used features: 25\n",
      "[LightGBM] [Info] Start training from score 118280.850532\n",
      "Training until validation scores don't improve for 100 rounds\n",
      "[100]\tvalid_0's rmse: 16253.5\tvalid_1's rmse: 23147.6\n",
      "[200]\tvalid_0's rmse: 13078.2\tvalid_1's rmse: 22467.6\n",
      "[300]\tvalid_0's rmse: 11085.9\tvalid_1's rmse: 22311.1\n",
      "[400]\tvalid_0's rmse: 9578.63\tvalid_1's rmse: 22249.7\n",
      "Early stopping, best iteration is:\n",
      "[336]\tvalid_0's rmse: 10583.3\tvalid_1's rmse: 22143.2\n"
     ]
    },
    {
     "name": "stderr",
     "output_type": "stream",
     "text": [
      "bagging, val_score: 21000.352564:  60%|######    | 6/10 [00:12<00:07,  1.99s/it]\u001b[32m[I 2021-02-21 10:56:21,831]\u001b[0m Trial 32 finished with value: 22143.15191662771 and parameters: {'bagging_fraction': 0.6471275061934445, 'bagging_freq': 4}. Best is trial 30 with value: 21493.27260504435.\u001b[0m\n",
      "bagging, val_score: 21000.352564:  60%|######    | 6/10 [00:12<00:07,  1.99s/it]"
     ]
    },
    {
     "name": "stdout",
     "output_type": "stream",
     "text": [
      "[LightGBM] [Warning] Auto-choosing row-wise multi-threading, the overhead of testing was 0.000322 seconds.\n",
      "You can set `force_row_wise=true` to remove the overhead.\n",
      "And if memory is not enough, you can set `force_col_wise=true`.\n",
      "[LightGBM] [Info] Total Bins 1090\n",
      "[LightGBM] [Info] Number of data points in the train set: 25176, number of used features: 25\n",
      "[LightGBM] [Info] Start training from score 118280.850532\n",
      "Training until validation scores don't improve for 100 rounds\n",
      "[100]\tvalid_0's rmse: 14049\tvalid_1's rmse: 22345.1\n",
      "[200]\tvalid_0's rmse: 11045.1\tvalid_1's rmse: 21662.5\n",
      "[300]\tvalid_0's rmse: 9127.3\tvalid_1's rmse: 21444.8\n",
      "[400]\tvalid_0's rmse: 7779.23\tvalid_1's rmse: 21411.4\n",
      "Early stopping, best iteration is:\n",
      "[344]\tvalid_0's rmse: 8510.14\tvalid_1's rmse: 21310\n"
     ]
    },
    {
     "name": "stderr",
     "output_type": "stream",
     "text": [
      "bagging, val_score: 21000.352564:  70%|#######   | 7/10 [00:14<00:05,  1.96s/it]\u001b[32m[I 2021-02-21 10:56:23,717]\u001b[0m Trial 33 finished with value: 21310.02068223757 and parameters: {'bagging_fraction': 0.9856954097411252, 'bagging_freq': 2}. Best is trial 33 with value: 21310.02068223757.\u001b[0m\n",
      "bagging, val_score: 21000.352564:  70%|#######   | 7/10 [00:14<00:05,  1.96s/it]"
     ]
    },
    {
     "name": "stdout",
     "output_type": "stream",
     "text": [
      "[LightGBM] [Warning] Auto-choosing row-wise multi-threading, the overhead of testing was 0.000263 seconds.\n",
      "You can set `force_row_wise=true` to remove the overhead.\n",
      "And if memory is not enough, you can set `force_col_wise=true`.\n",
      "[LightGBM] [Info] Total Bins 1090\n",
      "[LightGBM] [Info] Number of data points in the train set: 25176, number of used features: 25\n",
      "[LightGBM] [Info] Start training from score 118280.850532\n",
      "Training until validation scores don't improve for 100 rounds\n",
      "[100]\tvalid_0's rmse: 14247.5\tvalid_1's rmse: 22678\n",
      "[200]\tvalid_0's rmse: 11110.9\tvalid_1's rmse: 22108.2\n",
      "[300]\tvalid_0's rmse: 9169.26\tvalid_1's rmse: 21954.5\n"
     ]
    },
    {
     "name": "stderr",
     "output_type": "stream",
     "text": [
      "bagging, val_score: 21000.352564:  80%|########  | 8/10 [00:15<00:03,  1.85s/it]\u001b[32m[I 2021-02-21 10:56:25,333]\u001b[0m Trial 34 finished with value: 21922.984717765215 and parameters: {'bagging_fraction': 0.9554738722053742, 'bagging_freq': 2}. Best is trial 33 with value: 21310.02068223757.\u001b[0m\n",
      "bagging, val_score: 21000.352564:  80%|########  | 8/10 [00:15<00:03,  1.85s/it]"
     ]
    },
    {
     "name": "stdout",
     "output_type": "stream",
     "text": [
      "Early stopping, best iteration is:\n",
      "[282]\tvalid_0's rmse: 9511.62\tvalid_1's rmse: 21923\n",
      "[LightGBM] [Warning] Auto-choosing row-wise multi-threading, the overhead of testing was 0.000284 seconds.\n",
      "You can set `force_row_wise=true` to remove the overhead.\n",
      "And if memory is not enough, you can set `force_col_wise=true`.\n",
      "[LightGBM] [Info] Total Bins 1090\n",
      "[LightGBM] [Info] Number of data points in the train set: 25176, number of used features: 25\n",
      "[LightGBM] [Info] Start training from score 118280.850532\n",
      "Training until validation scores don't improve for 100 rounds\n",
      "[100]\tvalid_0's rmse: 15075.8\tvalid_1's rmse: 22965.3\n",
      "[200]\tvalid_0's rmse: 11825.6\tvalid_1's rmse: 22740.7\n",
      "[300]\tvalid_0's rmse: 10029\tvalid_1's rmse: 22677\n",
      "[400]\tvalid_0's rmse: 8497.53\tvalid_1's rmse: 22522.1\n"
     ]
    },
    {
     "name": "stderr",
     "output_type": "stream",
     "text": [
      "bagging, val_score: 21000.352564:  90%|######### | 9/10 [00:17<00:01,  1.93s/it]\u001b[32m[I 2021-02-21 10:56:27,444]\u001b[0m Trial 35 finished with value: 22473.055698138163 and parameters: {'bagging_fraction': 0.8077532114403181, 'bagging_freq': 3}. Best is trial 33 with value: 21310.02068223757.\u001b[0m\n",
      "bagging, val_score: 21000.352564:  90%|######### | 9/10 [00:17<00:01,  1.93s/it]"
     ]
    },
    {
     "name": "stdout",
     "output_type": "stream",
     "text": [
      "Early stopping, best iteration is:\n",
      "[397]\tvalid_0's rmse: 8583.95\tvalid_1's rmse: 22473.1\n",
      "[LightGBM] [Warning] Auto-choosing col-wise multi-threading, the overhead of testing was 0.002119 seconds.\n",
      "You can set `force_col_wise=true` to remove the overhead.\n",
      "[LightGBM] [Info] Total Bins 1090\n",
      "[LightGBM] [Info] Number of data points in the train set: 25176, number of used features: 25\n",
      "[LightGBM] [Info] Start training from score 118280.850532\n",
      "Training until validation scores don't improve for 100 rounds\n",
      "[100]\tvalid_0's rmse: 14982.7\tvalid_1's rmse: 22753.4\n",
      "[200]\tvalid_0's rmse: 11789.2\tvalid_1's rmse: 22169.8\n"
     ]
    },
    {
     "name": "stderr",
     "output_type": "stream",
     "text": [
      "bagging, val_score: 21000.352564: 100%|##########| 10/10 [00:19<00:00,  1.71s/it]\u001b[32m[I 2021-02-21 10:56:28,675]\u001b[0m Trial 36 finished with value: 22169.82734006757 and parameters: {'bagging_fraction': 0.7925287540397608, 'bagging_freq': 5}. Best is trial 33 with value: 21310.02068223757.\u001b[0m\n",
      "bagging, val_score: 21000.352564: 100%|##########| 10/10 [00:19<00:00,  1.92s/it]\n",
      "feature_fraction_stage2, val_score: 21000.352564:   0%|          | 0/6 [00:00<?, ?it/s]"
     ]
    },
    {
     "name": "stdout",
     "output_type": "stream",
     "text": [
      "[300]\tvalid_0's rmse: 9784.55\tvalid_1's rmse: 22248.1\n",
      "Early stopping, best iteration is:\n",
      "[200]\tvalid_0's rmse: 11789.2\tvalid_1's rmse: 22169.8\n",
      "[LightGBM] [Warning] Auto-choosing row-wise multi-threading, the overhead of testing was 0.000305 seconds.\n",
      "You can set `force_row_wise=true` to remove the overhead.\n",
      "And if memory is not enough, you can set `force_col_wise=true`.\n",
      "[LightGBM] [Info] Total Bins 1090\n",
      "[LightGBM] [Info] Number of data points in the train set: 25176, number of used features: 25\n",
      "[LightGBM] [Info] Start training from score 118280.850532\n",
      "Training until validation scores don't improve for 100 rounds\n",
      "[100]\tvalid_0's rmse: 14186.9\tvalid_1's rmse: 22082.9\n",
      "[200]\tvalid_0's rmse: 11335.6\tvalid_1's rmse: 21635.7\n",
      "[300]\tvalid_0's rmse: 9522.3\tvalid_1's rmse: 21540\n",
      "[400]\tvalid_0's rmse: 8254.62\tvalid_1's rmse: 21506.2\n",
      "[500]\tvalid_0's rmse: 7104.89\tvalid_1's rmse: 21437.9\n"
     ]
    },
    {
     "name": "stderr",
     "output_type": "stream",
     "text": [
      "feature_fraction_stage2, val_score: 21000.352564:  17%|#6        | 1/6 [00:02<00:11,  2.30s/it]\u001b[32m[I 2021-02-21 10:56:30,977]\u001b[0m Trial 37 finished with value: 21390.774091159845 and parameters: {'feature_fraction': 0.5479999999999999}. Best is trial 37 with value: 21390.774091159845.\u001b[0m\n",
      "feature_fraction_stage2, val_score: 21000.352564:  17%|#6        | 1/6 [00:02<00:11,  2.30s/it]"
     ]
    },
    {
     "name": "stdout",
     "output_type": "stream",
     "text": [
      "[600]\tvalid_0's rmse: 6236.98\tvalid_1's rmse: 21439.3\n",
      "Early stopping, best iteration is:\n",
      "[516]\tvalid_0's rmse: 6958.59\tvalid_1's rmse: 21390.8\n",
      "[LightGBM] [Warning] Auto-choosing row-wise multi-threading, the overhead of testing was 0.000302 seconds.\n",
      "You can set `force_row_wise=true` to remove the overhead.\n",
      "And if memory is not enough, you can set `force_col_wise=true`.\n",
      "[LightGBM] [Info] Total Bins 1090\n",
      "[LightGBM] [Info] Number of data points in the train set: 25176, number of used features: 25\n",
      "[LightGBM] [Info] Start training from score 118280.850532\n",
      "Training until validation scores don't improve for 100 rounds\n",
      "[100]\tvalid_0's rmse: 14186.9\tvalid_1's rmse: 22082.9\n",
      "[200]\tvalid_0's rmse: 11335.6\tvalid_1's rmse: 21635.7\n",
      "[300]\tvalid_0's rmse: 9522.3\tvalid_1's rmse: 21540\n",
      "[400]\tvalid_0's rmse: 8254.62\tvalid_1's rmse: 21506.2\n",
      "[500]\tvalid_0's rmse: 7104.89\tvalid_1's rmse: 21437.9\n"
     ]
    },
    {
     "name": "stderr",
     "output_type": "stream",
     "text": [
      "feature_fraction_stage2, val_score: 21000.352564:  33%|###3      | 2/6 [00:04<00:08,  2.23s/it]\u001b[32m[I 2021-02-21 10:56:33,156]\u001b[0m Trial 38 finished with value: 21390.774091159845 and parameters: {'feature_fraction': 0.58}. Best is trial 37 with value: 21390.774091159845.\u001b[0m\n",
      "feature_fraction_stage2, val_score: 21000.352564:  33%|###3      | 2/6 [00:04<00:08,  2.23s/it]"
     ]
    },
    {
     "name": "stdout",
     "output_type": "stream",
     "text": [
      "[600]\tvalid_0's rmse: 6236.98\tvalid_1's rmse: 21439.3\n",
      "Early stopping, best iteration is:\n",
      "[516]\tvalid_0's rmse: 6958.59\tvalid_1's rmse: 21390.8\n",
      "[LightGBM] [Warning] Auto-choosing col-wise multi-threading, the overhead of testing was 0.003871 seconds.\n",
      "You can set `force_col_wise=true` to remove the overhead.\n",
      "[LightGBM] [Info] Total Bins 1090\n",
      "[LightGBM] [Info] Number of data points in the train set: 25176, number of used features: 25\n",
      "[LightGBM] [Info] Start training from score 118280.850532\n",
      "Training until validation scores don't improve for 100 rounds\n",
      "[100]\tvalid_0's rmse: 14184.1\tvalid_1's rmse: 21995.9\n",
      "[200]\tvalid_0's rmse: 11275.4\tvalid_1's rmse: 21203.1\n",
      "[300]\tvalid_0's rmse: 9568.09\tvalid_1's rmse: 21210\n",
      "[400]\tvalid_0's rmse: 8142.12\tvalid_1's rmse: 21066.5\n",
      "[500]\tvalid_0's rmse: 7057.36\tvalid_1's rmse: 21040.5\n"
     ]
    },
    {
     "name": "stderr",
     "output_type": "stream",
     "text": [
      "feature_fraction_stage2, val_score: 21000.352564:  50%|#####     | 3/6 [00:06<00:06,  2.06s/it]\u001b[32m[I 2021-02-21 10:56:35,012]\u001b[0m Trial 39 finished with value: 21000.352563821798 and parameters: {'feature_fraction': 0.516}. Best is trial 39 with value: 21000.352563821798.\u001b[0m\n",
      "feature_fraction_stage2, val_score: 21000.352564:  50%|#####     | 3/6 [00:06<00:06,  2.06s/it]"
     ]
    },
    {
     "name": "stdout",
     "output_type": "stream",
     "text": [
      "Early stopping, best iteration is:\n",
      "[480]\tvalid_0's rmse: 7246.54\tvalid_1's rmse: 21000.4\n",
      "[LightGBM] [Warning] Auto-choosing row-wise multi-threading, the overhead of testing was 0.000238 seconds.\n",
      "You can set `force_row_wise=true` to remove the overhead.\n",
      "And if memory is not enough, you can set `force_col_wise=true`.\n",
      "[LightGBM] [Info] Total Bins 1090\n",
      "[LightGBM] [Info] Number of data points in the train set: 25176, number of used features: 25\n",
      "[LightGBM] [Info] Start training from score 118280.850532\n",
      "Training until validation scores don't improve for 100 rounds\n",
      "[100]\tvalid_0's rmse: 14299.8\tvalid_1's rmse: 22221\n",
      "[200]\tvalid_0's rmse: 10900.9\tvalid_1's rmse: 21530.3\n",
      "[300]\tvalid_0's rmse: 9123.23\tvalid_1's rmse: 21383.7\n",
      "[400]\tvalid_0's rmse: 7771.16\tvalid_1's rmse: 21190.5\n",
      "[500]\tvalid_0's rmse: 6806.96\tvalid_1's rmse: 21152.3\n"
     ]
    },
    {
     "name": "stderr",
     "output_type": "stream",
     "text": [
      "feature_fraction_stage2, val_score: 21000.352564:  67%|######6   | 4/6 [00:08<00:04,  2.02s/it]\u001b[32m[I 2021-02-21 10:56:36,963]\u001b[0m Trial 40 finished with value: 21117.41412344016 and parameters: {'feature_fraction': 0.45199999999999996}. Best is trial 39 with value: 21000.352563821798.\u001b[0m\n",
      "feature_fraction_stage2, val_score: 21000.352564:  67%|######6   | 4/6 [00:08<00:04,  2.02s/it]"
     ]
    },
    {
     "name": "stdout",
     "output_type": "stream",
     "text": [
      "Early stopping, best iteration is:\n",
      "[475]\tvalid_0's rmse: 7032.81\tvalid_1's rmse: 21117.4\n",
      "[LightGBM] [Warning] Auto-choosing row-wise multi-threading, the overhead of testing was 0.000268 seconds.\n",
      "You can set `force_row_wise=true` to remove the overhead.\n",
      "And if memory is not enough, you can set `force_col_wise=true`.\n",
      "[LightGBM] [Info] Total Bins 1090\n",
      "[LightGBM] [Info] Number of data points in the train set: 25176, number of used features: 25\n",
      "[LightGBM] [Info] Start training from score 118280.850532\n",
      "Training until validation scores don't improve for 100 rounds\n",
      "[100]\tvalid_0's rmse: 14299.8\tvalid_1's rmse: 22221\n",
      "[200]\tvalid_0's rmse: 10900.9\tvalid_1's rmse: 21530.3\n",
      "[300]\tvalid_0's rmse: 9123.23\tvalid_1's rmse: 21383.7\n",
      "[400]\tvalid_0's rmse: 7771.16\tvalid_1's rmse: 21190.5\n",
      "[500]\tvalid_0's rmse: 6806.96\tvalid_1's rmse: 21152.3\n",
      "Early stopping, best iteration is:\n",
      "[475]\tvalid_0's rmse: 7032.81\tvalid_1's rmse: 21117.4\n"
     ]
    },
    {
     "name": "stderr",
     "output_type": "stream",
     "text": [
      "feature_fraction_stage2, val_score: 21000.352564:  83%|########3 | 5/6 [00:10<00:01,  1.99s/it]\u001b[32m[I 2021-02-21 10:56:38,911]\u001b[0m Trial 41 finished with value: 21117.41412344016 and parameters: {'feature_fraction': 0.42}. Best is trial 39 with value: 21000.352563821798.\u001b[0m\n",
      "feature_fraction_stage2, val_score: 21000.352564:  83%|########3 | 5/6 [00:10<00:01,  1.99s/it]"
     ]
    },
    {
     "name": "stdout",
     "output_type": "stream",
     "text": [
      "[LightGBM] [Warning] Auto-choosing row-wise multi-threading, the overhead of testing was 0.000268 seconds.\n",
      "You can set `force_row_wise=true` to remove the overhead.\n",
      "And if memory is not enough, you can set `force_col_wise=true`.\n",
      "[LightGBM] [Info] Total Bins 1090\n",
      "[LightGBM] [Info] Number of data points in the train set: 25176, number of used features: 25\n",
      "[LightGBM] [Info] Start training from score 118280.850532\n",
      "Training until validation scores don't improve for 100 rounds\n",
      "[100]\tvalid_0's rmse: 14301.5\tvalid_1's rmse: 22085.6\n",
      "[200]\tvalid_0's rmse: 10959.8\tvalid_1's rmse: 21523.7\n",
      "[300]\tvalid_0's rmse: 9184.74\tvalid_1's rmse: 21396.7\n",
      "[400]\tvalid_0's rmse: 7908.59\tvalid_1's rmse: 21267.7\n",
      "[500]\tvalid_0's rmse: 6931.99\tvalid_1's rmse: 21249.1\n"
     ]
    },
    {
     "name": "stderr",
     "output_type": "stream",
     "text": [
      "feature_fraction_stage2, val_score: 21000.352564: 100%|##########| 6/6 [00:12<00:00,  2.00s/it]\u001b[32m[I 2021-02-21 10:56:40,915]\u001b[0m Trial 42 finished with value: 21230.5162034052 and parameters: {'feature_fraction': 0.484}. Best is trial 39 with value: 21000.352563821798.\u001b[0m\n",
      "feature_fraction_stage2, val_score: 21000.352564: 100%|##########| 6/6 [00:12<00:00,  2.04s/it]\n",
      "regularization_factors, val_score: 21000.352564:   0%|          | 0/20 [00:00<?, ?it/s]"
     ]
    },
    {
     "name": "stdout",
     "output_type": "stream",
     "text": [
      "Early stopping, best iteration is:\n",
      "[493]\tvalid_0's rmse: 6996.92\tvalid_1's rmse: 21230.5\n",
      "[LightGBM] [Warning] Auto-choosing row-wise multi-threading, the overhead of testing was 0.000271 seconds.\n",
      "You can set `force_row_wise=true` to remove the overhead.\n",
      "And if memory is not enough, you can set `force_col_wise=true`.\n",
      "[LightGBM] [Info] Total Bins 1090\n",
      "[LightGBM] [Info] Number of data points in the train set: 25176, number of used features: 25\n",
      "[LightGBM] [Info] Start training from score 118280.850532\n",
      "Training until validation scores don't improve for 100 rounds\n",
      "[100]\tvalid_0's rmse: 14184.1\tvalid_1's rmse: 21995.9\n",
      "[200]\tvalid_0's rmse: 11275.4\tvalid_1's rmse: 21203.1\n",
      "[300]\tvalid_0's rmse: 9568.09\tvalid_1's rmse: 21210\n",
      "[400]\tvalid_0's rmse: 8142.12\tvalid_1's rmse: 21066.5\n",
      "[500]\tvalid_0's rmse: 7057.36\tvalid_1's rmse: 21040.5\n"
     ]
    },
    {
     "name": "stderr",
     "output_type": "stream",
     "text": [
      "regularization_factors, val_score: 21000.352542:   5%|5         | 1/20 [00:02<00:39,  2.06s/it]\u001b[32m[I 2021-02-21 10:56:42,978]\u001b[0m Trial 43 finished with value: 21000.35254229138 and parameters: {'lambda_l1': 3.541336665534098e-06, 'lambda_l2': 4.3911083136550114e-07}. Best is trial 43 with value: 21000.35254229138.\u001b[0m\n",
      "regularization_factors, val_score: 21000.352542:   5%|5         | 1/20 [00:02<00:39,  2.06s/it]"
     ]
    },
    {
     "name": "stdout",
     "output_type": "stream",
     "text": [
      "Early stopping, best iteration is:\n",
      "[480]\tvalid_0's rmse: 7246.54\tvalid_1's rmse: 21000.4\n",
      "[LightGBM] [Warning] Auto-choosing row-wise multi-threading, the overhead of testing was 0.000268 seconds.\n",
      "You can set `force_row_wise=true` to remove the overhead.\n",
      "And if memory is not enough, you can set `force_col_wise=true`.\n",
      "[LightGBM] [Info] Total Bins 1090\n",
      "[LightGBM] [Info] Number of data points in the train set: 25176, number of used features: 25\n",
      "[LightGBM] [Info] Start training from score 118280.850532\n",
      "Training until validation scores don't improve for 100 rounds\n",
      "[100]\tvalid_0's rmse: 14184.1\tvalid_1's rmse: 21995.9\n",
      "[200]\tvalid_0's rmse: 11275.4\tvalid_1's rmse: 21203.1\n",
      "[300]\tvalid_0's rmse: 9568.09\tvalid_1's rmse: 21210\n",
      "[400]\tvalid_0's rmse: 8142.12\tvalid_1's rmse: 21066.5\n",
      "[500]\tvalid_0's rmse: 7057.36\tvalid_1's rmse: 21040.5\n"
     ]
    },
    {
     "name": "stderr",
     "output_type": "stream",
     "text": [
      "regularization_factors, val_score: 21000.352542:  10%|#         | 2/20 [00:04<00:37,  2.08s/it]\u001b[32m[I 2021-02-21 10:56:45,070]\u001b[0m Trial 44 finished with value: 21000.352552867702 and parameters: {'lambda_l1': 1.86113336658876e-06, 'lambda_l2': 2.203585874450375e-07}. Best is trial 43 with value: 21000.35254229138.\u001b[0m\n",
      "regularization_factors, val_score: 21000.352542:  10%|#         | 2/20 [00:04<00:37,  2.08s/it]"
     ]
    },
    {
     "name": "stdout",
     "output_type": "stream",
     "text": [
      "Early stopping, best iteration is:\n",
      "[480]\tvalid_0's rmse: 7246.54\tvalid_1's rmse: 21000.4\n",
      "[LightGBM] [Warning] Auto-choosing row-wise multi-threading, the overhead of testing was 0.000272 seconds.\n",
      "You can set `force_row_wise=true` to remove the overhead.\n",
      "And if memory is not enough, you can set `force_col_wise=true`.\n",
      "[LightGBM] [Info] Total Bins 1090\n",
      "[LightGBM] [Info] Number of data points in the train set: 25176, number of used features: 25\n",
      "[LightGBM] [Info] Start training from score 118280.850532\n",
      "Training until validation scores don't improve for 100 rounds\n",
      "[100]\tvalid_0's rmse: 14184.1\tvalid_1's rmse: 21995.9\n",
      "[200]\tvalid_0's rmse: 11275.4\tvalid_1's rmse: 21203.1\n",
      "[300]\tvalid_0's rmse: 9568.09\tvalid_1's rmse: 21210\n",
      "[400]\tvalid_0's rmse: 8142.12\tvalid_1's rmse: 21066.5\n",
      "[500]\tvalid_0's rmse: 7057.36\tvalid_1's rmse: 21040.5\n"
     ]
    },
    {
     "name": "stderr",
     "output_type": "stream",
     "text": [
      "regularization_factors, val_score: 21000.352542:  15%|#5        | 3/20 [00:06<00:35,  2.08s/it]\u001b[32m[I 2021-02-21 10:56:47,148]\u001b[0m Trial 45 finished with value: 21000.35255922068 and parameters: {'lambda_l1': 1.7882073483992139e-06, 'lambda_l2': 1.1887184070720322e-07}. Best is trial 43 with value: 21000.35254229138.\u001b[0m\n",
      "regularization_factors, val_score: 21000.352542:  15%|#5        | 3/20 [00:06<00:35,  2.08s/it]"
     ]
    },
    {
     "name": "stdout",
     "output_type": "stream",
     "text": [
      "Early stopping, best iteration is:\n",
      "[480]\tvalid_0's rmse: 7246.54\tvalid_1's rmse: 21000.4\n",
      "[LightGBM] [Warning] Auto-choosing row-wise multi-threading, the overhead of testing was 0.000297 seconds.\n",
      "You can set `force_row_wise=true` to remove the overhead.\n",
      "And if memory is not enough, you can set `force_col_wise=true`.\n",
      "[LightGBM] [Info] Total Bins 1090\n",
      "[LightGBM] [Info] Number of data points in the train set: 25176, number of used features: 25\n",
      "[LightGBM] [Info] Start training from score 118280.850532\n",
      "Training until validation scores don't improve for 100 rounds\n",
      "[100]\tvalid_0's rmse: 14184.1\tvalid_1's rmse: 21995.9\n",
      "[200]\tvalid_0's rmse: 11275.4\tvalid_1's rmse: 21203.1\n",
      "[300]\tvalid_0's rmse: 9568.09\tvalid_1's rmse: 21210\n",
      "[400]\tvalid_0's rmse: 8142.12\tvalid_1's rmse: 21066.5\n",
      "[500]\tvalid_0's rmse: 7057.36\tvalid_1's rmse: 21040.5\n"
     ]
    },
    {
     "name": "stderr",
     "output_type": "stream",
     "text": [
      "regularization_factors, val_score: 21000.352542:  20%|##        | 4/20 [00:08<00:33,  2.08s/it]\u001b[32m[I 2021-02-21 10:56:49,241]\u001b[0m Trial 46 finished with value: 21000.352560308693 and parameters: {'lambda_l1': 2.212882935264458e-06, 'lambda_l2': 9.643579529771723e-08}. Best is trial 43 with value: 21000.35254229138.\u001b[0m\n",
      "regularization_factors, val_score: 21000.352542:  20%|##        | 4/20 [00:08<00:33,  2.08s/it]"
     ]
    },
    {
     "name": "stdout",
     "output_type": "stream",
     "text": [
      "Early stopping, best iteration is:\n",
      "[480]\tvalid_0's rmse: 7246.54\tvalid_1's rmse: 21000.4\n",
      "[LightGBM] [Warning] Auto-choosing row-wise multi-threading, the overhead of testing was 0.000307 seconds.\n",
      "You can set `force_row_wise=true` to remove the overhead.\n",
      "And if memory is not enough, you can set `force_col_wise=true`.\n",
      "[LightGBM] [Info] Total Bins 1090\n",
      "[LightGBM] [Info] Number of data points in the train set: 25176, number of used features: 25\n",
      "[LightGBM] [Info] Start training from score 118280.850532\n",
      "Training until validation scores don't improve for 100 rounds\n",
      "[100]\tvalid_0's rmse: 14184.1\tvalid_1's rmse: 21995.9\n",
      "[200]\tvalid_0's rmse: 11275.4\tvalid_1's rmse: 21203.1\n",
      "[300]\tvalid_0's rmse: 9568.09\tvalid_1's rmse: 21210\n",
      "[400]\tvalid_0's rmse: 8142.12\tvalid_1's rmse: 21066.5\n",
      "[500]\tvalid_0's rmse: 7057.36\tvalid_1's rmse: 21040.5\n"
     ]
    },
    {
     "name": "stderr",
     "output_type": "stream",
     "text": [
      "regularization_factors, val_score: 21000.352542:  25%|##5       | 5/20 [00:10<00:31,  2.08s/it]\u001b[32m[I 2021-02-21 10:56:51,324]\u001b[0m Trial 47 finished with value: 21000.35255933752 and parameters: {'lambda_l1': 1.7310939523015138e-06, 'lambda_l2': 1.1555929174096988e-07}. Best is trial 43 with value: 21000.35254229138.\u001b[0m\n",
      "regularization_factors, val_score: 21000.352542:  25%|##5       | 5/20 [00:10<00:31,  2.08s/it]"
     ]
    },
    {
     "name": "stdout",
     "output_type": "stream",
     "text": [
      "Early stopping, best iteration is:\n",
      "[480]\tvalid_0's rmse: 7246.54\tvalid_1's rmse: 21000.4\n",
      "[LightGBM] [Warning] Auto-choosing row-wise multi-threading, the overhead of testing was 0.000277 seconds.\n",
      "You can set `force_row_wise=true` to remove the overhead.\n",
      "And if memory is not enough, you can set `force_col_wise=true`.\n",
      "[LightGBM] [Info] Total Bins 1090\n",
      "[LightGBM] [Info] Number of data points in the train set: 25176, number of used features: 25\n",
      "[LightGBM] [Info] Start training from score 118280.850532\n",
      "Training until validation scores don't improve for 100 rounds\n",
      "[100]\tvalid_0's rmse: 14184.1\tvalid_1's rmse: 21995.9\n",
      "[200]\tvalid_0's rmse: 11275.4\tvalid_1's rmse: 21203.1\n",
      "[300]\tvalid_0's rmse: 9568.09\tvalid_1's rmse: 21210\n",
      "[400]\tvalid_0's rmse: 8142.12\tvalid_1's rmse: 21066.5\n",
      "[500]\tvalid_0's rmse: 7057.36\tvalid_1's rmse: 21040.5\n"
     ]
    },
    {
     "name": "stderr",
     "output_type": "stream",
     "text": [
      "regularization_factors, val_score: 21000.352542:  30%|###       | 6/20 [00:12<00:29,  2.09s/it]\u001b[32m[I 2021-02-21 10:56:53,419]\u001b[0m Trial 48 finished with value: 21000.352559126193 and parameters: {'lambda_l1': 1.5362007097454031e-06, 'lambda_l2': 1.1229004192016679e-07}. Best is trial 43 with value: 21000.35254229138.\u001b[0m\n",
      "regularization_factors, val_score: 21000.352542:  30%|###       | 6/20 [00:12<00:29,  2.09s/it]"
     ]
    },
    {
     "name": "stdout",
     "output_type": "stream",
     "text": [
      "Early stopping, best iteration is:\n",
      "[480]\tvalid_0's rmse: 7246.54\tvalid_1's rmse: 21000.4\n",
      "[LightGBM] [Warning] Auto-choosing col-wise multi-threading, the overhead of testing was 0.003215 seconds.\n",
      "You can set `force_col_wise=true` to remove the overhead.\n",
      "[LightGBM] [Info] Total Bins 1090\n",
      "[LightGBM] [Info] Number of data points in the train set: 25176, number of used features: 25\n",
      "[LightGBM] [Info] Start training from score 118280.850532\n",
      "Training until validation scores don't improve for 100 rounds\n",
      "[100]\tvalid_0's rmse: 14184.1\tvalid_1's rmse: 21995.9\n",
      "[200]\tvalid_0's rmse: 11275.4\tvalid_1's rmse: 21203.1\n",
      "[300]\tvalid_0's rmse: 9568.09\tvalid_1's rmse: 21210\n",
      "[400]\tvalid_0's rmse: 8142.12\tvalid_1's rmse: 21066.5\n",
      "[500]\tvalid_0's rmse: 7057.36\tvalid_1's rmse: 21040.5\n"
     ]
    },
    {
     "name": "stderr",
     "output_type": "stream",
     "text": [
      "regularization_factors, val_score: 21000.352542:  35%|###5      | 7/20 [00:14<00:26,  2.03s/it]\u001b[32m[I 2021-02-21 10:56:55,343]\u001b[0m Trial 49 finished with value: 21000.352556493846 and parameters: {'lambda_l1': 1.907761250514475e-06, 'lambda_l2': 1.7100439845671704e-07}. Best is trial 43 with value: 21000.35254229138.\u001b[0m\n",
      "regularization_factors, val_score: 21000.352542:  35%|###5      | 7/20 [00:14<00:26,  2.03s/it]"
     ]
    },
    {
     "name": "stdout",
     "output_type": "stream",
     "text": [
      "Early stopping, best iteration is:\n",
      "[480]\tvalid_0's rmse: 7246.54\tvalid_1's rmse: 21000.4\n",
      "[LightGBM] [Warning] Auto-choosing row-wise multi-threading, the overhead of testing was 0.000283 seconds.\n",
      "You can set `force_row_wise=true` to remove the overhead.\n",
      "And if memory is not enough, you can set `force_col_wise=true`.\n",
      "[LightGBM] [Info] Total Bins 1090\n",
      "[LightGBM] [Info] Number of data points in the train set: 25176, number of used features: 25\n",
      "[LightGBM] [Info] Start training from score 118280.850532\n",
      "Training until validation scores don't improve for 100 rounds\n",
      "[100]\tvalid_0's rmse: 14184.1\tvalid_1's rmse: 21995.9\n",
      "[200]\tvalid_0's rmse: 11275.4\tvalid_1's rmse: 21203.1\n",
      "[300]\tvalid_0's rmse: 9568.09\tvalid_1's rmse: 21210\n",
      "[400]\tvalid_0's rmse: 8142.12\tvalid_1's rmse: 21066.5\n",
      "[500]\tvalid_0's rmse: 7057.36\tvalid_1's rmse: 21040.5\n"
     ]
    },
    {
     "name": "stderr",
     "output_type": "stream",
     "text": [
      "regularization_factors, val_score: 21000.352542:  40%|####      | 8/20 [00:16<00:24,  2.06s/it]\u001b[32m[I 2021-02-21 10:56:57,444]\u001b[0m Trial 50 finished with value: 21000.352554706 and parameters: {'lambda_l1': 2.115034211322125e-06, 'lambda_l2': 1.772840515611148e-07}. Best is trial 43 with value: 21000.35254229138.\u001b[0m\n",
      "regularization_factors, val_score: 21000.352542:  40%|####      | 8/20 [00:16<00:24,  2.06s/it]"
     ]
    },
    {
     "name": "stdout",
     "output_type": "stream",
     "text": [
      "Early stopping, best iteration is:\n",
      "[480]\tvalid_0's rmse: 7246.54\tvalid_1's rmse: 21000.4\n",
      "[LightGBM] [Warning] Auto-choosing row-wise multi-threading, the overhead of testing was 0.000271 seconds.\n",
      "You can set `force_row_wise=true` to remove the overhead.\n",
      "And if memory is not enough, you can set `force_col_wise=true`.\n",
      "[LightGBM] [Info] Total Bins 1090\n",
      "[LightGBM] [Info] Number of data points in the train set: 25176, number of used features: 25\n",
      "[LightGBM] [Info] Start training from score 118280.850532\n",
      "Training until validation scores don't improve for 100 rounds\n",
      "[100]\tvalid_0's rmse: 14184.1\tvalid_1's rmse: 21995.9\n",
      "[200]\tvalid_0's rmse: 11275.4\tvalid_1's rmse: 21203.1\n",
      "[300]\tvalid_0's rmse: 9568.09\tvalid_1's rmse: 21210\n",
      "[400]\tvalid_0's rmse: 8142.12\tvalid_1's rmse: 21066.5\n",
      "[500]\tvalid_0's rmse: 7057.36\tvalid_1's rmse: 21040.5\n"
     ]
    },
    {
     "name": "stderr",
     "output_type": "stream",
     "text": [
      "regularization_factors, val_score: 21000.352542:  45%|####5     | 9/20 [00:18<00:22,  2.06s/it]\u001b[32m[I 2021-02-21 10:56:59,511]\u001b[0m Trial 51 finished with value: 21000.352557501414 and parameters: {'lambda_l1': 1.704450982393619e-06, 'lambda_l2': 1.6117873896463952e-07}. Best is trial 43 with value: 21000.35254229138.\u001b[0m\n",
      "regularization_factors, val_score: 21000.352542:  45%|####5     | 9/20 [00:18<00:22,  2.06s/it]"
     ]
    },
    {
     "name": "stdout",
     "output_type": "stream",
     "text": [
      "Early stopping, best iteration is:\n",
      "[480]\tvalid_0's rmse: 7246.54\tvalid_1's rmse: 21000.4\n",
      "[LightGBM] [Warning] Auto-choosing row-wise multi-threading, the overhead of testing was 0.000285 seconds.\n",
      "You can set `force_row_wise=true` to remove the overhead.\n",
      "And if memory is not enough, you can set `force_col_wise=true`.\n",
      "[LightGBM] [Info] Total Bins 1090\n",
      "[LightGBM] [Info] Number of data points in the train set: 25176, number of used features: 25\n",
      "[LightGBM] [Info] Start training from score 118280.850532\n",
      "Training until validation scores don't improve for 100 rounds\n",
      "[100]\tvalid_0's rmse: 14184.1\tvalid_1's rmse: 21995.9\n",
      "[200]\tvalid_0's rmse: 11275.4\tvalid_1's rmse: 21203.1\n",
      "[300]\tvalid_0's rmse: 9568.09\tvalid_1's rmse: 21210\n",
      "[400]\tvalid_0's rmse: 8142.12\tvalid_1's rmse: 21066.5\n",
      "[500]\tvalid_0's rmse: 7057.36\tvalid_1's rmse: 21040.5\n"
     ]
    },
    {
     "name": "stderr",
     "output_type": "stream",
     "text": [
      "regularization_factors, val_score: 21000.352542:  50%|#####     | 10/20 [00:20<00:20,  2.09s/it]\u001b[32m[I 2021-02-21 10:57:01,677]\u001b[0m Trial 52 finished with value: 21000.352558451563 and parameters: {'lambda_l1': 1.6160084813254803e-06, 'lambda_l2': 1.4059875392030151e-07}. Best is trial 43 with value: 21000.35254229138.\u001b[0m\n",
      "regularization_factors, val_score: 21000.352542:  50%|#####     | 10/20 [00:20<00:20,  2.09s/it]"
     ]
    },
    {
     "name": "stdout",
     "output_type": "stream",
     "text": [
      "Early stopping, best iteration is:\n",
      "[480]\tvalid_0's rmse: 7246.54\tvalid_1's rmse: 21000.4\n",
      "[LightGBM] [Warning] Auto-choosing row-wise multi-threading, the overhead of testing was 0.000329 seconds.\n",
      "You can set `force_row_wise=true` to remove the overhead.\n",
      "And if memory is not enough, you can set `force_col_wise=true`.\n",
      "[LightGBM] [Info] Total Bins 1090\n",
      "[LightGBM] [Info] Number of data points in the train set: 25176, number of used features: 25\n",
      "[LightGBM] [Info] Start training from score 118280.850532\n",
      "Training until validation scores don't improve for 100 rounds\n",
      "[100]\tvalid_0's rmse: 14184.1\tvalid_1's rmse: 21995.9\n",
      "[200]\tvalid_0's rmse: 11275.4\tvalid_1's rmse: 21203.1\n",
      "[300]\tvalid_0's rmse: 9568.09\tvalid_1's rmse: 21210\n",
      "[400]\tvalid_0's rmse: 8142.12\tvalid_1's rmse: 21066.5\n",
      "[500]\tvalid_0's rmse: 7057.36\tvalid_1's rmse: 21040.5\n"
     ]
    },
    {
     "name": "stderr",
     "output_type": "stream",
     "text": [
      "regularization_factors, val_score: 21000.352542:  55%|#####5    | 11/20 [00:22<00:18,  2.11s/it]\u001b[32m[I 2021-02-21 10:57:03,816]\u001b[0m Trial 53 finished with value: 21000.352547588678 and parameters: {'lambda_l1': 1.7487110177314194e-06, 'lambda_l2': 3.3884146485588116e-07}. Best is trial 43 with value: 21000.35254229138.\u001b[0m\n",
      "regularization_factors, val_score: 21000.352542:  55%|#####5    | 11/20 [00:22<00:18,  2.11s/it]"
     ]
    },
    {
     "name": "stdout",
     "output_type": "stream",
     "text": [
      "Early stopping, best iteration is:\n",
      "[480]\tvalid_0's rmse: 7246.54\tvalid_1's rmse: 21000.4\n",
      "[LightGBM] [Warning] Auto-choosing row-wise multi-threading, the overhead of testing was 0.000270 seconds.\n",
      "You can set `force_row_wise=true` to remove the overhead.\n",
      "And if memory is not enough, you can set `force_col_wise=true`.\n",
      "[LightGBM] [Info] Total Bins 1090\n",
      "[LightGBM] [Info] Number of data points in the train set: 25176, number of used features: 25\n",
      "[LightGBM] [Info] Start training from score 118280.850532\n",
      "Training until validation scores don't improve for 100 rounds\n",
      "[100]\tvalid_0's rmse: 14184.1\tvalid_1's rmse: 21995.9\n",
      "[200]\tvalid_0's rmse: 11275.4\tvalid_1's rmse: 21203.1\n",
      "[300]\tvalid_0's rmse: 9568.09\tvalid_1's rmse: 21210\n",
      "[400]\tvalid_0's rmse: 8142.12\tvalid_1's rmse: 21066.5\n",
      "[500]\tvalid_0's rmse: 7057.37\tvalid_1's rmse: 21040.5\n"
     ]
    },
    {
     "name": "stderr",
     "output_type": "stream",
     "text": [
      "regularization_factors, val_score: 21000.352504:  60%|######    | 12/20 [00:24<00:16,  2.10s/it]\u001b[32m[I 2021-02-21 10:57:05,900]\u001b[0m Trial 54 finished with value: 21000.352504158767 and parameters: {'lambda_l1': 2.8069284788183214e-06, 'lambda_l2': 1.2671263754690642e-06}. Best is trial 54 with value: 21000.352504158767.\u001b[0m\n",
      "regularization_factors, val_score: 21000.352504:  60%|######    | 12/20 [00:24<00:16,  2.10s/it]"
     ]
    },
    {
     "name": "stdout",
     "output_type": "stream",
     "text": [
      "Early stopping, best iteration is:\n",
      "[480]\tvalid_0's rmse: 7246.54\tvalid_1's rmse: 21000.4\n",
      "[LightGBM] [Warning] Auto-choosing row-wise multi-threading, the overhead of testing was 0.000317 seconds.\n",
      "You can set `force_row_wise=true` to remove the overhead.\n",
      "And if memory is not enough, you can set `force_col_wise=true`.\n",
      "[LightGBM] [Info] Total Bins 1090\n",
      "[LightGBM] [Info] Number of data points in the train set: 25176, number of used features: 25\n",
      "[LightGBM] [Info] Start training from score 118280.850532\n",
      "Training until validation scores don't improve for 100 rounds\n",
      "[100]\tvalid_0's rmse: 14184.1\tvalid_1's rmse: 21995.9\n",
      "[200]\tvalid_0's rmse: 11275.5\tvalid_1's rmse: 21203.1\n",
      "[300]\tvalid_0's rmse: 9568.1\tvalid_1's rmse: 21210\n",
      "[400]\tvalid_0's rmse: 8142.13\tvalid_1's rmse: 21066.5\n",
      "[500]\tvalid_0's rmse: 7057.37\tvalid_1's rmse: 21040.5\n"
     ]
    },
    {
     "name": "stderr",
     "output_type": "stream",
     "text": [
      "regularization_factors, val_score: 21000.350511:  65%|######5   | 13/20 [00:27<00:14,  2.10s/it]\u001b[32m[I 2021-02-21 10:57:07,999]\u001b[0m Trial 55 finished with value: 21000.35051134157 and parameters: {'lambda_l1': 0.00015467730018493096, 'lambda_l2': 5.0982605775938384e-05}. Best is trial 55 with value: 21000.35051134157.\u001b[0m\n",
      "regularization_factors, val_score: 21000.350511:  65%|######5   | 13/20 [00:27<00:14,  2.10s/it]"
     ]
    },
    {
     "name": "stdout",
     "output_type": "stream",
     "text": [
      "Early stopping, best iteration is:\n",
      "[480]\tvalid_0's rmse: 7246.55\tvalid_1's rmse: 21000.4\n",
      "[LightGBM] [Warning] Auto-choosing col-wise multi-threading, the overhead of testing was 0.001910 seconds.\n",
      "You can set `force_col_wise=true` to remove the overhead.\n",
      "[LightGBM] [Info] Total Bins 1090\n",
      "[LightGBM] [Info] Number of data points in the train set: 25176, number of used features: 25\n",
      "[LightGBM] [Info] Start training from score 118280.850532\n",
      "Training until validation scores don't improve for 100 rounds\n",
      "[100]\tvalid_0's rmse: 14184.1\tvalid_1's rmse: 21995.9\n",
      "[200]\tvalid_0's rmse: 11275.5\tvalid_1's rmse: 21203.1\n",
      "[300]\tvalid_0's rmse: 9568.11\tvalid_1's rmse: 21210\n",
      "[400]\tvalid_0's rmse: 8142.15\tvalid_1's rmse: 21066.5\n",
      "[500]\tvalid_0's rmse: 7057.39\tvalid_1's rmse: 21040.5\n"
     ]
    },
    {
     "name": "stderr",
     "output_type": "stream",
     "text": [
      "regularization_factors, val_score: 21000.347302:  70%|#######   | 14/20 [00:29<00:12,  2.05s/it]\u001b[32m[I 2021-02-21 10:57:09,932]\u001b[0m Trial 56 finished with value: 21000.34730175881 and parameters: {'lambda_l1': 0.0032294714861098145, 'lambda_l2': 0.00013109132633171256}. Best is trial 56 with value: 21000.34730175881.\u001b[0m\n",
      "regularization_factors, val_score: 21000.347302:  70%|#######   | 14/20 [00:29<00:12,  2.05s/it]"
     ]
    },
    {
     "name": "stdout",
     "output_type": "stream",
     "text": [
      "Early stopping, best iteration is:\n",
      "[480]\tvalid_0's rmse: 7246.56\tvalid_1's rmse: 21000.3\n",
      "[LightGBM] [Warning] Auto-choosing row-wise multi-threading, the overhead of testing was 0.000298 seconds.\n",
      "You can set `force_row_wise=true` to remove the overhead.\n",
      "And if memory is not enough, you can set `force_col_wise=true`.\n",
      "[LightGBM] [Info] Total Bins 1090\n",
      "[LightGBM] [Info] Number of data points in the train set: 25176, number of used features: 25\n",
      "[LightGBM] [Info] Start training from score 118280.850532\n",
      "Training until validation scores don't improve for 100 rounds\n",
      "[100]\tvalid_0's rmse: 14192.8\tvalid_1's rmse: 22285.6\n",
      "[200]\tvalid_0's rmse: 11257.4\tvalid_1's rmse: 21758.9\n",
      "[300]\tvalid_0's rmse: 9457.12\tvalid_1's rmse: 21703.7\n",
      "[400]\tvalid_0's rmse: 8098.64\tvalid_1's rmse: 21620.2\n",
      "[500]\tvalid_0's rmse: 6993.61\tvalid_1's rmse: 21615\n",
      "Early stopping, best iteration is:\n",
      "[446]\tvalid_0's rmse: 7549.79\tvalid_1's rmse: 21555\n"
     ]
    },
    {
     "name": "stderr",
     "output_type": "stream",
     "text": [
      "regularization_factors, val_score: 21000.347302:  75%|#######5  | 15/20 [00:31<00:10,  2.04s/it]\u001b[32m[I 2021-02-21 10:57:11,938]\u001b[0m Trial 57 finished with value: 21555.00421974145 and parameters: {'lambda_l1': 0.0073228885306301375, 'lambda_l2': 0.00020938571448054702}. Best is trial 56 with value: 21000.34730175881.\u001b[0m\n",
      "regularization_factors, val_score: 21000.347302:  75%|#######5  | 15/20 [00:31<00:10,  2.04s/it]"
     ]
    },
    {
     "name": "stdout",
     "output_type": "stream",
     "text": [
      "[LightGBM] [Warning] Auto-choosing row-wise multi-threading, the overhead of testing was 0.000309 seconds.\n",
      "You can set `force_row_wise=true` to remove the overhead.\n",
      "And if memory is not enough, you can set `force_col_wise=true`.\n",
      "[LightGBM] [Info] Total Bins 1090\n",
      "[LightGBM] [Info] Number of data points in the train set: 25176, number of used features: 25\n",
      "[LightGBM] [Info] Start training from score 118280.850532\n",
      "Training until validation scores don't improve for 100 rounds\n",
      "[100]\tvalid_0's rmse: 14184.1\tvalid_1's rmse: 21995.9\n",
      "[200]\tvalid_0's rmse: 11275.5\tvalid_1's rmse: 21203.1\n",
      "[300]\tvalid_0's rmse: 9568.09\tvalid_1's rmse: 21210\n",
      "[400]\tvalid_0's rmse: 8142.13\tvalid_1's rmse: 21066.5\n",
      "[500]\tvalid_0's rmse: 7057.37\tvalid_1's rmse: 21040.5\n"
     ]
    },
    {
     "name": "stderr",
     "output_type": "stream",
     "text": [
      "regularization_factors, val_score: 21000.347302:  80%|########  | 16/20 [00:33<00:08,  2.03s/it]\u001b[32m[I 2021-02-21 10:57:13,958]\u001b[0m Trial 58 finished with value: 21000.35100960064 and parameters: {'lambda_l1': 0.0003473080754489309, 'lambda_l2': 3.831033636965293e-05}. Best is trial 56 with value: 21000.34730175881.\u001b[0m\n",
      "regularization_factors, val_score: 21000.347302:  80%|########  | 16/20 [00:33<00:08,  2.03s/it]"
     ]
    },
    {
     "name": "stdout",
     "output_type": "stream",
     "text": [
      "Early stopping, best iteration is:\n",
      "[480]\tvalid_0's rmse: 7246.54\tvalid_1's rmse: 21000.4\n",
      "[LightGBM] [Warning] Auto-choosing row-wise multi-threading, the overhead of testing was 0.000278 seconds.\n",
      "You can set `force_row_wise=true` to remove the overhead.\n",
      "And if memory is not enough, you can set `force_col_wise=true`.\n",
      "[LightGBM] [Info] Total Bins 1090\n",
      "[LightGBM] [Info] Number of data points in the train set: 25176, number of used features: 25\n",
      "[LightGBM] [Info] Start training from score 118280.850532\n",
      "Training until validation scores don't improve for 100 rounds\n",
      "[100]\tvalid_0's rmse: 14184.1\tvalid_1's rmse: 21995.9\n",
      "[200]\tvalid_0's rmse: 11275.5\tvalid_1's rmse: 21203.1\n",
      "[300]\tvalid_0's rmse: 9568.1\tvalid_1's rmse: 21210\n",
      "[400]\tvalid_0's rmse: 8142.13\tvalid_1's rmse: 21066.5\n",
      "[500]\tvalid_0's rmse: 7057.38\tvalid_1's rmse: 21040.5\n"
     ]
    },
    {
     "name": "stderr",
     "output_type": "stream",
     "text": [
      "regularization_factors, val_score: 21000.347302:  85%|########5 | 17/20 [00:35<00:06,  2.08s/it]\u001b[32m[I 2021-02-21 10:57:16,138]\u001b[0m Trial 59 finished with value: 21000.349909721896 and parameters: {'lambda_l1': 0.00047362356371892446, 'lambda_l2': 6.60603227329918e-05}. Best is trial 56 with value: 21000.34730175881.\u001b[0m\n",
      "regularization_factors, val_score: 21000.347302:  85%|########5 | 17/20 [00:35<00:06,  2.08s/it]"
     ]
    },
    {
     "name": "stdout",
     "output_type": "stream",
     "text": [
      "Early stopping, best iteration is:\n",
      "[480]\tvalid_0's rmse: 7246.55\tvalid_1's rmse: 21000.3\n",
      "[LightGBM] [Warning] Auto-choosing row-wise multi-threading, the overhead of testing was 0.000303 seconds.\n",
      "You can set `force_row_wise=true` to remove the overhead.\n",
      "And if memory is not enough, you can set `force_col_wise=true`.\n",
      "[LightGBM] [Info] Total Bins 1090\n",
      "[LightGBM] [Info] Number of data points in the train set: 25176, number of used features: 25\n",
      "[LightGBM] [Info] Start training from score 118280.850532\n",
      "Training until validation scores don't improve for 100 rounds\n",
      "[100]\tvalid_0's rmse: 14184.1\tvalid_1's rmse: 21995.9\n",
      "[200]\tvalid_0's rmse: 11275.5\tvalid_1's rmse: 21203.1\n",
      "[300]\tvalid_0's rmse: 9568.1\tvalid_1's rmse: 21210\n",
      "[400]\tvalid_0's rmse: 8142.13\tvalid_1's rmse: 21066.5\n",
      "[500]\tvalid_0's rmse: 7057.37\tvalid_1's rmse: 21040.5\n"
     ]
    },
    {
     "name": "stderr",
     "output_type": "stream",
     "text": [
      "regularization_factors, val_score: 21000.347302:  90%|######### | 18/20 [00:37<00:04,  2.10s/it]\u001b[32m[I 2021-02-21 10:57:18,311]\u001b[0m Trial 60 finished with value: 21000.350437779158 and parameters: {'lambda_l1': 0.00033399518861608495, 'lambda_l2': 5.271535597162153e-05}. Best is trial 56 with value: 21000.34730175881.\u001b[0m\n",
      "regularization_factors, val_score: 21000.347302:  90%|######### | 18/20 [00:37<00:04,  2.10s/it]"
     ]
    },
    {
     "name": "stdout",
     "output_type": "stream",
     "text": [
      "Early stopping, best iteration is:\n",
      "[480]\tvalid_0's rmse: 7246.55\tvalid_1's rmse: 21000.4\n",
      "[LightGBM] [Warning] Auto-choosing col-wise multi-threading, the overhead of testing was 0.002172 seconds.\n",
      "You can set `force_col_wise=true` to remove the overhead.\n",
      "[LightGBM] [Info] Total Bins 1090\n",
      "[LightGBM] [Info] Number of data points in the train set: 25176, number of used features: 25\n",
      "[LightGBM] [Info] Start training from score 118280.850532\n",
      "Training until validation scores don't improve for 100 rounds\n",
      "[100]\tvalid_0's rmse: 14184.1\tvalid_1's rmse: 21995.9\n",
      "[200]\tvalid_0's rmse: 11275.5\tvalid_1's rmse: 21203.1\n",
      "[300]\tvalid_0's rmse: 9568.11\tvalid_1's rmse: 21210\n",
      "[400]\tvalid_0's rmse: 8142.14\tvalid_1's rmse: 21066.5\n",
      "[500]\tvalid_0's rmse: 7057.38\tvalid_1's rmse: 21040.5\n"
     ]
    },
    {
     "name": "stderr",
     "output_type": "stream",
     "text": [
      "regularization_factors, val_score: 21000.347302:  95%|#########5| 19/20 [00:39<00:02,  2.05s/it]\u001b[32m[I 2021-02-21 10:57:20,225]\u001b[0m Trial 61 finished with value: 21000.34822075124 and parameters: {'lambda_l1': 0.00029063829298039186, 'lambda_l2': 0.0001083619422050708}. Best is trial 56 with value: 21000.34730175881.\u001b[0m\n",
      "regularization_factors, val_score: 21000.347302:  95%|#########5| 19/20 [00:39<00:02,  2.05s/it]"
     ]
    },
    {
     "name": "stdout",
     "output_type": "stream",
     "text": [
      "Early stopping, best iteration is:\n",
      "[480]\tvalid_0's rmse: 7246.56\tvalid_1's rmse: 21000.3\n",
      "[LightGBM] [Warning] Auto-choosing row-wise multi-threading, the overhead of testing was 0.000281 seconds.\n",
      "You can set `force_row_wise=true` to remove the overhead.\n",
      "And if memory is not enough, you can set `force_col_wise=true`.\n",
      "[LightGBM] [Info] Total Bins 1090\n",
      "[LightGBM] [Info] Number of data points in the train set: 25176, number of used features: 25\n",
      "[LightGBM] [Info] Start training from score 118280.850532\n",
      "Training until validation scores don't improve for 100 rounds\n",
      "[100]\tvalid_0's rmse: 14184.1\tvalid_1's rmse: 21995.9\n",
      "[200]\tvalid_0's rmse: 11275.5\tvalid_1's rmse: 21203.1\n",
      "[300]\tvalid_0's rmse: 9568.1\tvalid_1's rmse: 21210\n",
      "[400]\tvalid_0's rmse: 8142.14\tvalid_1's rmse: 21066.5\n",
      "[500]\tvalid_0's rmse: 7057.38\tvalid_1's rmse: 21040.5\n"
     ]
    },
    {
     "name": "stderr",
     "output_type": "stream",
     "text": [
      "regularization_factors, val_score: 21000.347302: 100%|##########| 20/20 [00:41<00:00,  2.05s/it]\u001b[32m[I 2021-02-21 10:57:22,284]\u001b[0m Trial 62 finished with value: 21000.349127844693 and parameters: {'lambda_l1': 0.0004794374626738251, 'lambda_l2': 8.563936538650488e-05}. Best is trial 56 with value: 21000.34730175881.\u001b[0m\n",
      "regularization_factors, val_score: 21000.347302: 100%|##########| 20/20 [00:41<00:00,  2.07s/it]\n",
      "min_data_in_leaf, val_score: 21000.347302:   0%|          | 0/5 [00:00<?, ?it/s]"
     ]
    },
    {
     "name": "stdout",
     "output_type": "stream",
     "text": [
      "Early stopping, best iteration is:\n",
      "[480]\tvalid_0's rmse: 7246.55\tvalid_1's rmse: 21000.3\n",
      "[LightGBM] [Warning] Auto-choosing row-wise multi-threading, the overhead of testing was 0.000295 seconds.\n",
      "You can set `force_row_wise=true` to remove the overhead.\n",
      "And if memory is not enough, you can set `force_col_wise=true`.\n",
      "[LightGBM] [Info] Total Bins 1090\n",
      "[LightGBM] [Info] Number of data points in the train set: 25176, number of used features: 25\n",
      "[LightGBM] [Info] Start training from score 118280.850532\n",
      "Training until validation scores don't improve for 100 rounds\n",
      "[100]\tvalid_0's rmse: 18619.9\tvalid_1's rmse: 23995.3\n",
      "[200]\tvalid_0's rmse: 15706\tvalid_1's rmse: 23559.3\n",
      "[300]\tvalid_0's rmse: 13876.7\tvalid_1's rmse: 23400.3\n",
      "[400]\tvalid_0's rmse: 12498.9\tvalid_1's rmse: 23274.9\n",
      "[500]\tvalid_0's rmse: 11342.9\tvalid_1's rmse: 23190.9\n",
      "[600]\tvalid_0's rmse: 10374.3\tvalid_1's rmse: 23154.4\n",
      "[700]\tvalid_0's rmse: 9442.55\tvalid_1's rmse: 23121.1\n",
      "Early stopping, best iteration is:\n",
      "[650]\tvalid_0's rmse: 9858.52\tvalid_1's rmse: 23111.6\n"
     ]
    },
    {
     "name": "stderr",
     "output_type": "stream",
     "text": [
      "min_data_in_leaf, val_score: 21000.347302:  20%|##        | 1/5 [00:02<00:11,  2.98s/it]\u001b[32m[I 2021-02-21 10:57:25,271]\u001b[0m Trial 63 finished with value: 23111.58550444849 and parameters: {'min_child_samples': 50}. Best is trial 63 with value: 23111.58550444849.\u001b[0m\n",
      "min_data_in_leaf, val_score: 21000.347302:  20%|##        | 1/5 [00:02<00:11,  2.98s/it]"
     ]
    },
    {
     "name": "stdout",
     "output_type": "stream",
     "text": [
      "[LightGBM] [Warning] Auto-choosing col-wise multi-threading, the overhead of testing was 0.002076 seconds.\n",
      "You can set `force_col_wise=true` to remove the overhead.\n",
      "[LightGBM] [Info] Total Bins 1090\n",
      "[LightGBM] [Info] Number of data points in the train set: 25176, number of used features: 25\n",
      "[LightGBM] [Info] Start training from score 118280.850532\n",
      "Training until validation scores don't improve for 100 rounds\n",
      "[100]\tvalid_0's rmse: 15036.9\tvalid_1's rmse: 23118.2\n",
      "[200]\tvalid_0's rmse: 12106.5\tvalid_1's rmse: 22815.8\n",
      "[300]\tvalid_0's rmse: 9973.91\tvalid_1's rmse: 22795\n",
      "[400]\tvalid_0's rmse: 8525.96\tvalid_1's rmse: 22701.4\n",
      "[500]\tvalid_0's rmse: 7497.65\tvalid_1's rmse: 22649.1\n",
      "[600]\tvalid_0's rmse: 6620.48\tvalid_1's rmse: 22558.2\n",
      "[700]\tvalid_0's rmse: 5870.33\tvalid_1's rmse: 22468.2\n",
      "[800]\tvalid_0's rmse: 5208.01\tvalid_1's rmse: 22443.5\n",
      "[900]\tvalid_0's rmse: 4706.19\tvalid_1's rmse: 22456.1\n",
      "Early stopping, best iteration is:\n",
      "[828]\tvalid_0's rmse: 5067.88\tvalid_1's rmse: 22428.1\n"
     ]
    },
    {
     "name": "stderr",
     "output_type": "stream",
     "text": [
      "min_data_in_leaf, val_score: 21000.347302:  40%|####      | 2/5 [00:06<00:09,  3.08s/it]\u001b[32m[I 2021-02-21 10:57:28,431]\u001b[0m Trial 64 finished with value: 22428.104991443226 and parameters: {'min_child_samples': 25}. Best is trial 64 with value: 22428.104991443226.\u001b[0m\n",
      "min_data_in_leaf, val_score: 21000.347302:  40%|####      | 2/5 [00:06<00:09,  3.08s/it]"
     ]
    },
    {
     "name": "stdout",
     "output_type": "stream",
     "text": [
      "[LightGBM] [Warning] Auto-choosing col-wise multi-threading, the overhead of testing was 0.002077 seconds.\n",
      "You can set `force_col_wise=true` to remove the overhead.\n",
      "[LightGBM] [Info] Total Bins 1090\n",
      "[LightGBM] [Info] Number of data points in the train set: 25176, number of used features: 25\n",
      "[LightGBM] [Info] Start training from score 118280.850532\n",
      "Training until validation scores don't improve for 100 rounds\n",
      "[100]\tvalid_0's rmse: 11621.8\tvalid_1's rmse: 21868.9\n",
      "[200]\tvalid_0's rmse: 8425.94\tvalid_1's rmse: 21455.6\n",
      "Early stopping, best iteration is:\n",
      "[178]\tvalid_0's rmse: 8959.73\tvalid_1's rmse: 21426.1\n"
     ]
    },
    {
     "name": "stderr",
     "output_type": "stream",
     "text": [
      "min_data_in_leaf, val_score: 21000.347302:  60%|######    | 3/5 [00:07<00:04,  2.10s/it]\u001b[32m[I 2021-02-21 10:57:29,367]\u001b[0m Trial 65 finished with value: 21426.09954237543 and parameters: {'min_child_samples': 10}. Best is trial 65 with value: 21426.09954237543.\u001b[0m\n",
      "min_data_in_leaf, val_score: 21000.347302:  60%|######    | 3/5 [00:07<00:04,  2.10s/it]"
     ]
    },
    {
     "name": "stdout",
     "output_type": "stream",
     "text": [
      "[LightGBM] [Warning] Auto-choosing row-wise multi-threading, the overhead of testing was 0.000285 seconds.\n",
      "You can set `force_row_wise=true` to remove the overhead.\n",
      "And if memory is not enough, you can set `force_col_wise=true`.\n",
      "[LightGBM] [Info] Total Bins 1090\n",
      "[LightGBM] [Info] Number of data points in the train set: 25176, number of used features: 25\n",
      "[LightGBM] [Info] Start training from score 118280.850532\n",
      "Training until validation scores don't improve for 100 rounds\n",
      "[100]\tvalid_0's rmse: 22334.2\tvalid_1's rmse: 24929.8\n",
      "[200]\tvalid_0's rmse: 19476\tvalid_1's rmse: 24114.6\n",
      "[300]\tvalid_0's rmse: 17634.3\tvalid_1's rmse: 23823.8\n",
      "[400]\tvalid_0's rmse: 16214.1\tvalid_1's rmse: 23613.8\n",
      "[500]\tvalid_0's rmse: 15083.7\tvalid_1's rmse: 23511.3\n",
      "[600]\tvalid_0's rmse: 14126.7\tvalid_1's rmse: 23439.2\n",
      "[700]\tvalid_0's rmse: 13219.9\tvalid_1's rmse: 23442.5\n",
      "[800]\tvalid_0's rmse: 12331.8\tvalid_1's rmse: 23408.5\n"
     ]
    },
    {
     "name": "stderr",
     "output_type": "stream",
     "text": [
      "min_data_in_leaf, val_score: 21000.347302:  80%|########  | 4/5 [00:10<00:02,  2.81s/it]\u001b[32m[I 2021-02-21 10:57:33,248]\u001b[0m Trial 66 finished with value: 23388.640136567246 and parameters: {'min_child_samples': 100}. Best is trial 65 with value: 21426.09954237543.\u001b[0m\n"
     ]
    },
    {
     "name": "stdout",
     "output_type": "stream",
     "text": [
      "Early stopping, best iteration is:\n",
      "[766]\tvalid_0's rmse: 12628.2\tvalid_1's rmse: 23388.6\n"
     ]
    },
    {
     "name": "stderr",
     "output_type": "stream",
     "text": [
      "\r",
      "min_data_in_leaf, val_score: 21000.347302:  80%|########  | 4/5 [00:10<00:02,  2.81s/it]"
     ]
    },
    {
     "name": "stdout",
     "output_type": "stream",
     "text": [
      "[LightGBM] [Warning] Auto-choosing col-wise multi-threading, the overhead of testing was 0.002863 seconds.\n",
      "You can set `force_col_wise=true` to remove the overhead.\n",
      "[LightGBM] [Info] Total Bins 1090\n",
      "[LightGBM] [Info] Number of data points in the train set: 25176, number of used features: 25\n",
      "[LightGBM] [Info] Start training from score 118280.850532\n",
      "Training until validation scores don't improve for 100 rounds\n",
      "[100]\tvalid_0's rmse: 9960.52\tvalid_1's rmse: 22430.2\n",
      "[200]\tvalid_0's rmse: 7537.56\tvalid_1's rmse: 21912.9\n",
      "[300]\tvalid_0's rmse: 6256.87\tvalid_1's rmse: 21740.1\n",
      "[400]\tvalid_0's rmse: 5308.6\tvalid_1's rmse: 21692.5\n",
      "[500]\tvalid_0's rmse: 4580.64\tvalid_1's rmse: 21643.4\n",
      "[600]\tvalid_0's rmse: 3961.39\tvalid_1's rmse: 21600.5\n",
      "[700]\tvalid_0's rmse: 3472.14\tvalid_1's rmse: 21579.7\n",
      "[800]\tvalid_0's rmse: 3053.86\tvalid_1's rmse: 21569.7\n",
      "[900]\tvalid_0's rmse: 2672.98\tvalid_1's rmse: 21548.8\n",
      "[1000]\tvalid_0's rmse: 2357.6\tvalid_1's rmse: 21533\n",
      "Did not meet early stopping. Best iteration is:\n",
      "[1000]\tvalid_0's rmse: 2357.6\tvalid_1's rmse: 21533\n"
     ]
    },
    {
     "name": "stderr",
     "output_type": "stream",
     "text": [
      "min_data_in_leaf, val_score: 21000.347302: 100%|##########| 5/5 [00:13<00:00,  2.79s/it]\u001b[32m[I 2021-02-21 10:57:36,005]\u001b[0m Trial 67 finished with value: 21532.959456128276 and parameters: {'min_child_samples': 5}. Best is trial 65 with value: 21426.09954237543.\u001b[0m\n",
      "min_data_in_leaf, val_score: 21000.347302: 100%|##########| 5/5 [00:13<00:00,  2.74s/it]\n",
      "\u001b[32m[I 2021-02-21 10:57:36,018]\u001b[0m A new study created in memory with name: no-name-183bf90a-96cc-410c-92da-c9610d14202c\u001b[0m\n",
      "feature_fraction, val_score: inf:   0%|          | 0/7 [00:00<?, ?it/s]"
     ]
    },
    {
     "name": "stdout",
     "output_type": "stream",
     "text": [
      "[LightGBM] [Warning] Auto-choosing row-wise multi-threading, the overhead of testing was 0.000379 seconds.\n",
      "You can set `force_row_wise=true` to remove the overhead.\n",
      "And if memory is not enough, you can set `force_col_wise=true`.\n",
      "[LightGBM] [Info] Total Bins 1093\n",
      "[LightGBM] [Info] Number of data points in the train set: 25176, number of used features: 25\n",
      "[LightGBM] [Info] Start training from score 118154.683071\n",
      "Training until validation scores don't improve for 100 rounds\n",
      "[100]\tvalid_0's rmse: 17398.2\tvalid_1's rmse: 21847.3\n",
      "[200]\tvalid_0's rmse: 15396.5\tvalid_1's rmse: 21595.4\n",
      "[300]\tvalid_0's rmse: 13870.9\tvalid_1's rmse: 21357.7\n",
      "[400]\tvalid_0's rmse: 12771\tvalid_1's rmse: 21260.7\n",
      "[500]\tvalid_0's rmse: 11802.1\tvalid_1's rmse: 21196.6\n",
      "[600]\tvalid_0's rmse: 10638.7\tvalid_1's rmse: 21116.6\n"
     ]
    },
    {
     "name": "stderr",
     "output_type": "stream",
     "text": [
      "feature_fraction, val_score: 21052.614842:  14%|#4        | 1/7 [00:01<00:07,  1.31s/it]\u001b[32m[I 2021-02-21 10:57:37,333]\u001b[0m Trial 0 finished with value: 21052.61484159702 and parameters: {'feature_fraction': 0.8}. Best is trial 0 with value: 21052.61484159702.\u001b[0m\n",
      "feature_fraction, val_score: 21052.614842:  14%|#4        | 1/7 [00:01<00:07,  1.31s/it]"
     ]
    },
    {
     "name": "stdout",
     "output_type": "stream",
     "text": [
      "[700]\tvalid_0's rmse: 9906.95\tvalid_1's rmse: 21080.4\n",
      "Early stopping, best iteration is:\n",
      "[631]\tvalid_0's rmse: 10385.2\tvalid_1's rmse: 21052.6\n",
      "[LightGBM] [Warning] Auto-choosing col-wise multi-threading, the overhead of testing was 0.003188 seconds.\n",
      "You can set `force_col_wise=true` to remove the overhead.\n",
      "[LightGBM] [Info] Total Bins 1093\n",
      "[LightGBM] [Info] Number of data points in the train set: 25176, number of used features: 25\n",
      "[LightGBM] [Info] Start training from score 118154.683071\n",
      "Training until validation scores don't improve for 100 rounds\n",
      "[100]\tvalid_0's rmse: 17434.7\tvalid_1's rmse: 21865.6\n",
      "[200]\tvalid_0's rmse: 15387.4\tvalid_1's rmse: 21595.2\n",
      "[300]\tvalid_0's rmse: 13810.4\tvalid_1's rmse: 21317.6\n",
      "[400]\tvalid_0's rmse: 12604.2\tvalid_1's rmse: 21079.9\n",
      "[500]\tvalid_0's rmse: 11522.3\tvalid_1's rmse: 20985.7\n"
     ]
    },
    {
     "name": "stderr",
     "output_type": "stream",
     "text": [
      "feature_fraction, val_score: 20894.910216:  29%|##8       | 2/7 [00:02<00:05,  1.15s/it]\u001b[32m[I 2021-02-21 10:57:38,374]\u001b[0m Trial 1 finished with value: 20894.910216023476 and parameters: {'feature_fraction': 0.7}. Best is trial 1 with value: 20894.910216023476.\u001b[0m\n",
      "feature_fraction, val_score: 20894.910216:  29%|##8       | 2/7 [00:02<00:05,  1.15s/it]"
     ]
    },
    {
     "name": "stdout",
     "output_type": "stream",
     "text": [
      "Early stopping, best iteration is:\n",
      "[450]\tvalid_0's rmse: 12032.6\tvalid_1's rmse: 20894.9\n",
      "[LightGBM] [Warning] Auto-choosing row-wise multi-threading, the overhead of testing was 0.000273 seconds.\n",
      "You can set `force_row_wise=true` to remove the overhead.\n",
      "And if memory is not enough, you can set `force_col_wise=true`.\n",
      "[LightGBM] [Info] Total Bins 1093\n",
      "[LightGBM] [Info] Number of data points in the train set: 25176, number of used features: 25\n",
      "[LightGBM] [Info] Start training from score 118154.683071\n",
      "Training until validation scores don't improve for 100 rounds\n",
      "[100]\tvalid_0's rmse: 17766.8\tvalid_1's rmse: 22687.9\n",
      "[200]\tvalid_0's rmse: 15427.2\tvalid_1's rmse: 21883.1\n",
      "[300]\tvalid_0's rmse: 13741.3\tvalid_1's rmse: 21335.3\n",
      "[400]\tvalid_0's rmse: 12517.2\tvalid_1's rmse: 21173\n",
      "[500]\tvalid_0's rmse: 11583.9\tvalid_1's rmse: 21047.9\n",
      "[600]\tvalid_0's rmse: 10756.5\tvalid_1's rmse: 20983.9\n",
      "[700]\tvalid_0's rmse: 10028.6\tvalid_1's rmse: 20930.1\n",
      "[800]\tvalid_0's rmse: 9406.19\tvalid_1's rmse: 20766.1\n",
      "[900]\tvalid_0's rmse: 8876.12\tvalid_1's rmse: 20689.9\n",
      "[1000]\tvalid_0's rmse: 8461.46\tvalid_1's rmse: 20693.6\n",
      "Did not meet early stopping. Best iteration is:\n",
      "[1000]\tvalid_0's rmse: 8461.46\tvalid_1's rmse: 20693.6\n"
     ]
    },
    {
     "name": "stderr",
     "output_type": "stream",
     "text": [
      "feature_fraction, val_score: 20693.620332:  43%|####2     | 3/7 [00:04<00:05,  1.38s/it]\u001b[32m[I 2021-02-21 10:57:40,030]\u001b[0m Trial 2 finished with value: 20693.620331861694 and parameters: {'feature_fraction': 0.5}. Best is trial 2 with value: 20693.620331861694.\u001b[0m\n",
      "feature_fraction, val_score: 20693.620332:  43%|####2     | 3/7 [00:04<00:05,  1.38s/it]"
     ]
    },
    {
     "name": "stdout",
     "output_type": "stream",
     "text": [
      "[LightGBM] [Warning] Auto-choosing row-wise multi-threading, the overhead of testing was 0.000343 seconds.\n",
      "You can set `force_row_wise=true` to remove the overhead.\n",
      "And if memory is not enough, you can set `force_col_wise=true`.\n",
      "[LightGBM] [Info] Total Bins 1093\n",
      "[LightGBM] [Info] Number of data points in the train set: 25176, number of used features: 25\n",
      "[LightGBM] [Info] Start training from score 118154.683071\n",
      "Training until validation scores don't improve for 100 rounds\n",
      "[100]\tvalid_0's rmse: 17537.5\tvalid_1's rmse: 21606.7\n",
      "[200]\tvalid_0's rmse: 15396.5\tvalid_1's rmse: 21189.2\n",
      "[300]\tvalid_0's rmse: 13836\tvalid_1's rmse: 20930.1\n",
      "[400]\tvalid_0's rmse: 12613.9\tvalid_1's rmse: 20717.9\n",
      "[500]\tvalid_0's rmse: 11636.7\tvalid_1's rmse: 20535.1\n"
     ]
    },
    {
     "name": "stderr",
     "output_type": "stream",
     "text": [
      "feature_fraction, val_score: 20438.006921:  57%|#####7    | 4/7 [00:05<00:03,  1.29s/it]\u001b[32m[I 2021-02-21 10:57:41,173]\u001b[0m Trial 3 finished with value: 20438.00692089781 and parameters: {'feature_fraction': 0.6}. Best is trial 3 with value: 20438.00692089781.\u001b[0m\n",
      "feature_fraction, val_score: 20438.006921:  57%|#####7    | 4/7 [00:05<00:03,  1.29s/it]"
     ]
    },
    {
     "name": "stdout",
     "output_type": "stream",
     "text": [
      "[600]\tvalid_0's rmse: 10802\tvalid_1's rmse: 20537.1\n",
      "Early stopping, best iteration is:\n",
      "[563]\tvalid_0's rmse: 11088.3\tvalid_1's rmse: 20438\n",
      "[LightGBM] [Warning] Auto-choosing row-wise multi-threading, the overhead of testing was 0.000431 seconds.\n",
      "You can set `force_row_wise=true` to remove the overhead.\n",
      "And if memory is not enough, you can set `force_col_wise=true`.\n",
      "[LightGBM] [Info] Total Bins 1093\n",
      "[LightGBM] [Info] Number of data points in the train set: 25176, number of used features: 25\n",
      "[LightGBM] [Info] Start training from score 118154.683071\n",
      "Training until validation scores don't improve for 100 rounds\n",
      "[100]\tvalid_0's rmse: 17546.1\tvalid_1's rmse: 20858.3\n",
      "[200]\tvalid_0's rmse: 15770.7\tvalid_1's rmse: 20496.6\n",
      "[300]\tvalid_0's rmse: 14584\tvalid_1's rmse: 20336.5\n"
     ]
    },
    {
     "name": "stderr",
     "output_type": "stream",
     "text": [
      "feature_fraction, val_score: 20259.893876:  71%|#######1  | 5/7 [00:05<00:02,  1.12s/it]\u001b[32m[I 2021-02-21 10:57:41,998]\u001b[0m Trial 4 finished with value: 20259.893876176306 and parameters: {'feature_fraction': 1.0}. Best is trial 4 with value: 20259.893876176306.\u001b[0m\n",
      "feature_fraction, val_score: 20259.893876:  71%|#######1  | 5/7 [00:05<00:02,  1.12s/it]"
     ]
    },
    {
     "name": "stdout",
     "output_type": "stream",
     "text": [
      "[400]\tvalid_0's rmse: 12918.3\tvalid_1's rmse: 20441.3\n",
      "Early stopping, best iteration is:\n",
      "[321]\tvalid_0's rmse: 14226.6\tvalid_1's rmse: 20259.9\n",
      "[LightGBM] [Warning] Auto-choosing row-wise multi-threading, the overhead of testing was 0.000283 seconds.\n",
      "You can set `force_row_wise=true` to remove the overhead.\n",
      "And if memory is not enough, you can set `force_col_wise=true`.\n",
      "[LightGBM] [Info] Total Bins 1093\n",
      "[LightGBM] [Info] Number of data points in the train set: 25176, number of used features: 25\n",
      "[LightGBM] [Info] Start training from score 118154.683071\n",
      "Training until validation scores don't improve for 100 rounds\n",
      "[100]\tvalid_0's rmse: 17915.8\tvalid_1's rmse: 22363\n",
      "[200]\tvalid_0's rmse: 15320\tvalid_1's rmse: 21304.7\n",
      "[300]\tvalid_0's rmse: 13748.5\tvalid_1's rmse: 21092.7\n",
      "[400]\tvalid_0's rmse: 12659.5\tvalid_1's rmse: 20847.7\n",
      "[500]\tvalid_0's rmse: 11667.1\tvalid_1's rmse: 20506.7\n",
      "[600]\tvalid_0's rmse: 10936.7\tvalid_1's rmse: 20475.9\n"
     ]
    },
    {
     "name": "stderr",
     "output_type": "stream",
     "text": [
      "feature_fraction, val_score: 20259.893876:  86%|########5 | 6/7 [00:07<00:01,  1.11s/it]\u001b[32m[I 2021-02-21 10:57:43,094]\u001b[0m Trial 5 finished with value: 20457.507592285598 and parameters: {'feature_fraction': 0.4}. Best is trial 4 with value: 20259.893876176306.\u001b[0m\n",
      "feature_fraction, val_score: 20259.893876:  86%|########5 | 6/7 [00:07<00:01,  1.11s/it]"
     ]
    },
    {
     "name": "stdout",
     "output_type": "stream",
     "text": [
      "Early stopping, best iteration is:\n",
      "[573]\tvalid_0's rmse: 11119.8\tvalid_1's rmse: 20457.5\n",
      "[LightGBM] [Warning] Auto-choosing row-wise multi-threading, the overhead of testing was 0.000349 seconds.\n",
      "You can set `force_row_wise=true` to remove the overhead.\n",
      "And if memory is not enough, you can set `force_col_wise=true`.\n",
      "[LightGBM] [Info] Total Bins 1093\n",
      "[LightGBM] [Info] Number of data points in the train set: 25176, number of used features: 25\n",
      "[LightGBM] [Info] Start training from score 118154.683071\n",
      "Training until validation scores don't improve for 100 rounds\n",
      "[100]\tvalid_0's rmse: 17458.3\tvalid_1's rmse: 22206.5\n",
      "[200]\tvalid_0's rmse: 15519.6\tvalid_1's rmse: 21934.3\n",
      "[300]\tvalid_0's rmse: 14037.2\tvalid_1's rmse: 21672.1\n",
      "[400]\tvalid_0's rmse: 12826.4\tvalid_1's rmse: 21557\n"
     ]
    },
    {
     "name": "stderr",
     "output_type": "stream",
     "text": [
      "feature_fraction, val_score: 20259.893876: 100%|##########| 7/7 [00:07<00:00,  1.05s/it]\u001b[32m[I 2021-02-21 10:57:44,008]\u001b[0m Trial 6 finished with value: 21493.390802626964 and parameters: {'feature_fraction': 0.8999999999999999}. Best is trial 4 with value: 20259.893876176306.\u001b[0m\n",
      "feature_fraction, val_score: 20259.893876: 100%|##########| 7/7 [00:07<00:00,  1.14s/it]\n",
      "num_leaves, val_score: 20259.893876:   0%|          | 0/20 [00:00<?, ?it/s]"
     ]
    },
    {
     "name": "stdout",
     "output_type": "stream",
     "text": [
      "Early stopping, best iteration is:\n",
      "[380]\tvalid_0's rmse: 13147.7\tvalid_1's rmse: 21493.4\n",
      "[LightGBM] [Warning] Auto-choosing row-wise multi-threading, the overhead of testing was 0.000392 seconds.\n",
      "You can set `force_row_wise=true` to remove the overhead.\n",
      "And if memory is not enough, you can set `force_col_wise=true`.\n",
      "[LightGBM] [Info] Total Bins 1093\n",
      "[LightGBM] [Info] Number of data points in the train set: 25176, number of used features: 25\n",
      "[LightGBM] [Info] Start training from score 118154.683071\n",
      "Training until validation scores don't improve for 100 rounds\n",
      "[100]\tvalid_0's rmse: 14998.3\tvalid_1's rmse: 21088.1\n",
      "[200]\tvalid_0's rmse: 13014.3\tvalid_1's rmse: 21043.4\n"
     ]
    },
    {
     "name": "stderr",
     "output_type": "stream",
     "text": [
      "num_leaves, val_score: 20259.893876:   5%|5         | 1/20 [00:01<00:25,  1.36s/it]\u001b[32m[I 2021-02-21 10:57:45,377]\u001b[0m Trial 7 finished with value: 21011.122105106086 and parameters: {'num_leaves': 144}. Best is trial 7 with value: 21011.122105106086.\u001b[0m\n",
      "num_leaves, val_score: 20259.893876:   5%|5         | 1/20 [00:01<00:25,  1.36s/it]"
     ]
    },
    {
     "name": "stdout",
     "output_type": "stream",
     "text": [
      "Early stopping, best iteration is:\n",
      "[151]\tvalid_0's rmse: 13876.3\tvalid_1's rmse: 21011.1\n",
      "[LightGBM] [Warning] Auto-choosing row-wise multi-threading, the overhead of testing was 0.000402 seconds.\n",
      "You can set `force_row_wise=true` to remove the overhead.\n",
      "And if memory is not enough, you can set `force_col_wise=true`.\n",
      "[LightGBM] [Info] Total Bins 1093\n",
      "[LightGBM] [Info] Number of data points in the train set: 25176, number of used features: 25\n",
      "[LightGBM] [Info] Start training from score 118154.683071\n",
      "Training until validation scores don't improve for 100 rounds\n",
      "[100]\tvalid_0's rmse: 15883.8\tvalid_1's rmse: 21458.2\n",
      "[200]\tvalid_0's rmse: 13986.2\tvalid_1's rmse: 21344.4\n",
      "[300]\tvalid_0's rmse: 12353.5\tvalid_1's rmse: 21278.6\n",
      "[400]\tvalid_0's rmse: 10995.1\tvalid_1's rmse: 21062.5\n"
     ]
    },
    {
     "name": "stderr",
     "output_type": "stream",
     "text": [
      "num_leaves, val_score: 20259.893876:  10%|#         | 2/20 [00:03<00:29,  1.66s/it]\u001b[32m[I 2021-02-21 10:57:47,252]\u001b[0m Trial 8 finished with value: 21056.502309060954 and parameters: {'num_leaves': 90}. Best is trial 7 with value: 21011.122105106086.\u001b[0m\n",
      "num_leaves, val_score: 20259.893876:  10%|#         | 2/20 [00:03<00:29,  1.66s/it]"
     ]
    },
    {
     "name": "stdout",
     "output_type": "stream",
     "text": [
      "[500]\tvalid_0's rmse: 9740\tvalid_1's rmse: 21165.1\n",
      "Early stopping, best iteration is:\n",
      "[404]\tvalid_0's rmse: 10968.9\tvalid_1's rmse: 21056.5\n",
      "[LightGBM] [Warning] Auto-choosing row-wise multi-threading, the overhead of testing was 0.000395 seconds.\n",
      "You can set `force_row_wise=true` to remove the overhead.\n",
      "And if memory is not enough, you can set `force_col_wise=true`.\n",
      "[LightGBM] [Info] Total Bins 1093\n",
      "[LightGBM] [Info] Number of data points in the train set: 25176, number of used features: 25\n",
      "[LightGBM] [Info] Start training from score 118154.683071\n",
      "Training until validation scores don't improve for 100 rounds\n",
      "[100]\tvalid_0's rmse: 14861.4\tvalid_1's rmse: 20904\n",
      "[200]\tvalid_0's rmse: 12828.1\tvalid_1's rmse: 20905.3\n",
      "Early stopping, best iteration is:\n",
      "[141]\tvalid_0's rmse: 13834.5\tvalid_1's rmse: 20822.5\n"
     ]
    },
    {
     "name": "stderr",
     "output_type": "stream",
     "text": [
      "num_leaves, val_score: 20259.893876:  15%|#5        | 3/20 [00:04<00:25,  1.50s/it]\u001b[32m[I 2021-02-21 10:57:48,564]\u001b[0m Trial 9 finished with value: 20822.527914719652 and parameters: {'num_leaves': 154}. Best is trial 9 with value: 20822.527914719652.\u001b[0m\n",
      "num_leaves, val_score: 20259.893876:  15%|#5        | 3/20 [00:04<00:25,  1.50s/it]"
     ]
    },
    {
     "name": "stdout",
     "output_type": "stream",
     "text": [
      "[LightGBM] [Warning] Auto-choosing row-wise multi-threading, the overhead of testing was 0.000386 seconds.\n",
      "You can set `force_row_wise=true` to remove the overhead.\n",
      "And if memory is not enough, you can set `force_col_wise=true`.\n",
      "[LightGBM] [Info] Total Bins 1093\n",
      "[LightGBM] [Info] Number of data points in the train set: 25176, number of used features: 25\n",
      "[LightGBM] [Info] Start training from score 118154.683071\n",
      "Training until validation scores don't improve for 100 rounds\n",
      "[100]\tvalid_0's rmse: 14067.5\tvalid_1's rmse: 21049.2\n",
      "[200]\tvalid_0's rmse: 12200\tvalid_1's rmse: 20977.7\n"
     ]
    },
    {
     "name": "stderr",
     "output_type": "stream",
     "text": [
      "num_leaves, val_score: 20259.893876:  20%|##        | 4/20 [00:06<00:26,  1.64s/it]\u001b[32m[I 2021-02-21 10:57:50,402]\u001b[0m Trial 10 finished with value: 20916.681765768943 and parameters: {'num_leaves': 254}. Best is trial 9 with value: 20822.527914719652.\u001b[0m\n",
      "num_leaves, val_score: 20259.893876:  20%|##        | 4/20 [00:06<00:26,  1.64s/it]"
     ]
    },
    {
     "name": "stdout",
     "output_type": "stream",
     "text": [
      "Early stopping, best iteration is:\n",
      "[141]\tvalid_0's rmse: 13147.5\tvalid_1's rmse: 20916.7\n",
      "[LightGBM] [Warning] Auto-choosing row-wise multi-threading, the overhead of testing was 0.000387 seconds.\n",
      "You can set `force_row_wise=true` to remove the overhead.\n",
      "And if memory is not enough, you can set `force_col_wise=true`.\n",
      "[LightGBM] [Info] Total Bins 1093\n",
      "[LightGBM] [Info] Number of data points in the train set: 25176, number of used features: 25\n",
      "[LightGBM] [Info] Start training from score 118154.683071\n",
      "Training until validation scores don't improve for 100 rounds\n"
     ]
    },
    {
     "name": "stderr",
     "output_type": "stream",
     "text": [
      "num_leaves, val_score: 20259.893876:  25%|##5       | 5/20 [00:06<00:17,  1.15s/it]\u001b[32m[I 2021-02-21 10:57:50,704]\u001b[0m Trial 11 finished with value: 22695.737890308927 and parameters: {'num_leaves': 4}. Best is trial 9 with value: 20822.527914719652.\u001b[0m\n",
      "num_leaves, val_score: 20259.893876:  25%|##5       | 5/20 [00:06<00:17,  1.15s/it]"
     ]
    },
    {
     "name": "stdout",
     "output_type": "stream",
     "text": [
      "[100]\tvalid_0's rmse: 22863.8\tvalid_1's rmse: 23620.1\n",
      "[200]\tvalid_0's rmse: 21353.2\tvalid_1's rmse: 22768.6\n",
      "[300]\tvalid_0's rmse: 20318.4\tvalid_1's rmse: 22775.8\n",
      "Early stopping, best iteration is:\n",
      "[261]\tvalid_0's rmse: 20677.9\tvalid_1's rmse: 22695.7\n",
      "[LightGBM] [Warning] Auto-choosing row-wise multi-threading, the overhead of testing was 0.000683 seconds.\n",
      "You can set `force_row_wise=true` to remove the overhead.\n",
      "And if memory is not enough, you can set `force_col_wise=true`.\n",
      "[LightGBM] [Info] Total Bins 1093\n",
      "[LightGBM] [Info] Number of data points in the train set: 25176, number of used features: 25\n",
      "[LightGBM] [Info] Start training from score 118154.683071\n",
      "Training until validation scores don't improve for 100 rounds\n",
      "[100]\tvalid_0's rmse: 14067.5\tvalid_1's rmse: 21049.2\n",
      "[200]\tvalid_0's rmse: 12200\tvalid_1's rmse: 20977.7\n"
     ]
    },
    {
     "name": "stderr",
     "output_type": "stream",
     "text": [
      "num_leaves, val_score: 20259.893876:  30%|###       | 6/20 [00:08<00:19,  1.41s/it]\u001b[32m[I 2021-02-21 10:57:52,620]\u001b[0m Trial 12 finished with value: 20916.681765768943 and parameters: {'num_leaves': 254}. Best is trial 9 with value: 20822.527914719652.\u001b[0m\n",
      "num_leaves, val_score: 20259.893876:  30%|###       | 6/20 [00:08<00:19,  1.41s/it]"
     ]
    },
    {
     "name": "stdout",
     "output_type": "stream",
     "text": [
      "Early stopping, best iteration is:\n",
      "[141]\tvalid_0's rmse: 13147.5\tvalid_1's rmse: 20916.7\n",
      "[LightGBM] [Warning] Auto-choosing row-wise multi-threading, the overhead of testing was 0.000390 seconds.\n",
      "You can set `force_row_wise=true` to remove the overhead.\n",
      "And if memory is not enough, you can set `force_col_wise=true`.\n",
      "[LightGBM] [Info] Total Bins 1093\n",
      "[LightGBM] [Info] Number of data points in the train set: 25176, number of used features: 25\n",
      "[LightGBM] [Info] Start training from score 118154.683071\n",
      "Training until validation scores don't improve for 100 rounds\n"
     ]
    },
    {
     "name": "stderr",
     "output_type": "stream",
     "text": [
      "num_leaves, val_score: 20259.893876:  35%|###5      | 7/20 [00:08<00:13,  1.07s/it]\u001b[32m[I 2021-02-21 10:57:52,992]\u001b[0m Trial 13 finished with value: 21089.46558299389 and parameters: {'num_leaves': 8}. Best is trial 9 with value: 20822.527914719652.\u001b[0m\n",
      "num_leaves, val_score: 20259.893876:  35%|###5      | 7/20 [00:08<00:13,  1.07s/it]"
     ]
    },
    {
     "name": "stdout",
     "output_type": "stream",
     "text": [
      "[100]\tvalid_0's rmse: 20156.1\tvalid_1's rmse: 21254.6\n",
      "[200]\tvalid_0's rmse: 17942.5\tvalid_1's rmse: 21270.5\n",
      "[300]\tvalid_0's rmse: 16730.7\tvalid_1's rmse: 21334.7\n",
      "Early stopping, best iteration is:\n",
      "[251]\tvalid_0's rmse: 17337.8\tvalid_1's rmse: 21089.5\n",
      "[LightGBM] [Warning] Auto-choosing row-wise multi-threading, the overhead of testing was 0.000404 seconds.\n",
      "You can set `force_row_wise=true` to remove the overhead.\n",
      "And if memory is not enough, you can set `force_col_wise=true`.\n",
      "[LightGBM] [Info] Total Bins 1093\n",
      "[LightGBM] [Info] Number of data points in the train set: 25176, number of used features: 25\n",
      "[LightGBM] [Info] Start training from score 118154.683071\n",
      "Training until validation scores don't improve for 100 rounds\n",
      "[100]\tvalid_0's rmse: 16486.3\tvalid_1's rmse: 21742.7\n",
      "[200]\tvalid_0's rmse: 14574.1\tvalid_1's rmse: 21735.1\n"
     ]
    },
    {
     "name": "stderr",
     "output_type": "stream",
     "text": [
      "num_leaves, val_score: 20259.893876:  40%|####      | 8/20 [00:10<00:14,  1.23s/it]\u001b[32m[I 2021-02-21 10:57:54,560]\u001b[0m Trial 14 finished with value: 21638.106889439143 and parameters: {'num_leaves': 65}. Best is trial 9 with value: 20822.527914719652.\u001b[0m\n",
      "num_leaves, val_score: 20259.893876:  40%|####      | 8/20 [00:10<00:14,  1.23s/it]"
     ]
    },
    {
     "name": "stdout",
     "output_type": "stream",
     "text": [
      "Early stopping, best iteration is:\n",
      "[147]\tvalid_0's rmse: 15448.7\tvalid_1's rmse: 21638.1\n",
      "[LightGBM] [Warning] Auto-choosing row-wise multi-threading, the overhead of testing was 0.000430 seconds.\n",
      "You can set `force_row_wise=true` to remove the overhead.\n",
      "And if memory is not enough, you can set `force_col_wise=true`.\n",
      "[LightGBM] [Info] Total Bins 1093\n",
      "[LightGBM] [Info] Number of data points in the train set: 25176, number of used features: 25\n",
      "[LightGBM] [Info] Start training from score 118154.683071\n",
      "Training until validation scores don't improve for 100 rounds\n",
      "[100]\tvalid_0's rmse: 14610.7\tvalid_1's rmse: 21351.6\n",
      "[200]\tvalid_0's rmse: 12639.2\tvalid_1's rmse: 21399.1\n"
     ]
    },
    {
     "name": "stderr",
     "output_type": "stream",
     "text": [
      "num_leaves, val_score: 20259.893876:  45%|####5     | 9/20 [00:12<00:15,  1.41s/it]\u001b[32m[I 2021-02-21 10:57:56,352]\u001b[0m Trial 15 finished with value: 21272.148672886495 and parameters: {'num_leaves': 200}. Best is trial 9 with value: 20822.527914719652.\u001b[0m\n",
      "num_leaves, val_score: 20259.893876:  45%|####5     | 9/20 [00:12<00:15,  1.41s/it]"
     ]
    },
    {
     "name": "stdout",
     "output_type": "stream",
     "text": [
      "Early stopping, best iteration is:\n",
      "[156]\tvalid_0's rmse: 13394.6\tvalid_1's rmse: 21272.1\n",
      "[LightGBM] [Warning] Auto-choosing col-wise multi-threading, the overhead of testing was 0.002157 seconds.\n",
      "You can set `force_col_wise=true` to remove the overhead.\n",
      "[LightGBM] [Info] Total Bins 1093\n",
      "[LightGBM] [Info] Number of data points in the train set: 25176, number of used features: 25\n",
      "[LightGBM] [Info] Start training from score 118154.683071\n",
      "Training until validation scores don't improve for 100 rounds\n",
      "[100]\tvalid_0's rmse: 14610.7\tvalid_1's rmse: 21351.6\n",
      "[200]\tvalid_0's rmse: 12639.2\tvalid_1's rmse: 21399.1\n"
     ]
    },
    {
     "name": "stderr",
     "output_type": "stream",
     "text": [
      "num_leaves, val_score: 20259.893876:  50%|#####     | 10/20 [00:14<00:16,  1.61s/it]\u001b[32m[I 2021-02-21 10:57:58,418]\u001b[0m Trial 16 finished with value: 21272.148672886495 and parameters: {'num_leaves': 200}. Best is trial 9 with value: 20822.527914719652.\u001b[0m\n",
      "num_leaves, val_score: 20259.893876:  50%|#####     | 10/20 [00:14<00:16,  1.61s/it]"
     ]
    },
    {
     "name": "stdout",
     "output_type": "stream",
     "text": [
      "Early stopping, best iteration is:\n",
      "[156]\tvalid_0's rmse: 13394.6\tvalid_1's rmse: 21272.1\n",
      "[LightGBM] [Warning] Auto-choosing row-wise multi-threading, the overhead of testing was 0.000391 seconds.\n",
      "You can set `force_row_wise=true` to remove the overhead.\n",
      "And if memory is not enough, you can set `force_col_wise=true`.\n",
      "[LightGBM] [Info] Total Bins 1093\n",
      "[LightGBM] [Info] Number of data points in the train set: 25176, number of used features: 25\n",
      "[LightGBM] [Info] Start training from score 118154.683071\n",
      "Training until validation scores don't improve for 100 rounds\n",
      "[100]\tvalid_0's rmse: 16566.8\tvalid_1's rmse: 20961.7\n",
      "[200]\tvalid_0's rmse: 14740\tvalid_1's rmse: 20709.8\n"
     ]
    },
    {
     "name": "stderr",
     "output_type": "stream",
     "text": [
      "num_leaves, val_score: 20259.893876:  55%|#####5    | 11/20 [00:15<00:12,  1.41s/it]\u001b[32m[I 2021-02-21 10:57:59,359]\u001b[0m Trial 17 finished with value: 20658.139924479536 and parameters: {'num_leaves': 55}. Best is trial 17 with value: 20658.139924479536.\u001b[0m\n",
      "num_leaves, val_score: 20259.893876:  55%|#####5    | 11/20 [00:15<00:12,  1.41s/it]"
     ]
    },
    {
     "name": "stdout",
     "output_type": "stream",
     "text": [
      "[300]\tvalid_0's rmse: 13550.5\tvalid_1's rmse: 20758.1\n",
      "Early stopping, best iteration is:\n",
      "[230]\tvalid_0's rmse: 14329.2\tvalid_1's rmse: 20658.1\n",
      "[LightGBM] [Warning] Auto-choosing row-wise multi-threading, the overhead of testing was 0.000698 seconds.\n",
      "You can set `force_row_wise=true` to remove the overhead.\n",
      "And if memory is not enough, you can set `force_col_wise=true`.\n",
      "[LightGBM] [Info] Total Bins 1093\n",
      "[LightGBM] [Info] Number of data points in the train set: 25176, number of used features: 25\n",
      "[LightGBM] [Info] Start training from score 118154.683071\n",
      "Training until validation scores don't improve for 100 rounds\n",
      "[100]\tvalid_0's rmse: 14610.7\tvalid_1's rmse: 21351.6\n",
      "[200]\tvalid_0's rmse: 12639.2\tvalid_1's rmse: 21399.1\n"
     ]
    },
    {
     "name": "stderr",
     "output_type": "stream",
     "text": [
      "num_leaves, val_score: 20259.893876:  60%|######    | 12/20 [00:17<00:12,  1.54s/it]\u001b[32m[I 2021-02-21 10:58:01,219]\u001b[0m Trial 18 finished with value: 21272.148672886495 and parameters: {'num_leaves': 200}. Best is trial 17 with value: 20658.139924479536.\u001b[0m\n",
      "num_leaves, val_score: 20259.893876:  60%|######    | 12/20 [00:17<00:12,  1.54s/it]"
     ]
    },
    {
     "name": "stdout",
     "output_type": "stream",
     "text": [
      "Early stopping, best iteration is:\n",
      "[156]\tvalid_0's rmse: 13394.6\tvalid_1's rmse: 21272.1\n",
      "[LightGBM] [Warning] Auto-choosing row-wise multi-threading, the overhead of testing was 0.000398 seconds.\n",
      "You can set `force_row_wise=true` to remove the overhead.\n",
      "And if memory is not enough, you can set `force_col_wise=true`.\n",
      "[LightGBM] [Info] Total Bins 1093\n",
      "[LightGBM] [Info] Number of data points in the train set: 25176, number of used features: 25\n",
      "[LightGBM] [Info] Start training from score 118154.683071\n",
      "Training until validation scores don't improve for 100 rounds\n",
      "[100]\tvalid_0's rmse: 15564.2\tvalid_1's rmse: 20967.7\n",
      "[200]\tvalid_0's rmse: 13635.8\tvalid_1's rmse: 20888.9\n",
      "[300]\tvalid_0's rmse: 12065.7\tvalid_1's rmse: 20833.7\n",
      "Early stopping, best iteration is:\n",
      "[249]\tvalid_0's rmse: 12875.2\tvalid_1's rmse: 20824.8\n"
     ]
    },
    {
     "name": "stderr",
     "output_type": "stream",
     "text": [
      "num_leaves, val_score: 20259.893876:  65%|######5   | 13/20 [00:18<00:10,  1.51s/it]\u001b[32m[I 2021-02-21 10:58:02,660]\u001b[0m Trial 19 finished with value: 20824.789205982066 and parameters: {'num_leaves': 105}. Best is trial 17 with value: 20658.139924479536.\u001b[0m\n",
      "num_leaves, val_score: 20259.893876:  65%|######5   | 13/20 [00:18<00:10,  1.51s/it]"
     ]
    },
    {
     "name": "stdout",
     "output_type": "stream",
     "text": [
      "[LightGBM] [Warning] Auto-choosing row-wise multi-threading, the overhead of testing was 0.000385 seconds.\n",
      "You can set `force_row_wise=true` to remove the overhead.\n",
      "And if memory is not enough, you can set `force_col_wise=true`.\n",
      "[LightGBM] [Info] Total Bins 1093\n",
      "[LightGBM] [Info] Number of data points in the train set: 25176, number of used features: 25\n",
      "[LightGBM] [Info] Start training from score 118154.683071\n",
      "Training until validation scores don't improve for 100 rounds\n",
      "[100]\tvalid_0's rmse: 17201.6\tvalid_1's rmse: 21575\n",
      "[200]\tvalid_0's rmse: 15409.8\tvalid_1's rmse: 21256.3\n"
     ]
    },
    {
     "name": "stderr",
     "output_type": "stream",
     "text": [
      "num_leaves, val_score: 20259.893876:  70%|#######   | 14/20 [00:19<00:07,  1.29s/it]\u001b[32m[I 2021-02-21 10:58:03,448]\u001b[0m Trial 20 finished with value: 21174.518705381277 and parameters: {'num_leaves': 40}. Best is trial 17 with value: 20658.139924479536.\u001b[0m\n",
      "num_leaves, val_score: 20259.893876:  70%|#######   | 14/20 [00:19<00:07,  1.29s/it]"
     ]
    },
    {
     "name": "stdout",
     "output_type": "stream",
     "text": [
      "[300]\tvalid_0's rmse: 14220.7\tvalid_1's rmse: 21211.6\n",
      "Early stopping, best iteration is:\n",
      "[261]\tvalid_0's rmse: 14618.1\tvalid_1's rmse: 21174.5\n",
      "[LightGBM] [Warning] Auto-choosing row-wise multi-threading, the overhead of testing was 0.000612 seconds.\n",
      "You can set `force_row_wise=true` to remove the overhead.\n",
      "And if memory is not enough, you can set `force_col_wise=true`.\n",
      "[LightGBM] [Info] Total Bins 1093\n",
      "[LightGBM] [Info] Number of data points in the train set: 25176, number of used features: 25\n",
      "[LightGBM] [Info] Start training from score 118154.683071\n",
      "Training until validation scores don't improve for 100 rounds\n",
      "[100]\tvalid_0's rmse: 14754.1\tvalid_1's rmse: 21317.9\n"
     ]
    },
    {
     "name": "stderr",
     "output_type": "stream",
     "text": [
      "num_leaves, val_score: 20259.893876:  75%|#######5  | 15/20 [00:20<00:06,  1.30s/it]\u001b[32m[I 2021-02-21 10:58:04,746]\u001b[0m Trial 21 finished with value: 21267.066845314894 and parameters: {'num_leaves': 172}. Best is trial 17 with value: 20658.139924479536.\u001b[0m\n",
      "num_leaves, val_score: 20259.893876:  75%|#######5  | 15/20 [00:20<00:06,  1.30s/it]"
     ]
    },
    {
     "name": "stdout",
     "output_type": "stream",
     "text": [
      "[200]\tvalid_0's rmse: 12723.7\tvalid_1's rmse: 21425.7\n",
      "Early stopping, best iteration is:\n",
      "[119]\tvalid_0's rmse: 14264.1\tvalid_1's rmse: 21267.1\n",
      "[LightGBM] [Warning] Auto-choosing row-wise multi-threading, the overhead of testing was 0.000465 seconds.\n",
      "You can set `force_row_wise=true` to remove the overhead.\n",
      "And if memory is not enough, you can set `force_col_wise=true`.\n",
      "[LightGBM] [Info] Total Bins 1093\n",
      "[LightGBM] [Info] Number of data points in the train set: 25176, number of used features: 25\n",
      "[LightGBM] [Info] Start training from score 118154.683071\n",
      "Training until validation scores don't improve for 100 rounds\n",
      "[100]\tvalid_0's rmse: 14299.8\tvalid_1's rmse: 20953.8\n",
      "[200]\tvalid_0's rmse: 12339.4\tvalid_1's rmse: 20983.9\n",
      "Early stopping, best iteration is:\n",
      "[130]\tvalid_0's rmse: 13586.8\tvalid_1's rmse: 20899.2\n"
     ]
    },
    {
     "name": "stderr",
     "output_type": "stream",
     "text": [
      "num_leaves, val_score: 20259.893876:  80%|########  | 16/20 [00:22<00:05,  1.41s/it]\u001b[32m[I 2021-02-21 10:58:06,420]\u001b[0m Trial 22 finished with value: 20899.188896565505 and parameters: {'num_leaves': 229}. Best is trial 17 with value: 20658.139924479536.\u001b[0m\n",
      "num_leaves, val_score: 20259.893876:  80%|########  | 16/20 [00:22<00:05,  1.41s/it]"
     ]
    },
    {
     "name": "stdout",
     "output_type": "stream",
     "text": [
      "[LightGBM] [Warning] Auto-choosing row-wise multi-threading, the overhead of testing was 0.000392 seconds.\n",
      "You can set `force_row_wise=true` to remove the overhead.\n",
      "And if memory is not enough, you can set `force_col_wise=true`.\n",
      "[LightGBM] [Info] Total Bins 1093\n",
      "[LightGBM] [Info] Number of data points in the train set: 25176, number of used features: 25\n",
      "[LightGBM] [Info] Start training from score 118154.683071\n",
      "Training until validation scores don't improve for 100 rounds\n",
      "[100]\tvalid_0's rmse: 15449.6\tvalid_1's rmse: 20952.7\n"
     ]
    },
    {
     "name": "stderr",
     "output_type": "stream",
     "text": [
      "num_leaves, val_score: 20259.893876:  85%|########5 | 17/20 [00:23<00:03,  1.29s/it]\u001b[32m[I 2021-02-21 10:58:07,437]\u001b[0m Trial 23 finished with value: 20928.682684034713 and parameters: {'num_leaves': 115}. Best is trial 17 with value: 20658.139924479536.\u001b[0m\n",
      "num_leaves, val_score: 20259.893876:  85%|########5 | 17/20 [00:23<00:03,  1.29s/it]"
     ]
    },
    {
     "name": "stdout",
     "output_type": "stream",
     "text": [
      "[200]\tvalid_0's rmse: 13532.2\tvalid_1's rmse: 21056.7\n",
      "Early stopping, best iteration is:\n",
      "[112]\tvalid_0's rmse: 15144.8\tvalid_1's rmse: 20928.7\n",
      "[LightGBM] [Warning] Auto-choosing row-wise multi-threading, the overhead of testing was 0.000675 seconds.\n",
      "You can set `force_row_wise=true` to remove the overhead.\n",
      "And if memory is not enough, you can set `force_col_wise=true`.\n",
      "[LightGBM] [Info] Total Bins 1093\n",
      "[LightGBM] [Info] Number of data points in the train set: 25176, number of used features: 25\n",
      "[LightGBM] [Info] Start training from score 118154.683071\n",
      "Training until validation scores don't improve for 100 rounds\n",
      "[100]\tvalid_0's rmse: 18018.7\tvalid_1's rmse: 21432.1\n",
      "[200]\tvalid_0's rmse: 16274.4\tvalid_1's rmse: 21150.1\n",
      "[300]\tvalid_0's rmse: 14872.7\tvalid_1's rmse: 20923.8\n",
      "[400]\tvalid_0's rmse: 13144\tvalid_1's rmse: 20575.4\n"
     ]
    },
    {
     "name": "stderr",
     "output_type": "stream",
     "text": [
      "num_leaves, val_score: 20259.893876:  90%|######### | 18/20 [00:24<00:02,  1.17s/it]\u001b[32m[I 2021-02-21 10:58:08,335]\u001b[0m Trial 24 finished with value: 20405.599453533014 and parameters: {'num_leaves': 25}. Best is trial 24 with value: 20405.599453533014.\u001b[0m\n",
      "num_leaves, val_score: 20259.893876:  90%|######### | 18/20 [00:24<00:02,  1.17s/it]"
     ]
    },
    {
     "name": "stdout",
     "output_type": "stream",
     "text": [
      "[500]\tvalid_0's rmse: 11903.6\tvalid_1's rmse: 20474\n",
      "Early stopping, best iteration is:\n",
      "[438]\tvalid_0's rmse: 12575.7\tvalid_1's rmse: 20405.6\n",
      "[LightGBM] [Warning] Auto-choosing row-wise multi-threading, the overhead of testing was 0.000397 seconds.\n",
      "You can set `force_row_wise=true` to remove the overhead.\n",
      "And if memory is not enough, you can set `force_col_wise=true`.\n",
      "[LightGBM] [Info] Total Bins 1093\n",
      "[LightGBM] [Info] Number of data points in the train set: 25176, number of used features: 25\n",
      "[LightGBM] [Info] Start training from score 118154.683071\n",
      "Training until validation scores don't improve for 100 rounds\n",
      "[100]\tvalid_0's rmse: 17549.8\tvalid_1's rmse: 21042.6\n",
      "[200]\tvalid_0's rmse: 15688.3\tvalid_1's rmse: 20604.7\n",
      "[300]\tvalid_0's rmse: 14257.8\tvalid_1's rmse: 20384.2\n",
      "[400]\tvalid_0's rmse: 12794.6\tvalid_1's rmse: 19977.5\n",
      "[500]\tvalid_0's rmse: 11579.8\tvalid_1's rmse: 19864.4\n",
      "[600]\tvalid_0's rmse: 10439.2\tvalid_1's rmse: 19911\n"
     ]
    },
    {
     "name": "stderr",
     "output_type": "stream",
     "text": [
      "num_leaves, val_score: 19753.198274:  95%|#########5| 19/20 [00:25<00:01,  1.20s/it]\u001b[32m[I 2021-02-21 10:58:09,583]\u001b[0m Trial 25 finished with value: 19753.19827408949 and parameters: {'num_leaves': 32}. Best is trial 25 with value: 19753.19827408949.\u001b[0m\n",
      "num_leaves, val_score: 19753.198274:  95%|#########5| 19/20 [00:25<00:01,  1.20s/it]"
     ]
    },
    {
     "name": "stdout",
     "output_type": "stream",
     "text": [
      "Early stopping, best iteration is:\n",
      "[556]\tvalid_0's rmse: 10851.4\tvalid_1's rmse: 19753.2\n",
      "[LightGBM] [Warning] Auto-choosing row-wise multi-threading, the overhead of testing was 0.000547 seconds.\n",
      "You can set `force_row_wise=true` to remove the overhead.\n",
      "And if memory is not enough, you can set `force_col_wise=true`.\n",
      "[LightGBM] [Info] Total Bins 1093\n",
      "[LightGBM] [Info] Number of data points in the train set: 25176, number of used features: 25\n",
      "[LightGBM] [Info] Start training from score 118154.683071\n",
      "Training until validation scores don't improve for 100 rounds\n",
      "[100]\tvalid_0's rmse: 18049.8\tvalid_1's rmse: 21583.3\n",
      "[200]\tvalid_0's rmse: 16263.7\tvalid_1's rmse: 21164.3\n",
      "[300]\tvalid_0's rmse: 14951.4\tvalid_1's rmse: 21026.7\n",
      "[400]\tvalid_0's rmse: 13529.2\tvalid_1's rmse: 21034.1\n"
     ]
    },
    {
     "name": "stderr",
     "output_type": "stream",
     "text": [
      "num_leaves, val_score: 19753.198274: 100%|##########| 20/20 [00:26<00:00,  1.09s/it]\u001b[32m[I 2021-02-21 10:58:10,414]\u001b[0m Trial 26 finished with value: 20915.204372756118 and parameters: {'num_leaves': 23}. Best is trial 25 with value: 19753.19827408949.\u001b[0m\n",
      "num_leaves, val_score: 19753.198274: 100%|##########| 20/20 [00:26<00:00,  1.32s/it]\n",
      "bagging, val_score: 19753.198274:   0%|          | 0/10 [00:00<?, ?it/s]"
     ]
    },
    {
     "name": "stdout",
     "output_type": "stream",
     "text": [
      "[500]\tvalid_0's rmse: 12313.5\tvalid_1's rmse: 20995.1\n",
      "Early stopping, best iteration is:\n",
      "[413]\tvalid_0's rmse: 13361.6\tvalid_1's rmse: 20915.2\n",
      "[LightGBM] [Warning] Auto-choosing row-wise multi-threading, the overhead of testing was 0.000407 seconds.\n",
      "You can set `force_row_wise=true` to remove the overhead.\n",
      "And if memory is not enough, you can set `force_col_wise=true`.\n",
      "[LightGBM] [Info] Total Bins 1093\n",
      "[LightGBM] [Info] Number of data points in the train set: 25176, number of used features: 25\n",
      "[LightGBM] [Info] Start training from score 118154.683071\n",
      "Training until validation scores don't improve for 100 rounds\n",
      "[100]\tvalid_0's rmse: 17940.1\tvalid_1's rmse: 21388.8\n",
      "[200]\tvalid_0's rmse: 15927.3\tvalid_1's rmse: 21266.5\n",
      "[300]\tvalid_0's rmse: 14463.9\tvalid_1's rmse: 20533.5\n"
     ]
    },
    {
     "name": "stderr",
     "output_type": "stream",
     "text": [
      "bagging, val_score: 19753.198274:  10%|#         | 1/10 [00:01<00:09,  1.04s/it]\u001b[32m[I 2021-02-21 10:58:11,457]\u001b[0m Trial 27 finished with value: 20515.872468854803 and parameters: {'bagging_fraction': 0.7595183434843557, 'bagging_freq': 4}. Best is trial 27 with value: 20515.872468854803.\u001b[0m\n",
      "bagging, val_score: 19753.198274:  10%|#         | 1/10 [00:01<00:09,  1.04s/it]"
     ]
    },
    {
     "name": "stdout",
     "output_type": "stream",
     "text": [
      "Early stopping, best iteration is:\n",
      "[296]\tvalid_0's rmse: 14492.3\tvalid_1's rmse: 20515.9\n",
      "[LightGBM] [Warning] Auto-choosing row-wise multi-threading, the overhead of testing was 0.000633 seconds.\n",
      "You can set `force_row_wise=true` to remove the overhead.\n",
      "And if memory is not enough, you can set `force_col_wise=true`.\n",
      "[LightGBM] [Info] Total Bins 1093\n",
      "[LightGBM] [Info] Number of data points in the train set: 25176, number of used features: 25\n",
      "[LightGBM] [Info] Start training from score 118154.683071\n",
      "Training until validation scores don't improve for 100 rounds\n",
      "[100]\tvalid_0's rmse: 20240.3\tvalid_1's rmse: 22448\n",
      "[200]\tvalid_0's rmse: 18340.9\tvalid_1's rmse: 21425.5\n",
      "[300]\tvalid_0's rmse: 17139.9\tvalid_1's rmse: 21217.2\n",
      "[400]\tvalid_0's rmse: 16299.8\tvalid_1's rmse: 20978.1\n",
      "Early stopping, best iteration is:\n",
      "[383]\tvalid_0's rmse: 16446.5\tvalid_1's rmse: 20633.9\n"
     ]
    },
    {
     "name": "stderr",
     "output_type": "stream",
     "text": [
      "bagging, val_score: 19753.198274:  20%|##        | 2/10 [00:02<00:09,  1.19s/it]\u001b[32m[I 2021-02-21 10:58:12,762]\u001b[0m Trial 28 finished with value: 20633.94666690511 and parameters: {'bagging_fraction': 0.42530462052395945, 'bagging_freq': 1}. Best is trial 27 with value: 20515.872468854803.\u001b[0m\n",
      "bagging, val_score: 19753.198274:  20%|##        | 2/10 [00:02<00:09,  1.19s/it]"
     ]
    },
    {
     "name": "stdout",
     "output_type": "stream",
     "text": [
      "[LightGBM] [Warning] Auto-choosing row-wise multi-threading, the overhead of testing was 0.000390 seconds.\n",
      "You can set `force_row_wise=true` to remove the overhead.\n",
      "And if memory is not enough, you can set `force_col_wise=true`.\n",
      "[LightGBM] [Info] Total Bins 1093\n",
      "[LightGBM] [Info] Number of data points in the train set: 25176, number of used features: 25\n",
      "[LightGBM] [Info] Start training from score 118154.683071\n",
      "Training until validation scores don't improve for 100 rounds\n",
      "[100]\tvalid_0's rmse: 17575.8\tvalid_1's rmse: 21528.2\n",
      "[200]\tvalid_0's rmse: 15756.9\tvalid_1's rmse: 21251.6\n",
      "[300]\tvalid_0's rmse: 14572.3\tvalid_1's rmse: 21198\n",
      "[400]\tvalid_0's rmse: 13074.1\tvalid_1's rmse: 20920.5\n"
     ]
    },
    {
     "name": "stderr",
     "output_type": "stream",
     "text": [
      "bagging, val_score: 19753.198274:  30%|###       | 3/10 [00:03<00:08,  1.20s/it]\u001b[32m[I 2021-02-21 10:58:13,978]\u001b[0m Trial 29 finished with value: 20883.398585334064 and parameters: {'bagging_fraction': 0.9935221298680896, 'bagging_freq': 7}. Best is trial 27 with value: 20515.872468854803.\u001b[0m\n",
      "bagging, val_score: 19753.198274:  30%|###       | 3/10 [00:03<00:08,  1.20s/it]"
     ]
    },
    {
     "name": "stdout",
     "output_type": "stream",
     "text": [
      "[500]\tvalid_0's rmse: 11970.6\tvalid_1's rmse: 20946\n",
      "Early stopping, best iteration is:\n",
      "[408]\tvalid_0's rmse: 13002.7\tvalid_1's rmse: 20883.4\n",
      "[LightGBM] [Warning] Auto-choosing row-wise multi-threading, the overhead of testing was 0.000406 seconds.\n",
      "You can set `force_row_wise=true` to remove the overhead.\n",
      "And if memory is not enough, you can set `force_col_wise=true`.\n",
      "[LightGBM] [Info] Total Bins 1093\n",
      "[LightGBM] [Info] Number of data points in the train set: 25176, number of used features: 25\n",
      "[LightGBM] [Info] Start training from score 118154.683071\n",
      "Training until validation scores don't improve for 100 rounds\n",
      "[100]\tvalid_0's rmse: 20430.2\tvalid_1's rmse: 21639.9\n",
      "[200]\tvalid_0's rmse: 18568.6\tvalid_1's rmse: 20874\n"
     ]
    },
    {
     "name": "stderr",
     "output_type": "stream",
     "text": [
      "bagging, val_score: 19753.198274:  40%|####      | 4/10 [00:04<00:06,  1.05s/it]\u001b[32m[I 2021-02-21 10:58:14,797]\u001b[0m Trial 30 finished with value: 20750.938075182512 and parameters: {'bagging_fraction': 0.46263334844087234, 'bagging_freq': 7}. Best is trial 27 with value: 20515.872468854803.\u001b[0m\n",
      "bagging, val_score: 19753.198274:  40%|####      | 4/10 [00:04<00:06,  1.05s/it]"
     ]
    },
    {
     "name": "stdout",
     "output_type": "stream",
     "text": [
      "[300]\tvalid_0's rmse: 17510\tvalid_1's rmse: 21415.2\n",
      "Early stopping, best iteration is:\n",
      "[209]\tvalid_0's rmse: 18518.9\tvalid_1's rmse: 20750.9\n",
      "[LightGBM] [Warning] Auto-choosing row-wise multi-threading, the overhead of testing was 0.000383 seconds.\n",
      "You can set `force_row_wise=true` to remove the overhead.\n",
      "And if memory is not enough, you can set `force_col_wise=true`.\n",
      "[LightGBM] [Info] Total Bins 1093\n",
      "[LightGBM] [Info] Number of data points in the train set: 25176, number of used features: 25\n",
      "[LightGBM] [Info] Start training from score 118154.683071\n",
      "Training until validation scores don't improve for 100 rounds\n",
      "[100]\tvalid_0's rmse: 17433.1\tvalid_1's rmse: 21382.5\n",
      "[200]\tvalid_0's rmse: 15461.4\tvalid_1's rmse: 20902\n",
      "[300]\tvalid_0's rmse: 14172.5\tvalid_1's rmse: 20871.2\n",
      "[400]\tvalid_0's rmse: 12856.3\tvalid_1's rmse: 20753.6\n",
      "[500]\tvalid_0's rmse: 11441.2\tvalid_1's rmse: 20595.1\n",
      "[600]\tvalid_0's rmse: 10260.5\tvalid_1's rmse: 20685.2\n"
     ]
    },
    {
     "name": "stderr",
     "output_type": "stream",
     "text": [
      "bagging, val_score: 19753.198274:  50%|#####     | 5/10 [00:05<00:05,  1.14s/it]\u001b[32m[I 2021-02-21 10:58:16,096]\u001b[0m Trial 31 finished with value: 20535.891280132782 and parameters: {'bagging_fraction': 0.97857642127251, 'bagging_freq': 1}. Best is trial 27 with value: 20515.872468854803.\u001b[0m\n",
      "bagging, val_score: 19753.198274:  50%|#####     | 5/10 [00:05<00:05,  1.14s/it]"
     ]
    },
    {
     "name": "stdout",
     "output_type": "stream",
     "text": [
      "Early stopping, best iteration is:\n",
      "[530]\tvalid_0's rmse: 10981.4\tvalid_1's rmse: 20535.9\n",
      "[LightGBM] [Warning] Auto-choosing row-wise multi-threading, the overhead of testing was 0.000627 seconds.\n",
      "You can set `force_row_wise=true` to remove the overhead.\n",
      "And if memory is not enough, you can set `force_col_wise=true`.\n",
      "[LightGBM] [Info] Total Bins 1093\n",
      "[LightGBM] [Info] Number of data points in the train set: 25176, number of used features: 25\n",
      "[LightGBM] [Info] Start training from score 118154.683071\n",
      "Training until validation scores don't improve for 100 rounds\n",
      "[100]\tvalid_0's rmse: 18953.5\tvalid_1's rmse: 22363.4\n",
      "[200]\tvalid_0's rmse: 16889.2\tvalid_1's rmse: 22164.1\n",
      "[300]\tvalid_0's rmse: 15547.4\tvalid_1's rmse: 21595.2\n"
     ]
    },
    {
     "name": "stderr",
     "output_type": "stream",
     "text": [
      "bagging, val_score: 19753.198274:  60%|######    | 6/10 [00:06<00:04,  1.10s/it]\u001b[32m[I 2021-02-21 10:58:17,106]\u001b[0m Trial 32 finished with value: 21595.163830504178 and parameters: {'bagging_fraction': 0.6559323662965039, 'bagging_freq': 4}. Best is trial 27 with value: 20515.872468854803.\u001b[0m\n",
      "bagging, val_score: 19753.198274:  60%|######    | 6/10 [00:06<00:04,  1.10s/it]"
     ]
    },
    {
     "name": "stdout",
     "output_type": "stream",
     "text": [
      "[400]\tvalid_0's rmse: 14599.3\tvalid_1's rmse: 21931\n",
      "Early stopping, best iteration is:\n",
      "[300]\tvalid_0's rmse: 15547.4\tvalid_1's rmse: 21595.2\n",
      "[LightGBM] [Warning] Auto-choosing row-wise multi-threading, the overhead of testing was 0.000408 seconds.\n",
      "You can set `force_row_wise=true` to remove the overhead.\n",
      "And if memory is not enough, you can set `force_col_wise=true`.\n",
      "[LightGBM] [Info] Total Bins 1093\n",
      "[LightGBM] [Info] Number of data points in the train set: 25176, number of used features: 25\n",
      "[LightGBM] [Info] Start training from score 118154.683071\n",
      "Training until validation scores don't improve for 100 rounds\n",
      "[100]\tvalid_0's rmse: 17871.7\tvalid_1's rmse: 20862\n",
      "[200]\tvalid_0's rmse: 15750.4\tvalid_1's rmse: 20475.8\n",
      "[300]\tvalid_0's rmse: 14393.3\tvalid_1's rmse: 20227.8\n",
      "[400]\tvalid_0's rmse: 13550\tvalid_1's rmse: 20051.2\n",
      "[500]\tvalid_0's rmse: 12770.2\tvalid_1's rmse: 19999.5\n"
     ]
    },
    {
     "name": "stderr",
     "output_type": "stream",
     "text": [
      "bagging, val_score: 19753.198274:  70%|#######   | 7/10 [00:08<00:03,  1.18s/it]\u001b[32m[I 2021-02-21 10:58:18,448]\u001b[0m Trial 33 finished with value: 19834.85482763695 and parameters: {'bagging_fraction': 0.7940242493061417, 'bagging_freq': 6}. Best is trial 33 with value: 19834.85482763695.\u001b[0m\n",
      "bagging, val_score: 19753.198274:  70%|#######   | 7/10 [00:08<00:03,  1.18s/it]"
     ]
    },
    {
     "name": "stdout",
     "output_type": "stream",
     "text": [
      "Early stopping, best iteration is:\n",
      "[443]\tvalid_0's rmse: 13185.2\tvalid_1's rmse: 19834.9\n",
      "[LightGBM] [Warning] Auto-choosing row-wise multi-threading, the overhead of testing was 0.000409 seconds.\n",
      "You can set `force_row_wise=true` to remove the overhead.\n",
      "And if memory is not enough, you can set `force_col_wise=true`.\n",
      "[LightGBM] [Info] Total Bins 1093\n",
      "[LightGBM] [Info] Number of data points in the train set: 25176, number of used features: 25\n",
      "[LightGBM] [Info] Start training from score 118154.683071\n",
      "Training until validation scores don't improve for 100 rounds\n",
      "[100]\tvalid_0's rmse: 17707.6\tvalid_1's rmse: 20926.8\n",
      "[200]\tvalid_0's rmse: 15605.6\tvalid_1's rmse: 20413.8\n",
      "[300]\tvalid_0's rmse: 14025.3\tvalid_1's rmse: 20010\n"
     ]
    },
    {
     "name": "stderr",
     "output_type": "stream",
     "text": [
      "bagging, val_score: 19753.198274:  80%|########  | 8/10 [00:09<00:02,  1.12s/it]\u001b[32m[I 2021-02-21 10:58:19,443]\u001b[0m Trial 34 finished with value: 19911.6715028619 and parameters: {'bagging_fraction': 0.7884663077446213, 'bagging_freq': 6}. Best is trial 33 with value: 19834.85482763695.\u001b[0m\n",
      "bagging, val_score: 19753.198274:  80%|########  | 8/10 [00:09<00:02,  1.12s/it]"
     ]
    },
    {
     "name": "stdout",
     "output_type": "stream",
     "text": [
      "Early stopping, best iteration is:\n",
      "[292]\tvalid_0's rmse: 14087.8\tvalid_1's rmse: 19911.7\n",
      "[LightGBM] [Warning] Auto-choosing row-wise multi-threading, the overhead of testing was 0.000408 seconds.\n",
      "You can set `force_row_wise=true` to remove the overhead.\n",
      "And if memory is not enough, you can set `force_col_wise=true`.\n",
      "[LightGBM] [Info] Total Bins 1093\n",
      "[LightGBM] [Info] Number of data points in the train set: 25176, number of used features: 25\n",
      "[LightGBM] [Info] Start training from score 118154.683071\n",
      "Training until validation scores don't improve for 100 rounds\n",
      "[100]\tvalid_0's rmse: 17974.3\tvalid_1's rmse: 21171.1\n",
      "[200]\tvalid_0's rmse: 15790.2\tvalid_1's rmse: 20702.9\n",
      "[300]\tvalid_0's rmse: 14295\tvalid_1's rmse: 20476.6\n"
     ]
    },
    {
     "name": "stderr",
     "output_type": "stream",
     "text": [
      "bagging, val_score: 19753.198274:  90%|######### | 9/10 [00:09<00:01,  1.03s/it]\u001b[32m[I 2021-02-21 10:58:20,285]\u001b[0m Trial 35 finished with value: 20281.087178323018 and parameters: {'bagging_fraction': 0.801682833583156, 'bagging_freq': 6}. Best is trial 33 with value: 19834.85482763695.\u001b[0m\n",
      "bagging, val_score: 19753.198274:  90%|######### | 9/10 [00:09<00:01,  1.03s/it]"
     ]
    },
    {
     "name": "stdout",
     "output_type": "stream",
     "text": [
      "Early stopping, best iteration is:\n",
      "[222]\tvalid_0's rmse: 15321.8\tvalid_1's rmse: 20281.1\n",
      "[LightGBM] [Warning] Auto-choosing row-wise multi-threading, the overhead of testing was 0.000392 seconds.\n",
      "You can set `force_row_wise=true` to remove the overhead.\n",
      "And if memory is not enough, you can set `force_col_wise=true`.\n",
      "[LightGBM] [Info] Total Bins 1093\n",
      "[LightGBM] [Info] Number of data points in the train set: 25176, number of used features: 25\n",
      "[LightGBM] [Info] Start training from score 118154.683071\n",
      "Training until validation scores don't improve for 100 rounds\n",
      "[100]\tvalid_0's rmse: 17601.1\tvalid_1's rmse: 21489.3\n",
      "[200]\tvalid_0's rmse: 15586.8\tvalid_1's rmse: 21183.2\n",
      "[300]\tvalid_0's rmse: 14363.3\tvalid_1's rmse: 21021.6\n",
      "[400]\tvalid_0's rmse: 13452.6\tvalid_1's rmse: 21054.3\n",
      "[500]\tvalid_0's rmse: 12815.9\tvalid_1's rmse: 20890.8\n",
      "[600]\tvalid_0's rmse: 12254.5\tvalid_1's rmse: 20832.8\n"
     ]
    },
    {
     "name": "stderr",
     "output_type": "stream",
     "text": [
      "bagging, val_score: 19753.198274: 100%|##########| 10/10 [00:11<00:00,  1.25s/it]\u001b[32m[I 2021-02-21 10:58:22,008]\u001b[0m Trial 36 finished with value: 20734.81191672036 and parameters: {'bagging_fraction': 0.8641066849939492, 'bagging_freq': 5}. Best is trial 33 with value: 19834.85482763695.\u001b[0m\n",
      "bagging, val_score: 19753.198274: 100%|##########| 10/10 [00:11<00:00,  1.16s/it]\n",
      "feature_fraction_stage2, val_score: 19753.198274:   0%|          | 0/3 [00:00<?, ?it/s]"
     ]
    },
    {
     "name": "stdout",
     "output_type": "stream",
     "text": [
      "[700]\tvalid_0's rmse: 11763.1\tvalid_1's rmse: 20769.4\n",
      "Early stopping, best iteration is:\n",
      "[615]\tvalid_0's rmse: 12149.8\tvalid_1's rmse: 20734.8\n",
      "[LightGBM] [Warning] Auto-choosing row-wise multi-threading, the overhead of testing was 0.000373 seconds.\n",
      "You can set `force_row_wise=true` to remove the overhead.\n",
      "And if memory is not enough, you can set `force_col_wise=true`.\n",
      "[LightGBM] [Info] Total Bins 1093\n",
      "[LightGBM] [Info] Number of data points in the train set: 25176, number of used features: 25\n",
      "[LightGBM] [Info] Start training from score 118154.683071\n",
      "Training until validation scores don't improve for 100 rounds\n",
      "[100]\tvalid_0's rmse: 17439.3\tvalid_1's rmse: 21169.5\n",
      "[200]\tvalid_0's rmse: 15607.8\tvalid_1's rmse: 20713.8\n",
      "[300]\tvalid_0's rmse: 14296.1\tvalid_1's rmse: 20441.1\n",
      "[400]\tvalid_0's rmse: 12684.1\tvalid_1's rmse: 20406.5\n"
     ]
    },
    {
     "name": "stderr",
     "output_type": "stream",
     "text": [
      "feature_fraction_stage2, val_score: 19753.198274:  33%|###3      | 1/3 [00:00<00:01,  1.08it/s]\u001b[32m[I 2021-02-21 10:58:22,942]\u001b[0m Trial 37 finished with value: 20355.3577033546 and parameters: {'feature_fraction': 0.9520000000000001}. Best is trial 37 with value: 20355.3577033546.\u001b[0m\n",
      "feature_fraction_stage2, val_score: 19753.198274:  33%|###3      | 1/3 [00:00<00:01,  1.08it/s]"
     ]
    },
    {
     "name": "stdout",
     "output_type": "stream",
     "text": [
      "Early stopping, best iteration is:\n",
      "[366]\tvalid_0's rmse: 13275.7\tvalid_1's rmse: 20355.4\n",
      "[LightGBM] [Warning] Auto-choosing row-wise multi-threading, the overhead of testing was 0.000396 seconds.\n",
      "You can set `force_row_wise=true` to remove the overhead.\n",
      "And if memory is not enough, you can set `force_col_wise=true`.\n",
      "[LightGBM] [Info] Total Bins 1093\n",
      "[LightGBM] [Info] Number of data points in the train set: 25176, number of used features: 25\n",
      "[LightGBM] [Info] Start training from score 118154.683071\n",
      "Training until validation scores don't improve for 100 rounds\n",
      "[100]\tvalid_0's rmse: 17549.8\tvalid_1's rmse: 21042.6\n",
      "[200]\tvalid_0's rmse: 15688.3\tvalid_1's rmse: 20604.7\n",
      "[300]\tvalid_0's rmse: 14257.8\tvalid_1's rmse: 20384.2\n",
      "[400]\tvalid_0's rmse: 12794.6\tvalid_1's rmse: 19977.5\n",
      "[500]\tvalid_0's rmse: 11579.8\tvalid_1's rmse: 19864.4\n",
      "[600]\tvalid_0's rmse: 10439.2\tvalid_1's rmse: 19911\n"
     ]
    },
    {
     "name": "stderr",
     "output_type": "stream",
     "text": [
      "feature_fraction_stage2, val_score: 19753.198274:  67%|######6   | 2/3 [00:02<00:01,  1.10s/it]\u001b[32m[I 2021-02-21 10:58:24,169]\u001b[0m Trial 38 finished with value: 19753.19827408949 and parameters: {'feature_fraction': 0.9840000000000001}. Best is trial 38 with value: 19753.19827408949.\u001b[0m\n",
      "feature_fraction_stage2, val_score: 19753.198274:  67%|######6   | 2/3 [00:02<00:01,  1.10s/it]"
     ]
    },
    {
     "name": "stdout",
     "output_type": "stream",
     "text": [
      "Early stopping, best iteration is:\n",
      "[556]\tvalid_0's rmse: 10851.4\tvalid_1's rmse: 19753.2\n",
      "[LightGBM] [Warning] Auto-choosing row-wise multi-threading, the overhead of testing was 0.000363 seconds.\n",
      "You can set `force_row_wise=true` to remove the overhead.\n",
      "And if memory is not enough, you can set `force_col_wise=true`.\n",
      "[LightGBM] [Info] Total Bins 1093\n",
      "[LightGBM] [Info] Number of data points in the train set: 25176, number of used features: 25\n",
      "[LightGBM] [Info] Start training from score 118154.683071\n",
      "Training until validation scores don't improve for 100 rounds\n",
      "[100]\tvalid_0's rmse: 17248.6\tvalid_1's rmse: 20956.1\n",
      "[200]\tvalid_0's rmse: 15452.9\tvalid_1's rmse: 20770.1\n",
      "[300]\tvalid_0's rmse: 14005.3\tvalid_1's rmse: 20457.8\n",
      "[400]\tvalid_0's rmse: 12872.7\tvalid_1's rmse: 20537.7\n"
     ]
    },
    {
     "name": "stderr",
     "output_type": "stream",
     "text": [
      "feature_fraction_stage2, val_score: 19753.198274: 100%|##########| 3/3 [00:03<00:00,  1.01it/s]\u001b[32m[I 2021-02-21 10:58:25,021]\u001b[0m Trial 39 finished with value: 20417.84284566016 and parameters: {'feature_fraction': 0.92}. Best is trial 38 with value: 19753.19827408949.\u001b[0m\n",
      "feature_fraction_stage2, val_score: 19753.198274: 100%|##########| 3/3 [00:03<00:00,  1.00s/it]\n",
      "regularization_factors, val_score: 19753.198274:   0%|          | 0/20 [00:00<?, ?it/s]"
     ]
    },
    {
     "name": "stdout",
     "output_type": "stream",
     "text": [
      "Early stopping, best iteration is:\n",
      "[343]\tvalid_0's rmse: 13573.6\tvalid_1's rmse: 20417.8\n",
      "[LightGBM] [Warning] Auto-choosing row-wise multi-threading, the overhead of testing was 0.000441 seconds.\n",
      "You can set `force_row_wise=true` to remove the overhead.\n",
      "And if memory is not enough, you can set `force_col_wise=true`.\n",
      "[LightGBM] [Info] Total Bins 1093\n",
      "[LightGBM] [Info] Number of data points in the train set: 25176, number of used features: 25\n",
      "[LightGBM] [Info] Start training from score 118154.683071\n",
      "Training until validation scores don't improve for 100 rounds\n",
      "[100]\tvalid_0's rmse: 17558.2\tvalid_1's rmse: 21058.7\n",
      "[200]\tvalid_0's rmse: 15720.9\tvalid_1's rmse: 20708.4\n",
      "[300]\tvalid_0's rmse: 14316.2\tvalid_1's rmse: 20576.4\n",
      "[400]\tvalid_0's rmse: 12869.7\tvalid_1's rmse: 20321.2\n"
     ]
    },
    {
     "name": "stderr",
     "output_type": "stream",
     "text": [
      "regularization_factors, val_score: 19753.198274:   5%|5         | 1/20 [00:01<00:19,  1.00s/it]\u001b[32m[I 2021-02-21 10:58:26,030]\u001b[0m Trial 40 finished with value: 20261.08006440258 and parameters: {'lambda_l1': 0.0124000071787155, 'lambda_l2': 0.0027252619368299032}. Best is trial 40 with value: 20261.08006440258.\u001b[0m\n",
      "regularization_factors, val_score: 19753.198274:   5%|5         | 1/20 [00:01<00:19,  1.00s/it]"
     ]
    },
    {
     "name": "stdout",
     "output_type": "stream",
     "text": [
      "Early stopping, best iteration is:\n",
      "[372]\tvalid_0's rmse: 13200.1\tvalid_1's rmse: 20261.1\n",
      "[LightGBM] [Warning] Auto-choosing row-wise multi-threading, the overhead of testing was 0.000407 seconds.\n",
      "You can set `force_row_wise=true` to remove the overhead.\n",
      "And if memory is not enough, you can set `force_col_wise=true`.\n",
      "[LightGBM] [Info] Total Bins 1093\n",
      "[LightGBM] [Info] Number of data points in the train set: 25176, number of used features: 25\n",
      "[LightGBM] [Info] Start training from score 118154.683071\n",
      "Training until validation scores don't improve for 100 rounds\n",
      "[100]\tvalid_0's rmse: 17549.8\tvalid_1's rmse: 21042.6\n",
      "[200]\tvalid_0's rmse: 15688.3\tvalid_1's rmse: 20604.7\n",
      "[300]\tvalid_0's rmse: 14257.8\tvalid_1's rmse: 20384.2\n",
      "[400]\tvalid_0's rmse: 12794.6\tvalid_1's rmse: 19977.5\n",
      "[500]\tvalid_0's rmse: 11579.8\tvalid_1's rmse: 19864.4\n",
      "[600]\tvalid_0's rmse: 10439.2\tvalid_1's rmse: 19911\n"
     ]
    },
    {
     "name": "stderr",
     "output_type": "stream",
     "text": [
      "regularization_factors, val_score: 19753.198269:  10%|#         | 2/20 [00:02<00:21,  1.18s/it]\u001b[32m[I 2021-02-21 10:58:27,335]\u001b[0m Trial 41 finished with value: 19753.19826897303 and parameters: {'lambda_l1': 4.399066417331444e-08, 'lambda_l2': 1.237235601047668e-07}. Best is trial 41 with value: 19753.19826897303.\u001b[0m\n",
      "regularization_factors, val_score: 19753.198269:  10%|#         | 2/20 [00:02<00:21,  1.18s/it]"
     ]
    },
    {
     "name": "stdout",
     "output_type": "stream",
     "text": [
      "Early stopping, best iteration is:\n",
      "[556]\tvalid_0's rmse: 10851.4\tvalid_1's rmse: 19753.2\n",
      "[LightGBM] [Warning] Auto-choosing row-wise multi-threading, the overhead of testing was 0.000396 seconds.\n",
      "You can set `force_row_wise=true` to remove the overhead.\n",
      "And if memory is not enough, you can set `force_col_wise=true`.\n",
      "[LightGBM] [Info] Total Bins 1093\n",
      "[LightGBM] [Info] Number of data points in the train set: 25176, number of used features: 25\n",
      "[LightGBM] [Info] Start training from score 118154.683071\n",
      "Training until validation scores don't improve for 100 rounds\n",
      "[100]\tvalid_0's rmse: 17549.8\tvalid_1's rmse: 21042.6\n",
      "[200]\tvalid_0's rmse: 15688.3\tvalid_1's rmse: 20604.7\n",
      "[300]\tvalid_0's rmse: 14257.8\tvalid_1's rmse: 20384.2\n",
      "[400]\tvalid_0's rmse: 12794.6\tvalid_1's rmse: 19977.5\n",
      "[500]\tvalid_0's rmse: 11579.8\tvalid_1's rmse: 19864.4\n",
      "[600]\tvalid_0's rmse: 10439.2\tvalid_1's rmse: 19911\n"
     ]
    },
    {
     "name": "stderr",
     "output_type": "stream",
     "text": [
      "regularization_factors, val_score: 19753.198269:  15%|#5        | 3/20 [00:03<00:20,  1.21s/it]\u001b[32m[I 2021-02-21 10:58:28,590]\u001b[0m Trial 42 finished with value: 19753.198274068713 and parameters: {'lambda_l1': 3.76738904832526e-08, 'lambda_l2': 1.288885530645246e-08}. Best is trial 41 with value: 19753.19826897303.\u001b[0m\n",
      "regularization_factors, val_score: 19753.198269:  15%|#5        | 3/20 [00:03<00:20,  1.21s/it]"
     ]
    },
    {
     "name": "stdout",
     "output_type": "stream",
     "text": [
      "Early stopping, best iteration is:\n",
      "[556]\tvalid_0's rmse: 10851.4\tvalid_1's rmse: 19753.2\n",
      "[LightGBM] [Warning] Auto-choosing row-wise multi-threading, the overhead of testing was 0.000396 seconds.\n",
      "You can set `force_row_wise=true` to remove the overhead.\n",
      "And if memory is not enough, you can set `force_col_wise=true`.\n",
      "[LightGBM] [Info] Total Bins 1093\n",
      "[LightGBM] [Info] Number of data points in the train set: 25176, number of used features: 25\n",
      "[LightGBM] [Info] Start training from score 118154.683071\n",
      "Training until validation scores don't improve for 100 rounds\n",
      "[100]\tvalid_0's rmse: 17549.8\tvalid_1's rmse: 21042.6\n",
      "[200]\tvalid_0's rmse: 15688.3\tvalid_1's rmse: 20604.7\n",
      "[300]\tvalid_0's rmse: 14257.8\tvalid_1's rmse: 20384.2\n",
      "[400]\tvalid_0's rmse: 12794.6\tvalid_1's rmse: 19977.5\n",
      "[500]\tvalid_0's rmse: 11579.8\tvalid_1's rmse: 19864.4\n",
      "[600]\tvalid_0's rmse: 10439.2\tvalid_1's rmse: 19911\n"
     ]
    },
    {
     "name": "stderr",
     "output_type": "stream",
     "text": [
      "regularization_factors, val_score: 19753.198269:  20%|##        | 4/20 [00:04<00:19,  1.23s/it]\u001b[32m[I 2021-02-21 10:58:29,841]\u001b[0m Trial 43 finished with value: 19753.198274341463 and parameters: {'lambda_l1': 4.11820394041563e-08, 'lambda_l2': 1.7900464840234638e-08}. Best is trial 41 with value: 19753.19826897303.\u001b[0m\n",
      "regularization_factors, val_score: 19753.198269:  20%|##        | 4/20 [00:04<00:19,  1.23s/it]"
     ]
    },
    {
     "name": "stdout",
     "output_type": "stream",
     "text": [
      "Early stopping, best iteration is:\n",
      "[556]\tvalid_0's rmse: 10851.4\tvalid_1's rmse: 19753.2\n",
      "[LightGBM] [Warning] Auto-choosing row-wise multi-threading, the overhead of testing was 0.000438 seconds.\n",
      "You can set `force_row_wise=true` to remove the overhead.\n",
      "And if memory is not enough, you can set `force_col_wise=true`.\n",
      "[LightGBM] [Info] Total Bins 1093\n",
      "[LightGBM] [Info] Number of data points in the train set: 25176, number of used features: 25\n",
      "[LightGBM] [Info] Start training from score 118154.683071\n",
      "Training until validation scores don't improve for 100 rounds\n",
      "[100]\tvalid_0's rmse: 17549.8\tvalid_1's rmse: 21042.6\n",
      "[200]\tvalid_0's rmse: 15688.3\tvalid_1's rmse: 20604.7\n",
      "[300]\tvalid_0's rmse: 14257.8\tvalid_1's rmse: 20384.2\n",
      "[400]\tvalid_0's rmse: 12794.6\tvalid_1's rmse: 19977.5\n",
      "[500]\tvalid_0's rmse: 11579.8\tvalid_1's rmse: 19864.4\n"
     ]
    },
    {
     "name": "stderr",
     "output_type": "stream",
     "text": [
      "regularization_factors, val_score: 19753.198269:  25%|##5       | 5/20 [00:06<00:19,  1.27s/it]\u001b[32m[I 2021-02-21 10:58:31,194]\u001b[0m Trial 44 finished with value: 19753.198272156533 and parameters: {'lambda_l1': 1.3000107669104475e-08, 'lambda_l2': 1.5787456413032685e-08}. Best is trial 41 with value: 19753.19826897303.\u001b[0m\n",
      "regularization_factors, val_score: 19753.198269:  25%|##5       | 5/20 [00:06<00:19,  1.27s/it]"
     ]
    },
    {
     "name": "stdout",
     "output_type": "stream",
     "text": [
      "[600]\tvalid_0's rmse: 10439.2\tvalid_1's rmse: 19911\n",
      "Early stopping, best iteration is:\n",
      "[556]\tvalid_0's rmse: 10851.4\tvalid_1's rmse: 19753.2\n",
      "[LightGBM] [Warning] Auto-choosing row-wise multi-threading, the overhead of testing was 0.000420 seconds.\n",
      "You can set `force_row_wise=true` to remove the overhead.\n",
      "And if memory is not enough, you can set `force_col_wise=true`.\n",
      "[LightGBM] [Info] Total Bins 1093\n",
      "[LightGBM] [Info] Number of data points in the train set: 25176, number of used features: 25\n",
      "[LightGBM] [Info] Start training from score 118154.683071\n",
      "Training until validation scores don't improve for 100 rounds\n",
      "[100]\tvalid_0's rmse: 17549.8\tvalid_1's rmse: 21042.6\n",
      "[200]\tvalid_0's rmse: 15688.3\tvalid_1's rmse: 20604.7\n",
      "[300]\tvalid_0's rmse: 14257.8\tvalid_1's rmse: 20384.2\n",
      "[400]\tvalid_0's rmse: 12794.6\tvalid_1's rmse: 19977.5\n",
      "[500]\tvalid_0's rmse: 11579.8\tvalid_1's rmse: 19864.4\n",
      "[600]\tvalid_0's rmse: 10439.2\tvalid_1's rmse: 19911\n"
     ]
    },
    {
     "name": "stderr",
     "output_type": "stream",
     "text": [
      "regularization_factors, val_score: 19753.198269:  30%|###       | 6/20 [00:07<00:18,  1.29s/it]\u001b[32m[I 2021-02-21 10:58:32,508]\u001b[0m Trial 45 finished with value: 19753.198274238108 and parameters: {'lambda_l1': 1.863824121852624e-08, 'lambda_l2': 1.184979513192112e-08}. Best is trial 41 with value: 19753.19826897303.\u001b[0m\n",
      "regularization_factors, val_score: 19753.198269:  30%|###       | 6/20 [00:07<00:18,  1.29s/it]"
     ]
    },
    {
     "name": "stdout",
     "output_type": "stream",
     "text": [
      "Early stopping, best iteration is:\n",
      "[556]\tvalid_0's rmse: 10851.4\tvalid_1's rmse: 19753.2\n",
      "[LightGBM] [Warning] Auto-choosing row-wise multi-threading, the overhead of testing was 0.000389 seconds.\n",
      "You can set `force_row_wise=true` to remove the overhead.\n",
      "And if memory is not enough, you can set `force_col_wise=true`.\n",
      "[LightGBM] [Info] Total Bins 1093\n",
      "[LightGBM] [Info] Number of data points in the train set: 25176, number of used features: 25\n",
      "[LightGBM] [Info] Start training from score 118154.683071\n",
      "Training until validation scores don't improve for 100 rounds\n",
      "[100]\tvalid_0's rmse: 17549.8\tvalid_1's rmse: 21042.6\n",
      "[200]\tvalid_0's rmse: 15688.3\tvalid_1's rmse: 20604.7\n",
      "[300]\tvalid_0's rmse: 14257.8\tvalid_1's rmse: 20384.2\n",
      "[400]\tvalid_0's rmse: 12794.6\tvalid_1's rmse: 19977.5\n",
      "[500]\tvalid_0's rmse: 11579.8\tvalid_1's rmse: 19864.4\n",
      "[600]\tvalid_0's rmse: 10439.2\tvalid_1's rmse: 19911\n"
     ]
    },
    {
     "name": "stderr",
     "output_type": "stream",
     "text": [
      "regularization_factors, val_score: 19753.198269:  35%|###5      | 7/20 [00:08<00:16,  1.28s/it]\u001b[32m[I 2021-02-21 10:58:33,773]\u001b[0m Trial 46 finished with value: 19753.198271763267 and parameters: {'lambda_l1': 2.4897145258568948e-08, 'lambda_l2': 2.431233840912429e-08}. Best is trial 41 with value: 19753.19826897303.\u001b[0m\n",
      "regularization_factors, val_score: 19753.198269:  35%|###5      | 7/20 [00:08<00:16,  1.28s/it]"
     ]
    },
    {
     "name": "stdout",
     "output_type": "stream",
     "text": [
      "Early stopping, best iteration is:\n",
      "[556]\tvalid_0's rmse: 10851.4\tvalid_1's rmse: 19753.2\n",
      "[LightGBM] [Warning] Auto-choosing row-wise multi-threading, the overhead of testing was 0.000408 seconds.\n",
      "You can set `force_row_wise=true` to remove the overhead.\n",
      "And if memory is not enough, you can set `force_col_wise=true`.\n",
      "[LightGBM] [Info] Total Bins 1093\n",
      "[LightGBM] [Info] Number of data points in the train set: 25176, number of used features: 25\n",
      "[LightGBM] [Info] Start training from score 118154.683071\n",
      "Training until validation scores don't improve for 100 rounds\n",
      "[100]\tvalid_0's rmse: 17549.8\tvalid_1's rmse: 21042.6\n",
      "[200]\tvalid_0's rmse: 15688.3\tvalid_1's rmse: 20604.7\n",
      "[300]\tvalid_0's rmse: 14257.8\tvalid_1's rmse: 20384.2\n",
      "[400]\tvalid_0's rmse: 12794.6\tvalid_1's rmse: 19977.5\n",
      "[500]\tvalid_0's rmse: 11579.8\tvalid_1's rmse: 19864.4\n",
      "[600]\tvalid_0's rmse: 10439.2\tvalid_1's rmse: 19911\n"
     ]
    },
    {
     "name": "stderr",
     "output_type": "stream",
     "text": [
      "regularization_factors, val_score: 19753.198269:  40%|####      | 8/20 [00:10<00:15,  1.28s/it]\u001b[32m[I 2021-02-21 10:58:35,063]\u001b[0m Trial 47 finished with value: 19753.198272193385 and parameters: {'lambda_l1': 1.9335626519528186e-08, 'lambda_l2': 2.2190727314049624e-08}. Best is trial 41 with value: 19753.19826897303.\u001b[0m\n",
      "regularization_factors, val_score: 19753.198269:  40%|####      | 8/20 [00:10<00:15,  1.28s/it]"
     ]
    },
    {
     "name": "stdout",
     "output_type": "stream",
     "text": [
      "Early stopping, best iteration is:\n",
      "[556]\tvalid_0's rmse: 10851.4\tvalid_1's rmse: 19753.2\n",
      "[LightGBM] [Warning] Auto-choosing row-wise multi-threading, the overhead of testing was 0.000410 seconds.\n",
      "You can set `force_row_wise=true` to remove the overhead.\n",
      "And if memory is not enough, you can set `force_col_wise=true`.\n",
      "[LightGBM] [Info] Total Bins 1093\n",
      "[LightGBM] [Info] Number of data points in the train set: 25176, number of used features: 25\n",
      "[LightGBM] [Info] Start training from score 118154.683071\n",
      "Training until validation scores don't improve for 100 rounds\n",
      "[100]\tvalid_0's rmse: 17549.8\tvalid_1's rmse: 21042.6\n",
      "[200]\tvalid_0's rmse: 15688.3\tvalid_1's rmse: 20604.7\n",
      "[300]\tvalid_0's rmse: 14257.8\tvalid_1's rmse: 20384.2\n",
      "[400]\tvalid_0's rmse: 12794.6\tvalid_1's rmse: 19977.5\n",
      "[500]\tvalid_0's rmse: 11579.8\tvalid_1's rmse: 19864.4\n",
      "[600]\tvalid_0's rmse: 10439.2\tvalid_1's rmse: 19911\n"
     ]
    },
    {
     "name": "stderr",
     "output_type": "stream",
     "text": [
      "regularization_factors, val_score: 19753.198269:  45%|####5     | 9/20 [00:11<00:14,  1.29s/it]\u001b[32m[I 2021-02-21 10:58:36,358]\u001b[0m Trial 48 finished with value: 19753.198272208276 and parameters: {'lambda_l1': 3.880765313526754e-08, 'lambda_l2': 1.5621739096096214e-08}. Best is trial 41 with value: 19753.19826897303.\u001b[0m\n",
      "regularization_factors, val_score: 19753.198269:  45%|####5     | 9/20 [00:11<00:14,  1.29s/it]"
     ]
    },
    {
     "name": "stdout",
     "output_type": "stream",
     "text": [
      "Early stopping, best iteration is:\n",
      "[556]\tvalid_0's rmse: 10851.4\tvalid_1's rmse: 19753.2\n",
      "[LightGBM] [Warning] Auto-choosing row-wise multi-threading, the overhead of testing was 0.000396 seconds.\n",
      "You can set `force_row_wise=true` to remove the overhead.\n",
      "And if memory is not enough, you can set `force_col_wise=true`.\n",
      "[LightGBM] [Info] Total Bins 1093\n",
      "[LightGBM] [Info] Number of data points in the train set: 25176, number of used features: 25\n",
      "[LightGBM] [Info] Start training from score 118154.683071\n",
      "Training until validation scores don't improve for 100 rounds\n",
      "[100]\tvalid_0's rmse: 17549.8\tvalid_1's rmse: 21042.6\n",
      "[200]\tvalid_0's rmse: 15688.3\tvalid_1's rmse: 20604.7\n",
      "[300]\tvalid_0's rmse: 14257.8\tvalid_1's rmse: 20384.2\n",
      "[400]\tvalid_0's rmse: 12794.6\tvalid_1's rmse: 19977.5\n",
      "[500]\tvalid_0's rmse: 11579.8\tvalid_1's rmse: 19864.4\n",
      "[600]\tvalid_0's rmse: 10439.2\tvalid_1's rmse: 19911\n"
     ]
    },
    {
     "name": "stderr",
     "output_type": "stream",
     "text": [
      "regularization_factors, val_score: 19753.198269:  50%|#####     | 10/20 [00:12<00:13,  1.30s/it]\u001b[32m[I 2021-02-21 10:58:37,691]\u001b[0m Trial 49 finished with value: 19753.198273990816 and parameters: {'lambda_l1': 1.7397935590255863e-08, 'lambda_l2': 5.476296582410945e-08}. Best is trial 41 with value: 19753.19826897303.\u001b[0m\n",
      "regularization_factors, val_score: 19753.198269:  50%|#####     | 10/20 [00:12<00:13,  1.30s/it]"
     ]
    },
    {
     "name": "stdout",
     "output_type": "stream",
     "text": [
      "Early stopping, best iteration is:\n",
      "[556]\tvalid_0's rmse: 10851.4\tvalid_1's rmse: 19753.2\n",
      "[LightGBM] [Warning] Auto-choosing row-wise multi-threading, the overhead of testing was 0.000397 seconds.\n",
      "You can set `force_row_wise=true` to remove the overhead.\n",
      "And if memory is not enough, you can set `force_col_wise=true`.\n",
      "[LightGBM] [Info] Total Bins 1093\n",
      "[LightGBM] [Info] Number of data points in the train set: 25176, number of used features: 25\n",
      "[LightGBM] [Info] Start training from score 118154.683071\n",
      "Training until validation scores don't improve for 100 rounds\n",
      "[100]\tvalid_0's rmse: 17549.8\tvalid_1's rmse: 21042.6\n",
      "[200]\tvalid_0's rmse: 15688.3\tvalid_1's rmse: 20604.7\n",
      "[300]\tvalid_0's rmse: 14257.8\tvalid_1's rmse: 20384.2\n",
      "[400]\tvalid_0's rmse: 12794.6\tvalid_1's rmse: 19977.5\n",
      "[500]\tvalid_0's rmse: 11579.8\tvalid_1's rmse: 19864.4\n",
      "[600]\tvalid_0's rmse: 10439.2\tvalid_1's rmse: 19911\n"
     ]
    },
    {
     "name": "stderr",
     "output_type": "stream",
     "text": [
      "regularization_factors, val_score: 19753.198269:  55%|#####5    | 11/20 [00:13<00:11,  1.29s/it]\u001b[32m[I 2021-02-21 10:58:38,958]\u001b[0m Trial 50 finished with value: 19753.198269142453 and parameters: {'lambda_l1': 1.0140596211868422e-08, 'lambda_l2': 3.219194320160051e-07}. Best is trial 41 with value: 19753.19826897303.\u001b[0m\n",
      "regularization_factors, val_score: 19753.198269:  55%|#####5    | 11/20 [00:13<00:11,  1.29s/it]"
     ]
    },
    {
     "name": "stdout",
     "output_type": "stream",
     "text": [
      "Early stopping, best iteration is:\n",
      "[556]\tvalid_0's rmse: 10851.4\tvalid_1's rmse: 19753.2\n",
      "[LightGBM] [Warning] Auto-choosing row-wise multi-threading, the overhead of testing was 0.000388 seconds.\n",
      "You can set `force_row_wise=true` to remove the overhead.\n",
      "And if memory is not enough, you can set `force_col_wise=true`.\n",
      "[LightGBM] [Info] Total Bins 1093\n",
      "[LightGBM] [Info] Number of data points in the train set: 25176, number of used features: 25\n",
      "[LightGBM] [Info] Start training from score 118154.683071\n",
      "Training until validation scores don't improve for 100 rounds\n",
      "[100]\tvalid_0's rmse: 17549.8\tvalid_1's rmse: 21042.6\n",
      "[200]\tvalid_0's rmse: 15688.3\tvalid_1's rmse: 20604.7\n",
      "[300]\tvalid_0's rmse: 14257.8\tvalid_1's rmse: 20384.2\n",
      "[400]\tvalid_0's rmse: 12794.6\tvalid_1's rmse: 19977.5\n",
      "[500]\tvalid_0's rmse: 11579.8\tvalid_1's rmse: 19864.4\n",
      "[600]\tvalid_0's rmse: 10439.2\tvalid_1's rmse: 19911\n"
     ]
    },
    {
     "name": "stderr",
     "output_type": "stream",
     "text": [
      "regularization_factors, val_score: 19753.198269:  60%|######    | 12/20 [00:15<00:10,  1.28s/it]\u001b[32m[I 2021-02-21 10:58:40,224]\u001b[0m Trial 51 finished with value: 19753.19827296839 and parameters: {'lambda_l1': 1.1398146819651237e-08, 'lambda_l2': 2.1923594149745193e-07}. Best is trial 41 with value: 19753.19826897303.\u001b[0m\n",
      "regularization_factors, val_score: 19753.198269:  60%|######    | 12/20 [00:15<00:10,  1.28s/it]"
     ]
    },
    {
     "name": "stdout",
     "output_type": "stream",
     "text": [
      "Early stopping, best iteration is:\n",
      "[556]\tvalid_0's rmse: 10851.4\tvalid_1's rmse: 19753.2\n",
      "[LightGBM] [Warning] Auto-choosing row-wise multi-threading, the overhead of testing was 0.000384 seconds.\n",
      "You can set `force_row_wise=true` to remove the overhead.\n",
      "And if memory is not enough, you can set `force_col_wise=true`.\n",
      "[LightGBM] [Info] Total Bins 1093\n",
      "[LightGBM] [Info] Number of data points in the train set: 25176, number of used features: 25\n",
      "[LightGBM] [Info] Start training from score 118154.683071\n",
      "Training until validation scores don't improve for 100 rounds\n",
      "[100]\tvalid_0's rmse: 17549.8\tvalid_1's rmse: 21042.6\n",
      "[200]\tvalid_0's rmse: 15688.3\tvalid_1's rmse: 20604.7\n",
      "[300]\tvalid_0's rmse: 14257.8\tvalid_1's rmse: 20384.2\n",
      "[400]\tvalid_0's rmse: 12794.6\tvalid_1's rmse: 19977.5\n",
      "[500]\tvalid_0's rmse: 11579.8\tvalid_1's rmse: 19864.4\n",
      "[600]\tvalid_0's rmse: 10439.2\tvalid_1's rmse: 19911\n"
     ]
    },
    {
     "name": "stderr",
     "output_type": "stream",
     "text": [
      "regularization_factors, val_score: 19753.198244:  65%|######5   | 13/20 [00:16<00:08,  1.28s/it]\u001b[32m[I 2021-02-21 10:58:41,487]\u001b[0m Trial 52 finished with value: 19753.19824434188 and parameters: {'lambda_l1': 1.1518674620399244e-08, 'lambda_l2': 1.7260716454467405e-06}. Best is trial 52 with value: 19753.19824434188.\u001b[0m\n",
      "regularization_factors, val_score: 19753.198244:  65%|######5   | 13/20 [00:16<00:08,  1.28s/it]"
     ]
    },
    {
     "name": "stdout",
     "output_type": "stream",
     "text": [
      "Early stopping, best iteration is:\n",
      "[556]\tvalid_0's rmse: 10851.4\tvalid_1's rmse: 19753.2\n",
      "[LightGBM] [Warning] Auto-choosing row-wise multi-threading, the overhead of testing was 0.000385 seconds.\n",
      "You can set `force_row_wise=true` to remove the overhead.\n",
      "And if memory is not enough, you can set `force_col_wise=true`.\n",
      "[LightGBM] [Info] Total Bins 1093\n",
      "[LightGBM] [Info] Number of data points in the train set: 25176, number of used features: 25\n",
      "[LightGBM] [Info] Start training from score 118154.683071\n",
      "Training until validation scores don't improve for 100 rounds\n",
      "[100]\tvalid_0's rmse: 17549.8\tvalid_1's rmse: 21042.6\n",
      "[200]\tvalid_0's rmse: 15688.3\tvalid_1's rmse: 20604.7\n",
      "[300]\tvalid_0's rmse: 14257.8\tvalid_1's rmse: 20384.2\n",
      "[400]\tvalid_0's rmse: 12794.6\tvalid_1's rmse: 19977.5\n",
      "[500]\tvalid_0's rmse: 11579.8\tvalid_1's rmse: 19864.4\n"
     ]
    },
    {
     "name": "stderr",
     "output_type": "stream",
     "text": [
      "regularization_factors, val_score: 19753.198244:  70%|#######   | 14/20 [00:17<00:07,  1.30s/it]\u001b[32m[I 2021-02-21 10:58:42,846]\u001b[0m Trial 53 finished with value: 19753.198246735996 and parameters: {'lambda_l1': 1.337124895605793e-08, 'lambda_l2': 2.184395983474017e-06}. Best is trial 52 with value: 19753.19824434188.\u001b[0m\n",
      "regularization_factors, val_score: 19753.198244:  70%|#######   | 14/20 [00:17<00:07,  1.30s/it]"
     ]
    },
    {
     "name": "stdout",
     "output_type": "stream",
     "text": [
      "[600]\tvalid_0's rmse: 10439.2\tvalid_1's rmse: 19911\n",
      "Early stopping, best iteration is:\n",
      "[556]\tvalid_0's rmse: 10851.4\tvalid_1's rmse: 19753.2\n",
      "[LightGBM] [Warning] Auto-choosing row-wise multi-threading, the overhead of testing was 0.000882 seconds.\n",
      "You can set `force_row_wise=true` to remove the overhead.\n",
      "And if memory is not enough, you can set `force_col_wise=true`.\n",
      "[LightGBM] [Info] Total Bins 1093\n",
      "[LightGBM] [Info] Number of data points in the train set: 25176, number of used features: 25\n",
      "[LightGBM] [Info] Start training from score 118154.683071\n",
      "Training until validation scores don't improve for 100 rounds\n",
      "[100]\tvalid_0's rmse: 17549.8\tvalid_1's rmse: 21042.6\n",
      "[200]\tvalid_0's rmse: 15688.3\tvalid_1's rmse: 20604.7\n",
      "[300]\tvalid_0's rmse: 14257.8\tvalid_1's rmse: 20384.2\n",
      "[400]\tvalid_0's rmse: 12794.6\tvalid_1's rmse: 19977.5\n",
      "[500]\tvalid_0's rmse: 11579.8\tvalid_1's rmse: 19864.4\n",
      "[600]\tvalid_0's rmse: 10439.2\tvalid_1's rmse: 19911\n"
     ]
    },
    {
     "name": "stderr",
     "output_type": "stream",
     "text": [
      "regularization_factors, val_score: 19753.198233:  75%|#######5  | 15/20 [00:19<00:06,  1.31s/it]\u001b[32m[I 2021-02-21 10:58:44,167]\u001b[0m Trial 54 finished with value: 19753.19823310287 and parameters: {'lambda_l1': 3.052384371163981e-06, 'lambda_l2': 3.3160825354442766e-06}. Best is trial 54 with value: 19753.19823310287.\u001b[0m\n",
      "regularization_factors, val_score: 19753.198233:  75%|#######5  | 15/20 [00:19<00:06,  1.31s/it]"
     ]
    },
    {
     "name": "stdout",
     "output_type": "stream",
     "text": [
      "Early stopping, best iteration is:\n",
      "[556]\tvalid_0's rmse: 10851.4\tvalid_1's rmse: 19753.2\n",
      "[LightGBM] [Warning] Auto-choosing row-wise multi-threading, the overhead of testing was 0.000771 seconds.\n",
      "You can set `force_row_wise=true` to remove the overhead.\n",
      "And if memory is not enough, you can set `force_col_wise=true`.\n",
      "[LightGBM] [Info] Total Bins 1093\n",
      "[LightGBM] [Info] Number of data points in the train set: 25176, number of used features: 25\n",
      "[LightGBM] [Info] Start training from score 118154.683071\n",
      "Training until validation scores don't improve for 100 rounds\n",
      "[100]\tvalid_0's rmse: 17549.8\tvalid_1's rmse: 21042.6\n",
      "[200]\tvalid_0's rmse: 15688.3\tvalid_1's rmse: 20604.7\n",
      "[300]\tvalid_0's rmse: 14257.8\tvalid_1's rmse: 20384.2\n",
      "[400]\tvalid_0's rmse: 12794.6\tvalid_1's rmse: 19977.5\n",
      "[500]\tvalid_0's rmse: 11579.8\tvalid_1's rmse: 19864.4\n",
      "[600]\tvalid_0's rmse: 10439.2\tvalid_1's rmse: 19911\n"
     ]
    },
    {
     "name": "stderr",
     "output_type": "stream",
     "text": [
      "regularization_factors, val_score: 19753.198178:  80%|########  | 16/20 [00:22<00:07,  1.83s/it]\u001b[32m[I 2021-02-21 10:58:47,225]\u001b[0m Trial 55 finished with value: 19753.198177683127 and parameters: {'lambda_l1': 7.913386737168604e-06, 'lambda_l2': 5.359006527643056e-06}. Best is trial 55 with value: 19753.198177683127.\u001b[0m\n",
      "regularization_factors, val_score: 19753.198178:  80%|########  | 16/20 [00:22<00:07,  1.83s/it]"
     ]
    },
    {
     "name": "stdout",
     "output_type": "stream",
     "text": [
      "Early stopping, best iteration is:\n",
      "[556]\tvalid_0's rmse: 10851.4\tvalid_1's rmse: 19753.2\n",
      "[LightGBM] [Warning] Auto-choosing row-wise multi-threading, the overhead of testing was 0.000389 seconds.\n",
      "You can set `force_row_wise=true` to remove the overhead.\n",
      "And if memory is not enough, you can set `force_col_wise=true`.\n",
      "[LightGBM] [Info] Total Bins 1093\n",
      "[LightGBM] [Info] Number of data points in the train set: 25176, number of used features: 25\n",
      "[LightGBM] [Info] Start training from score 118154.683071\n",
      "Training until validation scores don't improve for 100 rounds\n",
      "[100]\tvalid_0's rmse: 17549.8\tvalid_1's rmse: 21042.6\n",
      "[200]\tvalid_0's rmse: 15688.3\tvalid_1's rmse: 20604.7\n",
      "[300]\tvalid_0's rmse: 14257.8\tvalid_1's rmse: 20384.2\n",
      "[400]\tvalid_0's rmse: 12794.6\tvalid_1's rmse: 19977.5\n",
      "[500]\tvalid_0's rmse: 11579.8\tvalid_1's rmse: 19864.4\n",
      "[600]\tvalid_0's rmse: 10439.2\tvalid_1's rmse: 19911\n"
     ]
    },
    {
     "name": "stderr",
     "output_type": "stream",
     "text": [
      "regularization_factors, val_score: 19753.198177:  85%|########5 | 17/20 [00:23<00:04,  1.66s/it]\u001b[32m[I 2021-02-21 10:58:48,479]\u001b[0m Trial 56 finished with value: 19753.198176874343 and parameters: {'lambda_l1': 1.0252754855142344e-05, 'lambda_l2': 5.791850643215314e-06}. Best is trial 56 with value: 19753.198176874343.\u001b[0m\n",
      "regularization_factors, val_score: 19753.198177:  85%|########5 | 17/20 [00:23<00:04,  1.66s/it]"
     ]
    },
    {
     "name": "stdout",
     "output_type": "stream",
     "text": [
      "Early stopping, best iteration is:\n",
      "[556]\tvalid_0's rmse: 10851.4\tvalid_1's rmse: 19753.2\n",
      "[LightGBM] [Warning] Auto-choosing row-wise multi-threading, the overhead of testing was 0.000382 seconds.\n",
      "You can set `force_row_wise=true` to remove the overhead.\n",
      "And if memory is not enough, you can set `force_col_wise=true`.\n",
      "[LightGBM] [Info] Total Bins 1093\n",
      "[LightGBM] [Info] Number of data points in the train set: 25176, number of used features: 25\n",
      "[LightGBM] [Info] Start training from score 118154.683071\n",
      "Training until validation scores don't improve for 100 rounds\n",
      "[100]\tvalid_0's rmse: 17549.8\tvalid_1's rmse: 21042.6\n",
      "[200]\tvalid_0's rmse: 15688.3\tvalid_1's rmse: 20604.7\n",
      "[300]\tvalid_0's rmse: 14257.8\tvalid_1's rmse: 20384.2\n",
      "[400]\tvalid_0's rmse: 12794.6\tvalid_1's rmse: 19977.5\n",
      "[500]\tvalid_0's rmse: 11579.8\tvalid_1's rmse: 19864.4\n",
      "[600]\tvalid_0's rmse: 10439.2\tvalid_1's rmse: 19911\n"
     ]
    },
    {
     "name": "stderr",
     "output_type": "stream",
     "text": [
      "regularization_factors, val_score: 19753.198118:  90%|######### | 18/20 [00:24<00:03,  1.54s/it]\u001b[32m[I 2021-02-21 10:58:49,740]\u001b[0m Trial 57 finished with value: 19753.198118457745 and parameters: {'lambda_l1': 7.308574214550573e-06, 'lambda_l2': 8.659727623312837e-06}. Best is trial 57 with value: 19753.198118457745.\u001b[0m\n",
      "regularization_factors, val_score: 19753.198118:  90%|######### | 18/20 [00:24<00:03,  1.54s/it]"
     ]
    },
    {
     "name": "stdout",
     "output_type": "stream",
     "text": [
      "Early stopping, best iteration is:\n",
      "[556]\tvalid_0's rmse: 10851.4\tvalid_1's rmse: 19753.2\n",
      "[LightGBM] [Warning] Auto-choosing row-wise multi-threading, the overhead of testing was 0.000392 seconds.\n",
      "You can set `force_row_wise=true` to remove the overhead.\n",
      "And if memory is not enough, you can set `force_col_wise=true`.\n",
      "[LightGBM] [Info] Total Bins 1093\n",
      "[LightGBM] [Info] Number of data points in the train set: 25176, number of used features: 25\n",
      "[LightGBM] [Info] Start training from score 118154.683071\n",
      "Training until validation scores don't improve for 100 rounds\n",
      "[100]\tvalid_0's rmse: 17549.8\tvalid_1's rmse: 21042.6\n",
      "[200]\tvalid_0's rmse: 15688.3\tvalid_1's rmse: 20604.7\n",
      "[300]\tvalid_0's rmse: 14257.8\tvalid_1's rmse: 20384.2\n",
      "[400]\tvalid_0's rmse: 12794.6\tvalid_1's rmse: 19977.5\n",
      "[500]\tvalid_0's rmse: 11579.8\tvalid_1's rmse: 19864.4\n",
      "[600]\tvalid_0's rmse: 10439.2\tvalid_1's rmse: 19911\n"
     ]
    },
    {
     "name": "stderr",
     "output_type": "stream",
     "text": [
      "regularization_factors, val_score: 19753.198078:  95%|#########5| 19/20 [00:25<00:01,  1.46s/it]\u001b[32m[I 2021-02-21 10:58:50,998]\u001b[0m Trial 58 finished with value: 19753.198077809306 and parameters: {'lambda_l1': 7.133569188398452e-06, 'lambda_l2': 1.033152034779262e-05}. Best is trial 58 with value: 19753.198077809306.\u001b[0m\n",
      "regularization_factors, val_score: 19753.198078:  95%|#########5| 19/20 [00:25<00:01,  1.46s/it]"
     ]
    },
    {
     "name": "stdout",
     "output_type": "stream",
     "text": [
      "Early stopping, best iteration is:\n",
      "[556]\tvalid_0's rmse: 10851.4\tvalid_1's rmse: 19753.2\n",
      "[LightGBM] [Warning] Auto-choosing row-wise multi-threading, the overhead of testing was 0.000397 seconds.\n",
      "You can set `force_row_wise=true` to remove the overhead.\n",
      "And if memory is not enough, you can set `force_col_wise=true`.\n",
      "[LightGBM] [Info] Total Bins 1093\n",
      "[LightGBM] [Info] Number of data points in the train set: 25176, number of used features: 25\n",
      "[LightGBM] [Info] Start training from score 118154.683071\n",
      "Training until validation scores don't improve for 100 rounds\n",
      "[100]\tvalid_0's rmse: 17549.8\tvalid_1's rmse: 21042.6\n",
      "[200]\tvalid_0's rmse: 15688.3\tvalid_1's rmse: 20604.7\n",
      "[300]\tvalid_0's rmse: 14257.8\tvalid_1's rmse: 20384.2\n",
      "[400]\tvalid_0's rmse: 12794.6\tvalid_1's rmse: 19977.5\n",
      "[500]\tvalid_0's rmse: 11579.8\tvalid_1's rmse: 19864.4\n",
      "[600]\tvalid_0's rmse: 10439.2\tvalid_1's rmse: 19911\n"
     ]
    },
    {
     "name": "stderr",
     "output_type": "stream",
     "text": [
      "regularization_factors, val_score: 19753.197931: 100%|##########| 20/20 [00:27<00:00,  1.40s/it]\u001b[32m[I 2021-02-21 10:58:52,268]\u001b[0m Trial 59 finished with value: 19753.197931351664 and parameters: {'lambda_l1': 5.996146948394564e-06, 'lambda_l2': 1.8708932838398955e-05}. Best is trial 59 with value: 19753.197931351664.\u001b[0m\n",
      "regularization_factors, val_score: 19753.197931: 100%|##########| 20/20 [00:27<00:00,  1.36s/it]\n",
      "min_data_in_leaf, val_score: 19753.197931:   0%|          | 0/5 [00:00<?, ?it/s]"
     ]
    },
    {
     "name": "stdout",
     "output_type": "stream",
     "text": [
      "Early stopping, best iteration is:\n",
      "[556]\tvalid_0's rmse: 10851.4\tvalid_1's rmse: 19753.2\n",
      "[LightGBM] [Warning] Auto-choosing row-wise multi-threading, the overhead of testing was 0.000402 seconds.\n",
      "You can set `force_row_wise=true` to remove the overhead.\n",
      "And if memory is not enough, you can set `force_col_wise=true`.\n",
      "[LightGBM] [Info] Total Bins 1093\n",
      "[LightGBM] [Info] Number of data points in the train set: 25176, number of used features: 25\n",
      "[LightGBM] [Info] Start training from score 118154.683071\n",
      "Training until validation scores don't improve for 100 rounds\n",
      "[100]\tvalid_0's rmse: 20439.5\tvalid_1's rmse: 23105.9\n",
      "[200]\tvalid_0's rmse: 18135.8\tvalid_1's rmse: 22372.7\n",
      "[300]\tvalid_0's rmse: 16594.8\tvalid_1's rmse: 21760.4\n",
      "[400]\tvalid_0's rmse: 15345.9\tvalid_1's rmse: 21616\n",
      "[500]\tvalid_0's rmse: 14354.5\tvalid_1's rmse: 21537.9\n",
      "[600]\tvalid_0's rmse: 13497.7\tvalid_1's rmse: 21478.2\n"
     ]
    },
    {
     "name": "stderr",
     "output_type": "stream",
     "text": [
      "min_data_in_leaf, val_score: 19753.197931:  20%|##        | 1/5 [00:01<00:05,  1.45s/it]\u001b[32m[I 2021-02-21 10:58:53,724]\u001b[0m Trial 60 finished with value: 21458.50392442767 and parameters: {'min_child_samples': 50}. Best is trial 60 with value: 21458.50392442767.\u001b[0m\n",
      "min_data_in_leaf, val_score: 19753.197931:  20%|##        | 1/5 [00:01<00:05,  1.45s/it]"
     ]
    },
    {
     "name": "stdout",
     "output_type": "stream",
     "text": [
      "Early stopping, best iteration is:\n",
      "[579]\tvalid_0's rmse: 13700.3\tvalid_1's rmse: 21458.5\n",
      "[LightGBM] [Warning] Auto-choosing row-wise multi-threading, the overhead of testing was 0.000413 seconds.\n",
      "You can set `force_row_wise=true` to remove the overhead.\n",
      "And if memory is not enough, you can set `force_col_wise=true`.\n",
      "[LightGBM] [Info] Total Bins 1093\n",
      "[LightGBM] [Info] Number of data points in the train set: 25176, number of used features: 25\n",
      "[LightGBM] [Info] Start training from score 118154.683071\n",
      "Training until validation scores don't improve for 100 rounds\n",
      "[100]\tvalid_0's rmse: 22551.2\tvalid_1's rmse: 25497.6\n",
      "[200]\tvalid_0's rmse: 20583.4\tvalid_1's rmse: 24808.4\n",
      "[300]\tvalid_0's rmse: 19233.8\tvalid_1's rmse: 24384.1\n",
      "[400]\tvalid_0's rmse: 17996.6\tvalid_1's rmse: 23944.8\n",
      "[500]\tvalid_0's rmse: 17095.7\tvalid_1's rmse: 23565.2\n",
      "[600]\tvalid_0's rmse: 16365.7\tvalid_1's rmse: 23246.3\n",
      "[700]\tvalid_0's rmse: 15719.8\tvalid_1's rmse: 23061.5\n",
      "[800]\tvalid_0's rmse: 15132.1\tvalid_1's rmse: 22929.5\n",
      "[900]\tvalid_0's rmse: 14550.9\tvalid_1's rmse: 22703.5\n",
      "[1000]\tvalid_0's rmse: 14026\tvalid_1's rmse: 22651.3\n",
      "Did not meet early stopping. Best iteration is:\n",
      "[1000]\tvalid_0's rmse: 14026\tvalid_1's rmse: 22651.3\n"
     ]
    },
    {
     "name": "stderr",
     "output_type": "stream",
     "text": [
      "min_data_in_leaf, val_score: 19753.197931:  40%|####      | 2/5 [00:03<00:05,  1.89s/it]\u001b[32m[I 2021-02-21 10:58:55,928]\u001b[0m Trial 61 finished with value: 22651.27267822644 and parameters: {'min_child_samples': 100}. Best is trial 60 with value: 21458.50392442767.\u001b[0m\n",
      "min_data_in_leaf, val_score: 19753.197931:  40%|####      | 2/5 [00:03<00:05,  1.89s/it]"
     ]
    },
    {
     "name": "stdout",
     "output_type": "stream",
     "text": [
      "[LightGBM] [Warning] Auto-choosing row-wise multi-threading, the overhead of testing was 0.000401 seconds.\n",
      "You can set `force_row_wise=true` to remove the overhead.\n",
      "And if memory is not enough, you can set `force_col_wise=true`.\n",
      "[LightGBM] [Info] Total Bins 1093\n",
      "[LightGBM] [Info] Number of data points in the train set: 25176, number of used features: 25\n",
      "[LightGBM] [Info] Start training from score 118154.683071\n",
      "Training until validation scores don't improve for 100 rounds\n",
      "[100]\tvalid_0's rmse: 18237.4\tvalid_1's rmse: 21278.5\n",
      "[200]\tvalid_0's rmse: 16465.7\tvalid_1's rmse: 20835.8\n",
      "[300]\tvalid_0's rmse: 15076.3\tvalid_1's rmse: 20672.5\n",
      "[400]\tvalid_0's rmse: 13988.8\tvalid_1's rmse: 20551.3\n",
      "[500]\tvalid_0's rmse: 12777.1\tvalid_1's rmse: 20448.8\n",
      "[600]\tvalid_0's rmse: 11833.7\tvalid_1's rmse: 20303.8\n",
      "Early stopping, best iteration is:\n",
      "[527]\tvalid_0's rmse: 12381\tvalid_1's rmse: 20198.6\n"
     ]
    },
    {
     "name": "stderr",
     "output_type": "stream",
     "text": [
      "min_data_in_leaf, val_score: 19753.197931:  60%|######    | 3/5 [00:04<00:03,  1.59s/it]\u001b[32m[I 2021-02-21 10:58:57,161]\u001b[0m Trial 62 finished with value: 20198.5753583249 and parameters: {'min_child_samples': 25}. Best is trial 62 with value: 20198.5753583249.\u001b[0m\n",
      "min_data_in_leaf, val_score: 19753.197931:  60%|######    | 3/5 [00:04<00:03,  1.59s/it]"
     ]
    },
    {
     "name": "stdout",
     "output_type": "stream",
     "text": [
      "[LightGBM] [Warning] Auto-choosing row-wise multi-threading, the overhead of testing was 0.000391 seconds.\n",
      "You can set `force_row_wise=true` to remove the overhead.\n",
      "And if memory is not enough, you can set `force_col_wise=true`.\n",
      "[LightGBM] [Info] Total Bins 1093\n",
      "[LightGBM] [Info] Number of data points in the train set: 25176, number of used features: 25\n",
      "[LightGBM] [Info] Start training from score 118154.683071\n",
      "Training until validation scores don't improve for 100 rounds\n",
      "[100]\tvalid_0's rmse: 13043.2\tvalid_1's rmse: 19724.9\n",
      "[200]\tvalid_0's rmse: 10992.6\tvalid_1's rmse: 19069.8\n",
      "[300]\tvalid_0's rmse: 9720.97\tvalid_1's rmse: 18900.4\n",
      "[400]\tvalid_0's rmse: 8800.15\tvalid_1's rmse: 18730.4\n",
      "[500]\tvalid_0's rmse: 8116.8\tvalid_1's rmse: 18650.3\n",
      "[600]\tvalid_0's rmse: 7489.91\tvalid_1's rmse: 18551.9\n",
      "[700]\tvalid_0's rmse: 6982.65\tvalid_1's rmse: 18476.2\n",
      "[800]\tvalid_0's rmse: 6553\tvalid_1's rmse: 18431.6\n",
      "[900]\tvalid_0's rmse: 6174.07\tvalid_1's rmse: 18389.6\n"
     ]
    },
    {
     "name": "stderr",
     "output_type": "stream",
     "text": [
      "min_data_in_leaf, val_score: 18353.395339:  80%|########  | 4/5 [00:06<00:01,  1.55s/it]\u001b[32m[I 2021-02-21 10:58:58,650]\u001b[0m Trial 63 finished with value: 18353.39533917864 and parameters: {'min_child_samples': 5}. Best is trial 63 with value: 18353.39533917864.\u001b[0m\n",
      "min_data_in_leaf, val_score: 18353.395339:  80%|########  | 4/5 [00:06<00:01,  1.55s/it]"
     ]
    },
    {
     "name": "stdout",
     "output_type": "stream",
     "text": [
      "[1000]\tvalid_0's rmse: 5817.21\tvalid_1's rmse: 18353.4\n",
      "Did not meet early stopping. Best iteration is:\n",
      "[1000]\tvalid_0's rmse: 5817.21\tvalid_1's rmse: 18353.4\n",
      "[LightGBM] [Warning] Auto-choosing row-wise multi-threading, the overhead of testing was 0.000397 seconds.\n",
      "You can set `force_row_wise=true` to remove the overhead.\n",
      "And if memory is not enough, you can set `force_col_wise=true`.\n",
      "[LightGBM] [Info] Total Bins 1093\n",
      "[LightGBM] [Info] Number of data points in the train set: 25176, number of used features: 25\n",
      "[LightGBM] [Info] Start training from score 118154.683071\n",
      "Training until validation scores don't improve for 100 rounds\n",
      "[100]\tvalid_0's rmse: 14824.2\tvalid_1's rmse: 19793.5\n",
      "[200]\tvalid_0's rmse: 12221.1\tvalid_1's rmse: 19344.6\n",
      "[300]\tvalid_0's rmse: 10723.7\tvalid_1's rmse: 19208.1\n",
      "[400]\tvalid_0's rmse: 9642.68\tvalid_1's rmse: 19083.9\n",
      "[500]\tvalid_0's rmse: 8834.32\tvalid_1's rmse: 18992.2\n",
      "[600]\tvalid_0's rmse: 8189.52\tvalid_1's rmse: 18912.9\n",
      "[700]\tvalid_0's rmse: 7641.86\tvalid_1's rmse: 18852.6\n",
      "[800]\tvalid_0's rmse: 7113.81\tvalid_1's rmse: 18774.8\n",
      "[900]\tvalid_0's rmse: 6679.92\tvalid_1's rmse: 18745.5\n",
      "[1000]\tvalid_0's rmse: 6304.7\tvalid_1's rmse: 18719.3\n",
      "Did not meet early stopping. Best iteration is:\n",
      "[1000]\tvalid_0's rmse: 6304.7\tvalid_1's rmse: 18719.3\n"
     ]
    },
    {
     "name": "stderr",
     "output_type": "stream",
     "text": [
      "min_data_in_leaf, val_score: 18353.395339: 100%|##########| 5/5 [00:07<00:00,  1.57s/it]\u001b[32m[I 2021-02-21 10:59:00,254]\u001b[0m Trial 64 finished with value: 18719.286170594372 and parameters: {'min_child_samples': 10}. Best is trial 63 with value: 18353.39533917864.\u001b[0m\n",
      "min_data_in_leaf, val_score: 18353.395339: 100%|##########| 5/5 [00:07<00:00,  1.60s/it]\n"
     ]
    }
   ],
   "source": [
    "from sklearn.model_selection import KFold\n",
    "import optuna.integration.lightgbm as lgb\n",
    "from sklearn import metrics\n",
    "from sklearn.metrics import mean_absolute_error\n",
    "\n",
    "scores = []\n",
    "\n",
    "kf = KFold(n_splits=5, shuffle=True, random_state=0)\n",
    "\n",
    "params = {\n",
    "    'objective': 'regression',\n",
    "    'metric': 'rmse'\n",
    "}\n",
    "\n",
    "for tr_idx, va_idx in kf.split(X_train):\n",
    "    tr_x,val_x = X_train.iloc[tr_idx], X_train.iloc[va_idx]\n",
    "    tr_y,val_y = y_train.iloc[tr_idx], y_train.iloc[va_idx]\n",
    " \n",
    "\n",
    "    lgb_train = lgb.Dataset(tr_x, tr_y)\n",
    "    lgb_eval = lgb.Dataset(val_x, val_y, reference=lgb_train)\n",
    "\n",
    "    best_params, history = {}, []\n",
    "    model = lgb.train(\n",
    "        params,lgb_train,valid_sets=[lgb_train, lgb_eval], \n",
    "        verbose_eval=100, \n",
    "        early_stopping_rounds=100)"
   ]
  },
  {
   "cell_type": "code",
   "execution_count": 37,
   "metadata": {
    "scrolled": false
   },
   "outputs": [
    {
     "data": {
      "text/plain": [
       "{'objective': 'regression',\n",
       " 'metric': 'rmse',\n",
       " 'feature_pre_filter': False,\n",
       " 'lambda_l1': 5.996146948394564e-06,\n",
       " 'lambda_l2': 1.8708932838398955e-05,\n",
       " 'num_leaves': 32,\n",
       " 'feature_fraction': 1.0,\n",
       " 'bagging_fraction': 1.0,\n",
       " 'bagging_freq': 0,\n",
       " 'min_child_samples': 5,\n",
       " 'num_iterations': 1000,\n",
       " 'early_stopping_round': 100}"
      ]
     },
     "execution_count": 37,
     "metadata": {},
     "output_type": "execute_result"
    }
   ],
   "source": [
    "best_params = model.params\n",
    "best_params"
   ]
  },
  {
   "cell_type": "code",
   "execution_count": 500,
   "metadata": {
    "scrolled": true
   },
   "outputs": [
    {
     "name": "stdout",
     "output_type": "stream",
     "text": [
      "[LightGBM] [Warning] Auto-choosing row-wise multi-threading, the overhead of testing was 0.001107 seconds.\n",
      "You can set `force_row_wise=true` to remove the overhead.\n",
      "And if memory is not enough, you can set `force_col_wise=true`.\n",
      "[LightGBM] [Info] Total Bins 1080\n",
      "[LightGBM] [Info] Number of data points in the train set: 25176, number of used features: 33\n",
      "[LightGBM] [Info] Start training from score 118516.069987\n",
      "Training until validation scores don't improve for 100 rounds\n"
     ]
    },
    {
     "name": "stderr",
     "output_type": "stream",
     "text": [
      "/Library/Frameworks/Python.framework/Versions/3.8/lib/python3.8/site-packages/lightgbm/engine.py:151: UserWarning: Found `num_iterations` in params. Will use it instead of argument\n",
      "  warnings.warn(\"Found `{}` in params. Will use it instead of argument\".format(alias))\n"
     ]
    },
    {
     "name": "stdout",
     "output_type": "stream",
     "text": [
      "[10]\tvalid_0's rmse: 36998\n",
      "[20]\tvalid_0's rmse: 27713\n",
      "[30]\tvalid_0's rmse: 25214\n",
      "[40]\tvalid_0's rmse: 23944.3\n",
      "[50]\tvalid_0's rmse: 23655.4\n",
      "[60]\tvalid_0's rmse: 23452.6\n",
      "[70]\tvalid_0's rmse: 23232.8\n",
      "[80]\tvalid_0's rmse: 22946.3\n",
      "[90]\tvalid_0's rmse: 22809\n",
      "[100]\tvalid_0's rmse: 22606.1\n",
      "[110]\tvalid_0's rmse: 22522.3\n",
      "[120]\tvalid_0's rmse: 22376.3\n",
      "[130]\tvalid_0's rmse: 22278.2\n",
      "[140]\tvalid_0's rmse: 22159.9\n",
      "[150]\tvalid_0's rmse: 22070.5\n",
      "[160]\tvalid_0's rmse: 21978\n",
      "[170]\tvalid_0's rmse: 21924.7\n",
      "[180]\tvalid_0's rmse: 21865.7\n",
      "[190]\tvalid_0's rmse: 21845.9\n",
      "[200]\tvalid_0's rmse: 21788.3\n",
      "[210]\tvalid_0's rmse: 21736.7\n",
      "[220]\tvalid_0's rmse: 21697.7\n",
      "[230]\tvalid_0's rmse: 21636.6\n",
      "[240]\tvalid_0's rmse: 21615.4\n",
      "[250]\tvalid_0's rmse: 21588.4\n",
      "[260]\tvalid_0's rmse: 21544.7\n",
      "[270]\tvalid_0's rmse: 21548.1\n",
      "[280]\tvalid_0's rmse: 21548.7\n",
      "[290]\tvalid_0's rmse: 21564\n",
      "[300]\tvalid_0's rmse: 21502.2\n",
      "[310]\tvalid_0's rmse: 21526.5\n",
      "[320]\tvalid_0's rmse: 21523\n",
      "[330]\tvalid_0's rmse: 21512.4\n",
      "[340]\tvalid_0's rmse: 21482.2\n",
      "[350]\tvalid_0's rmse: 21449.3\n",
      "[360]\tvalid_0's rmse: 21422.7\n",
      "[370]\tvalid_0's rmse: 21376.1\n",
      "[380]\tvalid_0's rmse: 21361.8\n",
      "[390]\tvalid_0's rmse: 21315.7\n",
      "[400]\tvalid_0's rmse: 21302.6\n",
      "[410]\tvalid_0's rmse: 21320.1\n",
      "[420]\tvalid_0's rmse: 21320.9\n",
      "[430]\tvalid_0's rmse: 21323.4\n",
      "[440]\tvalid_0's rmse: 21328.5\n",
      "[450]\tvalid_0's rmse: 21356.2\n",
      "[460]\tvalid_0's rmse: 21356.5\n",
      "[470]\tvalid_0's rmse: 21342.9\n",
      "[480]\tvalid_0's rmse: 21314.9\n",
      "[490]\tvalid_0's rmse: 21301.3\n",
      "[500]\tvalid_0's rmse: 21271.8\n",
      "[510]\tvalid_0's rmse: 21260.1\n",
      "[520]\tvalid_0's rmse: 21270.2\n",
      "[530]\tvalid_0's rmse: 21286.5\n",
      "[540]\tvalid_0's rmse: 21301\n",
      "[550]\tvalid_0's rmse: 21309.4\n",
      "[560]\tvalid_0's rmse: 21292\n",
      "[570]\tvalid_0's rmse: 21294.2\n",
      "[580]\tvalid_0's rmse: 21298\n",
      "[590]\tvalid_0's rmse: 21286\n",
      "[600]\tvalid_0's rmse: 21301.1\n",
      "Early stopping, best iteration is:\n",
      "[509]\tvalid_0's rmse: 21253.5\n"
     ]
    },
    {
     "name": "stderr",
     "output_type": "stream",
     "text": [
      "/Library/Frameworks/Python.framework/Versions/3.8/lib/python3.8/site-packages/lightgbm/engine.py:151: UserWarning: Found `num_iterations` in params. Will use it instead of argument\n",
      "  warnings.warn(\"Found `{}` in params. Will use it instead of argument\".format(alias))\n"
     ]
    },
    {
     "name": "stdout",
     "output_type": "stream",
     "text": [
      "[LightGBM] [Warning] Auto-choosing row-wise multi-threading, the overhead of testing was 0.001110 seconds.\n",
      "You can set `force_row_wise=true` to remove the overhead.\n",
      "And if memory is not enough, you can set `force_col_wise=true`.\n",
      "[LightGBM] [Info] Total Bins 1083\n",
      "[LightGBM] [Info] Number of data points in the train set: 25176, number of used features: 33\n",
      "[LightGBM] [Info] Start training from score 118435.786702\n",
      "Training until validation scores don't improve for 100 rounds\n",
      "[10]\tvalid_0's rmse: 35125.4\n",
      "[20]\tvalid_0's rmse: 25042.7\n",
      "[30]\tvalid_0's rmse: 22918.7\n",
      "[40]\tvalid_0's rmse: 22153.2\n",
      "[50]\tvalid_0's rmse: 21751.1\n",
      "[60]\tvalid_0's rmse: 21493.5\n",
      "[70]\tvalid_0's rmse: 21360.9\n",
      "[80]\tvalid_0's rmse: 21286.3\n",
      "[90]\tvalid_0's rmse: 21189.4\n",
      "[100]\tvalid_0's rmse: 21146.7\n",
      "[110]\tvalid_0's rmse: 21081.1\n",
      "[120]\tvalid_0's rmse: 21025.9\n",
      "[130]\tvalid_0's rmse: 21004.2\n",
      "[140]\tvalid_0's rmse: 20941.9\n",
      "[150]\tvalid_0's rmse: 20934.1\n",
      "[160]\tvalid_0's rmse: 20928.6\n",
      "[170]\tvalid_0's rmse: 20877.3\n",
      "[180]\tvalid_0's rmse: 20860.5\n",
      "[190]\tvalid_0's rmse: 20825.5\n",
      "[200]\tvalid_0's rmse: 20831.1\n",
      "[210]\tvalid_0's rmse: 20793.4\n",
      "[220]\tvalid_0's rmse: 20813.6\n",
      "[230]\tvalid_0's rmse: 20781.3\n",
      "[240]\tvalid_0's rmse: 20752.5\n",
      "[250]\tvalid_0's rmse: 20762.9\n",
      "[260]\tvalid_0's rmse: 20747\n",
      "[270]\tvalid_0's rmse: 20742.5\n",
      "[280]\tvalid_0's rmse: 20730.6\n",
      "[290]\tvalid_0's rmse: 20728.2\n",
      "[300]\tvalid_0's rmse: 20693.2\n",
      "[310]\tvalid_0's rmse: 20751.9\n",
      "[320]\tvalid_0's rmse: 20707.7\n",
      "[330]\tvalid_0's rmse: 20709.9\n",
      "[340]\tvalid_0's rmse: 20730.8\n",
      "[350]\tvalid_0's rmse: 20718.6\n",
      "[360]\tvalid_0's rmse: 20716.6\n",
      "[370]\tvalid_0's rmse: 20703.2\n",
      "[380]\tvalid_0's rmse: 20726.8\n",
      "[390]\tvalid_0's rmse: 20753.7\n",
      "[400]\tvalid_0's rmse: 20781.7\n",
      "[410]\tvalid_0's rmse: 20764.1\n",
      "[420]\tvalid_0's rmse: 20766.3\n",
      "Early stopping, best iteration is:\n",
      "[324]\tvalid_0's rmse: 20686.7\n"
     ]
    },
    {
     "name": "stderr",
     "output_type": "stream",
     "text": [
      "/Library/Frameworks/Python.framework/Versions/3.8/lib/python3.8/site-packages/lightgbm/engine.py:151: UserWarning: Found `num_iterations` in params. Will use it instead of argument\n",
      "  warnings.warn(\"Found `{}` in params. Will use it instead of argument\".format(alias))\n"
     ]
    },
    {
     "name": "stdout",
     "output_type": "stream",
     "text": [
      "[LightGBM] [Warning] Auto-choosing row-wise multi-threading, the overhead of testing was 0.002173 seconds.\n",
      "You can set `force_row_wise=true` to remove the overhead.\n",
      "And if memory is not enough, you can set `force_col_wise=true`.\n",
      "[LightGBM] [Info] Total Bins 1078\n",
      "[LightGBM] [Info] Number of data points in the train set: 25176, number of used features: 33\n",
      "[LightGBM] [Info] Start training from score 117892.049333\n",
      "Training until validation scores don't improve for 100 rounds\n",
      "[10]\tvalid_0's rmse: 31937.4\n",
      "[20]\tvalid_0's rmse: 21934.4\n",
      "[30]\tvalid_0's rmse: 20112.9\n",
      "[40]\tvalid_0's rmse: 19645.2\n",
      "[50]\tvalid_0's rmse: 19485.3\n",
      "[60]\tvalid_0's rmse: 19452.6\n",
      "[70]\tvalid_0's rmse: 19435.5\n",
      "[80]\tvalid_0's rmse: 19410.8\n",
      "[90]\tvalid_0's rmse: 19441.6\n",
      "[100]\tvalid_0's rmse: 19508.2\n",
      "[110]\tvalid_0's rmse: 19585.2\n",
      "[120]\tvalid_0's rmse: 19597.2\n",
      "[130]\tvalid_0's rmse: 19642.1\n",
      "[140]\tvalid_0's rmse: 19667.4\n",
      "[150]\tvalid_0's rmse: 19634.7\n",
      "[160]\tvalid_0's rmse: 19599.7\n",
      "[170]\tvalid_0's rmse: 19593.9\n",
      "Early stopping, best iteration is:\n",
      "[79]\tvalid_0's rmse: 19397.4\n",
      "[LightGBM] [Warning] Auto-choosing row-wise multi-threading, the overhead of testing was 0.001213 seconds.\n",
      "You can set `force_row_wise=true` to remove the overhead.\n",
      "And if memory is not enough, you can set `force_col_wise=true`.\n",
      "[LightGBM] [Info] Total Bins 1087\n",
      "[LightGBM] [Info] Number of data points in the train set: 25176, number of used features: 33\n",
      "[LightGBM] [Info] Start training from score 118280.850532\n",
      "Training until validation scores don't improve for 100 rounds\n",
      "[10]\tvalid_0's rmse: 34748.3\n"
     ]
    },
    {
     "name": "stderr",
     "output_type": "stream",
     "text": [
      "/Library/Frameworks/Python.framework/Versions/3.8/lib/python3.8/site-packages/lightgbm/engine.py:151: UserWarning: Found `num_iterations` in params. Will use it instead of argument\n",
      "  warnings.warn(\"Found `{}` in params. Will use it instead of argument\".format(alias))\n"
     ]
    },
    {
     "name": "stdout",
     "output_type": "stream",
     "text": [
      "[20]\tvalid_0's rmse: 26396.5\n",
      "[30]\tvalid_0's rmse: 24104.2\n",
      "[40]\tvalid_0's rmse: 23353.9\n",
      "[50]\tvalid_0's rmse: 23053.3\n",
      "[60]\tvalid_0's rmse: 22934.7\n",
      "[70]\tvalid_0's rmse: 22827.4\n",
      "[80]\tvalid_0's rmse: 22773.4\n",
      "[90]\tvalid_0's rmse: 22758\n",
      "[100]\tvalid_0's rmse: 22728.2\n",
      "[110]\tvalid_0's rmse: 22695\n",
      "[120]\tvalid_0's rmse: 22697.3\n",
      "[130]\tvalid_0's rmse: 22687.2\n",
      "[140]\tvalid_0's rmse: 22695\n",
      "[150]\tvalid_0's rmse: 22708.7\n",
      "[160]\tvalid_0's rmse: 22735.9\n",
      "[170]\tvalid_0's rmse: 22757.2\n",
      "[180]\tvalid_0's rmse: 22808.9\n",
      "[190]\tvalid_0's rmse: 22843\n",
      "[200]\tvalid_0's rmse: 22817.2\n",
      "[210]\tvalid_0's rmse: 22845.6\n",
      "[220]\tvalid_0's rmse: 22804.4\n",
      "[230]\tvalid_0's rmse: 22798.7\n",
      "Early stopping, best iteration is:\n",
      "[135]\tvalid_0's rmse: 22662.5\n"
     ]
    },
    {
     "name": "stderr",
     "output_type": "stream",
     "text": [
      "/Library/Frameworks/Python.framework/Versions/3.8/lib/python3.8/site-packages/lightgbm/engine.py:151: UserWarning: Found `num_iterations` in params. Will use it instead of argument\n",
      "  warnings.warn(\"Found `{}` in params. Will use it instead of argument\".format(alias))\n"
     ]
    },
    {
     "name": "stdout",
     "output_type": "stream",
     "text": [
      "[LightGBM] [Warning] Auto-choosing row-wise multi-threading, the overhead of testing was 0.001087 seconds.\n",
      "You can set `force_row_wise=true` to remove the overhead.\n",
      "And if memory is not enough, you can set `force_col_wise=true`.\n",
      "[LightGBM] [Info] Total Bins 1089\n",
      "[LightGBM] [Info] Number of data points in the train set: 25176, number of used features: 33\n",
      "[LightGBM] [Info] Start training from score 118154.683071\n",
      "Training until validation scores don't improve for 100 rounds\n",
      "[10]\tvalid_0's rmse: 36727.3\n",
      "[20]\tvalid_0's rmse: 25271.8\n",
      "[30]\tvalid_0's rmse: 22070.1\n",
      "[40]\tvalid_0's rmse: 20976.6\n",
      "[50]\tvalid_0's rmse: 20754.6\n",
      "[60]\tvalid_0's rmse: 20596.8\n",
      "[70]\tvalid_0's rmse: 20459.6\n",
      "[80]\tvalid_0's rmse: 20382.5\n",
      "[90]\tvalid_0's rmse: 20416.2\n",
      "[100]\tvalid_0's rmse: 20326.9\n",
      "[110]\tvalid_0's rmse: 20331.5\n",
      "[120]\tvalid_0's rmse: 20331.4\n",
      "[130]\tvalid_0's rmse: 20325.4\n",
      "[140]\tvalid_0's rmse: 20345.2\n",
      "[150]\tvalid_0's rmse: 20354.2\n",
      "[160]\tvalid_0's rmse: 20364.6\n",
      "[170]\tvalid_0's rmse: 20365.4\n",
      "[180]\tvalid_0's rmse: 20364.9\n",
      "[190]\tvalid_0's rmse: 20401.8\n",
      "[200]\tvalid_0's rmse: 20392.3\n",
      "[210]\tvalid_0's rmse: 20395.7\n",
      "[220]\tvalid_0's rmse: 20398.3\n",
      "[230]\tvalid_0's rmse: 20413.5\n",
      "Early stopping, best iteration is:\n",
      "[131]\tvalid_0's rmse: 20301.6\n",
      "rmse:93.93624229194116\n"
     ]
    }
   ],
   "source": [
    "import lightgbm as lgb\n",
    "\n",
    "scores = []\n",
    "\n",
    "kf = KFold(n_splits=5, shuffle=True, random_state=0)\n",
    "\n",
    "params = {\n",
    "    'objective': 'regression',\n",
    "    'metric': 'rmse',\n",
    "    'num_leaves': 130,\n",
    "    'num_iterations': 1000\n",
    "}\n",
    "\n",
    "for tr_idx, va_idx in kf.split(X_train):\n",
    "    tr_x,val_x = X_train.iloc[tr_idx], X_train.iloc[va_idx]\n",
    "    tr_y,val_y = y_train.iloc[tr_idx], y_train.iloc[va_idx]\n",
    " \n",
    "\n",
    "    lgb_train = lgb.Dataset(tr_x, tr_y)\n",
    "    lgb_eval = lgb.Dataset(val_x, val_y, reference=lgb_train)\n",
    "\n",
    "    model = lgb.train(params, lgb_train,\n",
    "                                   valid_sets= lgb_eval,\n",
    "                                   verbose_eval=10,\n",
    "                                   num_boost_round=1000,\n",
    "                                   early_stopping_rounds=100)\n",
    "\n",
    "    val_pred = model.predict(val_x)\n",
    "    score = np.sqrt(mean_absolute_error(val_y, val_pred))\n",
    "    scores.append(score)\n",
    "\n",
    "print('rmse:{}'.format(np.mean(scores)))"
   ]
  },
  {
   "cell_type": "code",
   "execution_count": null,
   "metadata": {},
   "outputs": [],
   "source": []
  },
  {
   "cell_type": "code",
   "execution_count": null,
   "metadata": {},
   "outputs": [],
   "source": []
  },
  {
   "cell_type": "code",
   "execution_count": null,
   "metadata": {},
   "outputs": [],
   "source": []
  },
  {
   "cell_type": "code",
   "execution_count": null,
   "metadata": {},
   "outputs": [],
   "source": []
  },
  {
   "cell_type": "code",
   "execution_count": null,
   "metadata": {},
   "outputs": [],
   "source": []
  },
  {
   "cell_type": "code",
   "execution_count": 493,
   "metadata": {},
   "outputs": [],
   "source": [
    "# predicted = model.predict(X_test)\n",
    "# sample[1] = predicted\n",
    "# sample.to_csv('submission_07.csv', index=False)"
   ]
  },
  {
   "cell_type": "code",
   "execution_count": 494,
   "metadata": {},
   "outputs": [
    {
     "data": {
      "text/html": [
       "<div>\n",
       "<style scoped>\n",
       "    .dataframe tbody tr th:only-of-type {\n",
       "        vertical-align: middle;\n",
       "    }\n",
       "\n",
       "    .dataframe tbody tr th {\n",
       "        vertical-align: top;\n",
       "    }\n",
       "\n",
       "    .dataframe thead th {\n",
       "        text-align: right;\n",
       "    }\n",
       "</style>\n",
       "<table border=\"1\" class=\"dataframe\">\n",
       "  <thead>\n",
       "    <tr style=\"text-align: right;\">\n",
       "      <th></th>\n",
       "      <th>0</th>\n",
       "      <th>1</th>\n",
       "    </tr>\n",
       "  </thead>\n",
       "  <tbody>\n",
       "    <tr>\n",
       "      <th>0</th>\n",
       "      <td>31471</td>\n",
       "      <td>126248.982650</td>\n",
       "    </tr>\n",
       "    <tr>\n",
       "      <th>1</th>\n",
       "      <td>31472</td>\n",
       "      <td>109079.103328</td>\n",
       "    </tr>\n",
       "    <tr>\n",
       "      <th>2</th>\n",
       "      <td>31473</td>\n",
       "      <td>73108.007136</td>\n",
       "    </tr>\n",
       "    <tr>\n",
       "      <th>3</th>\n",
       "      <td>31474</td>\n",
       "      <td>54409.961598</td>\n",
       "    </tr>\n",
       "    <tr>\n",
       "      <th>4</th>\n",
       "      <td>31475</td>\n",
       "      <td>104381.481125</td>\n",
       "    </tr>\n",
       "    <tr>\n",
       "      <th>...</th>\n",
       "      <td>...</td>\n",
       "      <td>...</td>\n",
       "    </tr>\n",
       "    <tr>\n",
       "      <th>31257</th>\n",
       "      <td>62728</td>\n",
       "      <td>106956.648675</td>\n",
       "    </tr>\n",
       "    <tr>\n",
       "      <th>31258</th>\n",
       "      <td>62729</td>\n",
       "      <td>103911.827121</td>\n",
       "    </tr>\n",
       "    <tr>\n",
       "      <th>31259</th>\n",
       "      <td>62730</td>\n",
       "      <td>176057.361036</td>\n",
       "    </tr>\n",
       "    <tr>\n",
       "      <th>31260</th>\n",
       "      <td>62731</td>\n",
       "      <td>258767.455838</td>\n",
       "    </tr>\n",
       "    <tr>\n",
       "      <th>31261</th>\n",
       "      <td>62732</td>\n",
       "      <td>82808.728205</td>\n",
       "    </tr>\n",
       "  </tbody>\n",
       "</table>\n",
       "<p>31262 rows × 2 columns</p>\n",
       "</div>"
      ],
      "text/plain": [
       "           0              1\n",
       "0      31471  126248.982650\n",
       "1      31472  109079.103328\n",
       "2      31473   73108.007136\n",
       "3      31474   54409.961598\n",
       "4      31475  104381.481125\n",
       "...      ...            ...\n",
       "31257  62728  106956.648675\n",
       "31258  62729  103911.827121\n",
       "31259  62730  176057.361036\n",
       "31260  62731  258767.455838\n",
       "31261  62732   82808.728205\n",
       "\n",
       "[31262 rows x 2 columns]"
      ]
     },
     "execution_count": 494,
     "metadata": {},
     "output_type": "execute_result"
    }
   ],
   "source": [
    "sample"
   ]
  },
  {
   "cell_type": "code",
   "execution_count": null,
   "metadata": {},
   "outputs": [],
   "source": []
  }
 ],
 "metadata": {
  "kernelspec": {
   "display_name": "Python 3",
   "language": "python",
   "name": "python3"
  },
  "language_info": {
   "codemirror_mode": {
    "name": "ipython",
    "version": 3
   },
   "file_extension": ".py",
   "mimetype": "text/x-python",
   "name": "python",
   "nbconvert_exporter": "python",
   "pygments_lexer": "ipython3",
   "version": "3.8.2"
  }
 },
 "nbformat": 4,
 "nbformat_minor": 4
}
