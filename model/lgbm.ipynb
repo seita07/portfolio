{
 "cells": [
  {
   "cell_type": "code",
   "execution_count": null,
   "metadata": {},
   "outputs": [],
   "source": [
    "import lightgbm as lgb\n",
    "from sklearn.model_selection import KFold\n",
    "from sklearn import metrics\n",
    "from sklearn.metrics import mean_absolute_error\n",
    "\n",
    "\n",
    "scores = []\n",
    "\n",
    "kf = KFold(n_splits=5, shuffle=True, random_state=0)\n",
    "\n",
    "params = {\n",
    "    'objective': 'regression',\n",
    "    'metric': 'rmse',\n",
    "    'num_leaves': best_params['num_leaves'],\n",
    "    'num_iterations': best_params['num_iterations']\n",
    "}\n",
    "\n",
    "for tr_idx, va_idx in kf.split(X_train):\n",
    "    tr_x,val_x = X_train.iloc[tr_idx], X_train.iloc[va_idx]\n",
    "    tr_y,val_y = y_train.iloc[tr_idx], y_train.iloc[va_idx]\n",
    " \n",
    "\n",
    "    lgb_train = lgb.Dataset(tr_x, tr_y)\n",
    "    lgb_eval = lgb.Dataset(val_x, val_y, reference=lgb_train)\n",
    "\n",
    "    model = lgb.train(params, lgb_train,\n",
    "                                   valid_sets= lgb_eval,\n",
    "                                   verbose_eval=10,\n",
    "                                   num_boost_round=1000,\n",
    "                                   early_stopping_rounds=100)\n",
    "\n",
    "    val_pred = model.predict(val_x)\n",
    "    score = np.sqrt(mean_absolute_error(val_y, val_pred))\n",
    "    scores.append(score)\n",
    "\n",
    "print('rmse:{}'.format(np.mean(scores)))\n",
    "importance = pd.DataFrame(model.feature_importance(), columns=['importance'])\n",
    "display(importance)"
   ]
  }
 ],
 "metadata": {
  "kernelspec": {
   "display_name": "Python 3",
   "language": "python",
   "name": "python3"
  },
  "language_info": {
   "codemirror_mode": {
    "name": "ipython",
    "version": 3
   },
   "file_extension": ".py",
   "mimetype": "text/x-python",
   "name": "python",
   "nbconvert_exporter": "python",
   "pygments_lexer": "ipython3",
   "version": "3.8.2"
  }
 },
 "nbformat": 4,
 "nbformat_minor": 4
}
